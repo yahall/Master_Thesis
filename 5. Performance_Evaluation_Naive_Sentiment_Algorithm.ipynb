{
 "cells": [
  {
   "cell_type": "markdown",
   "metadata": {},
   "source": [
    "<div class=\"alert alert-info\" style=\"background-color:#5d3a8e; color:white; padding:0px 10px; border-radius:5px;\"><h1 style='margin:10px 5px'> \n",
    "Master Thesis Yannik Haller - Sentiment Analysis: Performance Evaluation of the Self-Developed Naïve Italian Sentiment Algorithm\n",
    "</h1>\n",
    "</div>\n",
    "\n",
    "In order to evaluate the performance of the self-developed naïve Italian sentiment algorithm, we consider 50 professionally translated press releases from the portal of the Swiss government (released between December 18, 2020 and the January 1, 2021) that were published in Italian, German and French. We then compare the resulting polarity scores of the Italian articles, which are assigned by the self-developed naïve Italian sentiment algorithm, with the resulting polarity scores of the same articles written in German and French, which are assigned by the respective (language specific) version of the established Vader and TextBlob sentiment algorithms. To do so, we apply the same classifier-specific text preprocessing to the articles as for the respective Sentiment analysis conducted beforehand."
   ]
  },
  {
   "cell_type": "markdown",
   "metadata": {},
   "source": [
    "<div class=\"alert alert-info\" style=\"background-color:#5d3a8e; color:white; padding:0px 10px; border-radius:5px;\"><h2 style='margin:10px 5px'> \n",
    "1. Load required packages and the data\n",
    "</h2>\n",
    "</div>"
   ]
  },
  {
   "cell_type": "code",
   "execution_count": 1,
   "metadata": {},
   "outputs": [],
   "source": [
    "# Import required baseline packages\n",
    "import re\n",
    "import os\n",
    "import sys\n",
    "import glob\n",
    "import time\n",
    "import sys\n",
    "import pandas as pd\n",
    "import numpy as np\n",
    "from pprint import pprint\n",
    "\n",
    "# Change pandas' setting to print out long strings\n",
    "pd.options.display.max_colwidth = 200\n",
    "\n",
    "# Plotting tools\n",
    "import matplotlib.pyplot as plt\n",
    "%matplotlib inline\n",
    "# Set global parameters for plotting\n",
    "import matplotlib.pylab as pylab\n",
    "params = {'legend.fontsize': 10,\n",
    "          'figure.figsize': (8, 6),\n",
    "          'axes.labelsize': 14,\n",
    "          'axes.titlesize': 16,\n",
    "          'xtick.labelsize': 10,\n",
    "          'ytick.labelsize': 10}\n",
    "pylab.rcParams.update(params)\n",
    "\n",
    "# Spacy (for lemmatization)\n",
    "import spacy\n",
    "\n",
    "# Enable logging for gensim (optional)\n",
    "import logging\n",
    "logging.basicConfig(format = '%(asctime)s : %(levelname)s : %(message)s', level = logging.ERROR)\n",
    "\n",
    "import warnings\n",
    "warnings.filterwarnings(\"ignore\", category = DeprecationWarning)"
   ]
  },
  {
   "cell_type": "code",
   "execution_count": 2,
   "metadata": {},
   "outputs": [],
   "source": [
    "# Set the appropriate working directory\n",
    "os.chdir('D:\\\\Dropbox\\\\MA_data')"
   ]
  },
  {
   "cell_type": "code",
   "execution_count": 3,
   "metadata": {},
   "outputs": [
    {
     "data": {
      "text/html": [
       "<div>\n",
       "<style scoped>\n",
       "    .dataframe tbody tr th:only-of-type {\n",
       "        vertical-align: middle;\n",
       "    }\n",
       "\n",
       "    .dataframe tbody tr th {\n",
       "        vertical-align: top;\n",
       "    }\n",
       "\n",
       "    .dataframe thead th {\n",
       "        text-align: right;\n",
       "    }\n",
       "</style>\n",
       "<table border=\"1\" class=\"dataframe\">\n",
       "  <thead>\n",
       "    <tr style=\"text-align: right;\">\n",
       "      <th></th>\n",
       "      <th>date_retrieved</th>\n",
       "      <th>date_released</th>\n",
       "      <th>title_de</th>\n",
       "      <th>tx_de</th>\n",
       "      <th>tx_fr</th>\n",
       "      <th>tx_it</th>\n",
       "    </tr>\n",
       "  </thead>\n",
       "  <tbody>\n",
       "    <tr>\n",
       "      <th>0</th>\n",
       "      <td>19.04.2021</td>\n",
       "      <td>01.01.2021</td>\n",
       "      <td>2021 - Neujahrsansprache von Bundespräsident Guy Parmelin</td>\n",
       "      <td>Wir haben ein dunkles Jahr hinter uns. Die Gesundheitskrise hat uns schwer getroffen. Viele Familien haben einen nahen Menschen verloren. Viele konnten von ihm nicht Abschied nehmen, wie sie es si...</td>\n",
       "      <td>Notre pays, comme tant d’autres, a vécu une année sombre. La crise sanitaire nous a durement éprouvés. De nombreuses familles ont perdu des proches et n’ont pas pu faire leur deuil comme elles l’a...</td>\n",
       "      <td>il nostro Paese, come molti altri, ha vissuto un anno buio. La crisi sanitaria ci ha inferto un duro colpo. Molte famiglie hanno perso loro cari e non hanno potuto congedarsi da questi affetti com...</td>\n",
       "    </tr>\n",
       "    <tr>\n",
       "      <th>1</th>\n",
       "      <td>19.04.2021</td>\n",
       "      <td>31.12.2020</td>\n",
       "      <td>Bundesratsfoto 2021: Neue Sicht auf Altbekanntes</td>\n",
       "      <td>Das Bundesratsfoto 2021 zeigt die sieben Bundesratsmitglieder und den Bundeskanzler als Einheit. Im Hintergrund ist das Parlamentsgebäude aus der Vogelperspektive zu sehen. Markus A. Jegerlehner h...</td>\n",
       "      <td>La photo du Conseil fédéral de 2021 montre les sept conseillers fédéraux et le chancelier de la Confédération formant un groupe. L’arrière-plan est occupé par le palais du Parlement vu du ciel. La...</td>\n",
       "      <td>La fotografia del Consiglio federale per il 2021 ritrae i sette consiglieri federali e il cancelliere della Confederazione in gruppo. Alle loro spalle, una veduta a volo d’uccello del Palazzo del ...</td>\n",
       "    </tr>\n",
       "    <tr>\n",
       "      <th>2</th>\n",
       "      <td>19.04.2021</td>\n",
       "      <td>30.12.2020</td>\n",
       "      <td>Medienberichte zu Todesfall nach Covid-19-Impfung in der Schweiz: Kein Zusammenhang mit der Impfung ersichtlich</td>\n",
       "      <td>Einige Tage nach einer Covid-19-Impfung ist in einem Alters- und Pflegeheim im Kanton Luzern eine 91-jährige Person, die an mehreren schweren Vorerkrankungen litt, verstorben. Weder die Krankenges...</td>\n",
       "      <td>Quelques jours après s’être fait vacciner contre le COVID-19, une personne de 91 ans souffrant de plusieurs maladies préexistantes graves est décédée dans un établissement médico-social du canton ...</td>\n",
       "      <td>Una persona di 91 anni, affetta da gravi patologie pregresse, è morta in una casa di cura nel cantone di Lucerna, pochi giorni dopo essersi sottoposta alla vaccinazione contro il Covid-19. Né l’an...</td>\n",
       "    </tr>\n",
       "  </tbody>\n",
       "</table>\n",
       "</div>"
      ],
      "text/plain": [
       "  date_retrieved date_released  \\\n",
       "0     19.04.2021    01.01.2021   \n",
       "1     19.04.2021    31.12.2020   \n",
       "2     19.04.2021    30.12.2020   \n",
       "\n",
       "                                                                                                          title_de  \\\n",
       "0                                                        2021 - Neujahrsansprache von Bundespräsident Guy Parmelin   \n",
       "1                                                                 Bundesratsfoto 2021: Neue Sicht auf Altbekanntes   \n",
       "2  Medienberichte zu Todesfall nach Covid-19-Impfung in der Schweiz: Kein Zusammenhang mit der Impfung ersichtlich   \n",
       "\n",
       "                                                                                                                                                                                                     tx_de  \\\n",
       "0  Wir haben ein dunkles Jahr hinter uns. Die Gesundheitskrise hat uns schwer getroffen. Viele Familien haben einen nahen Menschen verloren. Viele konnten von ihm nicht Abschied nehmen, wie sie es si...   \n",
       "1  Das Bundesratsfoto 2021 zeigt die sieben Bundesratsmitglieder und den Bundeskanzler als Einheit. Im Hintergrund ist das Parlamentsgebäude aus der Vogelperspektive zu sehen. Markus A. Jegerlehner h...   \n",
       "2  Einige Tage nach einer Covid-19-Impfung ist in einem Alters- und Pflegeheim im Kanton Luzern eine 91-jährige Person, die an mehreren schweren Vorerkrankungen litt, verstorben. Weder die Krankenges...   \n",
       "\n",
       "                                                                                                                                                                                                     tx_fr  \\\n",
       "0  Notre pays, comme tant d’autres, a vécu une année sombre. La crise sanitaire nous a durement éprouvés. De nombreuses familles ont perdu des proches et n’ont pas pu faire leur deuil comme elles l’a...   \n",
       "1  La photo du Conseil fédéral de 2021 montre les sept conseillers fédéraux et le chancelier de la Confédération formant un groupe. L’arrière-plan est occupé par le palais du Parlement vu du ciel. La...   \n",
       "2  Quelques jours après s’être fait vacciner contre le COVID-19, une personne de 91 ans souffrant de plusieurs maladies préexistantes graves est décédée dans un établissement médico-social du canton ...   \n",
       "\n",
       "                                                                                                                                                                                                     tx_it  \n",
       "0  il nostro Paese, come molti altri, ha vissuto un anno buio. La crisi sanitaria ci ha inferto un duro colpo. Molte famiglie hanno perso loro cari e non hanno potuto congedarsi da questi affetti com...  \n",
       "1  La fotografia del Consiglio federale per il 2021 ritrae i sette consiglieri federali e il cancelliere della Confederazione in gruppo. Alle loro spalle, una veduta a volo d’uccello del Palazzo del ...  \n",
       "2  Una persona di 91 anni, affetta da gravi patologie pregresse, è morta in una casa di cura nel cantone di Lucerna, pochi giorni dopo essersi sottoposta alla vaccinazione contro il Covid-19. Né l’an...  "
      ]
     },
     "execution_count": 3,
     "metadata": {},
     "output_type": "execute_result"
    }
   ],
   "source": [
    "# Read in the multilingual articles\n",
    "multilingual_articles = pd.read_csv(\"Sentiment/Naive/Performance_evaluation/swiss_gov_multilingual_press_releases.csv\", sep = \";\", index_col = 0)\n",
    "\n",
    "# Take a look at the head of the dataframe\n",
    "multilingual_articles.head(3)"
   ]
  },
  {
   "cell_type": "code",
   "execution_count": 4,
   "metadata": {},
   "outputs": [],
   "source": [
    "# Extract the German articles as a list of articles\n",
    "articles_de = multilingual_articles.tx_de.values.tolist()\n",
    "# Extract the French articles as a list of articles\n",
    "articles_fr = multilingual_articles.tx_fr.values.tolist()\n",
    "# Extract the Italian articles as a list of articles\n",
    "articles_it = multilingual_articles.tx_it.values.tolist()"
   ]
  },
  {
   "cell_type": "code",
   "execution_count": 5,
   "metadata": {},
   "outputs": [
    {
     "data": {
      "text/plain": [
       "'Wir haben ein dunkles Jahr hinter uns. Die Gesundheitskrise hat uns schwer getroffen. Viele Familien haben einen nahen Menschen verloren. Viele konnten von ihm nicht Abschied nehmen, wie sie es sich gewünscht hätten. Für sie wird das vergangene Jahr für immer verbunden sein mit diesem schmerzlichen Verlust. Die Mitarbeitenden in Spitälern und Pflegeheimen kamen an den Rand ihrer Kräfte und sind es heute noch. Andere durften lange gar nicht mehr arbeiten, waren in Kurzarbeit oder haben sogar ihre Stelle verloren. Traditionsunternehmen sind verschwunden. Auch unser Bildungssystem wurde auf eine harte Probe gestellt. Kurz: Die Pandemie hat unser aller Leben auf den Kopf gestellt. Selten haben wir Vergleichbares erlebt: Unsere Tätigkeiten kamen zum Stillstand. Die ganze Gesellschaft befand sich in noch nie dagewesener Isolation. Wir mussten lernen, ohne Händeschütteln auszukommen. Dieses wichtige Begrüssungsritual gefährdete plötzlich unsere Gesundheit. All das war und ist für uns umso schwieriger, weil wir Menschen - so hat es schon Aristoteles gesagt - «von Natur aus gesellige Wesen sind». Sie haben sicher Verständnis: Zu Beginn dieses neuen Jahres möchte ich mich nicht allzu enthusiastisch äussern. Vieles ist ungewiss und die Lage bleibt prekär. Trotzdem möchte ich Ihnen von Herzen meine besten Wünsche überbringen. Ich denke insbesondere an die Menschen, die einsam oder krank sind. Ich denke an die, die unter dem Verlust eines nahen Bekannten leiden. Und ich denke an alle, denen der ungewohnte Alltag Sorgen macht. Ich möchte Ihnen heute erneut versichern, dass der Bundesrat Sie so gut wie möglich unterstützt und nach Lösungen für heute und morgen sucht. Persönlich verspüre ich trotz allem etwas wie Zuversicht und Optimismus. Das sage ich nicht, weil es gut tönt, sondern aus Überzeugung: Unser Land hat in der Vergangenheit Vieles richtig gemacht. Wir haben zahlreiche Erfindungen auf den Markt gebracht. Für alle ist «Swiss made» der Inbegriff von Qualität und Zuverlässigkeit. Das zeigt sich auch an der Tatsache, dass 28 Nobelpreisträger aus der Schweiz kommen. Die Schweiz geht vorwärts und wird auch in Zukunft vorwärtsgehen. Ich bin überzeugt, unser gutes Bildungssystem hilft uns dabei: Bildung ist unsere universelle Sprache. Sie ist Voraussetzung für Dialog und Austausch. In einer Zeit äusserst labiler Kräfteverhältnisse garantiert Bildung den Zugang zu Kompromissen. Sie ebnet den Weg zum friedlichen Lösen von Konflikten. Bildung ist im Grunde der Schlüssel für den Zusammenhalt unseres Landes. Wir Schweizerinnen und Schweizer müssen zusammenstehen. Nur so können wir als Land einstehen für die Interessen von uns allen: für unsere Gesundheit und unser wirtschaftliches Wohlergehen, für Frieden und Verbundenheit, für Freiheit und Unabhängigkeit, – kurz: für alles, was uns seit Langem lieb und teuer ist. An diesem 1. Januar schlagen wir im Buch unserer Geschichte eine neue Seite auf. Zwar wird damit die gegenwärtige Situation nicht auf einen Schlag besser. Aber wir dürfen nicht resignieren. Ich rufe Sie auf, unser Schicksal als Gemeinschaft zu tragen. Jetzt ist der Moment gekommen zusammenzustehen – trotz der immer noch nötigen Vorsicht im Zusammensein. Nur wenn wir zusammenhalten, können wir als Schweizer Bevölkerung dereinst wieder gemeinsame Erfolge feiern. Es ist mir wirklich wichtig, dass wir eine geeinte Schweiz sind, geeint in unserer Vielfalt: Stadt und Land, Alt und Jung, Wohlhabende und weniger Wohlhabende.'"
      ]
     },
     "execution_count": 5,
     "metadata": {},
     "output_type": "execute_result"
    }
   ],
   "source": [
    "# Take a look at the first article in German\n",
    "articles_de[0]"
   ]
  },
  {
   "cell_type": "code",
   "execution_count": 6,
   "metadata": {},
   "outputs": [
    {
     "data": {
      "text/plain": [
       "'Notre pays, comme tant d’autres, a vécu une année sombre. La crise sanitaire nous a durement éprouvés. De nombreuses familles ont perdu des proches et n’ont pas pu faire leur deuil comme elles l’auraient souhaité. Pour elles, l’année 2020 restera liée au souvenir de cette perte douloureuse. La pandémie a bouleversé nos existences aussi en envoyant des personnes aux chômage, en détruisant des entreprises de tradition ou en mettant nos systèmes d’éducation et de santé à l’épreuve.  Nous n’avons pratiquement jamais connu pareille situation: voir nos activités au point mort, la population à l’isolement, la poignée de main bannie de nos codes sociaux. C’est d’autant plus cruel que l’être humain, comme le soulignait Aristote, « est fait par nature pour vivre avec ses semblables ».  A l’aube de cette année 2021, le réalisme m’interdit de former des vœux trop enthousiastes. Il m’oblige plutôt à constater que les inconnues sont nombreuses et que la situation demeure précaire. Je tiens néanmoins à vous adresser du fond du cœur de chaleureuses pensées. A celles et à ceux, en priorité, qui souffrent de la solitude, de la maladie, de la perte d’un être cher ou des rigueurs de l’âge. Les effets de la pandémie ont encore accentué les difficultés personnelles d’un grand nombre d’entre nous. Je tiens à vous assurer une nouvelle fois du soutien du Conseil fédéral et de son engagement constant à trouver des solutions permettant à notre pays de repartir du bon pied.  J’aimerais tout de même vous dire aussi mon optimisme. Pas un optimisme de façade, non, mais un optimisme de conviction : notre pays a de la ressource. Il affiche une trentaine de Prix Nobel, il a lancé sur les marchés des inventions dont le monde d’aujourd’hui ne pourrait plus se passer et le « Swiss made » représente partout une empreinte synonyme de qualité et de fiabilité.  La Suisse avance, et il en sera ainsi demain également si l’on croit, comme j’y crois, aux vertus de l’éducation et de la formation. Vecteurs de savoir et de connaissance, l’éducation et la formation sont à l’origine de l’innovation, du progrès et du rang enviable que nous occupons à ce titre parmi les économies les plus avancées de la planète.  Vecteurs de culture et d’ouverture aussi, l’éducation et la formation sont langage universel, source de dialogue et d’écoute. A une époque encline aux rapports de forces les plus brisants, elles garantissent l’accès au compromis, qui est un bon chemin vers la résolution apaisée des conflits. Au fond, l’éducation et la formation sont les clefs de notre indispensable cohésion.  Unie, la Suisse se trouve plus forte pour défendre ses intérêts. Avec cran, et avec vigueur s’il le faut. Parce qu’à travers eux, elle défend les intérêts de chacun d’entre nous : nos libertés, notre indépendance, la paix et la concorde dont nous jouissons depuis si longtemps.  En ce 1er janvier s’écrit une page nouvelle de notre histoire, dont nous aimerions chasser les récents tourments : la résignation forcée, l’engourdissement général, un vague sentiment d’effondrement qui conduit fatalement au repli sur soi.  Or, rien n’est pire que la renonciation pour une société moderne appelée à assumer son destin collectivement. C’est donc maintenant qu’un sursaut est attendu, maintenant qu’il faut se serrer les coudes, maintenant que nous devons, malgré la prudence toujours imposée dans la proximité de nos échanges, savoir faire preuve de la cohésion essentielle à nos succès communs.  Il me tient à cœur qu’entre la Suisse des villes et celle des champs, la Suisse de l’expérience et celle de la promesse, la Suisse du progrès comme celle de la tradition, la Suisse aisée et celle qui l’est moins, nous ne fassions qu’une Suisse ! '"
      ]
     },
     "execution_count": 6,
     "metadata": {},
     "output_type": "execute_result"
    }
   ],
   "source": [
    "# Take a look at the first article in French\n",
    "articles_fr[0]"
   ]
  },
  {
   "cell_type": "code",
   "execution_count": 7,
   "metadata": {},
   "outputs": [
    {
     "data": {
      "text/plain": [
       "'il nostro Paese, come molti altri, ha vissuto un anno buio. La crisi sanitaria ci ha inferto un duro colpo. Molte famiglie hanno perso loro cari e non hanno potuto congedarsi da questi affetti come avrebbero voluto. Per loro il 2020 resterà legato al ricordo di questa dolorosa perdita. La pandemia ha stravolto le nostre vite causando disoccupazione, distruggendo aziende radicate da tempo nel territorio e mettendo a dura prova i nostri sistemi formativi e sanitari.  Mai in passato ci eravamo trovati confrontati a una situazione del genere: le nostre attività ferme, la popolazione in isolamento, la stretta di mano − parte del nostro vivere sociale − bandita. Questa situazione è tanto più crudele se si pensa che l’essere umano, come sosteneva Aristotele, «tende per natura ad aggregarsi con altri individui».  All’alba di questo 2021 il realismo mi impedisce di formulare auguri troppo entusiastici. Mi costringe piuttosto a constatare che le incognite sono molte e che la situazione resta precaria. Nonostante questo ci tengo a trasmettervi di tutto cuore un mio caloroso messaggio di solidarietà. Penso soprattutto a chi soffre a causa della solitudine, di una malattia, della perdita di una persona cara o dei rigori dell’età. Gli effetti della pandemia hanno ulteriormente accentuato le difficoltà personali di molti di noi. Ci tengo ad assicurarvi ancora una volta il sostegno del Consiglio federale e il suo costante impegno nella ricerca di soluzioni che permettano al nostro Paese di ripartire su solide basi.  Ma vorrei trasmettervi anche il mio ottimismo. E non si tratta di un ottimismo di facciata, bensì di un ottimismo convinto, mosso dalla consapevolezza che il nostro Paese può contare su numerose risorse. Vanta ad esempio una trentina di premi Nobel, ha immesso sui mercati invenzioni di cui oggi il mondo non potrebbe più fare a meno e lo «Swiss made» è ovunque sinonimo di qualità e affidabilità.  La Svizzera progredisce e lo farà anche domani se crediamo, come il sottoscritto, nelle virtù dell’istruzione e della formazione. Vettori di sapere e conoscenza, l’istruzione e la formazione sono alla base dell’innovazione, del progresso e della nostra invidiabile posizione in questi settori tra le economie più avanzate del mondo.  In quanto linguaggio universale, l’istruzione e la formazione portano in dote anche cultura e apertura e divengono strumenti al servizio del dialogo e dell’ascolto. In un’epoca incline a rapporti di forza sempre più conflittuali, garantiscono l’accesso al compromesso appianando la strada alla risoluzione pacifica dei conflitti. In sostanza, l’istruzione e la formazione sono le chiavi della nostra indispensabile coesione.  Unita, la Svizzera è più forte. Anche per difendere i propri interessi, con coraggio e con vigore, se necessario. Perché, così facendo, difende gli interessi di ognuno di noi: le nostre libertà, la nostra indipendenza, la pace e l’armonia in cui viviamo da così tanto tempo.  Questo 1° gennaio si scrive una nuova pagina della nostra storia, dalla quale vorremmo allontanare i recenti tormenti: la rassegnazione forzata, l’intorpidimento generale, una vaga sensazione di cedimento che porta fatalmente a ripiegarsi su sé stessi.  Ebbene, per una società moderna chiamata ad assumere collettivamente il proprio destino non vi è niente di peggio della rinuncia. È quindi adesso che siamo chiamati a reagire più che mai, è adesso che dobbiamo restare uniti, è adesso che dobbiamo, nonostante la dovuta prudenza nei nostri contatti sociali, dar prova di quella coesione essenziale per raggiungere il nostro successo comune.  È per me importante che le varie anime del nostro Paese − la Svizzera delle città e quella delle campagne, la Svizzera dell’esperienza del passato e quella della promessa del futuro, la Svizzera del settore tecnologico e quella rurale, la Svizzera agiata e quella meno fortunata − continuino a formare un’unica e sola Svizzera! '"
      ]
     },
     "execution_count": 7,
     "metadata": {},
     "output_type": "execute_result"
    }
   ],
   "source": [
    "# Take a look at the first article in Italian\n",
    "articles_it[0]"
   ]
  },
  {
   "cell_type": "markdown",
   "metadata": {},
   "source": [
    "<div class=\"alert alert-info\" style=\"background-color:#5d3a8e; color:white; padding:0px 10px; border-radius:5px;\"><h2 style='margin:10px 5px'> \n",
    "2. Language- and algorithm-specific preprocessing\n",
    "</h2>\n",
    "</div>"
   ]
  },
  {
   "cell_type": "code",
   "execution_count": 8,
   "metadata": {},
   "outputs": [],
   "source": [
    "## Define all function required for the subsequent preprocessing\n",
    "\n",
    "# Define a function to prepare/pre-clean the text data for the sentiment analysis using the VADER algorithms\n",
    "def pre_clean_vader(articles):\n",
    "    # Raise an error if an inappropriate data type is given as an input\n",
    "    if(not isinstance(articles, list)):\n",
    "        raise ValueError(\"Invalid input type. Expected a list.\")\n",
    "\n",
    "    # Keep track of the processing time\n",
    "    t = time.time()\n",
    "    # Replace punctuations which are not followed by a blank with punctuations followed by a blank\n",
    "    articles = [re.sub(r'[\\.]', '. ', x) for x in articles]\n",
    "    # Separate words in which a lowercase letter is followed by a capital letter, since they usually do not belong together\n",
    "    articles = [re.sub('(^[a-z]*)+([A-Z])', r'\\1 \\2', x) for x in articles]\n",
    "    # Correct manually for those cases where a name like 'McDonalds' was separated to Mc Donalds\n",
    "    articles = [re.sub('Mc ', 'Mc', x) for x in articles]\n",
    "    # Replace quotation marks with a blank\n",
    "    articles = [re.sub('«', ' ', x) for x in articles]\n",
    "    articles = [re.sub('»', ' ', x) for x in articles]\n",
    "    # Remove percentage signs\n",
    "    articles = [re.sub('%', ' ', x) for x in articles]\n",
    "    # Remove distracting hyphens\n",
    "    articles = [re.sub(\"-\", \" \", x) for x in articles]\n",
    "    articles = [re.sub(\"–\", \" \", x) for x in articles]\n",
    "    # Remove any blank that precedes a comma\n",
    "    articles = [re.sub(\" ,\", \",\", x) for x in articles]\n",
    "    # Remove any blank that precedes a dot\n",
    "    articles = [re.sub(\" \\.\", \".\", x) for x in articles]\n",
    "\n",
    "    # Remove any links starting with http:// or https://\n",
    "    articles = [re.compile('http[s]?://(?:[a-zA-Z]|[0-9]|[$-_@.&+]|[!*\\(\\),]|(?:%[0-9a-fA-F][0-9a-fA-F]))+').sub('',x) for x in articles]\n",
    "    # Remove any links starting with www.\n",
    "    articles = [re.compile('www\\.(?:[a-zA-Z]|[0-9]|[$-_@.&+]|[!*\\(\\),]|(?:%[0-9a-fA-F][0-9a-fA-F]))+').sub('',x) for x in articles]\n",
    "    \n",
    "    # Replace new line characters (i.e. \\n) and multiple blanks with a single blank\n",
    "    articles = [re.sub('\\s+', ' ', x) for x in articles]\n",
    "    # Print out the processing time\n",
    "    print(\"Processing time for pre-cleaning: \", str((time.time() - t)/60), \"minutes\")\n",
    "\n",
    "    # Return the pre-cleaned text data\n",
    "    return articles\n",
    "\n",
    "\n",
    "# Define a function to prepare/pre-clean the text data\n",
    "def pre_clean(articles):\n",
    "    # Raise an error if an inappropriate data type is given as an input\n",
    "    if(not isinstance(articles, list)):\n",
    "        raise ValueError(\"Invalid input type. Expected a list.\")\n",
    "\n",
    "    # Keep track of the processing time\n",
    "    t = time.time()\n",
    "    # Replace punctuations which are not followed by a blank with punctuations followed by a blank\n",
    "    articles = [re.sub(r'[\\.]', '. ', x) for x in articles]\n",
    "    # Separate words in which a lowercase letter is followed by a capital letter, since they usually do not belong together\n",
    "    articles = [re.sub('(^[a-z]*)+([A-Z])', r'\\1 \\2', x) for x in articles]\n",
    "    # Correct manually for those cases where a name like 'McDonalds' was separated to Mc Donalds\n",
    "    articles = [re.sub('Mc ', 'Mc', x) for x in articles]\n",
    "    # Replace quotation marks with a blank\n",
    "    articles = [re.sub('«', ' ', x) for x in articles]\n",
    "    articles = [re.sub('»', ' ', x) for x in articles]\n",
    "    # Remove percentage signs\n",
    "    articles = [re.sub('%', ' ', x) for x in articles]\n",
    "    # Remove distracting hyphens\n",
    "    articles = [re.sub(\"-\", \" \", x) for x in articles]\n",
    "    articles = [re.sub(\"–\", \" \", x) for x in articles]\n",
    "    # Replace new line characters (i.e. \\n) and multiple blanks with a single blank\n",
    "    articles = [re.sub('\\s+', ' ', x) for x in articles]\n",
    "    # Print out the processing time\n",
    "    print(\"Processing time for pre-cleaning: \", str((time.time() - t)/60), \"minutes\")\n",
    "\n",
    "    # Return the pre-cleaned text data\n",
    "    return articles\n",
    "\n",
    "\n",
    "# Define a function to perform the following tasks at once:\n",
    "## 1. Tokenize: transform text into a list of words, digits and punctuations\n",
    "## 2. Filter the tokens, such that only nouns, proper nouns, verbs, adjectives, adverbs and negations are kept, while digits and punctuations are removed\n",
    "## 3. Lemmatize: transform each word back to its word stem\n",
    "## 4. Lowercase the entire data\n",
    "def tokenize_filter_and_lemmatize(articles, nlp, language):\n",
    "    # Keep track of the processing time\n",
    "    t = time.time()\n",
    "    # Create a list to store the output\n",
    "    articles_out = []\n",
    "    # Define the list of allowed postags (pos = part of speech)\n",
    "    allowed_postags = ['PROPN', 'NOUN', 'ADJ', 'VERB', 'ADV']\n",
    "    # Define the list of allowed negation words, depending on the focal language\n",
    "    if language == 'de':\n",
    "        allowed_negations = ['nie', 'nichts', 'nicht', 'kein', 'wenig', 'ohne']\n",
    "    if language == 'fr':\n",
    "        allowed_negations = ['rien', 'jamais', 'aucun', 'aucune', 'pas', 'ni', 'encore', 'guère', 'personne', 'nullement']\n",
    "    if language == 'it':\n",
    "        allowed_negations = ['no', 'non', 'niente', 'nessuno']\n",
    "    # Create a loop to go through all articles in the input list of articles\n",
    "    for article in articles:\n",
    "        # Define the current article as the focal document\n",
    "        doc = nlp(article)\n",
    "        # Tokenize, filter and lemmatize the document, while filtering out punctuations and unused word types (i.e. words which are not contained in the 'allowed_posttags' variable)\n",
    "        articles_out.append([token.lemma_.lower() for token in doc if (token.pos_ in allowed_postags) or (token.lemma_.lower() in allowed_negations)])\n",
    "    # Print out the processing time\n",
    "    print(\"Processing time for tokenizing, filtering and lemmatization: \", str((time.time() - t)/60), \"minutes\")\n",
    "\n",
    "    # Return the tokenized, filtered and lemmatized text data\n",
    "    return articles_out\n",
    "\n",
    "\n",
    "# Define a function to apply the supplemental/manual cleaning to the filtered and lemmatized data\n",
    "def supp_clean_blob(articles, language = 'de'):\n",
    "    # Raise an error if an inappropriate data type is given as an input\n",
    "    if(not isinstance(articles, list)):\n",
    "        raise ValueError(\"Invalid input type. Expected a list.\")\n",
    "\n",
    "    # Keep track of the processing time\n",
    "    t = time.time()\n",
    "    # Remove any links starting with http:// or https://\n",
    "    articles = [re.compile('http[s]?://(?:[a-zA-Z]|[0-9]|[$-_@.&+]|[!*\\(\\),]|(?:%[0-9a-fA-F][0-9a-fA-F]))+').sub('',x) for x in articles]\n",
    "    # Remove any links starting with www.\n",
    "    articles = [re.compile('www\\.(?:[a-zA-Z]|[0-9]|[$-_@.&+]|[!*\\(\\),]|(?:%[0-9a-fA-F][0-9a-fA-F]))+').sub('',x) for x in articles]\n",
    "    # Remove any instances where 1 to 3 initiating letters are followed by a dot (either once at the end or after each letter), since such cases usually represent abbreviations with low semantic meaning\n",
    "    articles = [re.compile(' [a-z][\\.]?[a-z]?[\\.]?[a-z]?\\.+').sub(' ', x) for x in articles]\n",
    "    # Remove any remaining digit\n",
    "    articles = [re.sub(r'\\b\\d+\\b', '', x) for x in articles]\n",
    "    # Remove anything except words, spaces and the & sign, since this might appear in certain names\n",
    "    articles = [re.sub(r'[^\\w\\s\\&]','', x) for x in articles]\n",
    "    # Remove a list of specific words which appear quite often but do not seem to add any semantic value (for Italian also the auxiliary verb essere, as this is not identified as such by the Italian Spacy module)\n",
    "    if language == 'it':\n",
    "        words_to_remove = ['awp','afp','essere']\n",
    "    else:\n",
    "        words_to_remove = ['awp','afp']\n",
    "    for word in words_to_remove:\n",
    "        articles = [re.sub(' '+word, '', x) for x in articles] \n",
    "    # Replace new line characters (i.e. \\n) and multiple blanks with a single blank\n",
    "    articles = [re.sub('\\s+', ' ', x) for x in articles]\n",
    "    # Print out the processing time\n",
    "    print(\"Processing time for supplemental manual cleaning: \", str((time.time() - t)/60), \"minutes\")\n",
    "\n",
    "    # Return the manually cleaned text data\n",
    "    return articles\n",
    "\n",
    "\n",
    "# Define a function to prepare/pre-clean the text data for the sentiment analysis using the Blob algorithms\n",
    "# Note: \"articles\" has to be a list containing the raw text of the articles as input\n",
    "def process_blob(articles, language, tokenize = True):\n",
    "    # Raise an error if an inappropriate data type is given as an input\n",
    "    if(not isinstance(articles, list)):\n",
    "        raise ValueError(\"Invalid input type. Expected a List.\")\n",
    "    # Raise an error if an inadmissible language is chosen\n",
    "    allowed_languages = ['de', 'fr', 'it']\n",
    "    if language not in allowed_languages:\n",
    "        raise ValueError(\"Invalid language. Expected one of: %s\" % allowed_languages)\n",
    "\n",
    "    # Initialize the appropriate spacy model depending on the language of the text data, while keeping only the tagger component (for efficiency)\n",
    "    if language == 'de':\n",
    "        nlp = spacy.load('de_core_news_lg', disable = ['tok2vec', 'morphologizer', 'senter', 'ner', 'attribute_ruler'])\n",
    "    elif language == 'fr':\n",
    "        nlp = spacy.load('fr_core_news_lg', disable = ['tok2vec', 'morphologizer', 'senter', 'ner', 'attribute_ruler'])\n",
    "    elif language == 'it':\n",
    "        nlp = spacy.load('it_core_news_lg', disable = ['tok2vec', 'morphologizer', 'senter', 'ner', 'attribute_ruler'])\n",
    "    \n",
    "    ## Apply the actual processing by means of the previously defined functions\n",
    "    # Pre-clean the data\n",
    "    articles = pre_clean(articles)\n",
    "    # Tokenize, filter and lemmatize the data\n",
    "    articles = tokenize_filter_and_lemmatize(articles, nlp, language)\n",
    "    \n",
    "    # Generate a list containing the preprocessed text data in form of strings in which all remaining lemmatized tokens are contained and separated by a blank (i.e. untokenization)\n",
    "    articles_out = []\n",
    "    for article in articles:\n",
    "        articles_out.append(\" \".join(article))\n",
    "\n",
    "    # Apply the supplemental cleaning\n",
    "    articles = supp_clean_blob(articles_out, language)\n",
    "\n",
    "    # Retokenize the data if tokenize = true\n",
    "    if tokenize:\n",
    "        articles = retokenize(articles)\n",
    "    \n",
    "    # Return processed text data\n",
    "    return articles\n",
    "\n",
    "\n",
    "# Define a function to retokenize the preprocessed text data\n",
    "def retokenize(articles):\n",
    "    articles_out = []\n",
    "    for article in articles:\n",
    "        articles_out.append(article.split())\n",
    "    return articles_out"
   ]
  },
  {
   "cell_type": "markdown",
   "metadata": {},
   "source": [
    "<div class=\"alert alert-info\" style=\"background-color:#5d3a8e; color:white; padding:0px 10px; border-radius:5px;\"><h2 style='margin:10px 5px'> \n",
    "2.1.1 German: Preprocessing for the Vader sentiment algorithm\n",
    "</h2>\n",
    "</div>"
   ]
  },
  {
   "cell_type": "code",
   "execution_count": 9,
   "metadata": {},
   "outputs": [
    {
     "name": "stdout",
     "output_type": "stream",
     "text": [
      "Processing time for pre-cleaning:  0.00019950071970621744 minutes\n"
     ]
    }
   ],
   "source": [
    "# Apply the above defined function to preprocess the German text data for the Vader sentiment algorithm\n",
    "articles_vader_de = pre_clean_vader(articles_de)"
   ]
  },
  {
   "cell_type": "code",
   "execution_count": 10,
   "metadata": {},
   "outputs": [
    {
     "data": {
      "text/plain": [
       "' Wir haben ein dunkles Jahr hinter uns. Die Gesundheitskrise hat uns schwer getroffen. Viele Familien haben einen nahen Menschen verloren. Viele konnten von ihm nicht Abschied nehmen, wie sie es sich gewünscht hätten. Für sie wird das vergangene Jahr für immer verbunden sein mit diesem schmerzlichen Verlust. Die Mitarbeitenden in Spitälern und Pflegeheimen kamen an den Rand ihrer Kräfte und sind es heute noch. Andere durften lange gar nicht mehr arbeiten, waren in Kurzarbeit oder haben sogar ihre Stelle verloren. Traditionsunternehmen sind verschwunden. Auch unser Bildungssystem wurde auf eine harte Probe gestellt. Kurz: Die Pandemie hat unser aller Leben auf den Kopf gestellt. Selten haben wir Vergleichbares erlebt: Unsere Tätigkeiten kamen zum Stillstand. Die ganze Gesellschaft befand sich in noch nie dagewesener Isolation. Wir mussten lernen, ohne Händeschütteln auszukommen. Dieses wichtige Begrüssungsritual gefährdete plötzlich unsere Gesundheit. All das war und ist für uns umso schwieriger, weil wir Menschen so hat es schon Aristoteles gesagt von Natur aus gesellige Wesen sind. Sie haben sicher Verständnis: Zu Beginn dieses neuen Jahres möchte ich mich nicht allzu enthusiastisch äussern. Vieles ist ungewiss und die Lage bleibt prekär. Trotzdem möchte ich Ihnen von Herzen meine besten Wünsche überbringen. Ich denke insbesondere an die Menschen, die einsam oder krank sind. Ich denke an die, die unter dem Verlust eines nahen Bekannten leiden. Und ich denke an alle, denen der ungewohnte Alltag Sorgen macht. Ich möchte Ihnen heute erneut versichern, dass der Bundesrat Sie so gut wie möglich unterstützt und nach Lösungen für heute und morgen sucht. Persönlich verspüre ich trotz allem etwas wie Zuversicht und Optimismus. Das sage ich nicht, weil es gut tönt, sondern aus Überzeugung: Unser Land hat in der Vergangenheit Vieles richtig gemacht. Wir haben zahlreiche Erfindungen auf den Markt gebracht. Für alle ist Swiss made der Inbegriff von Qualität und Zuverlässigkeit. Das zeigt sich auch an der Tatsache, dass 28 Nobelpreisträger aus der Schweiz kommen. Die Schweiz geht vorwärts und wird auch in Zukunft vorwärtsgehen. Ich bin überzeugt, unser gutes Bildungssystem hilft uns dabei: Bildung ist unsere universelle Sprache. Sie ist Voraussetzung für Dialog und Austausch. In einer Zeit äusserst labiler Kräfteverhältnisse garantiert Bildung den Zugang zu Kompromissen. Sie ebnet den Weg zum friedlichen Lösen von Konflikten. Bildung ist im Grunde der Schlüssel für den Zusammenhalt unseres Landes. Wir Schweizerinnen und Schweizer müssen zusammenstehen. Nur so können wir als Land einstehen für die Interessen von uns allen: für unsere Gesundheit und unser wirtschaftliches Wohlergehen, für Frieden und Verbundenheit, für Freiheit und Unabhängigkeit, kurz: für alles, was uns seit Langem lieb und teuer ist. An diesem 1. Januar schlagen wir im Buch unserer Geschichte eine neue Seite auf. Zwar wird damit die gegenwärtige Situation nicht auf einen Schlag besser. Aber wir dürfen nicht resignieren. Ich rufe Sie auf, unser Schicksal als Gemeinschaft zu tragen. Jetzt ist der Moment gekommen zusammenzustehen trotz der immer noch nötigen Vorsicht im Zusammensein. Nur wenn wir zusammenhalten, können wir als Schweizer Bevölkerung dereinst wieder gemeinsame Erfolge feiern. Es ist mir wirklich wichtig, dass wir eine geeinte Schweiz sind, geeint in unserer Vielfalt: Stadt und Land, Alt und Jung, Wohlhabende und weniger Wohlhabende. '"
      ]
     },
     "execution_count": 10,
     "metadata": {},
     "output_type": "execute_result"
    }
   ],
   "source": [
    "# Take a look at the first article of the preprocessed data\n",
    "articles_vader_de[0]"
   ]
  },
  {
   "cell_type": "code",
   "execution_count": 11,
   "metadata": {},
   "outputs": [],
   "source": [
    "## Create a tsv file which suits the requirements to be fed into the GerVADER algorithm\n",
    "# Create a dataframe containing the preprocessed fulltext data in a column\n",
    "articles_vader_de = pd.DataFrame(articles_vader_de, columns = ['tx'])\n",
    "# Add a column containing the sentiment (= unknown or un --> Required from GerVADER)\n",
    "articles_vader_de['senti'] = np.repeat('un', articles_vader_de.shape[0]).tolist()\n",
    "# Correct the order of the columns\n",
    "articles_vader_de = articles_vader_de[['senti','tx']]\n",
    "# Extract the Dataframe as a tsv file\n",
    "articles_vader_de.to_csv(\"Sentiment/Naive/Performance_evaluation/de_multilingual_articles_vader.tsv\", index = True, encoding = 'utf-8-sig', sep = '\\t', header = False)"
   ]
  },
  {
   "cell_type": "markdown",
   "metadata": {},
   "source": [
    "<div class=\"alert alert-info\" style=\"background-color:#5d3a8e; color:white; padding:0px 10px; border-radius:5px;\"><h2 style='margin:10px 5px'> \n",
    "2.1.1 German: Preprocessing for the TextBlob sentiment algorithm\n",
    "</h2>\n",
    "</div>"
   ]
  },
  {
   "cell_type": "code",
   "execution_count": 12,
   "metadata": {},
   "outputs": [
    {
     "name": "stdout",
     "output_type": "stream",
     "text": [
      "Processing time for pre-cleaning:  0.00019945700963338217 minutes\n",
      "Processing time for tokenizing, filtering and lemmatization:  0.02363736629486084 minutes\n",
      "Processing time for supplemental manual cleaning:  0.0001329819361368815 minutes\n"
     ]
    }
   ],
   "source": [
    "# Apply the above defined functions to preprocess the German text data for the TextBlob sentiment algorithm\n",
    "articles_blob_de = process_blob(articles_de, 'de', tokenize = False)"
   ]
  },
  {
   "cell_type": "code",
   "execution_count": 13,
   "metadata": {},
   "outputs": [
    {
     "data": {
      "text/plain": [
       "'dunkel jahr gesundheitskrise schwer triefen familie nah mensch verlieren können nicht abschied nehmen wie wünschen vergangen jahr immer verbinden schmerzlich verlust mitarbeitende spitälern pflegeheimen kommen rand kraft heute noch dürfen lang gar nicht mehr arbeiten kurzarbeit sogar stelle verlieren traditionsunternehmen verschwinden auch bildungssystem hart probe stellen kurz pandemie leben kopf stellen selten vergleichbares erleben tätigkeit kommen stillstand ganze gesellschaft befinden noch nie dagewesener isolation mussten lernen ohne händeschütteln auskommen wichtig begrüssungsritual gefährden plötzlich gesundheit umso schwierig mensch so schon aristoteles sagen natur gesellig wesen sichern verständnis beginn neu jahr mögen nicht enthusiastisch äussern ungewiss lage bleiben prekär trotzdem mögen herz gut wunsch überbringen denken insbesondere mensch einsam kranken denken verlust nah bekennen leiden denken ungewohnte alltag sorge machen mögen heute erneut versichern bundesrat so gut möglich unterstützen lösung heute morgen suchen persönlich verspüren zuversicht optimismus sage nicht gut tönen überzeugung land vergangenheit richtig machen zahlreiche erfindung markt bringen swiss inbegriff qualität zuverlässigkeit zeigen auch tatsache nobelpreisträger schweiz kommen schweiz gehen vorwärts auch zukunft vorwärtsgehen überzeugen gutes bildungssystem helfen bildung universelle sprache voraussetzung dialog austausch zeit äusserst labil kräfteverhältnisse garantieren bildung zugang kompromiß ebnen weg friedlich lösen konflikt bildung grund schlüssel zusammenhalt land schweizerinnen schweizer müssen zusammenstehen nur so können land einstehen interesse gesundheit wirtschaftlich wohlergehen friede verbundenheit freiheit unabhängigkeit kurz langem lieben teuer januar schlagen buch geschichte neue seite zwar damit gegenwärtige situation nicht schlag gut dürfen nicht resignieren rufe schicksal gemeinschaft tragen jetzt moment kommen zusammenstehen immer noch nötig vorsicht zusammensein nur zusammenhalten können schweizer bevölkerung dereinst wieder gemeinsam erfolg feiern wirklich wichtig geeint schweiz einen vielfalt stadt land alt jung wohlhabend wenig wohlhabend'"
      ]
     },
     "execution_count": 13,
     "metadata": {},
     "output_type": "execute_result"
    }
   ],
   "source": [
    "# Take a look at the first article of the preprocessed data\n",
    "articles_blob_de[0]"
   ]
  },
  {
   "cell_type": "markdown",
   "metadata": {},
   "source": [
    "<div class=\"alert alert-info\" style=\"background-color:#5d3a8e; color:white; padding:0px 10px; border-radius:5px;\"><h2 style='margin:10px 5px'> \n",
    "2.2.1 French: Preprocessing for the Vader sentiment algorithm\n",
    "</h2>\n",
    "</div>"
   ]
  },
  {
   "cell_type": "code",
   "execution_count": 14,
   "metadata": {},
   "outputs": [
    {
     "name": "stdout",
     "output_type": "stream",
     "text": [
      "Processing time for pre-cleaning:  0.00024871826171875 minutes\n"
     ]
    }
   ],
   "source": [
    "# Apply the above defined function to preprocess the French text data for the Vader sentiment algorithm\n",
    "articles_vader_fr = pre_clean_vader(articles_fr)"
   ]
  },
  {
   "cell_type": "code",
   "execution_count": 15,
   "metadata": {},
   "outputs": [
    {
     "data": {
      "text/plain": [
       "' Notre pays, comme tant d’autres, a vécu une année sombre. La crise sanitaire nous a durement éprouvés. De nombreuses familles ont perdu des proches et n’ont pas pu faire leur deuil comme elles l’auraient souhaité. Pour elles, l’année 2020 restera liée au souvenir de cette perte douloureuse. La pandémie a bouleversé nos existences aussi en envoyant des personnes aux chômage, en détruisant des entreprises de tradition ou en mettant nos systèmes d’éducation et de santé à l’épreuve. Nous n’avons pratiquement jamais connu pareille situation: voir nos activités au point mort, la population à l’isolement, la poignée de main bannie de nos codes sociaux. C’est d’autant plus cruel que l’être humain, comme le soulignait Aristote, est fait par nature pour vivre avec ses semblables . A l’aube de cette année 2021, le réalisme m’interdit de former des vœux trop enthousiastes. Il m’oblige plutôt à constater que les inconnues sont nombreuses et que la situation demeure précaire. Je tiens néanmoins à vous adresser du fond du cœur de chaleureuses pensées. A celles et à ceux, en priorité, qui souffrent de la solitude, de la maladie, de la perte d’un être cher ou des rigueurs de l’âge. Les effets de la pandémie ont encore accentué les difficultés personnelles d’un grand nombre d’entre nous. Je tiens à vous assurer une nouvelle fois du soutien du Conseil fédéral et de son engagement constant à trouver des solutions permettant à notre pays de repartir du bon pied. J’aimerais tout de même vous dire aussi mon optimisme. Pas un optimisme de façade, non, mais un optimisme de conviction : notre pays a de la ressource. Il affiche une trentaine de Prix Nobel, il a lancé sur les marchés des inventions dont le monde d’aujourd’hui ne pourrait plus se passer et le Swiss made représente partout une empreinte synonyme de qualité et de fiabilité. La Suisse avance, et il en sera ainsi demain également si l’on croit, comme j’y crois, aux vertus de l’éducation et de la formation. Vecteurs de savoir et de connaissance, l’éducation et la formation sont à l’origine de l’innovation, du progrès et du rang enviable que nous occupons à ce titre parmi les économies les plus avancées de la planète. Vecteurs de culture et d’ouverture aussi, l’éducation et la formation sont langage universel, source de dialogue et d’écoute. A une époque encline aux rapports de forces les plus brisants, elles garantissent l’accès au compromis, qui est un bon chemin vers la résolution apaisée des conflits. Au fond, l’éducation et la formation sont les clefs de notre indispensable cohésion. Unie, la Suisse se trouve plus forte pour défendre ses intérêts. Avec cran, et avec vigueur s’il le faut. Parce qu’à travers eux, elle défend les intérêts de chacun d’entre nous : nos libertés, notre indépendance, la paix et la concorde dont nous jouissons depuis si longtemps. En ce 1er janvier s’écrit une page nouvelle de notre histoire, dont nous aimerions chasser les récents tourments : la résignation forcée, l’engourdissement général, un vague sentiment d’effondrement qui conduit fatalement au repli sur soi. Or, rien n’est pire que la renonciation pour une société moderne appelée à assumer son destin collectivement. C’est donc maintenant qu’un sursaut est attendu, maintenant qu’il faut se serrer les coudes, maintenant que nous devons, malgré la prudence toujours imposée dans la proximité de nos échanges, savoir faire preuve de la cohésion essentielle à nos succès communs. Il me tient à cœur qu’entre la Suisse des villes et celle des champs, la Suisse de l’expérience et celle de la promesse, la Suisse du progrès comme celle de la tradition, la Suisse aisée et celle qui l’est moins, nous ne fassions qu’une Suisse ! '"
      ]
     },
     "execution_count": 15,
     "metadata": {},
     "output_type": "execute_result"
    }
   ],
   "source": [
    "# Take a look at the first article of the preprocessed data\n",
    "articles_vader_fr[0]"
   ]
  },
  {
   "cell_type": "markdown",
   "metadata": {},
   "source": [
    "<div class=\"alert alert-info\" style=\"background-color:#5d3a8e; color:white; padding:0px 10px; border-radius:5px;\"><h2 style='margin:10px 5px'> \n",
    "2.2.1 French: Preprocessing for the TextBlob sentiment algorithm\n",
    "</h2>\n",
    "</div>"
   ]
  },
  {
   "cell_type": "code",
   "execution_count": 16,
   "metadata": {},
   "outputs": [
    {
     "name": "stdout",
     "output_type": "stream",
     "text": [
      "Processing time for pre-cleaning:  0.00018286705017089844 minutes\n",
      "Processing time for tokenizing, filtering and lemmatization:  0.05114614963531494 minutes\n",
      "Processing time for supplemental manual cleaning:  0.00011636018753051758 minutes\n"
     ]
    }
   ],
   "source": [
    "# Apply the above defined functions to preprocess the French text data for the TextBlob sentiment algorithm\n",
    "articles_blob_fr = process_blob(articles_fr, 'fr', tokenize = False)"
   ]
  },
  {
   "cell_type": "code",
   "execution_count": 17,
   "metadata": {},
   "outputs": [
    {
     "data": {
      "text/plain": [
       "'pays tant autre vivre année sombre crise sanitaire durement éprouver nombreux famille perdre proche n pas pouvoir faire deuil souhaiter année rester lier souvenir perte douloureux pandémie bouleverser existence aussi envoyer personne chômage détruire entreprise tradition mettre système éducation santé épreuve n pratiquement jamais connaître pareil situation voir activité point mort population isolement poignée main bannir code social autant plus cruel être humain souligner aristote faire nature vivre semblable aube année réalisme interdire former vœu trop enthousiaste obliger plutôt constater inconnu nombreux situation demeure précaire tenir néanmoins adresser fond cœur chaleureux pensée avoir priorité souffrir solitude maladie perte être cher rigueur âge effet pandémie encore accentuer difficulté personnel grand nombre tenir assurer nouveau fois soutien conseil fédéral engagement constant trouver solution permettre pays repartir bon pied aimer tout même dire aussi optimisme pas optimisme façade non optimisme conviction pays avoir ressource affiche trentaine prix nobel lancer marché invention monde aujourdhui ne pouvoir plus passer swiss made représente partout empreinte synonyme qualité fiabilité suisse avance ainsi demain également croire croire vertu éducation formation vecteur savoir connaissance éducation formation origine innovation progrès rang enviable occuper titre économie plus avancée planète vecteur culture ouverture aussi éducation formation langage universel source dialogue écoute avoir époque enclin rapport force plus brisant garantir accès compromis bon chemin résolution apaiser conflit fond éducation formation clé indispensable cohésion unie suisse trouve plus fort défendre intérêt cran vigueur falloir travers défendre intérêt liberté indépendance paix concorde jouir longtemps premier janvier écrire page nouveau histoire aimer chasser récent tourment résignation forcer engourdissement général vague sentiment effondrement conduire fatalement repli soi rien n pire renonciation société moderne appeler assumer destin collectivement donc maintenant sursaut attendre maintenant falloir serrer coude maintenant devoir prudence toujours imposer proximité échange savoir faire preuve cohésion essentiel succès commun tenir cœur suisse ville champ suisse expérience cell promesse suisse progrès tradition suisse aisé moins ne fassion qu suisse'"
      ]
     },
     "execution_count": 17,
     "metadata": {},
     "output_type": "execute_result"
    }
   ],
   "source": [
    "# Take a look at the first article of the preprocessed data\n",
    "articles_blob_fr[0]"
   ]
  },
  {
   "cell_type": "markdown",
   "metadata": {},
   "source": [
    "<div class=\"alert alert-info\" style=\"background-color:#5d3a8e; color:white; padding:0px 10px; border-radius:5px;\"><h2 style='margin:10px 5px'> \n",
    "2.3 Italian: Preprocessing for the naïve sentiment algorithm\n",
    "</h2>\n",
    "</div>"
   ]
  },
  {
   "cell_type": "code",
   "execution_count": 18,
   "metadata": {},
   "outputs": [
    {
     "name": "stdout",
     "output_type": "stream",
     "text": [
      "Processing time for pre-cleaning:  0.00016624132792154948 minutes\n",
      "Processing time for tokenizing, filtering and lemmatization:  0.02636292775472005 minutes\n",
      "Processing time for supplemental manual cleaning:  0.00013294617335001628 minutes\n"
     ]
    }
   ],
   "source": [
    "# Apply the above defined functions to preprocess the Italian text data for the naïve sentiment algorithm\n",
    "articles_naive_it = process_blob(articles_it, 'it', tokenize = True)"
   ]
  },
  {
   "cell_type": "code",
   "execution_count": 19,
   "metadata": {},
   "outputs": [
    {
     "data": {
      "text/plain": [
       "['paese',\n",
       " 'vivere',\n",
       " 'anno',\n",
       " 'buio',\n",
       " 'crisi',\n",
       " 'sanitario',\n",
       " 'inferto',\n",
       " 'durare',\n",
       " 'colpo',\n",
       " 'famiglia']"
      ]
     },
     "execution_count": 19,
     "metadata": {},
     "output_type": "execute_result"
    }
   ],
   "source": [
    "# Take a look at the first 10 tokens of the first article of the preprocessed data\n",
    "articles_naive_it[0][:10]"
   ]
  },
  {
   "cell_type": "markdown",
   "metadata": {},
   "source": [
    "<div class=\"alert alert-info\" style=\"background-color:#5d3a8e; color:white; padding:0px 10px; border-radius:5px;\"><h2 style='margin:10px 5px'> \n",
    "3. Sentiment Assessment\n",
    "</h2>\n",
    "</div>"
   ]
  },
  {
   "cell_type": "code",
   "execution_count": 20,
   "metadata": {},
   "outputs": [
    {
     "name": "stdout",
     "output_type": "stream",
     "text": [
      "17647 exactly duplicated entries have been removed.\n",
      "675 duplicated lemmas with differing POS-tags have been removed.\n"
     ]
    }
   ],
   "source": [
    "## Apply all preparation steps needed to set up the naïve Italian sentiment algorithm\n",
    "\n",
    "# Read in the sentiment lexicon Sentix (i.e. an Italian lexicon for sentiment analysis) as a dataframe\n",
    "senti_lex_df = pd.read_csv(\"Sentiment/Naive/Italian/sentix.txt\", sep = '\\t', header = None, names = ['lemma','POS','ID','pos_score','neg_score','polarity','intensity'])\n",
    "# Lowercase the entries in the column 'lemma'\n",
    "senti_lex_df['lemma'] = senti_lex_df['lemma'].str.lower()\n",
    "# Relabel the POS Tags to a common standard\n",
    "senti_lex_df['POS'].replace({'a': 'ADJ', 'n': 'NOUN', 'v': 'VERB', 'r': 'ADV'}, inplace = True)\n",
    "# Remove exact duplicates\n",
    "n_duplicates = sum(senti_lex_df.duplicated())\n",
    "senti_lex_df.drop_duplicates(keep = 'first', inplace = True, ignore_index = True)\n",
    "print(n_duplicates, \"exactly duplicated entries have been removed.\")\n",
    "\n",
    "# Calculate the average polarity of all duplicated words that are assigned with the same POS\n",
    "senti_lex_df = senti_lex_df.groupby(['POS','lemma'])['polarity'].mean().reset_index()\n",
    "# Sort the dataframe according to the alphabetical order of the POS-tags, such that first all ADJs appear, which then are followed by ADVs, NOUNs and then VERBs\n",
    "senti_lex_df.sort_values(['POS','lemma'], inplace = True)\n",
    "# Remove duplicates, while the first appearing lemma is kept (hence, in case of duplicated lemmas that have different POS-tags, first adjectives are kept, then adverbs, then nouns and then verbs)\n",
    "n_duplicates = sum(senti_lex_df.duplicated(subset = ['lemma'], keep = 'first'))\n",
    "print(n_duplicates, \"duplicated lemmas with differing POS-tags have been removed.\")\n",
    "senti_lex_df.drop_duplicates(subset = ['lemma'], keep = 'first', inplace = True, ignore_index = True)\n",
    "\n",
    "# Create a dictionary out of the sentiment lexicon\n",
    "senti_lex_dict = {}\n",
    "for index, row in senti_lex_df.iterrows():\n",
    "    senti_lex_dict[row['lemma']] = {'POS': str(row['POS']), 'polarity': float(row['polarity'])}\n",
    "\n",
    "# Remove unnecessary variables to save RAM\n",
    "del senti_lex_df\n",
    "\n",
    "# Define the set of possible negations\n",
    "negations = ['no', 'non', 'niente', 'nessuno']\n",
    "\n",
    "# Empirically derived mean sentiment intensity rating increase for booster words (adapted from the VADER module)\n",
    "# Note: The values have been devided by 4, because we are working with polarities directly (which range from -1 to 1) instead of the unscaled crowd ratings (which range from -4 to 4)\n",
    "B_INCR = 0.293/4\n",
    "B_DECR = -0.293/4\n",
    "\n",
    "# Define the dictionary of booster words\n",
    "booster_dic = \\\n",
    "    {\"assolutamente\": B_INCR, \"assoluto\": B_INCR, \"assoluta\": B_INCR, \"totalmente\": B_INCR, \"totale\": B_INCR, #\"absolutely\": B_INCR,\n",
    "     \"sorprendente\": B_INCR, \"mirabolante\": B_INCR, \"stupefacente\": B_INCR, \"straordinario\": B_INCR, \"straordinaria\": B_INCR, \"strabiliante\": B_INCR, #\"amazingly\": B_INCR,\n",
    "     \"enorme\": B_INCR, \"esorbitante\": B_INCR, \"immenso\": B_INCR, \"immensa\": B_INCR, \"colossale\": B_INCR, #\"awfully\": B_INCR,\n",
    "     \"completo\": B_INCR, \"completa\": B_INCR, \"intero\": B_INCR, \"intera\": B_INCR,    #\"completely\": B_INCR,\n",
    "     \"considerevole\": B_INCR, \"ingente\": B_INCR, \"notevole\": B_INCR, \"ragguardevole\": B_INCR, \"rilevante\": B_INCR, \"apprezzabile\": B_INCR, \"cospicuo\": B_INCR, \"cospicua\": B_INCR, #\"considerably\": B_INCR,\n",
    "     \"inequivocabile\": B_INCR, \"univoco\": B_INCR, \"univoca\": B_INCR, \"netto\": B_INCR, \"netta\": B_INCR, \"indubitato\": B_INCR, \"indubitata\": B_INCR, #\"decidedly\": B_INCR,\n",
    "     \"fundamentale\": B_INCR, #\"deeply\": B_INCR,\n",
    "     \"dannato\": B_INCR, \"dannata\": B_INCR, #\"effing\": B_INCR,\n",
    "     \"oltremodo\": B_INCR, \"oltremisura\": B_INCR, \"sommamente\": B_INCR, \"squisitamente\": B_INCR, \"straordinariamente\": B_INCR, #\"enormously\": B_INCR,\n",
    "     #\"entirely\": B_INCR,\n",
    "     \"particolare\": B_INCR, \"particolarmente\": B_INCR, \"speciale\": B_INCR, \"specialmente\": B_INCR, # \"especially\": B_INCR,\n",
    "     \"insolito\": B_INCR, \"insolita\": B_INCR, \"eccezionalmente\": B_INCR,  #\"exceptionally\": B_INCR,\n",
    "     \"estremamente\": B_INCR, \"estremo\": B_INCR, \"estrema\": B_INCR, #\"extremely\": B_INCR,\n",
    "     \"favoloso\": B_INCR, \"favolosa\": B_INCR, \"fantastico\": B_INCR, #\"fabulously\": B_INCR,\n",
    "     #\"flipping\": B_INCR,\n",
    "     #\"flippin\": B_INCR,\n",
    "     #\"fricking\": B_INCR,\n",
    "     #\"frickin\": B_INCR,\n",
    "     #\"frigging\": B_INCR,\n",
    "     #\"friggin\": B_INCR,\n",
    "     #\"fully\": B_INCR,\n",
    "     #\"fucking\": B_INCR,\n",
    "     \"molto\": B_INCR, \"intensamente\": B_INCR, \"parecchio\": B_INCR, \"tanto\": B_INCR, \"massiccio\": B_INCR, \"massiccia\": B_INCR,  #\"greatly\": B_INCR,\n",
    "     #\"hella\": B_INCR,\n",
    "     \"supremo\": B_INCR, \"suprema\": B_INCR, #\"highly\": B_INCR,\n",
    "     \"immensamente\": B_INCR, \"immenso\": B_INCR, \"immensa\": B_INCR, #\"hugely\": B_INCR,\n",
    "     \"incredibile\": B_INCR, #\"incredibly\": B_INCR,\n",
    "     \"intensamente\": B_INCR, #\"intensely\": B_INCR,\n",
    "     \"principalmente\": B_INCR, #\"majorly\": B_INCR,\n",
    "     \"più\": B_INCR, #\"more\": B_INCR,\n",
    "     \"maggior\": B_INCR, #\"most\": B_INCR,\n",
    "     \"particolarmente\": B_INCR, \"soprattutto\": B_INCR, #\"particularly\": B_INCR,\n",
    "     \"puramente\": B_INCR, \"esclusivamente\": B_INCR, #\"purely\": B_INCR,\n",
    "     \"abbastanza\": B_INCR, \"piuttosto\": B_INCR, \"alquanto\": B_INCR, #\"quite\": B_INCR,\n",
    "     \"davvero\": B_INCR, \"veramente\": B_INCR, #\"really\": B_INCR,\n",
    "     \"notevolmente\": B_INCR, #\"remarkably\": B_INCR,\n",
    "     \"essenziale\": B_INCR, \"considerabilmente\": B_INCR, #\"substantially\": B_INCR,\n",
    "     \"accuratamente\": B_INCR, \"completamente\": B_INCR, #\"thoroughly\": B_INCR,\n",
    "     #\"totally\": B_INCR,\n",
    "     \"tremendamente\": B_INCR, \"enormemente\": B_INCR, #\"tremendously\": B_INCR,\n",
    "     #\"uber\": B_INCR,\n",
    "     \"incredibilmente\": B_INCR, #\"unbelievably\": B_INCR,\n",
    "     \"insolitamente\": B_INCR, \"inusualmente\": B_INCR, #\"unusually\": B_INCR,\n",
    "     #\"utterly\": B_INCR,\n",
    "     #\"very\": B_INCR,\n",
    "     #####\n",
    "     \"quasi\": B_DECR, \"pressoché\": B_DECR, #\"almost\": B_DECR,\n",
    "     \"appena\": B_INCR, \"malapena\": B_INCR, #\"barely\": B_DECR,\n",
    "     \"stento\": B_DECR, #\"hardly\": B_DECR,\n",
    "     \"abbastanza\": B_INCR, #\"just enough\": B_DECR,\n",
    "     \"alquanto\": B_DECR, #\"kind of\": B_DECR,\n",
    "     \"tipo\": B_INCR, #\"kinda\": B_DECR,\n",
    "     #\"kindof\": B_DECR,\n",
    "     #\"kind-of\": B_DECR,\n",
    "     \"meno\": B_INCR, #\"less\": B_DECR,\n",
    "     \"piccolo\": B_INCR, #\"little\": B_DECR,\n",
    "     \"esiguo\": B_DECR, \"esigua\": B_DECR, \"futile\": B_DECR, \"insignificante\": B_DECR, \"marginale\": B_DECR,  #\"marginally\": B_DECR,\n",
    "     \"occasionale\": B_DECR, \"saltuario\": B_DECR, \"saltuaria\": B_DECR, #\"occasionally\": B_DECR,\n",
    "     \"parziale\": B_DECR, #\"partly\": B_DECR,\n",
    "     \"scarso\": B_DECR, \"scarsa\": B_DECR, \"rado\": B_DECR, \"rada\": B_DECR, \"scarsamente\": B_DECR, \"magro\": B_DECR, \"magra\": B_DECR, #\"scarcely\": B_DECR,\n",
    "     \"poco\": B_DECR, \"briciolo\": B_DECR, \"pizzico\": B_DECR, #\"slightly\": B_DECR,\n",
    "     \"piuttosto\": B_DECR #\"somewhat\": B_DECR,\n",
    "     #\"sort of\": B_DECR,\n",
    "     #\"sorta\": B_DECR,\n",
    "     #\"sortof\": B_DECR,\n",
    "     #\"sort-of\": B_DECR\n",
    "     }"
   ]
  },
  {
   "cell_type": "code",
   "execution_count": 21,
   "metadata": {},
   "outputs": [],
   "source": [
    "# Set up the Sentiment Classifier class\n",
    "class NaiveSentimentClassifierIT:\n",
    "    def __init__(self, senti_lex_dict, negations, booster_dic):\n",
    "        # Note:\n",
    "        ## senti_lex_dict has to be a dictionary with entries of the following form: {token: {'POS': token_POStag, 'polarity': token_polarity_score}}\n",
    "        ## negations has to be a list of negation words\n",
    "        ## booster_dic has to be a dictionary with entries of the following form: {token: additive_polarity_impact_on_target_token}\n",
    "        # Store the inputs within the corresponding attribute of self\n",
    "        self.senti_lex_dict = senti_lex_dict\n",
    "        self.negations      = negations\n",
    "        self.booster_dic    = booster_dic\n",
    "    \n",
    "    # Set up a function that evaluates the polarity of the articles\n",
    "    def evaluate(self, tx, idx):\n",
    "        # Note: \n",
    "        ## tx has to be a list of tokenized articles (i.e. a list, whose elements are itself lists containing the tokenized and precleaned articles)\n",
    "        ## --> (precleaned means lemmatized and filtered, such that only negations, nouns, verbs, adverbs and adjectives are contained)\n",
    "        ## idx has to be a list containing the ordered article indexes corresponding to the articles in tx\n",
    "\n",
    "        # Keep track of the processing time\n",
    "        t = time.time()\n",
    "\n",
    "        # Create an empty list to store the resulting document polarity scores\n",
    "        article_polarity = []\n",
    "        # Set up a loop to go through all articles\n",
    "        for article in tx:\n",
    "            # Apply the above defined functions to get the token's polarity scores, score adjustments (through booster words) and score multipliers (through negations)\n",
    "            self.get_token_postag(article)\n",
    "            self.get_token_polarity(article)\n",
    "            self.get_score_adjustment(article)\n",
    "            self.get_score_multiplier(article)\n",
    "            self.get_article_polarity()\n",
    "            # Apply the above defined function to calculate the final polarity of the article and append it to the variable article_polarity\n",
    "            article_polarity.append(self.document_polarity)\n",
    "        # Store the article polarities in slef\n",
    "        self.article_polarity = article_polarity\n",
    "\n",
    "        # Print out the processing time\n",
    "        print(\"Processing time to evaluate the article sentiments:\", str((time.time() - t)/60), \"minutes\")\n",
    "\n",
    "        # Create a correctly indexed dataframe containing the article sentiments\n",
    "        Naive_tx_polarity = pd.DataFrame(article_polarity, index = idx, columns = ['Naive_polarity'])\n",
    "        # Return the results\n",
    "        return Naive_tx_polarity\n",
    "\n",
    "    ## Define all functions needed within the Sentiment Classifier class\n",
    "\n",
    "    # Define a function to get the POS-tag for each token in an article (given that the token is contained in the sentiment lexicon)\n",
    "    def get_token_postag(self, article):\n",
    "        # Create a list to store the results\n",
    "        token_pos = []\n",
    "        # Set up a loop to go through all tokens of the article\n",
    "        for token in article:\n",
    "            if token in self.senti_lex_dict:\n",
    "                token_pos.append(self.senti_lex_dict[token]['POS'])\n",
    "            else:\n",
    "                token_pos.append('UNKNOWN')\n",
    "        # Store the resulting list of the token POS-tags in self\n",
    "        self.token_pos = token_pos\n",
    "\n",
    "    # Define a function to get the polarity score for each token in an article (given that the token is contained in the sentiment lexicon)\n",
    "    def get_token_polarity(self, article):\n",
    "        # Create a list to store the results\n",
    "        token_polarity = []\n",
    "        # Set up a loop to go through all tokens of the article\n",
    "        for token in article:\n",
    "            if token in self.senti_lex_dict:\n",
    "                token_polarity.append(self.senti_lex_dict[token]['polarity'])\n",
    "            else:\n",
    "                token_polarity.append(0)\n",
    "        # Store the resulting list of the token polarities in self\n",
    "        self.token_polarity = token_polarity\n",
    "\n",
    "    # Define a function to get the score multiplier (caused by negation words) for each token in an article\n",
    "    def get_score_multiplier(self, article):\n",
    "        # Define the negation scalar (adapted from VADER)\n",
    "        neg_scalar = -0.74\n",
    "        # Define a list of ones of the same length as the number of tokens in the article\n",
    "        score_multiplier = np.repeat(1, len(article)).tolist()\n",
    "        # Set up a loop to go through all tokens of the article\n",
    "        for i in np.arange(1, len(article)-1):\n",
    "            # Check whether the word is a negation word and assign a neg_scalar to the multiplier at the position of the subsequnet token and a 0.5*neg_scalar at the position of the second token after the negation\n",
    "            if article[i] in self.negations:\n",
    "                score_multiplier[i+1] = neg_scalar\n",
    "                if i < (len(article)-2):\n",
    "                   score_multiplier[i+2] = 0.5*neg_scalar\n",
    "        # Store the score_multiplier variable in self\n",
    "        self.score_multiplier = score_multiplier\n",
    "\n",
    "    # Define a function to get the score adjustment (caused by intensifier words) for each token in an article\n",
    "    def get_score_adjustment(self, article):\n",
    "        # Define a list of zeros of the same length as the number of tokens in the article\n",
    "        score_adjustment = np.repeat(0, len(article)).tolist()\n",
    "        # Set up a loop to go through all tokens of the article\n",
    "        for i in np.arange(1, len(article)-1):\n",
    "            # If the previous word was a verb and the current word is a booster, then assign an adjustment to the verb\n",
    "            if article[i] in self.booster_dic and self.token_pos[i-1] == 'VERB':\n",
    "                score_adjustment[i-1] = score_adjustment[i-1] + self.booster_dic[article[i]]\n",
    "            # Else, it is assumed that the booster affects the subsequent token\n",
    "            elif article[i] in self.booster_dic and not self.token_pos[i-1] == 'VERB':\n",
    "                score_adjustment[i+1] = score_adjustment[i+1] + self.booster_dic[article[i]]\n",
    "        # Store the score_adjustment variable in self\n",
    "        self.score_adjustment = score_adjustment\n",
    "\n",
    "    # Define a function to calculate the final polarity of an article\n",
    "    def get_article_polarity(self):\n",
    "        # Create an empty list to store the final token polarity (note: from now on only tokens with a polarity != 0 are kept)\n",
    "        final_token_polarity = []\n",
    "        # Set up a loop to calculate each token's final polarity score\n",
    "        for i in range(len(self.token_polarity)):\n",
    "            if self.token_polarity[i] > 0:\n",
    "                final_token_polarity.append((self.token_polarity[i] + self.score_adjustment[i])*self.score_multiplier[i])\n",
    "            if self.token_polarity[i] < 0:\n",
    "                final_token_polarity.append((self.token_polarity[i] - self.score_adjustment[i])*self.score_multiplier[i])\n",
    "        # Calculate the article polarity, which is just the average final token polarity among all tokens that were kept (i.e. that exhibit a non-zero adjusted polarity)\n",
    "        # If the list final_token_polarity is empty, then just assign a polarity of 0\n",
    "        if len(final_token_polarity) == 0:\n",
    "            document_polarity = 0\n",
    "        else:\n",
    "            document_polarity = np.mean(final_token_polarity)\n",
    "        # Ensure that the resulting polarity is still in the range between -1 and 1\n",
    "        if document_polarity > 1: document_polarity = 1\n",
    "        if document_polarity < -1: document_polarity = -1\n",
    "        # Store the resulting document polarity in self\n",
    "        self.document_polarity = document_polarity"
   ]
  },
  {
   "cell_type": "code",
   "execution_count": 22,
   "metadata": {},
   "outputs": [],
   "source": [
    "## Define all functions needed to apply the various sentiment algorithms\n",
    "\n",
    "# Define a function that evaluates the polarity of the articles using the according TextBlob modules\n",
    "def eval_blob_polarity(tx, idx):\n",
    "    # Notes: \n",
    "    ## tx has to be a list containing the precleaned and NOT tokenized articles\n",
    "    ## idx has to be a list containing the correctly ordered index\n",
    "\n",
    "    # Initialize a Blobber class, which uses the language specific PatternAnalyzer we imported above to assess text polarity (sentiment from -1 to 1) and subjectivity\n",
    "    tb = Blobber(pos_tagger = PatternTagger(), analyzer = PatternAnalyzer())\n",
    "    # Keep track of the processing time\n",
    "    t = time.time()\n",
    "    # Set up a loop to go through all articles and evaluate their polarity with TextBlob\n",
    "    pol = []\n",
    "    for article in tx:\n",
    "        pol.append(tb(article).sentiment[0])\n",
    "    # Print out the processing time\n",
    "    print(\"Processing time to evaluate polarity scores of the articles:\", str(round((time.time() - t)/60,2)), \"minutes\")\n",
    "    # Create a correctly indexed dataframe\n",
    "    Blob_tx_polarity = pd.DataFrame(pol, index = idx, columns = ['Blob_polarity'])\n",
    "    # Return the results\n",
    "    return Blob_tx_polarity\n",
    "\n",
    "\n",
    "# Define a function that evaluates the polarity of the articles and using the French Vader module\n",
    "def eval_vader_polarity(tx, idx, fuzzywuzzy = False):\n",
    "    # Notes: \n",
    "    ## tx has to be a list containing the (precleaned) fulltext articles\n",
    "    ## idx has to be a list containing the correctly ordered index\n",
    "    ## fuzzywuzzy indicates whether the sentiment analysis algorithm should also look for similar words whenever a word is not detected properly to overcome issues with typos (computationally more expensive!) \n",
    "\n",
    "    # Initialize a Vader class, which uses the language specific SentimentIntensityAnalyzer we imported above to assess text polarity (sentiment from -1 to 1) and subjectivity\n",
    "    sia = SentimentIntensityAnalyzer()\n",
    "    # Keep track of the processing time\n",
    "    t = time.time()\n",
    "    # Set up a loop to go through all articles and evaluate their polarity with Vader\n",
    "    pol = []\n",
    "    for article in tx:\n",
    "        if fuzzywuzzy:\n",
    "            pol.append(sia.polarity_scores_max(article)['compound'])\n",
    "        else:\n",
    "            pol.append(sia.polarity_scores(article)['compound'])\n",
    "    # Print out the processing time\n",
    "    print(\"Processing time to evaluate polarity scores of the articles:\", str(round((time.time() - t)/60,2)), \"minutes\")\n",
    "    # Create a correctly indexed dataframe\n",
    "    Vader_tx_polarity = pd.DataFrame(pol, index = idx, columns = ['Vader_polarity'])\n",
    "    # Return the results\n",
    "    return Vader_tx_polarity"
   ]
  },
  {
   "cell_type": "markdown",
   "metadata": {},
   "source": [
    "<div class=\"alert alert-info\" style=\"background-color:#5d3a8e; color:white; padding:0px 10px; border-radius:5px;\"><h2 style='margin:10px 5px'> \n",
    "3.1.1 German: Sentiment assessment with Vader\n",
    "</h2>\n",
    "</div>\n",
    "\n",
    "Since the most convenient way to access GerVADER is from the computer's command line (i.e. cmd if you are using Windows as an operating system), we do so in the following by applying the following steps sequentially:\n",
    "\n",
    "1. Download the German Vader sentiment module from the according Github repository (link: https://github.com/KarstenAMF/GerVADER). \n",
    "\n",
    "2. Unzip the file, rename the retrieved folder from \"GerVADER\" to \"GerVADER_adjusted\" and save it to some path (referred to as Path\\to\\GerVADER_adjusted in the following). For me this path is C:\\Users\\Hallk\\Documents\\Programming\\Additional_stuff\\GerVADER_adjusted.\n",
    "\n",
    "3. Replace the original file \"vaderSentimentGER.py\" in the downloaded folder with the adjusted \"vaderSentimentGER.py\" file in the \"GerVADER_adjusted\" folder provided by this thesis.\n",
    "\n",
    "4. Copy the tsv file created above (i.e. \"Sentiment/Naive/Performance_evaluation/de_multilingual_articles_vader.tsv\") into the aforementioned \"GerVADER_adjusted\" folder on your machine.\n",
    "\n",
    "5. Open your machine's command window and navigate to the \"GerVADER_adjusted\" folder by entering the following command: cd Path\\to\\GerVADER_adjusted\n",
    "\n",
    "6. Next, enter the command: python GERvaderModule.py\n",
    "\n",
    "7. Choose: 2\n",
    "\n",
    "8. Enter the name of the tsv file mentioned above\n",
    "\n",
    "9. Choose N or insert the name you want to give to the output folder\n",
    "\n",
    "If all these steps are executed the articles' sentiments will be evaluated by the algorithm and 4 distinct output tables in tsv format will be generated. One output file contains the text and sentiment assessment for the entirety of articles, while the remaining three solely contain articles classified as negative, neutral or positive, respectively. All resulting output files are then stored within the folder 'results' located within the \"GerVADER_adjusted\" folder.\n",
    "\n",
    "To extract the resulting polarity scores, we now have to copy the resulting tsv file named \"GERVADER\\_\\_all_docs.tsv\" to an easily accessible spot on our machine, such that we can read it in conveniently (for me it is the folder d:\\\\Users\\\\Hallk\\\\Dropbox\\\\MA_data\\\\Sentiment\\\\Naive\\\\Performance_evaluation)."
   ]
  },
  {
   "cell_type": "code",
   "execution_count": 23,
   "metadata": {},
   "outputs": [],
   "source": [
    "# Read in the resulting tsv file\n",
    "senti_vader_de = pd.read_csv(\"Sentiment/Naive/Performance_evaluation/GERVADER__all_docs.tsv\", sep = '\\t', header = None, usecols = [0,2], names = ['tx','Vader_polarity'])\n",
    "# Extract the list of polarity assignments\n",
    "senti_vader_de = senti_vader_de.Vader_polarity.values.tolist()"
   ]
  },
  {
   "cell_type": "markdown",
   "metadata": {},
   "source": [
    "<div class=\"alert alert-info\" style=\"background-color:#5d3a8e; color:white; padding:0px 10px; border-radius:5px;\"><h2 style='margin:10px 5px'> \n",
    "3.1.2 German: Sentiment assessment with TextBlob\n",
    "</h2>\n",
    "</div>"
   ]
  },
  {
   "cell_type": "code",
   "execution_count": 24,
   "metadata": {},
   "outputs": [],
   "source": [
    "# Import the according TextBlob modules\n",
    "from textblob import Blobber\n",
    "from textblob_de import PatternTagger, PatternAnalyzer"
   ]
  },
  {
   "cell_type": "code",
   "execution_count": 25,
   "metadata": {},
   "outputs": [
    {
     "name": "stdout",
     "output_type": "stream",
     "text": [
      "Processing time to evaluate polarity scores of the articles: 0.03 minutes\n"
     ]
    }
   ],
   "source": [
    "# Apply the above defined function to assess the articles' polarity with TextBlob\n",
    "senti_blob_de = eval_blob_polarity(articles_blob_de, multilingual_articles.index.tolist())\n",
    "# Extract the list of polarity assignments\n",
    "senti_blob_de = senti_blob_de.Blob_polarity.values.tolist()"
   ]
  },
  {
   "cell_type": "code",
   "execution_count": 26,
   "metadata": {},
   "outputs": [],
   "source": [
    "# Remove the previously loaded TextBlob modules\n",
    "del Blobber, PatternTagger, PatternAnalyzer"
   ]
  },
  {
   "cell_type": "markdown",
   "metadata": {},
   "source": [
    "<div class=\"alert alert-info\" style=\"background-color:#5d3a8e; color:white; padding:0px 10px; border-radius:5px;\"><h2 style='margin:10px 5px'> \n",
    "3.2.1 French: Sentiment assessment with Vader\n",
    "</h2>\n",
    "</div>"
   ]
  },
  {
   "cell_type": "code",
   "execution_count": 27,
   "metadata": {},
   "outputs": [],
   "source": [
    "# Import the according Vader module\n",
    "from vaderSentiment_fr.vaderSentiment import SentimentIntensityAnalyzer"
   ]
  },
  {
   "cell_type": "code",
   "execution_count": 28,
   "metadata": {},
   "outputs": [
    {
     "name": "stdout",
     "output_type": "stream",
     "text": [
      "Processing time to evaluate polarity scores of the articles: 0.01 minutes\n"
     ]
    }
   ],
   "source": [
    "# Apply the above defined function to assess the articles' polarity with Vader\n",
    "senti_vader_fr = eval_vader_polarity(articles_vader_fr, multilingual_articles.index.tolist(), fuzzywuzzy = False)\n",
    "# Extract the list of polarity assignments\n",
    "senti_vader_fr = senti_vader_fr.Vader_polarity.values.tolist()"
   ]
  },
  {
   "cell_type": "markdown",
   "metadata": {},
   "source": [
    "<div class=\"alert alert-info\" style=\"background-color:#5d3a8e; color:white; padding:0px 10px; border-radius:5px;\"><h2 style='margin:10px 5px'> \n",
    "3.2.2 French: Sentiment assessment with TextBlob\n",
    "</h2>\n",
    "</div>"
   ]
  },
  {
   "cell_type": "code",
   "execution_count": 29,
   "metadata": {},
   "outputs": [],
   "source": [
    "# TextBlob (for Sentiment Analysis)\n",
    "from textblob import Blobber\n",
    "from textblob_fr import PatternTagger, PatternAnalyzer"
   ]
  },
  {
   "cell_type": "code",
   "execution_count": 30,
   "metadata": {},
   "outputs": [
    {
     "name": "stdout",
     "output_type": "stream",
     "text": [
      "Processing time to evaluate polarity scores of the articles: 0.0 minutes\n"
     ]
    }
   ],
   "source": [
    "# Apply the above defined function to assess the articles' polarity with TextBlob\n",
    "senti_blob_fr = eval_blob_polarity(articles_blob_fr, multilingual_articles.index.tolist())\n",
    "# Extract the list of polarity assignments\n",
    "senti_blob_fr = senti_blob_fr.Blob_polarity.values.tolist()"
   ]
  },
  {
   "cell_type": "code",
   "execution_count": 31,
   "metadata": {},
   "outputs": [],
   "source": [
    "# Remove the previously loaded TextBlob modules\n",
    "del Blobber, PatternTagger, PatternAnalyzer"
   ]
  },
  {
   "cell_type": "markdown",
   "metadata": {},
   "source": [
    "<div class=\"alert alert-info\" style=\"background-color:#5d3a8e; color:white; padding:0px 10px; border-radius:5px;\"><h2 style='margin:10px 5px'> \n",
    "3.3 Italian: Sentiment assessment with the naïve Italian sentiment classifier\n",
    "</h2>\n",
    "</div>"
   ]
  },
  {
   "cell_type": "code",
   "execution_count": 32,
   "metadata": {},
   "outputs": [
    {
     "name": "stdout",
     "output_type": "stream",
     "text": [
      "Processing time to evaluate the article sentiments: 0.00023292700449625652 minutes\n"
     ]
    }
   ],
   "source": [
    "# Set up a NaiveSentimentClassifierIT object\n",
    "NSC_it = NaiveSentimentClassifierIT(senti_lex_dict, negations, booster_dic)\n",
    "# Evaluate the sentiment of the Italian articles\n",
    "senti_naive_it = NSC_it.evaluate(articles_naive_it, multilingual_articles.index.tolist())\n",
    "# Extract the list of polarity assignments\n",
    "senti_naive_it = senti_naive_it.Naive_polarity.values.tolist()"
   ]
  },
  {
   "cell_type": "markdown",
   "metadata": {},
   "source": [
    "<div class=\"alert alert-info\" style=\"background-color:#5d3a8e; color:white; padding:0px 10px; border-radius:5px;\"><h2 style='margin:10px 5px'> \n",
    "4. Compare the resulting polarity scores between the German and French versions of the adjusted Vader & TextBlob sentiment algorithm and the self-developed naïve Italian sentiment algorithm\n",
    "</h2>\n",
    "</div>"
   ]
  },
  {
   "cell_type": "code",
   "execution_count": 33,
   "metadata": {},
   "outputs": [],
   "source": [
    "# Create a dataframe containing all polarity scores\n",
    "pd.set_option('mode.chained_assignment', None)\n",
    "Polarities = multilingual_articles[['title_de']]\n",
    "Polarities['Vader_de'] = senti_vader_de\n",
    "Polarities['Blob_de']  = senti_blob_de\n",
    "Polarities['Vader_fr'] = senti_vader_fr\n",
    "Polarities['Blob_fr']  = senti_blob_fr\n",
    "Polarities['Naive_it'] = senti_naive_it\n",
    "# Create a column showing the difference in the resulting polarities from the naïve Italian sentiment algorithm to the established German Vader sentiment algorithm\n",
    "Polarities['Diff_Vader_de_Naive_it'] = Polarities['Vader_de'] - Polarities['Naive_it']"
   ]
  },
  {
   "cell_type": "code",
   "execution_count": 34,
   "metadata": {},
   "outputs": [
    {
     "data": {
      "text/html": [
       "<div>\n",
       "<style scoped>\n",
       "    .dataframe tbody tr th:only-of-type {\n",
       "        vertical-align: middle;\n",
       "    }\n",
       "\n",
       "    .dataframe tbody tr th {\n",
       "        vertical-align: top;\n",
       "    }\n",
       "\n",
       "    .dataframe thead th {\n",
       "        text-align: right;\n",
       "    }\n",
       "</style>\n",
       "<table border=\"1\" class=\"dataframe\">\n",
       "  <thead>\n",
       "    <tr style=\"text-align: right;\">\n",
       "      <th></th>\n",
       "      <th>Vader_de</th>\n",
       "      <th>Blob_de</th>\n",
       "      <th>Vader_fr</th>\n",
       "      <th>Blob_fr</th>\n",
       "      <th>Naive_it</th>\n",
       "      <th>Diff_Vader_de_Naive_it</th>\n",
       "    </tr>\n",
       "  </thead>\n",
       "  <tbody>\n",
       "    <tr>\n",
       "      <th>count</th>\n",
       "      <td>50.000</td>\n",
       "      <td>50.000</td>\n",
       "      <td>50.000</td>\n",
       "      <td>50.000</td>\n",
       "      <td>50.000</td>\n",
       "      <td>50.000</td>\n",
       "    </tr>\n",
       "    <tr>\n",
       "      <th>mean</th>\n",
       "      <td>0.198</td>\n",
       "      <td>0.290</td>\n",
       "      <td>0.136</td>\n",
       "      <td>0.089</td>\n",
       "      <td>0.264</td>\n",
       "      <td>-0.067</td>\n",
       "    </tr>\n",
       "    <tr>\n",
       "      <th>std</th>\n",
       "      <td>0.137</td>\n",
       "      <td>0.450</td>\n",
       "      <td>0.121</td>\n",
       "      <td>0.067</td>\n",
       "      <td>0.164</td>\n",
       "      <td>0.175</td>\n",
       "    </tr>\n",
       "    <tr>\n",
       "      <th>min</th>\n",
       "      <td>-0.125</td>\n",
       "      <td>-0.744</td>\n",
       "      <td>-0.180</td>\n",
       "      <td>-0.166</td>\n",
       "      <td>-0.163</td>\n",
       "      <td>-0.427</td>\n",
       "    </tr>\n",
       "    <tr>\n",
       "      <th>25%</th>\n",
       "      <td>0.126</td>\n",
       "      <td>-0.056</td>\n",
       "      <td>0.067</td>\n",
       "      <td>0.066</td>\n",
       "      <td>0.197</td>\n",
       "      <td>-0.177</td>\n",
       "    </tr>\n",
       "    <tr>\n",
       "      <th>50%</th>\n",
       "      <td>0.207</td>\n",
       "      <td>0.419</td>\n",
       "      <td>0.133</td>\n",
       "      <td>0.099</td>\n",
       "      <td>0.274</td>\n",
       "      <td>-0.082</td>\n",
       "    </tr>\n",
       "    <tr>\n",
       "      <th>75%</th>\n",
       "      <td>0.282</td>\n",
       "      <td>0.669</td>\n",
       "      <td>0.213</td>\n",
       "      <td>0.124</td>\n",
       "      <td>0.365</td>\n",
       "      <td>0.055</td>\n",
       "    </tr>\n",
       "    <tr>\n",
       "      <th>max</th>\n",
       "      <td>0.450</td>\n",
       "      <td>1.000</td>\n",
       "      <td>0.441</td>\n",
       "      <td>0.214</td>\n",
       "      <td>0.562</td>\n",
       "      <td>0.399</td>\n",
       "    </tr>\n",
       "  </tbody>\n",
       "</table>\n",
       "</div>"
      ],
      "text/plain": [
       "       Vader_de  Blob_de  Vader_fr  Blob_fr  Naive_it  Diff_Vader_de_Naive_it\n",
       "count    50.000   50.000    50.000   50.000    50.000                  50.000\n",
       "mean      0.198    0.290     0.136    0.089     0.264                  -0.067\n",
       "std       0.137    0.450     0.121    0.067     0.164                   0.175\n",
       "min      -0.125   -0.744    -0.180   -0.166    -0.163                  -0.427\n",
       "25%       0.126   -0.056     0.067    0.066     0.197                  -0.177\n",
       "50%       0.207    0.419     0.133    0.099     0.274                  -0.082\n",
       "75%       0.282    0.669     0.213    0.124     0.365                   0.055\n",
       "max       0.450    1.000     0.441    0.214     0.562                   0.399"
      ]
     },
     "execution_count": 34,
     "metadata": {},
     "output_type": "execute_result"
    }
   ],
   "source": [
    "# Take a look at some summary statistics\n",
    "np.round(Polarities[['Vader_de','Blob_de','Vader_fr','Blob_fr','Naive_it','Diff_Vader_de_Naive_it']].describe(), 3)"
   ]
  },
  {
   "cell_type": "code",
   "execution_count": 35,
   "metadata": {},
   "outputs": [
    {
     "data": {
      "text/html": [
       "<div>\n",
       "<style scoped>\n",
       "    .dataframe tbody tr th:only-of-type {\n",
       "        vertical-align: middle;\n",
       "    }\n",
       "\n",
       "    .dataframe tbody tr th {\n",
       "        vertical-align: top;\n",
       "    }\n",
       "\n",
       "    .dataframe thead th {\n",
       "        text-align: right;\n",
       "    }\n",
       "</style>\n",
       "<table border=\"1\" class=\"dataframe\">\n",
       "  <thead>\n",
       "    <tr style=\"text-align: right;\">\n",
       "      <th></th>\n",
       "      <th>title_de</th>\n",
       "      <th>Vader_de</th>\n",
       "      <th>Blob_de</th>\n",
       "      <th>Vader_fr</th>\n",
       "      <th>Blob_fr</th>\n",
       "      <th>Naive_it</th>\n",
       "      <th>Diff_Vader_de_Naive_it</th>\n",
       "    </tr>\n",
       "  </thead>\n",
       "  <tbody>\n",
       "    <tr>\n",
       "      <th>0</th>\n",
       "      <td>2021 - Neujahrsansprache von Bundespräsident Guy Parmelin</td>\n",
       "      <td>0.2054</td>\n",
       "      <td>0.307317</td>\n",
       "      <td>0.0552</td>\n",
       "      <td>0.122173</td>\n",
       "      <td>0.276621</td>\n",
       "      <td>-0.071221</td>\n",
       "    </tr>\n",
       "    <tr>\n",
       "      <th>1</th>\n",
       "      <td>Bundesratsfoto 2021: Neue Sicht auf Altbekanntes</td>\n",
       "      <td>0.2196</td>\n",
       "      <td>0.433333</td>\n",
       "      <td>0.2338</td>\n",
       "      <td>0.153333</td>\n",
       "      <td>0.322437</td>\n",
       "      <td>-0.102837</td>\n",
       "    </tr>\n",
       "    <tr>\n",
       "      <th>2</th>\n",
       "      <td>Medienberichte zu Todesfall nach Covid-19-Impfung in der Schweiz: Kein Zusammenhang mit der Impfung ersichtlich</td>\n",
       "      <td>-0.0562</td>\n",
       "      <td>-0.075000</td>\n",
       "      <td>-0.1800</td>\n",
       "      <td>0.213636</td>\n",
       "      <td>-0.163238</td>\n",
       "      <td>0.107038</td>\n",
       "    </tr>\n",
       "    <tr>\n",
       "      <th>3</th>\n",
       "      <td>Rasche Prüfung der Ausfuhrgesuche der Crypto International AG und TCG Legacy in Liquidation</td>\n",
       "      <td>0.0859</td>\n",
       "      <td>-0.075000</td>\n",
       "      <td>0.0665</td>\n",
       "      <td>0.032222</td>\n",
       "      <td>0.374939</td>\n",
       "      <td>-0.289039</td>\n",
       "    </tr>\n",
       "    <tr>\n",
       "      <th>4</th>\n",
       "      <td>Coronavirus: Der Bundesrat verschärft die Massnahmen nicht</td>\n",
       "      <td>0.1269</td>\n",
       "      <td>0.258333</td>\n",
       "      <td>-0.0192</td>\n",
       "      <td>0.082703</td>\n",
       "      <td>0.271111</td>\n",
       "      <td>-0.144211</td>\n",
       "    </tr>\n",
       "    <tr>\n",
       "      <th>5</th>\n",
       "      <td>Neue Abkommen zwischen der Schweiz und dem Vereinigten Königreich treten in Kraft</td>\n",
       "      <td>0.2716</td>\n",
       "      <td>0.647368</td>\n",
       "      <td>0.2150</td>\n",
       "      <td>0.099049</td>\n",
       "      <td>0.126529</td>\n",
       "      <td>0.145071</td>\n",
       "    </tr>\n",
       "    <tr>\n",
       "      <th>6</th>\n",
       "      <td>Luftpolizeidienst rund um die Uhr</td>\n",
       "      <td>0.1702</td>\n",
       "      <td>0.000000</td>\n",
       "      <td>0.0662</td>\n",
       "      <td>0.035577</td>\n",
       "      <td>0.406549</td>\n",
       "      <td>-0.236349</td>\n",
       "    </tr>\n",
       "    <tr>\n",
       "      <th>7</th>\n",
       "      <td>Betrugsfall Stanford: Herausgabe von rund 200 Mio. US-Dollar an die USA</td>\n",
       "      <td>-0.0591</td>\n",
       "      <td>-0.666667</td>\n",
       "      <td>0.1333</td>\n",
       "      <td>0.114545</td>\n",
       "      <td>0.022822</td>\n",
       "      <td>-0.081922</td>\n",
       "    </tr>\n",
       "    <tr>\n",
       "      <th>8</th>\n",
       "      <td>Statistik, Datenwissenschaft und nationale Datenbewirtschaftung: drei zukunftsgerichtete Aufgaben für das BFS</td>\n",
       "      <td>0.4125</td>\n",
       "      <td>0.000000</td>\n",
       "      <td>0.2063</td>\n",
       "      <td>0.103333</td>\n",
       "      <td>0.455200</td>\n",
       "      <td>-0.042700</td>\n",
       "    </tr>\n",
       "    <tr>\n",
       "      <th>9</th>\n",
       "      <td>Stabiles Kulturverhalten trotz vermehrter Nutzung von digitalen Angeboten im Jahr 2019</td>\n",
       "      <td>0.3024</td>\n",
       "      <td>0.700000</td>\n",
       "      <td>0.1234</td>\n",
       "      <td>0.066000</td>\n",
       "      <td>0.452152</td>\n",
       "      <td>-0.149752</td>\n",
       "    </tr>\n",
       "    <tr>\n",
       "      <th>10</th>\n",
       "      <td>BFU – Jumbo ruft die E-Scooter MOMO und MASERATI wegen Brand- und Unfallgefahr zurück</td>\n",
       "      <td>-0.0458</td>\n",
       "      <td>-0.280000</td>\n",
       "      <td>0.1233</td>\n",
       "      <td>-0.166250</td>\n",
       "      <td>0.194789</td>\n",
       "      <td>-0.240589</td>\n",
       "    </tr>\n",
       "    <tr>\n",
       "      <th>11</th>\n",
       "      <td>Die Schweiz und Italien unterzeichnen ein neues Grenzgängerabkommen</td>\n",
       "      <td>0.2105</td>\n",
       "      <td>0.483333</td>\n",
       "      <td>0.1322</td>\n",
       "      <td>0.102558</td>\n",
       "      <td>0.049504</td>\n",
       "      <td>0.160996</td>\n",
       "    </tr>\n",
       "    <tr>\n",
       "      <th>12</th>\n",
       "      <td>Ausnahmeregelung für den Flugverkehr zwischen der Schweiz, dem Vereinigten Königreich (UK) und Südafrika</td>\n",
       "      <td>0.2029</td>\n",
       "      <td>0.670000</td>\n",
       "      <td>0.1633</td>\n",
       "      <td>0.049500</td>\n",
       "      <td>0.403605</td>\n",
       "      <td>-0.200705</td>\n",
       "    </tr>\n",
       "    <tr>\n",
       "      <th>13</th>\n",
       "      <td>BFU - Jumbo ruft das Hängemattengestell PARADA wegen Sturzgefahr zurück</td>\n",
       "      <td>-0.0392</td>\n",
       "      <td>-0.600000</td>\n",
       "      <td>0.2719</td>\n",
       "      <td>0.105000</td>\n",
       "      <td>0.339501</td>\n",
       "      <td>-0.378701</td>\n",
       "    </tr>\n",
       "    <tr>\n",
       "      <th>14</th>\n",
       "      <td>Unterzeichnung eines neuen Abkommens über die Besteuerung von Grenzgängerinnen und Grenzgängern – Bundesrat Cassis trifft den Tessiner Staatsrat in Bellinzona</td>\n",
       "      <td>0.3410</td>\n",
       "      <td>0.775000</td>\n",
       "      <td>0.2843</td>\n",
       "      <td>0.096552</td>\n",
       "      <td>0.370421</td>\n",
       "      <td>-0.029421</td>\n",
       "    </tr>\n",
       "    <tr>\n",
       "      <th>15</th>\n",
       "      <td>Covid-19: Der Bund informiert die Bevölkerung umfassend über die bevorstehenden Impfungen</td>\n",
       "      <td>0.3415</td>\n",
       "      <td>0.585714</td>\n",
       "      <td>0.2527</td>\n",
       "      <td>0.184762</td>\n",
       "      <td>0.217086</td>\n",
       "      <td>0.124414</td>\n",
       "    </tr>\n",
       "    <tr>\n",
       "      <th>16</th>\n",
       "      <td>Weiterhin Mindestlöhne für kleine Reinigungsunternehmen</td>\n",
       "      <td>0.1438</td>\n",
       "      <td>0.750000</td>\n",
       "      <td>-0.0840</td>\n",
       "      <td>0.064737</td>\n",
       "      <td>0.264643</td>\n",
       "      <td>-0.120843</td>\n",
       "    </tr>\n",
       "    <tr>\n",
       "      <th>17</th>\n",
       "      <td>Bilanzsumme der Pensionskassen überschreitet im Jahr 2019 die Billionengrenze</td>\n",
       "      <td>-0.0250</td>\n",
       "      <td>1.000000</td>\n",
       "      <td>0.4414</td>\n",
       "      <td>0.122727</td>\n",
       "      <td>0.326705</td>\n",
       "      <td>-0.351705</td>\n",
       "    </tr>\n",
       "    <tr>\n",
       "      <th>18</th>\n",
       "      <td>Sozialhilfequote bleibt im Jahr 2019 stabil bei 3,2%</td>\n",
       "      <td>0.2094</td>\n",
       "      <td>0.700000</td>\n",
       "      <td>0.1975</td>\n",
       "      <td>0.088889</td>\n",
       "      <td>0.339603</td>\n",
       "      <td>-0.130203</td>\n",
       "    </tr>\n",
       "    <tr>\n",
       "      <th>19</th>\n",
       "      <td>Coronavirus: Einreiseverbot und rückwirkende Quarantäne für Personen aus Grossbritannien und Südafrika</td>\n",
       "      <td>0.2000</td>\n",
       "      <td>-0.260000</td>\n",
       "      <td>0.1332</td>\n",
       "      <td>0.116250</td>\n",
       "      <td>0.248694</td>\n",
       "      <td>-0.048694</td>\n",
       "    </tr>\n",
       "    <tr>\n",
       "      <th>20</th>\n",
       "      <td>Das Bild der Schweiz im Ausland 2020</td>\n",
       "      <td>0.1093</td>\n",
       "      <td>0.405556</td>\n",
       "      <td>-0.0207</td>\n",
       "      <td>0.009921</td>\n",
       "      <td>0.256094</td>\n",
       "      <td>-0.146794</td>\n",
       "    </tr>\n",
       "    <tr>\n",
       "      <th>21</th>\n",
       "      <td>Öffentliche Warnung: Ethylenoxid in «Bio- Knusperscheiben – Tomaten, Käse, Sesam» verkauft bei ALDI SUISSE</td>\n",
       "      <td>-0.1250</td>\n",
       "      <td>-0.210000</td>\n",
       "      <td>-0.1286</td>\n",
       "      <td>-0.125000</td>\n",
       "      <td>-0.067436</td>\n",
       "      <td>-0.057564</td>\n",
       "    </tr>\n",
       "    <tr>\n",
       "      <th>22</th>\n",
       "      <td>E-Voting: Bundesrat lanciert Neuausrichtung des Versuchsbetriebs</td>\n",
       "      <td>0.2744</td>\n",
       "      <td>0.730769</td>\n",
       "      <td>0.1543</td>\n",
       "      <td>0.081275</td>\n",
       "      <td>0.479733</td>\n",
       "      <td>-0.205333</td>\n",
       "    </tr>\n",
       "    <tr>\n",
       "      <th>23</th>\n",
       "      <td>Vorfälle bei der Rhythmischen Gymnastik: VBS erteilt Untersuchungsauftrag</td>\n",
       "      <td>0.3324</td>\n",
       "      <td>-0.185714</td>\n",
       "      <td>0.1693</td>\n",
       "      <td>0.127105</td>\n",
       "      <td>0.208420</td>\n",
       "      <td>0.123980</td>\n",
       "    </tr>\n",
       "    <tr>\n",
       "      <th>24</th>\n",
       "      <td>Die Schweiz und Deutschland passen die MWST-Abgeltung von Büsingen an</td>\n",
       "      <td>0.1625</td>\n",
       "      <td>-0.500000</td>\n",
       "      <td>0.2221</td>\n",
       "      <td>0.098462</td>\n",
       "      <td>0.291568</td>\n",
       "      <td>-0.129068</td>\n",
       "    </tr>\n",
       "    <tr>\n",
       "      <th>25</th>\n",
       "      <td>Bundesbeiträge an 31 Forschungseinrichtungen von nationaler Bedeutung</td>\n",
       "      <td>0.3445</td>\n",
       "      <td>0.775000</td>\n",
       "      <td>0.2645</td>\n",
       "      <td>0.115357</td>\n",
       "      <td>0.447868</td>\n",
       "      <td>-0.103368</td>\n",
       "    </tr>\n",
       "    <tr>\n",
       "      <th>26</th>\n",
       "      <td>Das Bundesamt für Landwirtschaft BLW informiert Nr. 50</td>\n",
       "      <td>0.2408</td>\n",
       "      <td>0.566667</td>\n",
       "      <td>0.1218</td>\n",
       "      <td>0.133351</td>\n",
       "      <td>0.322335</td>\n",
       "      <td>-0.081535</td>\n",
       "    </tr>\n",
       "    <tr>\n",
       "      <th>27</th>\n",
       "      <td>Höhere Berufsbildung: Arbeitgeber übernehmen zwischen 23% und 41% der Ausbildungskosten</td>\n",
       "      <td>0.3600</td>\n",
       "      <td>0.700000</td>\n",
       "      <td>0.1638</td>\n",
       "      <td>0.176667</td>\n",
       "      <td>0.496336</td>\n",
       "      <td>-0.136336</td>\n",
       "    </tr>\n",
       "    <tr>\n",
       "      <th>28</th>\n",
       "      <td>Effektiv- und Mindestlöhne sind 2020 um 0,9% bzw. 0,7% gestiegen</td>\n",
       "      <td>0.3750</td>\n",
       "      <td>0.850000</td>\n",
       "      <td>0.3230</td>\n",
       "      <td>0.102222</td>\n",
       "      <td>0.202856</td>\n",
       "      <td>0.172144</td>\n",
       "    </tr>\n",
       "    <tr>\n",
       "      <th>29</th>\n",
       "      <td>BAZL stoppt Flugverkehr zwischen der Schweiz, Grossbritannien und Südafrika</td>\n",
       "      <td>0.4500</td>\n",
       "      <td>-0.333333</td>\n",
       "      <td>-0.1190</td>\n",
       "      <td>0.175833</td>\n",
       "      <td>0.051358</td>\n",
       "      <td>0.398642</td>\n",
       "    </tr>\n",
       "    <tr>\n",
       "      <th>30</th>\n",
       "      <td>Covid-19: Die Schweiz kann noch im Dezember mit der Impfung der Risikogruppen starten</td>\n",
       "      <td>0.1722</td>\n",
       "      <td>-0.325000</td>\n",
       "      <td>0.0495</td>\n",
       "      <td>0.123774</td>\n",
       "      <td>0.051318</td>\n",
       "      <td>0.120882</td>\n",
       "    </tr>\n",
       "    <tr>\n",
       "      <th>31</th>\n",
       "      <td>Swissmedic erteilt Zulassung für den ersten Covid-19-Impfstoff in der Schweiz</td>\n",
       "      <td>0.3670</td>\n",
       "      <td>0.583333</td>\n",
       "      <td>0.1719</td>\n",
       "      <td>0.130714</td>\n",
       "      <td>0.207914</td>\n",
       "      <td>0.159086</td>\n",
       "    </tr>\n",
       "    <tr>\n",
       "      <th>32</th>\n",
       "      <td>Bundesrat heisst Konzept für die Einführung kollektiver Arbeitsplätze (Desksharing) gut</td>\n",
       "      <td>0.2784</td>\n",
       "      <td>0.710000</td>\n",
       "      <td>0.1800</td>\n",
       "      <td>0.065517</td>\n",
       "      <td>0.213023</td>\n",
       "      <td>0.065377</td>\n",
       "    </tr>\n",
       "    <tr>\n",
       "      <th>33</th>\n",
       "      <td>Bund hat Massnahmen zum Schutz vor Naturgefahren verstärkt</td>\n",
       "      <td>0.1911</td>\n",
       "      <td>0.375000</td>\n",
       "      <td>0.0148</td>\n",
       "      <td>0.095370</td>\n",
       "      <td>0.099934</td>\n",
       "      <td>0.091166</td>\n",
       "    </tr>\n",
       "    <tr>\n",
       "      <th>34</th>\n",
       "      <td>Zementherstellung – Bericht zu Rohstoffbedarf und Versorgungssituation in der Schweiz</td>\n",
       "      <td>0.1512</td>\n",
       "      <td>0.435714</td>\n",
       "      <td>0.0547</td>\n",
       "      <td>0.128537</td>\n",
       "      <td>-0.153669</td>\n",
       "      <td>0.304869</td>\n",
       "    </tr>\n",
       "    <tr>\n",
       "      <th>35</th>\n",
       "      <td>Abkommen mit Italien zur Vereinfachung der radiometrischen Kontrollen beim Export von Metallprodukten</td>\n",
       "      <td>0.2643</td>\n",
       "      <td>0.775000</td>\n",
       "      <td>0.1924</td>\n",
       "      <td>0.023077</td>\n",
       "      <td>0.402643</td>\n",
       "      <td>-0.138343</td>\n",
       "    </tr>\n",
       "    <tr>\n",
       "      <th>36</th>\n",
       "      <td>Bundesrat stimmt der Aufnahme des «eTIR» in das TIR-Abkommen zu</td>\n",
       "      <td>0.3893</td>\n",
       "      <td>0.700000</td>\n",
       "      <td>0.2401</td>\n",
       "      <td>0.127222</td>\n",
       "      <td>0.252366</td>\n",
       "      <td>0.136934</td>\n",
       "    </tr>\n",
       "    <tr>\n",
       "      <th>37</th>\n",
       "      <td>Coronavirus: Bundesrat verschärft nationale Massnahmen und schliesst Restaurants sowie Kultur-, Freizeit- und Sportbetriebe</td>\n",
       "      <td>0.0991</td>\n",
       "      <td>0.267742</td>\n",
       "      <td>0.0920</td>\n",
       "      <td>0.057164</td>\n",
       "      <td>0.333160</td>\n",
       "      <td>-0.234060</td>\n",
       "    </tr>\n",
       "    <tr>\n",
       "      <th>38</th>\n",
       "      <td>Die Marke \"Schweiz\" ist angemessen geschützt</td>\n",
       "      <td>0.2512</td>\n",
       "      <td>0.453333</td>\n",
       "      <td>0.2167</td>\n",
       "      <td>0.050238</td>\n",
       "      <td>0.333675</td>\n",
       "      <td>-0.082475</td>\n",
       "    </tr>\n",
       "    <tr>\n",
       "      <th>39</th>\n",
       "      <td>Logistik: Massnahmen in der Versorgungskette für Lebensmittel und Güter des täglichen Bedarfs</td>\n",
       "      <td>0.2375</td>\n",
       "      <td>0.333333</td>\n",
       "      <td>0.2322</td>\n",
       "      <td>0.066667</td>\n",
       "      <td>0.347517</td>\n",
       "      <td>-0.110017</td>\n",
       "    </tr>\n",
       "    <tr>\n",
       "      <th>40</th>\n",
       "      <td>Coronavirus: Bundesrat passt Härtefallverordnung sowie Verordnung zum Erwerbsausfall an</td>\n",
       "      <td>0.2024</td>\n",
       "      <td>0.269231</td>\n",
       "      <td>0.1299</td>\n",
       "      <td>0.091595</td>\n",
       "      <td>0.177588</td>\n",
       "      <td>0.024812</td>\n",
       "    </tr>\n",
       "    <tr>\n",
       "      <th>41</th>\n",
       "      <td>ESTI - Weltbild ruft UV-C Desinfektionsleuchte «MAXXMEE» wegen Gesundheitsgefährdung zurück</td>\n",
       "      <td>0.2208</td>\n",
       "      <td>-0.400000</td>\n",
       "      <td>0.3367</td>\n",
       "      <td>0.082000</td>\n",
       "      <td>0.552476</td>\n",
       "      <td>-0.331676</td>\n",
       "    </tr>\n",
       "    <tr>\n",
       "      <th>42</th>\n",
       "      <td>Coronavirus: Verstärkte Unterstützung des Kultursektors</td>\n",
       "      <td>0.0462</td>\n",
       "      <td>0.457143</td>\n",
       "      <td>0.0686</td>\n",
       "      <td>0.099091</td>\n",
       "      <td>0.264676</td>\n",
       "      <td>-0.218476</td>\n",
       "    </tr>\n",
       "    <tr>\n",
       "      <th>43</th>\n",
       "      <td>Coronavirus: Verlängerung und Wiederaufnahme von Massnahmen im Bereich der Kurzarbeit</td>\n",
       "      <td>0.2534</td>\n",
       "      <td>0.562500</td>\n",
       "      <td>0.1294</td>\n",
       "      <td>0.173182</td>\n",
       "      <td>0.230543</td>\n",
       "      <td>0.022857</td>\n",
       "    </tr>\n",
       "    <tr>\n",
       "      <th>44</th>\n",
       "      <td>Der Bundesrat will der Landschaftsinitiative einen indirekten Gegenvorschlag gegenüberstellen</td>\n",
       "      <td>0.1460</td>\n",
       "      <td>0.222727</td>\n",
       "      <td>0.1290</td>\n",
       "      <td>0.125196</td>\n",
       "      <td>0.332659</td>\n",
       "      <td>-0.186659</td>\n",
       "    </tr>\n",
       "    <tr>\n",
       "      <th>45</th>\n",
       "      <td>Neue Strategie Landeskommunikation im Dienste der Interessenwahrung und neue Sponsoring-Richtlinien im EDA</td>\n",
       "      <td>0.3696</td>\n",
       "      <td>0.542105</td>\n",
       "      <td>0.0762</td>\n",
       "      <td>0.115238</td>\n",
       "      <td>0.345379</td>\n",
       "      <td>0.024221</td>\n",
       "    </tr>\n",
       "    <tr>\n",
       "      <th>46</th>\n",
       "      <td>Nachhaltiges Palmöl aus Indonesien: Vernehmlassung zur Verordnung eröffnet</td>\n",
       "      <td>0.2830</td>\n",
       "      <td>0.276667</td>\n",
       "      <td>0.1776</td>\n",
       "      <td>0.079697</td>\n",
       "      <td>0.562180</td>\n",
       "      <td>-0.279180</td>\n",
       "    </tr>\n",
       "    <tr>\n",
       "      <th>47</th>\n",
       "      <td>Bundesrat will Zuständigkeit der Militärjustiz für Zivilpersonen einschränken</td>\n",
       "      <td>-0.0060</td>\n",
       "      <td>-0.744444</td>\n",
       "      <td>0.0986</td>\n",
       "      <td>-0.033958</td>\n",
       "      <td>0.421413</td>\n",
       "      <td>-0.427413</td>\n",
       "    </tr>\n",
       "    <tr>\n",
       "      <th>48</th>\n",
       "      <td>Der Wandel macht Angst, nicht die Zuwanderung.</td>\n",
       "      <td>0.1251</td>\n",
       "      <td>0.208333</td>\n",
       "      <td>0.0343</td>\n",
       "      <td>0.075098</td>\n",
       "      <td>0.177976</td>\n",
       "      <td>-0.052876</td>\n",
       "    </tr>\n",
       "    <tr>\n",
       "      <th>49</th>\n",
       "      <td>Budget 2021 unter Dach</td>\n",
       "      <td>0.1000</td>\n",
       "      <td>0.666667</td>\n",
       "      <td>0.2066</td>\n",
       "      <td>0.082308</td>\n",
       "      <td>0.076857</td>\n",
       "      <td>0.023143</td>\n",
       "    </tr>\n",
       "  </tbody>\n",
       "</table>\n",
       "</div>"
      ],
      "text/plain": [
       "                                                                                                                                                          title_de  \\\n",
       "0                                                                                                        2021 - Neujahrsansprache von Bundespräsident Guy Parmelin   \n",
       "1                                                                                                                 Bundesratsfoto 2021: Neue Sicht auf Altbekanntes   \n",
       "2                                                  Medienberichte zu Todesfall nach Covid-19-Impfung in der Schweiz: Kein Zusammenhang mit der Impfung ersichtlich   \n",
       "3                                                                      Rasche Prüfung der Ausfuhrgesuche der Crypto International AG und TCG Legacy in Liquidation   \n",
       "4                                                                                                       Coronavirus: Der Bundesrat verschärft die Massnahmen nicht   \n",
       "5                                                                                Neue Abkommen zwischen der Schweiz und dem Vereinigten Königreich treten in Kraft   \n",
       "6                                                                                                                                Luftpolizeidienst rund um die Uhr   \n",
       "7                                                                                          Betrugsfall Stanford: Herausgabe von rund 200 Mio. US-Dollar an die USA   \n",
       "8                                                    Statistik, Datenwissenschaft und nationale Datenbewirtschaftung: drei zukunftsgerichtete Aufgaben für das BFS   \n",
       "9                                                                           Stabiles Kulturverhalten trotz vermehrter Nutzung von digitalen Angeboten im Jahr 2019   \n",
       "10                                                                           BFU – Jumbo ruft die E-Scooter MOMO und MASERATI wegen Brand- und Unfallgefahr zurück   \n",
       "11                                                                                             Die Schweiz und Italien unterzeichnen ein neues Grenzgängerabkommen   \n",
       "12                                                        Ausnahmeregelung für den Flugverkehr zwischen der Schweiz, dem Vereinigten Königreich (UK) und Südafrika   \n",
       "13                                                                                         BFU - Jumbo ruft das Hängemattengestell PARADA wegen Sturzgefahr zurück   \n",
       "14  Unterzeichnung eines neuen Abkommens über die Besteuerung von Grenzgängerinnen und Grenzgängern – Bundesrat Cassis trifft den Tessiner Staatsrat in Bellinzona   \n",
       "15                                                                       Covid-19: Der Bund informiert die Bevölkerung umfassend über die bevorstehenden Impfungen   \n",
       "16                                                                                                         Weiterhin Mindestlöhne für kleine Reinigungsunternehmen   \n",
       "17                                                                                   Bilanzsumme der Pensionskassen überschreitet im Jahr 2019 die Billionengrenze   \n",
       "18                                                                                                            Sozialhilfequote bleibt im Jahr 2019 stabil bei 3,2%   \n",
       "19                                                          Coronavirus: Einreiseverbot und rückwirkende Quarantäne für Personen aus Grossbritannien und Südafrika   \n",
       "20                                                                                                                            Das Bild der Schweiz im Ausland 2020   \n",
       "21                                                      Öffentliche Warnung: Ethylenoxid in «Bio- Knusperscheiben – Tomaten, Käse, Sesam» verkauft bei ALDI SUISSE   \n",
       "22                                                                                                E-Voting: Bundesrat lanciert Neuausrichtung des Versuchsbetriebs   \n",
       "23                                                                                       Vorfälle bei der Rhythmischen Gymnastik: VBS erteilt Untersuchungsauftrag   \n",
       "24                                                                                           Die Schweiz und Deutschland passen die MWST-Abgeltung von Büsingen an   \n",
       "25                                                                                           Bundesbeiträge an 31 Forschungseinrichtungen von nationaler Bedeutung   \n",
       "26                                                                                                          Das Bundesamt für Landwirtschaft BLW informiert Nr. 50   \n",
       "27                                                                         Höhere Berufsbildung: Arbeitgeber übernehmen zwischen 23% und 41% der Ausbildungskosten   \n",
       "28                                                                                                Effektiv- und Mindestlöhne sind 2020 um 0,9% bzw. 0,7% gestiegen   \n",
       "29                                                                                     BAZL stoppt Flugverkehr zwischen der Schweiz, Grossbritannien und Südafrika   \n",
       "30                                                                           Covid-19: Die Schweiz kann noch im Dezember mit der Impfung der Risikogruppen starten   \n",
       "31                                                                                   Swissmedic erteilt Zulassung für den ersten Covid-19-Impfstoff in der Schweiz   \n",
       "32                                                                         Bundesrat heisst Konzept für die Einführung kollektiver Arbeitsplätze (Desksharing) gut   \n",
       "33                                                                                                      Bund hat Massnahmen zum Schutz vor Naturgefahren verstärkt   \n",
       "34                                                                           Zementherstellung – Bericht zu Rohstoffbedarf und Versorgungssituation in der Schweiz   \n",
       "35                                                           Abkommen mit Italien zur Vereinfachung der radiometrischen Kontrollen beim Export von Metallprodukten   \n",
       "36                                                                                                 Bundesrat stimmt der Aufnahme des «eTIR» in das TIR-Abkommen zu   \n",
       "37                                     Coronavirus: Bundesrat verschärft nationale Massnahmen und schliesst Restaurants sowie Kultur-, Freizeit- und Sportbetriebe   \n",
       "38                                                                                                                    Die Marke \"Schweiz\" ist angemessen geschützt   \n",
       "39                                                                   Logistik: Massnahmen in der Versorgungskette für Lebensmittel und Güter des täglichen Bedarfs   \n",
       "40                                                                         Coronavirus: Bundesrat passt Härtefallverordnung sowie Verordnung zum Erwerbsausfall an   \n",
       "41                                                                     ESTI - Weltbild ruft UV-C Desinfektionsleuchte «MAXXMEE» wegen Gesundheitsgefährdung zurück   \n",
       "42                                                                                                         Coronavirus: Verstärkte Unterstützung des Kultursektors   \n",
       "43                                                                           Coronavirus: Verlängerung und Wiederaufnahme von Massnahmen im Bereich der Kurzarbeit   \n",
       "44                                                                   Der Bundesrat will der Landschaftsinitiative einen indirekten Gegenvorschlag gegenüberstellen   \n",
       "45                                                      Neue Strategie Landeskommunikation im Dienste der Interessenwahrung und neue Sponsoring-Richtlinien im EDA   \n",
       "46                                                                                      Nachhaltiges Palmöl aus Indonesien: Vernehmlassung zur Verordnung eröffnet   \n",
       "47                                                                                   Bundesrat will Zuständigkeit der Militärjustiz für Zivilpersonen einschränken   \n",
       "48                                                                                                                  Der Wandel macht Angst, nicht die Zuwanderung.   \n",
       "49                                                                                                                                          Budget 2021 unter Dach   \n",
       "\n",
       "    Vader_de   Blob_de  Vader_fr   Blob_fr  Naive_it  Diff_Vader_de_Naive_it  \n",
       "0     0.2054  0.307317    0.0552  0.122173  0.276621               -0.071221  \n",
       "1     0.2196  0.433333    0.2338  0.153333  0.322437               -0.102837  \n",
       "2    -0.0562 -0.075000   -0.1800  0.213636 -0.163238                0.107038  \n",
       "3     0.0859 -0.075000    0.0665  0.032222  0.374939               -0.289039  \n",
       "4     0.1269  0.258333   -0.0192  0.082703  0.271111               -0.144211  \n",
       "5     0.2716  0.647368    0.2150  0.099049  0.126529                0.145071  \n",
       "6     0.1702  0.000000    0.0662  0.035577  0.406549               -0.236349  \n",
       "7    -0.0591 -0.666667    0.1333  0.114545  0.022822               -0.081922  \n",
       "8     0.4125  0.000000    0.2063  0.103333  0.455200               -0.042700  \n",
       "9     0.3024  0.700000    0.1234  0.066000  0.452152               -0.149752  \n",
       "10   -0.0458 -0.280000    0.1233 -0.166250  0.194789               -0.240589  \n",
       "11    0.2105  0.483333    0.1322  0.102558  0.049504                0.160996  \n",
       "12    0.2029  0.670000    0.1633  0.049500  0.403605               -0.200705  \n",
       "13   -0.0392 -0.600000    0.2719  0.105000  0.339501               -0.378701  \n",
       "14    0.3410  0.775000    0.2843  0.096552  0.370421               -0.029421  \n",
       "15    0.3415  0.585714    0.2527  0.184762  0.217086                0.124414  \n",
       "16    0.1438  0.750000   -0.0840  0.064737  0.264643               -0.120843  \n",
       "17   -0.0250  1.000000    0.4414  0.122727  0.326705               -0.351705  \n",
       "18    0.2094  0.700000    0.1975  0.088889  0.339603               -0.130203  \n",
       "19    0.2000 -0.260000    0.1332  0.116250  0.248694               -0.048694  \n",
       "20    0.1093  0.405556   -0.0207  0.009921  0.256094               -0.146794  \n",
       "21   -0.1250 -0.210000   -0.1286 -0.125000 -0.067436               -0.057564  \n",
       "22    0.2744  0.730769    0.1543  0.081275  0.479733               -0.205333  \n",
       "23    0.3324 -0.185714    0.1693  0.127105  0.208420                0.123980  \n",
       "24    0.1625 -0.500000    0.2221  0.098462  0.291568               -0.129068  \n",
       "25    0.3445  0.775000    0.2645  0.115357  0.447868               -0.103368  \n",
       "26    0.2408  0.566667    0.1218  0.133351  0.322335               -0.081535  \n",
       "27    0.3600  0.700000    0.1638  0.176667  0.496336               -0.136336  \n",
       "28    0.3750  0.850000    0.3230  0.102222  0.202856                0.172144  \n",
       "29    0.4500 -0.333333   -0.1190  0.175833  0.051358                0.398642  \n",
       "30    0.1722 -0.325000    0.0495  0.123774  0.051318                0.120882  \n",
       "31    0.3670  0.583333    0.1719  0.130714  0.207914                0.159086  \n",
       "32    0.2784  0.710000    0.1800  0.065517  0.213023                0.065377  \n",
       "33    0.1911  0.375000    0.0148  0.095370  0.099934                0.091166  \n",
       "34    0.1512  0.435714    0.0547  0.128537 -0.153669                0.304869  \n",
       "35    0.2643  0.775000    0.1924  0.023077  0.402643               -0.138343  \n",
       "36    0.3893  0.700000    0.2401  0.127222  0.252366                0.136934  \n",
       "37    0.0991  0.267742    0.0920  0.057164  0.333160               -0.234060  \n",
       "38    0.2512  0.453333    0.2167  0.050238  0.333675               -0.082475  \n",
       "39    0.2375  0.333333    0.2322  0.066667  0.347517               -0.110017  \n",
       "40    0.2024  0.269231    0.1299  0.091595  0.177588                0.024812  \n",
       "41    0.2208 -0.400000    0.3367  0.082000  0.552476               -0.331676  \n",
       "42    0.0462  0.457143    0.0686  0.099091  0.264676               -0.218476  \n",
       "43    0.2534  0.562500    0.1294  0.173182  0.230543                0.022857  \n",
       "44    0.1460  0.222727    0.1290  0.125196  0.332659               -0.186659  \n",
       "45    0.3696  0.542105    0.0762  0.115238  0.345379                0.024221  \n",
       "46    0.2830  0.276667    0.1776  0.079697  0.562180               -0.279180  \n",
       "47   -0.0060 -0.744444    0.0986 -0.033958  0.421413               -0.427413  \n",
       "48    0.1251  0.208333    0.0343  0.075098  0.177976               -0.052876  \n",
       "49    0.1000  0.666667    0.2066  0.082308  0.076857                0.023143  "
      ]
     },
     "execution_count": 35,
     "metadata": {},
     "output_type": "execute_result"
    }
   ],
   "source": [
    "# Take a look at the results\n",
    "Polarities"
   ]
  },
  {
   "cell_type": "code",
   "execution_count": 36,
   "metadata": {},
   "outputs": [
    {
     "data": {
      "text/plain": [
       "[4, 7, 10, 13, 16, 17, 20, 29, 47]"
      ]
     },
     "execution_count": 36,
     "metadata": {},
     "output_type": "execute_result"
    }
   ],
   "source": [
    "# Get the cases where the sign of resulting polarites from the German and French Vader algorithms do not coincide\n",
    "cases_1_idx = []\n",
    "for i in range(Polarities.shape[0]):\n",
    "    if (np.sign(Polarities.loc[i,'Vader_de']) != np.sign(Polarities.loc[i,'Vader_fr'])):\n",
    "        cases_1_idx.append(Polarities.index[i])\n",
    "cases_1_idx"
   ]
  },
  {
   "cell_type": "code",
   "execution_count": 37,
   "metadata": {},
   "outputs": [
    {
     "data": {
      "text/plain": [
       "[34]"
      ]
     },
     "execution_count": 37,
     "metadata": {},
     "output_type": "execute_result"
    }
   ],
   "source": [
    "# Get cases where the sign of the resulting polarity from the naïve Italian algorithm differs from the signs of the results from the German and French Vader algorithms, \n",
    "# given that the signs of the language specific Vader algorithms coincide\n",
    "cases_2_idx = []\n",
    "for i in range(Polarities.shape[0]):\n",
    "    if (np.sign(Polarities.loc[i,'Vader_de']) == np.sign(Polarities.loc[i,'Vader_fr'])) and not (np.sign(Polarities.loc[i,'Vader_de']) == np.sign(Polarities.loc[i,'Naive_it'])):\n",
    "        cases_2_idx.append(Polarities.index[i])\n",
    "cases_2_idx"
   ]
  },
  {
   "cell_type": "code",
   "execution_count": 38,
   "metadata": {},
   "outputs": [
    {
     "name": "stdout",
     "output_type": "stream",
     "text": [
      "The share of articles with unambiguous sentiment (according to the Vader algorithms) is 82.0 %\n"
     ]
    }
   ],
   "source": [
    "# Calcualte the share of articles for which the sign of the resulting polarites from the German and French Vader algorithms coincide (i.e. articles with unambiguous sentiment according to the Vader algorithms)\n",
    "share = 1 - len(cases_1_idx)/len(articles_de)\n",
    "print('The share of articles with unambiguous sentiment (according to the Vader algorithms) is', str(np.round(100*share,2)), '%')"
   ]
  },
  {
   "cell_type": "code",
   "execution_count": 39,
   "metadata": {},
   "outputs": [
    {
     "name": "stdout",
     "output_type": "stream",
     "text": [
      "The share among articles with unambiguous sentiment for which the sign of the resulting polarity from the naïve Italian algorithm does not coincide with the ones assigned by the Vader algorithms is 2.44 %\n"
     ]
    }
   ],
   "source": [
    "# Calcualte the share among articles with unambiguous sentiment for which the sign of the resulting polarity from the naïve Italian algorithm does not coincide with the ones assigned by the Vader algorithms.\n",
    "share = len(cases_2_idx) / (len(articles_de) - len(cases_1_idx))\n",
    "print('The share among articles with unambiguous sentiment for which the sign of the resulting polarity from the naïve Italian algorithm does not coincide with the ones assigned by the Vader algorithms is', str(np.round(100*share,2)), '%')"
   ]
  },
  {
   "cell_type": "markdown",
   "metadata": {},
   "source": [
    "<div class=\"alert alert-info\" style=\"background-color:#5d3a8e; color:white; padding:0px 10px; border-radius:5px;\"><h2 style='margin:10px 5px'> \n",
    "5. Visual inspction of articles exhibiting ambiguous sentiment ratings across languages\n",
    "</h2>\n",
    "</div>"
   ]
  },
  {
   "cell_type": "code",
   "execution_count": 41,
   "metadata": {},
   "outputs": [
    {
     "data": {
      "text/plain": [
       "'Für die Realisierung und den Unterhalt von Bau- und Infrastrukturprojekten werden in der Schweiz jährlich rund 5 Millionen Tonnen Zement nachgefragt. Dieser Verbrauch wurde 2019 zu 86 % durch die sechs schweizerischen Zementwerke und zu 14 % durch Importe gedeckt.  Eine stabile Zementversorgung wird in erster Linie durch einen langfristig gesicherten Zugang zu den Primärrohstoffen Kalk und Mergel gewährleistet. Bei einigen Zementwerken ist dieser Zugang durch den fortschreitenden Abbau, wegen zunehmenden Zielkonflikten mit entgegenstehenden Schutz- und Raumnutzungsinteressen und aufgrund von Widerständen gegen die beantragten Rohstoffabbauerweiterungsprojekte teilweise eingeschränkt.  Der Rohstoffsicherungsbericht stellt eine Prognose für die nationale Zementversorgung mit inländischen Zementrohstoffen bis ins Jahr 2030 dar. Diese weist auf einen möglichen Rückgang der inländischen Zementproduktion ab 2024 hin, wenn die beantragten, in den kantonalen Richtplänen festgesetzten Abbauerweiterungsprojekte nicht bewilligt werden können.  Die Substitution von Primärrohstoffen durch Sekundärrohstoffe stellt einen wichtigen Aspekt zur Sicherstellung der Versorgung der Schweiz mit Rohstoffen und zur Schliessung der Stoffkreisläufe dar. Das BAFU arbeitet mit der Forschung und Wirtschaft daran, Lösungen und Stossrichtungen zu finden, um Primärrohstoffe durch Sekundärrohstoffe zu substituieren. Allerdings lassen sich die Primärrohstoffe für Zement trotz technologischer Entwicklungen bisher nur zu einem geringen Teil substituieren. Technologien zur Substitution von Zement im Beton bis hin zu zementfreiem Beton befinden sich zurzeit in der Entwicklungsphase.  Die Kompetenz für die räumliche Abstimmung und Bewilligung von Abbauvorhaben liegt primär bei den Kantonen und Gemeinden. Die Begleitgruppe des Berichts erachtet es jedoch als sinnvoll, bedeutsame und abbauwürdige Rohstoffvorkommen zur Herstellung von Zement auch aus einer nationalen Versorgungssicht zu betrachten. Dazu sollen entsprechende Rohstoffvorkommen lokalisiert, aus rohstoffgeologischer Sicht bewertet und in einer nationalen Übersicht dargestellt werden. Dies soll Behörden und Rohstoffproduzenten/innen bei der Planung von Abbauvorhaben als Grundlage dienen und sie bei der Erfüllung ihrer planerischen Aufgaben unterstützen.  Der Bericht entstand unter der Federführung der Landesgeologie von swisstopo in enger Zusammenarbeit mit dem BAFU und einer Begleitgruppe, bestehend aus weiteren Bundesämtern ARE, ASTRA, BAV, BFS und SECO, Kantonsvertretern (VD, AG), Industrieverbänden (cemsuisse, arv, VSH), der SBB, der Fachgruppe Georessourcen Schweiz der ETHZ, der Stiftung Landschaftsschutz Schweiz und dem Netzwerk Mineralische Rohstoffe Schweiz (NEROS).'"
      ]
     },
     "execution_count": 41,
     "metadata": {},
     "output_type": "execute_result"
    }
   ],
   "source": [
    "## Take a look at the German version of the articles where the polarities from the German and French Vader algorithms coincide, but the polarity of the naïve Italian algorithm does not\n",
    "# Naïve polarity is falsly assigned to be negative\n",
    "articles_de[cases_2_idx[0]]"
   ]
  },
  {
   "cell_type": "code",
   "execution_count": 42,
   "metadata": {},
   "outputs": [
    {
     "data": {
      "text/plain": [
       "'Gemäss Entscheid vom 18. Dezember 2020 wurde der Bundesrat am 30. Dezember 2020 schriftlich über eine allenfalls erforderliche Verschärfung der Massnahmen zur Bekämpfung des Coronavirus informiert. Nach einer detaillierten Analyse der epidemiologischen Situation ist er zum Schluss gekommen, dass die für eine solche Verschärfung festgelegten Kriterien nicht erfüllt sind. Der Bundesrat hat daher beschlossen, die aktuellen Massnahmen beizubehalten. Er verfolgt die Situation weiterhin aufmerksam und wird am 6. Januar 2021 die Lage neu beurteilen.  Der Reproduktionswert des Virus ist aktuell unter 1 (0,86 am 18.12.2020). Dieser Rückgang sowie die geringe Zahl der neu gemeldeten Fälle in den letzten Tagen sind jedoch mit grosser Vorsicht zu betrachten. Sie lassen sich zu einem beträchtlichen Teil durch den Rückgang der durchgeführten Tests während der Feiertage sowie die Verzögerung bei den Meldungen der neuen Fälle, Hospitalisationen und Todesfälle erklären.  Nach dem Auftreten neuer Varianten des Coronavirus in Grossbritannien und in Südafrika hat der Bundesrat am 21. Dezember 2020 Massnahmen ergriffen, um deren Verbreitung in der Schweiz möglichst zu verhindern oder zu verlangsamen. Bisher wurden dank der intensivierten Sequenzierung der positiven Tests sieben mit dieser neuen Variante infizierte Personen identifiziert.  Laut dem Europäischen Zentrum für die Prävention und die Kontrolle von Krankheiten sind die neuen Varianten des Coronavirus deutlich ansteckender als die bisher bekannte Form. Hingegen gibt es keine wissenschaftliche Bestätigung, dass sie schwerere Erkrankungen hervorrufen oder die bisher entwickelten Impfstoffe gegen Covid-19 nicht wirken würden.  Der Bundesrat hält fest, dass die am 18. Dezember 2020 ergriffenen Massnahmen daher umso wichtiger sind, um die Zahl der neuen Fälle zu begrenzen und die Verbreitung dieser neuen Varianten zu verlangsamen. Im Übrigen blieben die Hygiene- und Verhaltensregeln unverzichtbar für den Schutz gegen das Virus und die Bekämpfung der Epidemie.  Weiter gilt es auch, die Zahl der Tests zu erhöhen und das Contact Tracing zu verstärken. Das Bundesamt für Gesundheit, die Kantone und die wissenschaftliche Task Force arbeiten eng zusammen, um die Empfehlungen entsprechend den neusten Entwicklungen anzupassen. Sollten sich diese neuen Varianten weiter ausbreiten, sind weitere Massnahmen nicht auszuschliessen.'"
      ]
     },
     "execution_count": 42,
     "metadata": {},
     "output_type": "execute_result"
    }
   ],
   "source": [
    "## Inspect articles where the resulting polarity scores exhibit some discrepancies between the German and French Vader algorithms (scheme of notation: signs of [Vader_de, Vader_fr, Naive_it])\n",
    "# [+, -, +]\n",
    "articles_de[cases_1_idx[0]]"
   ]
  },
  {
   "cell_type": "code",
   "execution_count": 45,
   "metadata": {},
   "outputs": [
    {
     "data": {
      "text/plain": [
       "'Mit einem Schneeballsystem hat der amerikanische Finanzier Allen Stanford zwischen 2001 und 2008 tausende Anleger um insgesamt mehr als sieben Milliarden US-Dollar betrogen. Dafür wurde er im Jahr 2012 in den USA zu einer Haftstrafe von 110 Jahren verurteilt. Die deliktischen Vermögenswerte wurden zu Gunsten der Geschädigten eingezogen.  Die Schweiz hat die USA in diesem Strafverfahren unterstützt. Gestützt auf den bilateralen Rechtshilfevertrag mit den USA und das Rechtshilfegesetz hat das Bundesamt für Justiz (BJ) den amerikanischen Behörden relevante Bankunterlagen zu verschieden Konten auf Schweizer Banken ausgehändigt sowie die Beschlagnahme von Vermögenswerten auf schweizerischen Konten verfügt.  Im Jahr 2019 hat das BJ im Nachgang zum rechtskräftigen Einziehungsurteil in den USA die Herausgabe der gesperrten Vermögenswerte angeordnet. Die dagegen erhobenen Beschwerden wurden vom Bundesstrafgericht am 16. Oktober 2020 abgewiesen. Das BJ wird den US-Behörden deshalb bis Ende Dezember 2020 die restlichen 150 Mio. US-Dollar zu Gunsten der Opfer zurückerstatten. Die ersten Tranchen wurden bereits zu einem früheren Zeitpunkt zurückerstattet.'"
      ]
     },
     "execution_count": 45,
     "metadata": {},
     "output_type": "execute_result"
    }
   ],
   "source": [
    "# [-, +, +]\n",
    "articles_de[cases_1_idx[1]]"
   ]
  },
  {
   "cell_type": "code",
   "execution_count": 46,
   "metadata": {},
   "outputs": [
    {
     "data": {
      "text/plain": [
       "'Welche Gefahr geht von den betroffenen Produkten aus?  Es kann nicht ausgeschlossen werden, dass bei Regen Wasser in das Akkufach gelangt. In einem solchen Fall resultiert eine Brand- und Unfallgefahr.  Welche Produkte sind betroffen?  Vom Produktrückruf betroffen sind die E-Scooter MOMO und MASERATI.  Was sollen betroffene Konsumentinnen und Konsumenten tun?  Kunden, die einen der betroffenen E-Scooter besitzen, sind aufgefordert, diesen nicht mehr zu verwenden und in eine Jumbo-Filiale zurückzubringen. Er wird kostenlos umgerüstet.  Disclaimer : Die Rückrufe und Sicherheitsinformationen bestehen aus teilweise oder ganz übernommenen Pressemitteilungen der entsprechenden Unternehmen oder Institutionen und werden mit deren Einverständnis publiziert. Adresse für Rückfragen  Bei Fragen können sich Konsumentinnen und Konsumenten an eine Jumbo-Filiale oder ans Quality Management von Jumbo wenden:'"
      ]
     },
     "execution_count": 46,
     "metadata": {},
     "output_type": "execute_result"
    }
   ],
   "source": [
    "# [-, +, +]\n",
    "articles_de[cases_1_idx[2]]"
   ]
  },
  {
   "cell_type": "code",
   "execution_count": 47,
   "metadata": {},
   "outputs": [
    {
     "data": {
      "text/plain": [
       "'Welche Gefahr geht von den betroffenen Produkten aus?  Das betroffene Hängemattengestell kann während der Anwendung zusammenbrechen, so dass eine Sturzgefahr besteht.  Welche Produkte sind betroffen?  Vom Produktrückruf betroffen ist die Charge 6201920 des Hängemattengestells PARADA. Die Chargennummer ist am Gestell angebracht (vgl. beiliegendes Informationsschreiben von Jumbo).  Die betroffenen Hängemattengestelle wurden von Jumbo zwischen dem 1. Januar 2019 und dem 17. November 2020 verkauft.  Was sollen betroffene Konsumentinnen und Konsumenten tun?  Kunden, die eines der betroffenen Hängemattengestelle besitzen, sind aufgefordert, dieses nicht mehr zu verwenden und in eine Jumbo-Filiale zurückzubringen. Sie erhalten den Kaufpreis rückerstattet.  Disclaimer: Die Rückrufe und Sicherheitsinformationen bestehen aus teilweise oder ganz übernommenen Pressemitteilungen der entsprechenden Unternehmen oder Institutionen und werden mit deren Einverständnis publiziert.'"
      ]
     },
     "execution_count": 47,
     "metadata": {},
     "output_type": "execute_result"
    }
   ],
   "source": [
    "# [-, +, +]\n",
    "articles_de[cases_1_idx[3]]"
   ]
  },
  {
   "cell_type": "code",
   "execution_count": 48,
   "metadata": {},
   "outputs": [
    {
     "data": {
      "text/plain": [
       "'Gestützt auf eine Analyse des SECO und die Kontrollergebnisse der paritätischen Kommission, welche für den Vollzug des AVE GAV zuständig ist, kam die TPK Bund zum Schluss, dass die erleichterte AVE des GAV erneut verlängert werden soll. Die Kommission hat dem Bundesrat einen entsprechenden Antrag unterbreitet. Der Bundesrat ist dem Antrag der TPK Bund gefolgt. Die erleichterte AVE wird per 1. Januar 2021 in Kraft treten und gilt bis Ende 2021. Es handelt sich dabei um die Einzige erleichterte AVE, die auf Bundesebene existiert.  Seit 2004 existiert eine ordentliche Allgemeinverbindlicherklärung (AVE) des Gesamtarbeitsvertrags (GAV) für die Reinigungsbranche der Deutschschweiz. Dieser AVE GAV gilt allerdings nur für Betriebe mit mindestens 6 Arbeitnehmenden. Da vermehrt missbräuchliche Lohnunterbietungen bei kleineren Unternehmen festgestellt wurden, hat der Bundesrat auf Antrag der tripartiten Kommission des Bundes (TPK Bund) im Jahr 2011 den GAV für alle Betriebe der Branche erleichtert allgemeinverbindlich erklärt und die erleichterte AVE 2016 erstmals verlängert. Diese läuft per Ende 2020 ab.'"
      ]
     },
     "execution_count": 48,
     "metadata": {},
     "output_type": "execute_result"
    }
   ],
   "source": [
    "# [+, -, +]\n",
    "articles_de[cases_1_idx[4]]"
   ]
  },
  {
   "cell_type": "code",
   "execution_count": 49,
   "metadata": {},
   "outputs": [
    {
     "data": {
      "text/plain": [
       "'Eine Billion Schweizer Franken betrug 2019 die Bilanzsumme aller Pensionskassen der Schweiz. Die Wertschwankungsreserven nahmen um fast 43 Milliarden Franken zu. Die Vorsorgekapitalien der aktiven Versicherten und der Rentenbeziehenden wuchsen um 68 Milliarden Franken an. Dies geht aus den definitiven Ergebnissen der Pensionskassenstatistik 2019 des Bundesamtes für Statistik (BFS) hervor.'"
      ]
     },
     "execution_count": 49,
     "metadata": {},
     "output_type": "execute_result"
    }
   ],
   "source": [
    "# [-, +, +]\n",
    "articles_de[cases_1_idx[5]]"
   ]
  },
  {
   "cell_type": "code",
   "execution_count": 50,
   "metadata": {},
   "outputs": [
    {
     "data": {
      "text/plain": [
       "'Gemäss der Analyse von Präsenz Schweiz im Eidgenössischen Departement für auswärtige Angelegenheiten (EDA), wurde die Schweiz im Jahr 2020 in den ausländischen Medien deutlich weniger als in den Vorjahren thematisiert. Der Fokus lag auf der Covid-19-Pandemie. Dabei war das von der Schweiz vermittelte Bild starken Schwankungen unterworfen. Während der ersten Welle beurteilten ausländische Medien den Umgang der Schweiz mit der Pandemie überwiegend positiv. Insbesondere die Massnahmen zur Unterstützung der Schweizer Wirtschaft und die effiziente Umsetzung bei der Vergabe der Liquiditätskredite an Schweizer Unternehmen wurden gelobt. Während der zweiten Welle berichteten vor allem die Nachbarländer über die Schweiz und äusserten sich kritisch über die aus ihrer Sicht als zu moderat eingeschätzten Massnahmen, unter anderem die Öffnung der Skigebiete.  Neben der Covid-19-Pandemie berichteten die ausländische Medien oft kritisch über Ereignisse rund um die Bundesanwaltschaft. Im Zentrum standen dabei Fälle mit Bezug zum internationalen Fussball sowie der Rücktritt von Bundesanwalt Michael Lauber.  Am meisten punktuelle Medienresonanz erzeugte wie bereits in vergangenen Jahren die Tagung des World Economic Forum (WEF) in Davos. Wiederkehrende Themen waren der Finanzplatz Schweiz sowie verschiedene Volksabstimmungen, insbesondere zur Begrenzungsinitiative sowie zur Konzernverantwortungsinitiative. Auch Einzelereignisse, wie beispielsweise die Affäre um die Cryptoleaks, erhielten Aufmerksamkeit.  Gemäss einer langjährigen Tradition fand die Schweiz auch in diesjährigen Filmproduktionen und Serien Niederschlag, vor allem als Sehnsuchtsort mit schönen Landschaften und Bergen. So zum Beispiel in der südkoreanischen TV-Serie «Crash landing on you» oder dem auf Ende Jahr erwarteten, aufwändig produzierten indischen Kinofilm «Switzerland».  Grundsätzlich bleibt die Wahrnehmung der Schweiz bei der breiten Bevölkerung im Ausland vorerst positiv und stabil. Mit dem 7. von 50 möglichen Rängen ist sie im Nation Brands Index 2020 – einem Imagevergleich zwischen 50 Ländern – der bestklassierte Staat mittlerer Grösse. Vor allem die Regierungsführung und die Lebensqualität der Schweiz geniessen einen ausgezeichneten Ruf.  «Zum jetzigen Zeitpunkt kann noch keine abschliessende Bilanz zu den Auswirkungen der Covid-19-Pandemie auf das Image der Schweiz gezogen werden. Diese dürfte auch davon beeinflusst werden, wie gut es der Schweiz in der Aussenwahrnehmung letzten Endes gelingen wird, die Krise auf gesundheitlicher, ökonomischer und sozialer Ebene zu bewältigen», meint Botschafter Nicolas Bideau, Chef von Präsenz Schweiz.'"
      ]
     },
     "execution_count": 50,
     "metadata": {},
     "output_type": "execute_result"
    }
   ],
   "source": [
    "# [+, -, +]\n",
    "articles_de[cases_1_idx[6]]"
   ]
  },
  {
   "cell_type": "code",
   "execution_count": 51,
   "metadata": {},
   "outputs": [
    {
     "data": {
      "text/plain": [
       "'Das Bundesamt für Zivilluftfahrt BAZL hat aufgrund der neuen epidemiologischen Lage in Grossbritannien und Südafrika die Flugverkehrs-Verbindungen zwischen der Schweiz und diesen zwei Ländern per Sonntag Mitternacht bis auf weiteres eingestellt.  Damit reagiert die Schweiz auf das Auftauchen einer neuen Variante des Coronavirus, die nach ersten Erkenntnissen deutlich ansteckender ist als die bekannte Form. Mit dem Flugverbot soll eine weitere Ausbreitung der neuen Virus-Variante verhindert werden. Das BAZL hat am Sonntagabend die betroffenen Flughäfen und Airlines sowie die Geschäftsluftfahrt über die Sofortmassnahme informiert.'"
      ]
     },
     "execution_count": 51,
     "metadata": {},
     "output_type": "execute_result"
    }
   ],
   "source": [
    "# [+, -, +]\n",
    "articles_de[cases_1_idx[7]]"
   ]
  },
  {
   "cell_type": "code",
   "execution_count": 52,
   "metadata": {},
   "outputs": [
    {
     "data": {
      "text/plain": [
       "'Gemäss heutigem Recht ist die Militärjustiz bei einigen Straftatbeständen sowohl für Militär- wie auch Zivilpersonen zuständig. Dazu zählt unter anderem die Verletzung militärischer Geheimnisse. Der Bundesrat will einige dieser Straftatbestände auch ins zivile Strafgesetzbuch übernehmen, damit Zivilpersonen für diese Straftaten den zivilen Strafverfolgungsbehörden unterstehen. Bei anderen Delikten will der Bundesrat die Zuständigkeit für Zivilpersonen von Fall zu Fall an die zivilen Behörden übertragen können. Die Neuerungen betreffen das Militärstrafgesetz, das Strafgesetzbuch und das Bundesgesetz über den Schutz militärischer Anlagen. Dabei verfolgt der Bundesrat zwei Ansätze. Zum einen umfassen die Neuerungen die Tatbestände der Spionage und der landesverräterischen Verletzung militärischer Geheimnisse, der Verletzung militärischer Geheimnisse sowie des Ungehorsams gegen militärische und behördliche Massnahmen. Diese sollen in Zukunft von den zivilen Gerichtsbehörden verfolgt werden, falls es sich bei den Tatverdächtigen um Zivilpersonen handelt und die Straftat in Friedenszeiten und ohne strafbares Zusammenwirken mit Armeeangehörigen begangen wurde. Zu diesem Zweck will der Bundesrat im Strafgesetzbuch neue Bestimmungen einführen.  Beispiel für einen solchen Fall ist, wenn eine Zivilperson Informationen an sich nimmt und veröffentlicht, die mit Rücksicht auf die Landesverteidigung als geheim zu halten sind. Über ein solches Delikt soll in Zukunft ein ziviles Gericht urteilen. Falls jedoch auch Armeeangehörige an dieser Veröffentlichung beteiligt sind, indem sie beispielsweise die geheimen Informationen Beschafft, bleibt das Strafverfahren in der Zuständigkeit der Militärjustiz. Zum anderen soll bei den übrigen Militärdelikten, die von Zivilpersonen verübt werden, von Fall zu Fall über die Zuständigkeit entschieden werden können. Dazu ist eine Ergänzung von Artikel 218 des Militärstrafgesetzes vorgesehen. Diese betrifft von Zivilpersonen begangene Straftaten, die zwar unter das Militärstrafgesetz fallen, bei denen aber keine sachlichen Gründe für die Zuständigkeit der Militärjustiz sprechen. Ein mögliches Anwendungsgebiet für eine solche Übertragung an die zivilen Gerichtsbehörden sind beispielsweise Fälle, in denen eine Zivilperson Militärdienst in einer fremden Armee leistet.  Die Vernehmlassung dauert bis am 12. April 2021. '"
      ]
     },
     "execution_count": 52,
     "metadata": {},
     "output_type": "execute_result"
    }
   ],
   "source": [
    "# [-, +, +]\n",
    "articles_de[cases_1_idx[8]]"
   ]
  }
 ],
 "metadata": {
  "interpreter": {
   "hash": "89a54e7346d33656f2940aba0e47a561becf96fe36c69c035d9bc66d085d8900"
  },
  "kernelspec": {
   "display_name": "Python 3.7.9 64-bit ('Master_Thesis_env': conda)",
   "name": "python3"
  },
  "language_info": {
   "codemirror_mode": {
    "name": "ipython",
    "version": 3
   },
   "file_extension": ".py",
   "mimetype": "text/x-python",
   "name": "python",
   "nbconvert_exporter": "python",
   "pygments_lexer": "ipython3",
   "version": "3.7.9"
  },
  "orig_nbformat": 2
 },
 "nbformat": 4,
 "nbformat_minor": 2
}
