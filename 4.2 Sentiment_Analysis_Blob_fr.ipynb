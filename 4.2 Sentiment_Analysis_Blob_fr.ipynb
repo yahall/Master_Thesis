{
 "cells": [
  {
   "cell_type": "markdown",
   "metadata": {},
   "source": [
    "<div class=\"alert alert-info\" style=\"background-color:#5d3a8e; color:white; padding:0px 10px; border-radius:5px;\"><h1 style='margin:10px 5px'> \n",
    "Master Thesis Yannik Haller - Sentiment Analysis TEXTBLOB\n",
    "</h1>\n",
    "</div>"
   ]
  },
  {
   "cell_type": "markdown",
   "metadata": {},
   "source": [
    "<div class=\"alert alert-info\" style=\"background-color:#5d3a8e; color:white; padding:0px 10px; border-radius:5px;\"><h2 style='margin:10px 5px'> \n",
    "1. Load required packages and the data\n",
    "</h2>\n",
    "</div>"
   ]
  },
  {
   "cell_type": "code",
   "execution_count": 1,
   "metadata": {},
   "outputs": [
    {
     "name": "stderr",
     "output_type": "stream",
     "text": [
      "C:\\Users\\Hallk\\AppData\\Roaming\\Python\\Python37\\site-packages\\ipykernel\\pylab\\config.py:70: DeprecationWarning: InlineBackend._figure_formats_changed is deprecated in traitlets 4.1: use @observe and @unobserve instead.\n",
      "  def _figure_formats_changed(self, name, old, new):\n"
     ]
    }
   ],
   "source": [
    "# Import required baseline packages\n",
    "import re\n",
    "import os\n",
    "import glob\n",
    "import time\n",
    "import sys\n",
    "import pandas as pd\n",
    "import numpy as np\n",
    "from pprint import pprint\n",
    "\n",
    "# Change pandas' setting to print out long strings\n",
    "pd.options.display.max_colwidth = 200\n",
    "\n",
    "# Plotting tools\n",
    "import matplotlib.pyplot as plt\n",
    "%matplotlib inline\n",
    "\n",
    "# TextBlob (for Sentiment Analysis)\n",
    "from textblob import Blobber\n",
    "from textblob_fr import PatternTagger, PatternAnalyzer\n",
    "\n",
    "import warnings\n",
    "warnings.filterwarnings(\"ignore\", category = DeprecationWarning)\n",
    "warnings.filterwarnings(\"ignore\", category = FutureWarning)"
   ]
  },
  {
   "cell_type": "code",
   "execution_count": 2,
   "metadata": {},
   "outputs": [],
   "source": [
    "# Set the appropriate working directory\n",
    "os.chdir('D:\\\\Dropbox\\\\MA_data')"
   ]
  },
  {
   "cell_type": "code",
   "execution_count": 3,
   "metadata": {},
   "outputs": [],
   "source": [
    "# Define a function to read in the fully preprocessed data (note: we are using the preprocessed data in which negations are preserved --> PPII)\n",
    "def read_preprocessed(language, tokenize = True):\n",
    "    # Raise an error if an inadmissible language is chosen\n",
    "    allowed_languages = ['de', 'en', 'fr', 'it']\n",
    "    if language not in allowed_languages:\n",
    "        raise ValueError(\"Invalid language. Expected one of: %s\" % allowed_languages)\n",
    "    \n",
    "    # Set the appropriate working directory\n",
    "    os.chdir('D:\\\\Dropbox\\\\MA_data')\n",
    "\n",
    "    # Define the name of the file to load\n",
    "    filename = \"Preprocessed/Sentiment_Analysis/\"+language+\"_preprocessed_senti.csv\"\n",
    "\n",
    "    # Read in the dataframe containing the text data\n",
    "    tx_pp = pd.read_csv(filename, index_col = 0, dtype = {'tx': object})\n",
    "\n",
    "    # Get the articles' index together with an enumeration to identify their position in the list of precleaned articles\n",
    "    idx = tx_pp.index\n",
    "    idx = pd.DataFrame(idx, columns = [language+'_idx'])\n",
    "\n",
    "    # Reduce the dataframe to a list containing the text data\n",
    "    tx_pp = tx_pp.tx.to_list()\n",
    "\n",
    "    # Tokenize the data again if tokenize = True (RAM-saving)\n",
    "    if tokenize:\n",
    "        tx_pp = retokenize(tx_pp)\n",
    "\n",
    "    # Return the preprocessed data\n",
    "    return tx_pp, idx\n",
    "\n",
    "# Define a function to retokenize the preprocessed text data (RAM-saving)\n",
    "def retokenize(article_list):\n",
    "    for i in range(len(article_list)):\n",
    "        temp_tx = str(article_list[i]).split()\n",
    "        article_list[i] = temp_tx\n",
    "    return article_list"
   ]
  },
  {
   "cell_type": "code",
   "execution_count": 4,
   "metadata": {},
   "outputs": [
    {
     "data": {
      "text/plain": [
       "3849360"
      ]
     },
     "execution_count": 4,
     "metadata": {},
     "output_type": "execute_result"
    }
   ],
   "source": [
    "# Read in the preprocessed data (not tokenized)\n",
    "fr_tx, fr_idx = read_preprocessed('fr', tokenize = False)\n",
    "\n",
    "# Take a look at the size of the precleaned data\n",
    "sys.getsizeof(fr_tx)"
   ]
  },
  {
   "cell_type": "code",
   "execution_count": 5,
   "metadata": {},
   "outputs": [
    {
     "data": {
      "text/plain": [
       "'bourse york terminer hausse mercredi espoir prochain accord nouveau plan aide économique américain mener dow jones brièvement dessus séance dow jones industrial average avancer point nasdaq gagner point s&p progresser point bourse york clôturer anxieusement léger baisse mardi débat présidentiel dow jones industrial average céder nasdaq mercredi rencontre cheffe démocrate chambre secrétaire américain trésor discuter nouveau aide économique panne mois susciter espoir compromis raisonnable mot steven mnuchin optimisme donner coup fouet action brusquement tempérer chef républicain sénat mitch mcconnell sortir dire position encore très très éloigné expliquer karl haeling lbbw bourse york voir aussi introduction fanfare cotation direct titre discret groupe surveillance donnée palantir prix valoriser plus milliard dollar symbole pltr titre clôturer dollar soit bien dessus prix indicatif dollar donner mardi soir new york stock lire page titre fabricant camion électrique hydrogène nikola reprendre vigueur dollar descente enfer marquer perte tiers valeur introduction bourse nikola ajourner mercredi événement cours devoir présenter grand pompe nouveau pick up badger quasiment tout secteur s&p terminer vert santé tête laboratoire pfizer prendre grand nom tech progresser microsoft apple marché obligataire taux an dette américain augmenter mardi soir'"
      ]
     },
     "execution_count": 5,
     "metadata": {},
     "output_type": "execute_result"
    }
   ],
   "source": [
    "# Take a look at the preprocessed data\n",
    "fr_tx[0]"
   ]
  },
  {
   "cell_type": "code",
   "execution_count": 6,
   "metadata": {},
   "outputs": [
    {
     "data": {
      "text/html": [
       "<div>\n",
       "<style scoped>\n",
       "    .dataframe tbody tr th:only-of-type {\n",
       "        vertical-align: middle;\n",
       "    }\n",
       "\n",
       "    .dataframe tbody tr th {\n",
       "        vertical-align: top;\n",
       "    }\n",
       "\n",
       "    .dataframe thead th {\n",
       "        text-align: right;\n",
       "    }\n",
       "</style>\n",
       "<table border=\"1\" class=\"dataframe\">\n",
       "  <thead>\n",
       "    <tr style=\"text-align: right;\">\n",
       "      <th></th>\n",
       "      <th>fr_idx</th>\n",
       "    </tr>\n",
       "  </thead>\n",
       "  <tbody>\n",
       "    <tr>\n",
       "      <th>481159</th>\n",
       "      <td>2436480</td>\n",
       "    </tr>\n",
       "    <tr>\n",
       "      <th>481160</th>\n",
       "      <td>2436481</td>\n",
       "    </tr>\n",
       "    <tr>\n",
       "      <th>481161</th>\n",
       "      <td>2436482</td>\n",
       "    </tr>\n",
       "  </tbody>\n",
       "</table>\n",
       "</div>"
      ],
      "text/plain": [
       "         fr_idx\n",
       "481159  2436480\n",
       "481160  2436481\n",
       "481161  2436482"
      ]
     },
     "execution_count": 6,
     "metadata": {},
     "output_type": "execute_result"
    }
   ],
   "source": [
    "# Take a look at the dataframe containing the according index\n",
    "fr_idx.tail(3)"
   ]
  },
  {
   "cell_type": "code",
   "execution_count": 7,
   "metadata": {},
   "outputs": [
    {
     "data": {
      "text/plain": [
       "[481160, 481161]"
      ]
     },
     "execution_count": 7,
     "metadata": {},
     "output_type": "execute_result"
    }
   ],
   "source": [
    "# Retrieve the location of the article in the preprocessed data using the according article id\n",
    "article_ids = [2436481, 2436482]\n",
    "location = fr_idx[fr_idx.fr_idx.isin(article_ids)].index.tolist() #481160\n",
    "\n",
    "# Access the preprocessed text from the articles with the article ids in [2436481, 2436482]\n",
    "#list(fr_tx[i] for i in location)\n",
    "\n",
    "# Look at the according location of the articles with the article ids in [2436481, 2436482]\n",
    "location"
   ]
  },
  {
   "cell_type": "markdown",
   "metadata": {},
   "source": [
    "<div class=\"alert alert-info\" style=\"background-color:#5d3a8e; color:white; padding:0px 10px; border-radius:5px;\"><h2 style='margin:10px 5px'> \n",
    "2. Sentiment Assessment of the Articles\n",
    "</h2>\n",
    "</div>"
   ]
  },
  {
   "cell_type": "code",
   "execution_count": 8,
   "metadata": {},
   "outputs": [],
   "source": [
    "# Define a function that evaluates the polarity of the articles and stores the result to a correctly indexed csv file\n",
    "def eval_blob_polarity(tx, idx, language = 'de', batchsize = 100000):\n",
    "    # Notes: \n",
    "    ## tx has to be a list containing the precleaned and NOT tokenized articles\n",
    "    ## idx has to be a list containing the correctly ordered index\n",
    "\n",
    "    # Initialize a Blobber class, which uses the language specific PatternAnalyzer we imported above to assess text polarity (sentiment from -1 to 1) and subjectivity\n",
    "    tb = Blobber(pos_tagger = PatternTagger(), analyzer = PatternAnalyzer())\n",
    "\n",
    "    # Set up a loop to go through all articles and evaluate their polarity with TextBlob\n",
    "    i = 0\n",
    "    i_last_batch = 0\n",
    "    n_articles = len(tx)\n",
    "    pol = []\n",
    "    t = time.time()\n",
    "    for article in tx:\n",
    "        i = i + 1\n",
    "        pol.append(tb(article).sentiment[0])\n",
    "        if i % batchsize == 0:\n",
    "            print(\"Processing time to evaluate polarity scores of the articles at positions\", i_last_batch, \"to\", i-1, \":\", str(round((time.time() - t)/60,2)), \"minutes\")\n",
    "            i_last_batch = i\n",
    "            t = time.time()\n",
    "        if i == n_articles:\n",
    "            print(\"Processing time to evaluate polarity scores of the articles at positions\", i_last_batch, \"to\", i-1, \":\", str(round((time.time() - t)/60,2)), \"minutes\")\n",
    "            print(\"DONE! ;)\")\n",
    "\n",
    "    # Create a correctly indexed dataframe\n",
    "    Blob_tx_polarity = pd.DataFrame(pol, index = idx, columns = ['Blob_polarity'])\n",
    "    # Save the results to a csv file\n",
    "    Blob_tx_polarity.to_csv(\"Sentiment/TextBlob/\"+language+\"_blob_polarity.csv\", index = True)\n",
    "    # Return the results\n",
    "    return Blob_tx_polarity"
   ]
  },
  {
   "cell_type": "code",
   "execution_count": 9,
   "metadata": {},
   "outputs": [
    {
     "name": "stdout",
     "output_type": "stream",
     "text": [
      "Processing time to evaluate polarity scores of the articles at positions 0 to 99999 : 1.85 minutes\n",
      "Processing time to evaluate polarity scores of the articles at positions 100000 to 199999 : 2.02 minutes\n",
      "Processing time to evaluate polarity scores of the articles at positions 200000 to 299999 : 1.88 minutes\n",
      "Processing time to evaluate polarity scores of the articles at positions 300000 to 399999 : 2.16 minutes\n",
      "Processing time to evaluate polarity scores of the articles at positions 400000 to 481161 : 1.49 minutes\n",
      "DONE! ;)\n"
     ]
    }
   ],
   "source": [
    "# Apply the previously defined function\n",
    "Blob_tx_polarity = eval_blob_polarity(fr_tx, fr_idx.fr_idx.values.tolist(), 'fr', 100000)"
   ]
  },
  {
   "cell_type": "code",
   "execution_count": 10,
   "metadata": {},
   "outputs": [
    {
     "data": {
      "text/html": [
       "<div>\n",
       "<style scoped>\n",
       "    .dataframe tbody tr th:only-of-type {\n",
       "        vertical-align: middle;\n",
       "    }\n",
       "\n",
       "    .dataframe tbody tr th {\n",
       "        vertical-align: top;\n",
       "    }\n",
       "\n",
       "    .dataframe thead th {\n",
       "        text-align: right;\n",
       "    }\n",
       "</style>\n",
       "<table border=\"1\" class=\"dataframe\">\n",
       "  <thead>\n",
       "    <tr style=\"text-align: right;\">\n",
       "      <th></th>\n",
       "      <th>Blob_polarity</th>\n",
       "    </tr>\n",
       "  </thead>\n",
       "  <tbody>\n",
       "    <tr>\n",
       "      <th>0</th>\n",
       "      <td>0.124348</td>\n",
       "    </tr>\n",
       "    <tr>\n",
       "      <th>1</th>\n",
       "      <td>0.100000</td>\n",
       "    </tr>\n",
       "    <tr>\n",
       "      <th>2</th>\n",
       "      <td>0.163700</td>\n",
       "    </tr>\n",
       "    <tr>\n",
       "      <th>3</th>\n",
       "      <td>-0.012364</td>\n",
       "    </tr>\n",
       "    <tr>\n",
       "      <th>4</th>\n",
       "      <td>0.207273</td>\n",
       "    </tr>\n",
       "    <tr>\n",
       "      <th>...</th>\n",
       "      <td>...</td>\n",
       "    </tr>\n",
       "    <tr>\n",
       "      <th>2436478</th>\n",
       "      <td>0.191667</td>\n",
       "    </tr>\n",
       "    <tr>\n",
       "      <th>2436479</th>\n",
       "      <td>0.107407</td>\n",
       "    </tr>\n",
       "    <tr>\n",
       "      <th>2436480</th>\n",
       "      <td>0.027500</td>\n",
       "    </tr>\n",
       "    <tr>\n",
       "      <th>2436481</th>\n",
       "      <td>0.090000</td>\n",
       "    </tr>\n",
       "    <tr>\n",
       "      <th>2436482</th>\n",
       "      <td>0.004348</td>\n",
       "    </tr>\n",
       "  </tbody>\n",
       "</table>\n",
       "<p>481162 rows × 1 columns</p>\n",
       "</div>"
      ],
      "text/plain": [
       "         Blob_polarity\n",
       "0             0.124348\n",
       "1             0.100000\n",
       "2             0.163700\n",
       "3            -0.012364\n",
       "4             0.207273\n",
       "...                ...\n",
       "2436478       0.191667\n",
       "2436479       0.107407\n",
       "2436480       0.027500\n",
       "2436481       0.090000\n",
       "2436482       0.004348\n",
       "\n",
       "[481162 rows x 1 columns]"
      ]
     },
     "execution_count": 10,
     "metadata": {},
     "output_type": "execute_result"
    }
   ],
   "source": [
    "# Take a look at the results\n",
    "Blob_tx_polarity"
   ]
  },
  {
   "cell_type": "code",
   "execution_count": 11,
   "metadata": {},
   "outputs": [
    {
     "data": {
      "text/html": [
       "<div>\n",
       "<style scoped>\n",
       "    .dataframe tbody tr th:only-of-type {\n",
       "        vertical-align: middle;\n",
       "    }\n",
       "\n",
       "    .dataframe tbody tr th {\n",
       "        vertical-align: top;\n",
       "    }\n",
       "\n",
       "    .dataframe thead th {\n",
       "        text-align: right;\n",
       "    }\n",
       "</style>\n",
       "<table border=\"1\" class=\"dataframe\">\n",
       "  <thead>\n",
       "    <tr style=\"text-align: right;\">\n",
       "      <th></th>\n",
       "      <th>Blob_polarity</th>\n",
       "    </tr>\n",
       "  </thead>\n",
       "  <tbody>\n",
       "    <tr>\n",
       "      <th>0</th>\n",
       "      <td>0.124348</td>\n",
       "    </tr>\n",
       "    <tr>\n",
       "      <th>1</th>\n",
       "      <td>0.100000</td>\n",
       "    </tr>\n",
       "    <tr>\n",
       "      <th>2</th>\n",
       "      <td>0.163700</td>\n",
       "    </tr>\n",
       "    <tr>\n",
       "      <th>3</th>\n",
       "      <td>-0.012364</td>\n",
       "    </tr>\n",
       "    <tr>\n",
       "      <th>4</th>\n",
       "      <td>0.207273</td>\n",
       "    </tr>\n",
       "    <tr>\n",
       "      <th>...</th>\n",
       "      <td>...</td>\n",
       "    </tr>\n",
       "    <tr>\n",
       "      <th>2436478</th>\n",
       "      <td>0.191667</td>\n",
       "    </tr>\n",
       "    <tr>\n",
       "      <th>2436479</th>\n",
       "      <td>0.107407</td>\n",
       "    </tr>\n",
       "    <tr>\n",
       "      <th>2436480</th>\n",
       "      <td>0.027500</td>\n",
       "    </tr>\n",
       "    <tr>\n",
       "      <th>2436481</th>\n",
       "      <td>0.090000</td>\n",
       "    </tr>\n",
       "    <tr>\n",
       "      <th>2436482</th>\n",
       "      <td>0.004348</td>\n",
       "    </tr>\n",
       "  </tbody>\n",
       "</table>\n",
       "<p>481162 rows × 1 columns</p>\n",
       "</div>"
      ],
      "text/plain": [
       "         Blob_polarity\n",
       "0             0.124348\n",
       "1             0.100000\n",
       "2             0.163700\n",
       "3            -0.012364\n",
       "4             0.207273\n",
       "...                ...\n",
       "2436478       0.191667\n",
       "2436479       0.107407\n",
       "2436480       0.027500\n",
       "2436481       0.090000\n",
       "2436482       0.004348\n",
       "\n",
       "[481162 rows x 1 columns]"
      ]
     },
     "execution_count": 11,
     "metadata": {},
     "output_type": "execute_result"
    }
   ],
   "source": [
    "# Read the results back in\n",
    "Blob_tx_polarity = pd.read_csv(\"Sentiment/TextBlob/fr_blob_polarity.csv\", index_col = 0, dtype = {'Blob_polarity': float})\n",
    "# Take a look at the results\n",
    "Blob_tx_polarity"
   ]
  },
  {
   "cell_type": "code",
   "execution_count": 12,
   "metadata": {},
   "outputs": [
    {
     "name": "stdout",
     "output_type": "stream",
     "text": [
      "The share of articles with a positive sentiment is 88.0 %\n",
      "The share of articles with a negative sentiment is 11.0 %\n"
     ]
    },
    {
     "data": {
      "text/html": [
       "<div>\n",
       "<style scoped>\n",
       "    .dataframe tbody tr th:only-of-type {\n",
       "        vertical-align: middle;\n",
       "    }\n",
       "\n",
       "    .dataframe tbody tr th {\n",
       "        vertical-align: top;\n",
       "    }\n",
       "\n",
       "    .dataframe thead th {\n",
       "        text-align: right;\n",
       "    }\n",
       "</style>\n",
       "<table border=\"1\" class=\"dataframe\">\n",
       "  <thead>\n",
       "    <tr style=\"text-align: right;\">\n",
       "      <th></th>\n",
       "      <th>Blob_polarity</th>\n",
       "    </tr>\n",
       "  </thead>\n",
       "  <tbody>\n",
       "    <tr>\n",
       "      <th>count</th>\n",
       "      <td>481162.000</td>\n",
       "    </tr>\n",
       "    <tr>\n",
       "      <th>mean</th>\n",
       "      <td>0.086</td>\n",
       "    </tr>\n",
       "    <tr>\n",
       "      <th>std</th>\n",
       "      <td>0.084</td>\n",
       "    </tr>\n",
       "    <tr>\n",
       "      <th>min</th>\n",
       "      <td>-1.000</td>\n",
       "    </tr>\n",
       "    <tr>\n",
       "      <th>25%</th>\n",
       "      <td>0.042</td>\n",
       "    </tr>\n",
       "    <tr>\n",
       "      <th>50%</th>\n",
       "      <td>0.086</td>\n",
       "    </tr>\n",
       "    <tr>\n",
       "      <th>75%</th>\n",
       "      <td>0.131</td>\n",
       "    </tr>\n",
       "    <tr>\n",
       "      <th>max</th>\n",
       "      <td>1.000</td>\n",
       "    </tr>\n",
       "  </tbody>\n",
       "</table>\n",
       "</div>"
      ],
      "text/plain": [
       "       Blob_polarity\n",
       "count     481162.000\n",
       "mean           0.086\n",
       "std            0.084\n",
       "min           -1.000\n",
       "25%            0.042\n",
       "50%            0.086\n",
       "75%            0.131\n",
       "max            1.000"
      ]
     },
     "execution_count": 12,
     "metadata": {},
     "output_type": "execute_result"
    }
   ],
   "source": [
    "# Take a look at some summary statistics\n",
    "share_pos = np.round(np.sum(Blob_tx_polarity['Blob_polarity'] > 0) / len(Blob_tx_polarity),2)\n",
    "share_neg = np.round(np.sum(Blob_tx_polarity['Blob_polarity'] < 0) / len(Blob_tx_polarity),2)\n",
    "print('The share of articles with a positive sentiment is', 100*share_pos,'%')\n",
    "print('The share of articles with a negative sentiment is', 100*share_neg,'%')\n",
    "np.round(Blob_tx_polarity.describe(), 3)"
   ]
  }
 ],
 "metadata": {
  "interpreter": {
   "hash": "89a54e7346d33656f2940aba0e47a561becf96fe36c69c035d9bc66d085d8900"
  },
  "kernelspec": {
   "display_name": "Python 3.7.9 64-bit ('Master_Thesis_env': conda)",
   "name": "python3"
  },
  "language_info": {
   "codemirror_mode": {
    "name": "ipython",
    "version": 3
   },
   "file_extension": ".py",
   "mimetype": "text/x-python",
   "name": "python",
   "nbconvert_exporter": "python",
   "pygments_lexer": "ipython3",
   "version": "3.7.9"
  },
  "orig_nbformat": 2
 },
 "nbformat": 4,
 "nbformat_minor": 2
}
