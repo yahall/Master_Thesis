{
 "metadata": {
  "language_info": {
   "codemirror_mode": {
    "name": "ipython",
    "version": 3
   },
   "file_extension": ".py",
   "mimetype": "text/x-python",
   "name": "python",
   "nbconvert_exporter": "python",
   "pygments_lexer": "ipython3",
   "version": "3.7.9"
  },
  "orig_nbformat": 2,
  "kernelspec": {
   "name": "python379jvsc74a57bd089a54e7346d33656f2940aba0e47a561becf96fe36c69c035d9bc66d085d8900",
   "display_name": "Python 3.7.9 64-bit ('Master_Thesis_env': conda)"
  }
 },
 "nbformat": 4,
 "nbformat_minor": 2,
 "cells": [
  {
   "source": [
    "<div class=\"alert alert-info\" style=\"background-color:#5d3a8e; color:white; padding:0px 10px; border-radius:5px;\"><h1 style='margin:10px 5px'> \n",
    "Master Thesis Yannik Haller - Sentiment Analysis VADER\n",
    "</h1>\n",
    "</div>\n",
    "\n"
   ],
   "cell_type": "markdown",
   "metadata": {}
  },
  {
   "source": [
    "<div class=\"alert alert-info\" style=\"background-color:#5d3a8e; color:white; padding:0px 10px; border-radius:5px;\"><h2 style='margin:10px 5px'> \n",
    "1. Load required packages and the data\n",
    "</h2>\n",
    "</div>"
   ],
   "cell_type": "markdown",
   "metadata": {}
  },
  {
   "cell_type": "code",
   "execution_count": 1,
   "metadata": {},
   "outputs": [],
   "source": [
    "# Import required baseline packages\n",
    "import re\n",
    "import os\n",
    "import glob\n",
    "import time\n",
    "import sys\n",
    "import pandas as pd\n",
    "import numpy as np\n",
    "from pprint import pprint\n",
    "\n",
    "# Change pandas' setting to print out long strings\n",
    "pd.options.display.max_colwidth = 200\n",
    "\n",
    "import seaborn as sns\n",
    "import matplotlib.pyplot as plt\n",
    "%matplotlib inline\n",
    "# Set global parameters for plotting\n",
    "import matplotlib.pylab as pylab\n",
    "params = {'legend.fontsize': 10,\n",
    "          'figure.figsize': (8, 6),\n",
    "          'axes.labelsize': 14,\n",
    "          'axes.titlesize': 16,\n",
    "          'xtick.labelsize': 10,\n",
    "          'ytick.labelsize': 10}\n",
    "pylab.rcParams.update(params)\n",
    "\n",
    "# Gensim\n",
    "import gensim\n",
    "import gensim.corpora as corpora\n",
    "from gensim.utils import simple_preprocess\n",
    "from gensim.models import CoherenceModel\n",
    "\n",
    "# Spacy (for lemmatization)\n",
    "import spacy\n",
    "\n",
    "# Plotting tools\n",
    "import pyLDAvis\n",
    "import pyLDAvis.gensim\n",
    "import matplotlib.pyplot as plt\n",
    "%matplotlib inline\n",
    "\n",
    "# TextBlob (for Sentiment Analysis)\n",
    "from textblob import Blobber\n",
    "from textblob_fr import PatternTagger, PatternAnalyzer\n",
    "\n",
    "# Vader (for Sentiment Analysis)\n",
    "from vaderSentiment_fr.vaderSentiment import SentimentIntensityAnalyzer\n",
    "\n",
    "# Enable logging for gensim (optional)\n",
    "import logging\n",
    "logging.basicConfig(format = '%(asctime)s : %(levelname)s : %(message)s', level = logging.ERROR)\n",
    "\n",
    "import warnings\n",
    "warnings.filterwarnings(\"ignore\", category = DeprecationWarning)\n",
    "warnings.filterwarnings(\"ignore\", category = FutureWarning)"
   ]
  },
  {
   "cell_type": "code",
   "execution_count": 2,
   "metadata": {},
   "outputs": [],
   "source": [
    "# Set the appropriate working directory\n",
    "os.chdir('D:\\\\Dropbox\\\\MA_data')"
   ]
  },
  {
   "cell_type": "code",
   "execution_count": 3,
   "metadata": {},
   "outputs": [],
   "source": [
    "# Define a function to read in the preprocessed fulltext data\n",
    "def read_preprocessed_fulltext(language):\n",
    "    # Raise an error if an inadmissible language is chosen\n",
    "    allowed_languages = ['de', 'en', 'fr', 'it']\n",
    "    if language not in allowed_languages:\n",
    "        raise ValueError(\"Invalid language. Expected one of: %s\" % allowed_languages)\n",
    "    \n",
    "    # Set the appropriate working directory\n",
    "    os.chdir('D:\\\\Dropbox\\\\MA_data')\n",
    "\n",
    "    # Define the name of the file to load\n",
    "    filename = \"Preprocessed/Sentiment_Analysis/Fulltext/\"+language+\"_fulltext_senti.csv\"\n",
    "\n",
    "    # Read in the data\n",
    "    tx_ft = pd.read_csv(filename, index_col = 0, dtype = {'tx': object})\n",
    "\n",
    "    # Get the articles' index together with an enumeration to identify their position in the list of precleaned articles\n",
    "    idx = tx_ft.index\n",
    "    idx = pd.DataFrame(idx, columns = [language+'_idx'])\n",
    "\n",
    "    # Extract the text data as a list of articles\n",
    "    tx_ft = tx_ft.tx.to_list()\n",
    "\n",
    "    # Return the preprocessed data\n",
    "    return tx_ft, idx"
   ]
  },
  {
   "cell_type": "code",
   "execution_count": 4,
   "metadata": {},
   "outputs": [
    {
     "output_type": "execute_result",
     "data": {
      "text/plain": [
       "3849360"
      ]
     },
     "metadata": {},
     "execution_count": 4
    }
   ],
   "source": [
    "# Read in the preprocessed fulltext data\n",
    "fr_tx, fr_idx = read_preprocessed_fulltext('fr')\n",
    "\n",
    "# Take a look at the size of the precleaned data\n",
    "sys.getsizeof(fr_tx)"
   ]
  },
  {
   "cell_type": "code",
   "execution_count": 5,
   "metadata": {},
   "outputs": [
    {
     "output_type": "execute_result",
     "data": {
      "text/plain": [
       "\" La Bourse de New York a terminé en hausse mercredi, sur les espoirs d'un prochain accord sur un nouveau plan d'aide économique américain qui a mené le Dow Jones brièvement au dessus de 2 en séance. Le Dow Jones Industrial Average a avancé de 1,20 à 27. 781,70 points. Le Nasdaq a gagné 0,74 à 11. 167,50 points et le S&P 500, a progressé de 1,05 à 3370,53 points. La Bourse de New York avait clôturé anxieusement en légère baisse mardi avant le débat présidentiel. Le Dow Jones Industrial Average, avait cédé 0,48 et le Nasdaq 0,29. Mercredi, la rencontre entre la cheffe des démocrates à la Chambre et le secrétaire américain au Trésor pour discuter d'une nouvelle aide économique, en panne depuis des mois, a suscité l'espoir d'un compromis raisonnable, selon les mots de Steven Mnuchin. Cet optimisme a donné un coup de fouet aux actions, qui s'est brusquement tempéré lorsque le chef des républicains au Sénat Mitch McConnell est sorti et a dit que les positions étaient encore très, très éloignées, a expliqué Karl Haeling de LBBW. La Bourse de New York a vu aussi l'introduction en fanfare, via une cotation directe, des titres du discret groupe de surveillance de données Palantir, à un prix le valorisant à plus de 21 milliards de dollars. Sous le symbole PLTR, le titre a clôturé à 9,73 dollars, soit bien au dessus du prix indicatif de 7,25 dollars donné mardi soir par le New York Stock Exchange (lire page 11)Le titre du fabricant de camions électriques et à hydrogène Nikola a repris de la vigueur (+14,54 à 20,48 dollars) après sa descente aux enfers marquée par la perte de deux tiers de sa valeur depuis son introduction en bourse. Nikola a ajourné mercredi un événement au cours duquel il devait présenter en grande pompe son nouveau pick up Badger. Quasiment tous les secteurs du S&P ont terminé dans le vert, celui de la santé en tête. les laboratoires Pfizer ont pris 1,41. Des grands noms de la tech ont progressé comme Microsoft et Apple (+1,50 ). Sur le marché obligataire, le taux à 10 ans sur la dette américaine augmentait à 0,6840 contre 0,6495 mardi soir. (afp)\""
      ]
     },
     "metadata": {},
     "execution_count": 5
    }
   ],
   "source": [
    "# Take a look at the preprocessed data\n",
    "fr_tx[0]"
   ]
  },
  {
   "cell_type": "code",
   "execution_count": 6,
   "metadata": {},
   "outputs": [
    {
     "output_type": "execute_result",
     "data": {
      "text/plain": [
       "         fr_idx\n",
       "481159  2436480\n",
       "481160  2436481\n",
       "481161  2436482"
      ],
      "text/html": "<div>\n<style scoped>\n    .dataframe tbody tr th:only-of-type {\n        vertical-align: middle;\n    }\n\n    .dataframe tbody tr th {\n        vertical-align: top;\n    }\n\n    .dataframe thead th {\n        text-align: right;\n    }\n</style>\n<table border=\"1\" class=\"dataframe\">\n  <thead>\n    <tr style=\"text-align: right;\">\n      <th></th>\n      <th>fr_idx</th>\n    </tr>\n  </thead>\n  <tbody>\n    <tr>\n      <th>481159</th>\n      <td>2436480</td>\n    </tr>\n    <tr>\n      <th>481160</th>\n      <td>2436481</td>\n    </tr>\n    <tr>\n      <th>481161</th>\n      <td>2436482</td>\n    </tr>\n  </tbody>\n</table>\n</div>"
     },
     "metadata": {},
     "execution_count": 6
    }
   ],
   "source": [
    "# Take a look at the dataframe containing the according index\n",
    "fr_idx.tail(3)"
   ]
  },
  {
   "cell_type": "code",
   "execution_count": 7,
   "metadata": {},
   "outputs": [
    {
     "output_type": "execute_result",
     "data": {
      "text/plain": [
       "[481160, 481161]"
      ]
     },
     "metadata": {},
     "execution_count": 7
    }
   ],
   "source": [
    "# Retrieve the location of the article in the preprocessed data using the according article id\n",
    "article_ids = [2436481, 2436482]\n",
    "location = fr_idx[fr_idx.fr_idx.isin(article_ids)].index.tolist() #481160\n",
    "\n",
    "# Access the preprocessed text from the articles with the article ids in [2436481, 2436482]\n",
    "#list(fr_tx[i] for i in location)\n",
    "\n",
    "# Look at the according location of the articles with the article ids in [2436481, 2436482]\n",
    "location"
   ]
  },
  {
   "source": [
    "<div class=\"alert alert-info\" style=\"background-color:#5d3a8e; color:white; padding:0px 10px; border-radius:5px;\"><h2 style='margin:10px 5px'> \n",
    "2. Sentiment Assessment of the Articles\n",
    "</h2>\n",
    "</div>"
   ],
   "cell_type": "markdown",
   "metadata": {}
  },
  {
   "cell_type": "code",
   "execution_count": 8,
   "metadata": {},
   "outputs": [],
   "source": [
    "# Define a function that evaluates the polarity of the articles and stores the result to a correctly indexed csv file\n",
    "def eval_vader_polarity(tx, idx, name_output_file = 'fr_vader_polarity', batchsize = 100000, fuzzywuzzy = False):\n",
    "    # Notes: \n",
    "    ## tx has to be a list containing the (precleaned) fulltext articles\n",
    "    ## idx has to be a list containing the correctly ordered index\n",
    "    ## fuzzywuzzy indicates whether the sentiment analysis algorithm should also look for similar words whenever a word is not detected properly to overcome issues with typos (computationally more expensive!) \n",
    "\n",
    "    # Initialize a Vader class, which uses the language specific SentimentIntensityAnalyzer we imported above to assess text polarity (sentiment from -1 to 1) and subjectivity\n",
    "    sia = SentimentIntensityAnalyzer()\n",
    "\n",
    "    # Set up a loop to go through all articles and evaluate their polarity with Vader\n",
    "    i = 0\n",
    "    i_last_batch = 0\n",
    "    n_articles = len(tx)\n",
    "    pol = []\n",
    "    t = time.time()\n",
    "    for article in tx:\n",
    "        i = i + 1\n",
    "        if fuzzywuzzy:\n",
    "            pol.append(sia.polarity_scores_max(article)['compound'])\n",
    "        else:\n",
    "            pol.append(sia.polarity_scores(article)['compound'])\n",
    "        if i % batchsize == 0:\n",
    "            print(\"Processing time to evaluate polarity scores of the articles at positions\", i_last_batch, \"to\", i-1, \":\", str(round((time.time() - t)/60,2)), \"minutes\")\n",
    "            i_last_batch = i\n",
    "            t = time.time()\n",
    "        if i == n_articles:\n",
    "            print(\"Processing time to evaluate polarity scores of the articles at positions\", i_last_batch, \"to\", i-1, \":\", str(round((time.time() - t)/60,2)), \"minutes\")\n",
    "            print(\"DONE! ;)\")\n",
    "\n",
    "    # Create a correctly indexed dataframe\n",
    "    Vader_tx_polarity = pd.DataFrame(pol, index = idx, columns = ['Vader_polarity'])\n",
    "    # Save the results to a csv file\n",
    "    Vader_tx_polarity.to_csv(\"Sentiment/Vader/VADER-fr/\"+name_output_file+\".csv\", index = True)\n",
    "    # Return the results\n",
    "    return Vader_tx_polarity"
   ]
  },
  {
   "cell_type": "code",
   "execution_count": 9,
   "metadata": {},
   "outputs": [
    {
     "output_type": "stream",
     "name": "stdout",
     "text": [
      "Processing time to evaluate polarity scores of the articles at positions 0 to 99999 : 34.04 minutes\n",
      "Processing time to evaluate polarity scores of the articles at positions 100000 to 199999 : 32.05 minutes\n",
      "Processing time to evaluate polarity scores of the articles at positions 200000 to 299999 : 29.55 minutes\n",
      "Processing time to evaluate polarity scores of the articles at positions 300000 to 399999 : 42.83 minutes\n",
      "Processing time to evaluate polarity scores of the articles at positions 400000 to 481161 : 26.19 minutes\n",
      "DONE! ;)\n"
     ]
    }
   ],
   "source": [
    "# Apply the previously defined function\n",
    "Vader_tx_polarity = eval_vader_polarity(fr_tx, fr_idx.fr_idx.values.tolist(), 'fr_vader_polarity_original', 100000, False)"
   ]
  },
  {
   "cell_type": "code",
   "execution_count": 10,
   "metadata": {},
   "outputs": [
    {
     "output_type": "execute_result",
     "data": {
      "text/plain": [
       "         Vader_polarity\n",
       "0                0.9785\n",
       "1               -0.7772\n",
       "2                0.7561\n",
       "3                0.8078\n",
       "4               -0.8205\n",
       "...                 ...\n",
       "2436478          0.4871\n",
       "2436479          0.9305\n",
       "2436480         -0.8833\n",
       "2436481          0.6072\n",
       "2436482         -0.6984\n",
       "\n",
       "[481162 rows x 1 columns]"
      ],
      "text/html": "<div>\n<style scoped>\n    .dataframe tbody tr th:only-of-type {\n        vertical-align: middle;\n    }\n\n    .dataframe tbody tr th {\n        vertical-align: top;\n    }\n\n    .dataframe thead th {\n        text-align: right;\n    }\n</style>\n<table border=\"1\" class=\"dataframe\">\n  <thead>\n    <tr style=\"text-align: right;\">\n      <th></th>\n      <th>Vader_polarity</th>\n    </tr>\n  </thead>\n  <tbody>\n    <tr>\n      <th>0</th>\n      <td>0.9785</td>\n    </tr>\n    <tr>\n      <th>1</th>\n      <td>-0.7772</td>\n    </tr>\n    <tr>\n      <th>2</th>\n      <td>0.7561</td>\n    </tr>\n    <tr>\n      <th>3</th>\n      <td>0.8078</td>\n    </tr>\n    <tr>\n      <th>4</th>\n      <td>-0.8205</td>\n    </tr>\n    <tr>\n      <th>...</th>\n      <td>...</td>\n    </tr>\n    <tr>\n      <th>2436478</th>\n      <td>0.4871</td>\n    </tr>\n    <tr>\n      <th>2436479</th>\n      <td>0.9305</td>\n    </tr>\n    <tr>\n      <th>2436480</th>\n      <td>-0.8833</td>\n    </tr>\n    <tr>\n      <th>2436481</th>\n      <td>0.6072</td>\n    </tr>\n    <tr>\n      <th>2436482</th>\n      <td>-0.6984</td>\n    </tr>\n  </tbody>\n</table>\n<p>481162 rows × 1 columns</p>\n</div>"
     },
     "metadata": {},
     "execution_count": 10
    }
   ],
   "source": [
    "# Take a look at the results\n",
    "Vader_tx_polarity"
   ]
  },
  {
   "cell_type": "code",
   "execution_count": 11,
   "metadata": {},
   "outputs": [],
   "source": [
    "# Read the results back in\n",
    "Vader_tx_polarity = pd.read_csv(\"Sentiment/Vader/VADER-fr/fr_vader_polarity_original.csv\", index_col = 0, dtype = {'Vader_polarity': float})"
   ]
  },
  {
   "cell_type": "code",
   "execution_count": 12,
   "metadata": {},
   "outputs": [
    {
     "output_type": "execute_result",
     "data": {
      "text/plain": [
       "         Vader_polarity\n",
       "0                0.9785\n",
       "1               -0.7772\n",
       "2                0.7561\n",
       "3                0.8078\n",
       "4               -0.8205\n",
       "...                 ...\n",
       "2436478          0.4871\n",
       "2436479          0.9305\n",
       "2436480         -0.8833\n",
       "2436481          0.6072\n",
       "2436482         -0.6984\n",
       "\n",
       "[481162 rows x 1 columns]"
      ],
      "text/html": "<div>\n<style scoped>\n    .dataframe tbody tr th:only-of-type {\n        vertical-align: middle;\n    }\n\n    .dataframe tbody tr th {\n        vertical-align: top;\n    }\n\n    .dataframe thead th {\n        text-align: right;\n    }\n</style>\n<table border=\"1\" class=\"dataframe\">\n  <thead>\n    <tr style=\"text-align: right;\">\n      <th></th>\n      <th>Vader_polarity</th>\n    </tr>\n  </thead>\n  <tbody>\n    <tr>\n      <th>0</th>\n      <td>0.9785</td>\n    </tr>\n    <tr>\n      <th>1</th>\n      <td>-0.7772</td>\n    </tr>\n    <tr>\n      <th>2</th>\n      <td>0.7561</td>\n    </tr>\n    <tr>\n      <th>3</th>\n      <td>0.8078</td>\n    </tr>\n    <tr>\n      <th>4</th>\n      <td>-0.8205</td>\n    </tr>\n    <tr>\n      <th>...</th>\n      <td>...</td>\n    </tr>\n    <tr>\n      <th>2436478</th>\n      <td>0.4871</td>\n    </tr>\n    <tr>\n      <th>2436479</th>\n      <td>0.9305</td>\n    </tr>\n    <tr>\n      <th>2436480</th>\n      <td>-0.8833</td>\n    </tr>\n    <tr>\n      <th>2436481</th>\n      <td>0.6072</td>\n    </tr>\n    <tr>\n      <th>2436482</th>\n      <td>-0.6984</td>\n    </tr>\n  </tbody>\n</table>\n<p>481162 rows × 1 columns</p>\n</div>"
     },
     "metadata": {},
     "execution_count": 12
    }
   ],
   "source": [
    "# Take a look at the read in results\n",
    "Vader_tx_polarity"
   ]
  },
  {
   "cell_type": "code",
   "execution_count": 13,
   "metadata": {},
   "outputs": [
    {
     "output_type": "stream",
     "name": "stdout",
     "text": [
      "The share of articles with a positive sentiment is 65.0 %\nThe share of articles with a negative sentiment is 34.0 %\n"
     ]
    },
    {
     "output_type": "execute_result",
     "data": {
      "text/plain": [
       "       Vader_polarity\n",
       "count      481162.000\n",
       "mean            0.284\n",
       "std             0.808\n",
       "min            -1.000\n",
       "25%            -0.700\n",
       "50%             0.782\n",
       "75%             0.966\n",
       "max             1.000"
      ],
      "text/html": "<div>\n<style scoped>\n    .dataframe tbody tr th:only-of-type {\n        vertical-align: middle;\n    }\n\n    .dataframe tbody tr th {\n        vertical-align: top;\n    }\n\n    .dataframe thead th {\n        text-align: right;\n    }\n</style>\n<table border=\"1\" class=\"dataframe\">\n  <thead>\n    <tr style=\"text-align: right;\">\n      <th></th>\n      <th>Vader_polarity</th>\n    </tr>\n  </thead>\n  <tbody>\n    <tr>\n      <th>count</th>\n      <td>481162.000</td>\n    </tr>\n    <tr>\n      <th>mean</th>\n      <td>0.284</td>\n    </tr>\n    <tr>\n      <th>std</th>\n      <td>0.808</td>\n    </tr>\n    <tr>\n      <th>min</th>\n      <td>-1.000</td>\n    </tr>\n    <tr>\n      <th>25%</th>\n      <td>-0.700</td>\n    </tr>\n    <tr>\n      <th>50%</th>\n      <td>0.782</td>\n    </tr>\n    <tr>\n      <th>75%</th>\n      <td>0.966</td>\n    </tr>\n    <tr>\n      <th>max</th>\n      <td>1.000</td>\n    </tr>\n  </tbody>\n</table>\n</div>"
     },
     "metadata": {},
     "execution_count": 13
    }
   ],
   "source": [
    "# Take a look at some summary statistics\n",
    "share_pos = np.round(np.sum(Vader_tx_polarity['Vader_polarity'] > 0) / len(Vader_tx_polarity),2)\n",
    "share_neg = np.round(np.sum(Vader_tx_polarity['Vader_polarity'] < 0) / len(Vader_tx_polarity),2)\n",
    "print('The share of articles with a positive sentiment is', 100*share_pos,'%')\n",
    "print('The share of articles with a negative sentiment is', 100*share_neg,'%')\n",
    "np.round(Vader_tx_polarity.describe(), 3)"
   ]
  },
  {
   "source": [
    "<div class=\"alert alert-info\" style=\"background-color:#5d3a8e; color:white; padding:0px 10px; border-radius:5px;\"><h2 style='margin:10px 5px'> \n",
    "3. Adjust the undesirable scoring function of the Vader sentiment package\n",
    "</h2>\n",
    "</div>\n",
    "\n",
    "Inspecting the source code of the sentiment algorithm used by the Vader implementation reveals that, on a highly abstracted level, the output polarity score for a document is calculated as follows:\n",
    "\n",
    "1. Initially assign a valence score of 0 to each token (Note: the valence score refers to a publicly assessed rating of a word's sentiment, ranging from -4 to 4, where -4 means extremely negative and 4 means extremely positive).\n",
    "\n",
    "2. For each token, check whether it is contained in the underlying sentiment lexicon and, if yes, store the corresponding valence score.\n",
    "\n",
    "3. Check for any intensifying, attenuating or negating words close to the token and, if required, adjust the valence score according to some specified rules.\n",
    "\n",
    "4. Sum up the adjusted valence scores obtained for the tokens in a document. For document $j$ this sum is denoted $s_j$ in the following.\n",
    "\n",
    "5. Obtain a document's polarity score (denoted as $p_j$) on a range from -1 to 1 by normalizing $s_j$ with the following scoring function: $$p_j = \\frac{s_j}{\\sqrt{s_j^2+15}}$$\n",
    "\n",
    "However, since (especially for documents with a very clear sentiment) the absolute value of $s_j$ is inherently larger for longer documents, this algorithm delivers more extreme outcomes (in the sense of polarity scores close to -1 or 1) for longer articles. Furthermore, this approach delivers a clearly non-Gaussian distributed polarity score, which is an undesirable property when using it as the dependent variable in a subsequent regression analysis. We claim that this issue can be resolved by taking the average adjusted valence score of all tokens that exhibit a non-zero entry instead, and devide this value by 4 to transform the valence score (ranging from -4 to 4) into a polarity score, ranging from -1 to 1. Formally, this implies the usage of the alternative scoring function\n",
    "$$p_j =  \\frac{1}{4}*\\frac{s_j}{l_j},$$\n",
    "where $l_j$ refers to the number of tokens in document $j$ exhibiting a non-zero valence score. Thus, in order to obtain polarity scores that are calculated by this alternative approach, we propose the follwoing procedure:\n",
    "\n",
    "1. Download the French Vader sentiment module from the according Github repository (link: https://github.com/thomas7lieues/vader_FR) and save the unzipped folder \"vader_FR-master\" (which contains the source files of the French Vader sentiment package) at some path (referred to as Path\\to\\vader_FR-master in the following). For me this path is C:\\Users\\Hallk\\Documents\\Programming\\Additional_stuff\\vader_FR-master.\n",
    "\n",
    "2. Navigate to the folder \"vaderSentiment_fr\" within the folder \"vader_FR-master\" (located at the following path: Path\\to\\vader_FR-master\\vaderSentiment_fr)\n",
    "\n",
    "3. Replace the original \"vaderSentiment.py\" file located in this folder with the adjusted \"vaderSentiment.py\" file in the \"vaderSentiment_fr\" folder provided by this thesis (scoring function has been adjusted as described above). (Note: Alternatively to applying steps 1-3 one could also just copy the entire \"vader_FR-master\" folder provided by this thesis to Path\\to\\vader_FR-master and continue with step 4)\n",
    "\n",
    "4. Open the commad window (i.e. cmd if you are using Windows as an operating system), activate your current working environment if desired (not necessary), and uninstall the current version of the French Vader sentiment package by entering the following command: pip uninstall vaderSentiment-fr\n",
    "\n",
    "5. Keep the command window opened and install the locally stored, slightly adjusted version of the French Vader sentiment package by entering the following command: pip install -e Path\\to\\vader_FR-master. For me the command is: pip install -e C:\\Users\\Hallk\\Documents\\Programming\\Additional_stuff\\vader_FR-master\n",
    "\n",
    "6. Restart Python and rerun the sentiment analysis. To do so, start by re-executing the first four cells of this Jupyter Notebook and then turn to the code provided below, which can be executed thereafter."
   ],
   "cell_type": "markdown",
   "metadata": {}
  },
  {
   "cell_type": "code",
   "execution_count": 5,
   "metadata": {},
   "outputs": [],
   "source": [
    "# Define a function that evaluates the polarity of the articles and stores the result to a correctly indexed csv file\n",
    "def eval_vader_polarity(tx, idx, name_output_file = 'fr_vader_polarity', batchsize = 100000, fuzzywuzzy = False):\n",
    "    # Notes: \n",
    "    ## tx has to be a list containing the (precleaned) fulltext articles\n",
    "    ## idx has to be a list containing the correctly ordered index\n",
    "    ## fuzzywuzzy indicates whether the sentiment analysis algorithm should also look for similar words whenever a word is not detected properly to overcome issues with typos (computationally more expensive!) \n",
    "\n",
    "    # Initialize a Vader class, which uses the language specific SentimentIntensityAnalyzer we imported above to assess text polarity (sentiment from -1 to 1) and subjectivity\n",
    "    sia = SentimentIntensityAnalyzer()\n",
    "\n",
    "    # Set up a loop to go through all articles and evaluate their polarity with Vader\n",
    "    i = 0\n",
    "    i_last_batch = 0\n",
    "    n_articles = len(tx)\n",
    "    pol = []\n",
    "    t = time.time()\n",
    "    for article in tx:\n",
    "        i = i + 1\n",
    "        if fuzzywuzzy:\n",
    "            pol.append(sia.polarity_scores_max(article)['compound'])\n",
    "        else:\n",
    "            pol.append(sia.polarity_scores(article)['compound'])\n",
    "        if i % batchsize == 0:\n",
    "            print(\"Processing time to evaluate polarity scores of the articles at positions\", i_last_batch, \"to\", i-1, \":\", str(round((time.time() - t)/60,2)), \"minutes\")\n",
    "            i_last_batch = i\n",
    "            t = time.time()\n",
    "        if i == n_articles:\n",
    "            print(\"Processing time to evaluate polarity scores of the articles at positions\", i_last_batch, \"to\", i-1, \":\", str(round((time.time() - t)/60,2)), \"minutes\")\n",
    "            print(\"DONE! ;)\")\n",
    "\n",
    "    # Create a correctly indexed dataframe\n",
    "    Vader_tx_polarity = pd.DataFrame(pol, index = idx, columns = ['Vader_polarity'])\n",
    "    # Save the results to a csv file\n",
    "    Vader_tx_polarity.to_csv(\"Sentiment/Vader/VADER-fr/\"+name_output_file+\".csv\", index = True)\n",
    "    # Return the results\n",
    "    return Vader_tx_polarity"
   ]
  },
  {
   "cell_type": "code",
   "execution_count": 6,
   "metadata": {},
   "outputs": [
    {
     "output_type": "stream",
     "name": "stdout",
     "text": [
      "Processing time to evaluate polarity scores of the articles at positions 0 to 99999 : 34.29 minutes\n",
      "Processing time to evaluate polarity scores of the articles at positions 100000 to 199999 : 34.79 minutes\n",
      "Processing time to evaluate polarity scores of the articles at positions 200000 to 299999 : 31.79 minutes\n",
      "Processing time to evaluate polarity scores of the articles at positions 300000 to 399999 : 43.54 minutes\n",
      "Processing time to evaluate polarity scores of the articles at positions 400000 to 481161 : 27.09 minutes\n",
      "DONE! ;)\n"
     ]
    }
   ],
   "source": [
    "# Apply the previously defined function\n",
    "Vader_tx_polarity = eval_vader_polarity(fr_tx, fr_idx.fr_idx.values.tolist(), 'fr_vader_polarity_adjusted', 100000, False)"
   ]
  },
  {
   "cell_type": "code",
   "execution_count": 7,
   "metadata": {},
   "outputs": [
    {
     "output_type": "execute_result",
     "data": {
      "text/plain": [
       "         Vader_polarity\n",
       "0                0.1582\n",
       "1               -0.1196\n",
       "2                0.0414\n",
       "3                0.0780\n",
       "4               -0.0869\n",
       "...                 ...\n",
       "2436478          0.0900\n",
       "2436479          0.1367\n",
       "2436480         -0.1520\n",
       "2436481          0.0740\n",
       "2436482         -0.0411\n",
       "\n",
       "[481162 rows x 1 columns]"
      ],
      "text/html": "<div>\n<style scoped>\n    .dataframe tbody tr th:only-of-type {\n        vertical-align: middle;\n    }\n\n    .dataframe tbody tr th {\n        vertical-align: top;\n    }\n\n    .dataframe thead th {\n        text-align: right;\n    }\n</style>\n<table border=\"1\" class=\"dataframe\">\n  <thead>\n    <tr style=\"text-align: right;\">\n      <th></th>\n      <th>Vader_polarity</th>\n    </tr>\n  </thead>\n  <tbody>\n    <tr>\n      <th>0</th>\n      <td>0.1582</td>\n    </tr>\n    <tr>\n      <th>1</th>\n      <td>-0.1196</td>\n    </tr>\n    <tr>\n      <th>2</th>\n      <td>0.0414</td>\n    </tr>\n    <tr>\n      <th>3</th>\n      <td>0.0780</td>\n    </tr>\n    <tr>\n      <th>4</th>\n      <td>-0.0869</td>\n    </tr>\n    <tr>\n      <th>...</th>\n      <td>...</td>\n    </tr>\n    <tr>\n      <th>2436478</th>\n      <td>0.0900</td>\n    </tr>\n    <tr>\n      <th>2436479</th>\n      <td>0.1367</td>\n    </tr>\n    <tr>\n      <th>2436480</th>\n      <td>-0.1520</td>\n    </tr>\n    <tr>\n      <th>2436481</th>\n      <td>0.0740</td>\n    </tr>\n    <tr>\n      <th>2436482</th>\n      <td>-0.0411</td>\n    </tr>\n  </tbody>\n</table>\n<p>481162 rows × 1 columns</p>\n</div>"
     },
     "metadata": {},
     "execution_count": 7
    }
   ],
   "source": [
    "# Take a look at the results\n",
    "Vader_tx_polarity"
   ]
  },
  {
   "cell_type": "code",
   "execution_count": 8,
   "metadata": {},
   "outputs": [],
   "source": [
    "# Read the results back in\n",
    "Vader_tx_polarity = pd.read_csv(\"Sentiment/Vader/VADER-fr/fr_vader_polarity_adjusted.csv\", index_col = 0, dtype = {'Vader_polarity': float})"
   ]
  },
  {
   "cell_type": "code",
   "execution_count": 9,
   "metadata": {},
   "outputs": [
    {
     "output_type": "execute_result",
     "data": {
      "text/plain": [
       "         Vader_polarity\n",
       "0                0.1582\n",
       "1               -0.1196\n",
       "2                0.0414\n",
       "3                0.0780\n",
       "4               -0.0869\n",
       "...                 ...\n",
       "2436478          0.0900\n",
       "2436479          0.1367\n",
       "2436480         -0.1520\n",
       "2436481          0.0740\n",
       "2436482         -0.0411\n",
       "\n",
       "[481162 rows x 1 columns]"
      ],
      "text/html": "<div>\n<style scoped>\n    .dataframe tbody tr th:only-of-type {\n        vertical-align: middle;\n    }\n\n    .dataframe tbody tr th {\n        vertical-align: top;\n    }\n\n    .dataframe thead th {\n        text-align: right;\n    }\n</style>\n<table border=\"1\" class=\"dataframe\">\n  <thead>\n    <tr style=\"text-align: right;\">\n      <th></th>\n      <th>Vader_polarity</th>\n    </tr>\n  </thead>\n  <tbody>\n    <tr>\n      <th>0</th>\n      <td>0.1582</td>\n    </tr>\n    <tr>\n      <th>1</th>\n      <td>-0.1196</td>\n    </tr>\n    <tr>\n      <th>2</th>\n      <td>0.0414</td>\n    </tr>\n    <tr>\n      <th>3</th>\n      <td>0.0780</td>\n    </tr>\n    <tr>\n      <th>4</th>\n      <td>-0.0869</td>\n    </tr>\n    <tr>\n      <th>...</th>\n      <td>...</td>\n    </tr>\n    <tr>\n      <th>2436478</th>\n      <td>0.0900</td>\n    </tr>\n    <tr>\n      <th>2436479</th>\n      <td>0.1367</td>\n    </tr>\n    <tr>\n      <th>2436480</th>\n      <td>-0.1520</td>\n    </tr>\n    <tr>\n      <th>2436481</th>\n      <td>0.0740</td>\n    </tr>\n    <tr>\n      <th>2436482</th>\n      <td>-0.0411</td>\n    </tr>\n  </tbody>\n</table>\n<p>481162 rows × 1 columns</p>\n</div>"
     },
     "metadata": {},
     "execution_count": 9
    }
   ],
   "source": [
    "# Take a look at the read in results\n",
    "Vader_tx_polarity"
   ]
  },
  {
   "cell_type": "code",
   "execution_count": 10,
   "metadata": {},
   "outputs": [
    {
     "output_type": "stream",
     "name": "stdout",
     "text": [
      "The share of articles with a positive sentiment is 65.0 %\nThe share of articles with a negative sentiment is 34.0 %\n"
     ]
    },
    {
     "output_type": "execute_result",
     "data": {
      "text/plain": [
       "       Vader_polarity\n",
       "count      481162.000\n",
       "mean            0.052\n",
       "std             0.172\n",
       "min            -1.000\n",
       "25%            -0.055\n",
       "50%             0.068\n",
       "75%             0.155\n",
       "max             1.000"
      ],
      "text/html": "<div>\n<style scoped>\n    .dataframe tbody tr th:only-of-type {\n        vertical-align: middle;\n    }\n\n    .dataframe tbody tr th {\n        vertical-align: top;\n    }\n\n    .dataframe thead th {\n        text-align: right;\n    }\n</style>\n<table border=\"1\" class=\"dataframe\">\n  <thead>\n    <tr style=\"text-align: right;\">\n      <th></th>\n      <th>Vader_polarity</th>\n    </tr>\n  </thead>\n  <tbody>\n    <tr>\n      <th>count</th>\n      <td>481162.000</td>\n    </tr>\n    <tr>\n      <th>mean</th>\n      <td>0.052</td>\n    </tr>\n    <tr>\n      <th>std</th>\n      <td>0.172</td>\n    </tr>\n    <tr>\n      <th>min</th>\n      <td>-1.000</td>\n    </tr>\n    <tr>\n      <th>25%</th>\n      <td>-0.055</td>\n    </tr>\n    <tr>\n      <th>50%</th>\n      <td>0.068</td>\n    </tr>\n    <tr>\n      <th>75%</th>\n      <td>0.155</td>\n    </tr>\n    <tr>\n      <th>max</th>\n      <td>1.000</td>\n    </tr>\n  </tbody>\n</table>\n</div>"
     },
     "metadata": {},
     "execution_count": 10
    }
   ],
   "source": [
    "# Take a look at some summary statistics\n",
    "share_pos = np.round(np.sum(Vader_tx_polarity['Vader_polarity'] > 0) / len(Vader_tx_polarity),2)\n",
    "share_neg = np.round(np.sum(Vader_tx_polarity['Vader_polarity'] < 0) / len(Vader_tx_polarity),2)\n",
    "print('The share of articles with a positive sentiment is', 100*share_pos,'%')\n",
    "print('The share of articles with a negative sentiment is', 100*share_neg,'%')\n",
    "np.round(Vader_tx_polarity.describe(), 3)"
   ]
  },
  {
   "source": [
    "<div class=\"alert alert-info\" style=\"background-color:#5d3a8e; color:white; padding:0px 10px; border-radius:5px;\"><h2 style='margin:10px 5px'> \n",
    "4. Extend the underlying sentiment lexicon with common covid-related words\n",
    "</h2>\n",
    "</div>\n",
    "\n",
    "According to the adjusted Vader polarity scores estimated in the previous section most covid related newspaper articles appear to convey a slightly positive sentiment. However, this observation is against our expectations and we therefore try to figure out what might be driving these sentiment classification outcomes to be predominantly positive in the following. Since the Vader sentiment classification package relies on a lexicon based algorithm, inspecting the underlying sentiment lexicon seems a good starting point thereunto. As such, we check whether the following phrases, which - partly intuitively and partly according to the main LDA topic models - are strongly indicative for an article to be covid-related, are captured by the used sentiment lexicon:\n",
    "\n",
    "- 'covid' ($\\rightarrow$ 'covid' in French)\n",
    "- 'corona' ($\\rightarrow$ 'covid'/'coronavirus' in French)\n",
    "- 'coronavirus' ($\\rightarrow$ 'coronavirus' in French)\n",
    "- 'virus' ($\\rightarrow$ 'virus' in French)\n",
    "- 'infection' ($\\rightarrow$ 'infection'/'contagion'/'contamination' in French)\n",
    "- 'infect' ($\\rightarrow$ 'infecter'/'contaminer' in French)\n",
    "- 'infected ($\\rightarrow$ 'infecté'/'contaminé' in French)\n",
    "- 'infectious' ($\\rightarrow$ 'infectieux'/'miasmatique' in French)\n",
    "- 'pandemic' ($\\rightarrow$ 'pandémie' in French)\n",
    "- 'epidemic' ($\\rightarrow$ 'épidémie' in French)\n",
    "- 'lockdown' ($\\rightarrow$ 'lockdown'/'confinement' in French)\n",
    "- 'crisis' ($\\rightarrow$ 'crise' in French)\n",
    "- 'quarantine' ($\\rightarrow$ 'quarantaine' in French)\n",
    "- 'hospitalisation' ($\\rightarrow$ 'hospitalisation' in French)\n",
    "- 'disease' ($\\rightarrow$ 'maladie' in French)\n",
    "\n",
    "Searching these words in the original French Vader lexicon reveals that most of them are not contained, meaning that most words in this list are not assigned an appropriate polarity score and therefore do not influence the overall polarity of the articles in which they appear. Since for all words in the above list it can reasonably be argued that they rather should convey a negative feeling, omitting them results in positively biased polarity scores for articles that contain them. Thus, we chase the following strategy to account for this issue: for each word listed above, we check whether the French equivalent or close synonyms of it are contained in the original French Vader lexicon in a first step. Thus, the following cases may occur:\n",
    "\n",
    " - Case 1 - The word itself as well as close synonyms of it are contained: in this case we check whether the valence score assigned to the focal word is negative and, if yes, leave the entry unchanged. Otherwise, we proceed as described in case 3.\n",
    "\n",
    " - Case 2 - The word itself is contained, but no close synonyms of it: in this case we check whether the valence score assigned to the focal word is negative and, if yes, leave the entry unchanged. Otherwise, we proceed as described in case 4.\n",
    "\n",
    " - Case 3 - A close synonym of the word is contained, but the word itself is not: in this case we check whether the valence score assigned to the synonym is negative and, if yes, assign the same valence score to the focal word. Otherwise, if the synonym's valence score is positive, we proceed as described in case 4.\n",
    "\n",
    " - Case 4 - Neither the word itself nor close synonyms of it are contained: in this case we start by checking whether the word's primary word (or a synonym's primary word) is contained in the lexicon and, if yes, assign the same valence score to the focal word. Otherwise, if the primary word is not contained, we continue by checking whether the German (or Italian) equivalent of the word is contained in the German Vader (or Italian sentix) sentiment lexicon. If yes, we assign the focal French word with the same valence score as observed in the German Vader lexicon (or with the valence score that corresponds to the polarity score observed in the Italian sentix lexicon (note: valence score = polarity score * 4)). If this approach also fails, we add the word and its synonyms with all grammatical cases or conjugations to the lexicon and assign a valence score of -4.\n",
    "\n",
    "According to this strategy, we apply the following editings to the French Vader lexicon:\n",
    "\n",
    "- 'covid' ($\\rightarrow$ 'covid' in French): not contained $\\rightarrow$ assigned with a valence score of -4 (added cases: 'covid')\n",
    "- 'corona' ($\\rightarrow$ 'covid'/'coronavirus' in French): 'covid' not contained $\\rightarrow$ assigned with a valence score of -4 (added cases: 'covid') / 'coronavirus' not contained $\\rightarrow$ assigned with a valence score of -4 (added cases: 'coronavirus')\n",
    "- 'coronavirus' ($\\rightarrow$ 'coronavirus' in French): not contained $\\rightarrow$ assigned with a valence score of -4 (added cases: 'coronavirus')\n",
    "- 'virus' ($\\rightarrow$ 'virus' in French): not contained $\\rightarrow$ assigned with a valence score of -4 (added cases: 'virus')\n",
    "- 'infection' ($\\rightarrow$ 'infection'/'contagion'/'contamination' in French): 'contagion' already contained with a valence score of -2.0 $\\rightarrow$ left unchanged / 'infection' not contained $\\rightarrow$ assigned with a valence score of -2.0 since it is a close synonym of 'contagion' (added cases: 'infection', 'infections') / 'contamination' not contained $\\rightarrow$ assigned with a valence score of -2.0 since it is a close synonym of 'contagion' (added cases: 'contamination', 'contaminations')\n",
    "- 'infect' ($\\rightarrow$ 'infecter'/'contaminer' in French): 'infecte' (i.e. the first conjugation of infecter) already contained with a valence score of -0.9 $\\rightarrow$ left unchanged, but added missing conjugations (added cases: 'infectons', 'infectez', 'infectent') / 'contamine' (i.e. the first conjugation of contaminer) already contained with a valence score of -2.2 $\\rightarrow$ left unchanged (Note: all conjugations are alreadey contained)\n",
    "- 'infected ($\\rightarrow$ 'infecté'/'contaminé' in French): 'infecté' already contained with a valence score of -2.2 $\\rightarrow$ left unchanged / 'contaminé' already contained with a valence score of -2.0 $\\rightarrow$ left unchanged\n",
    "- 'infectious' ($\\rightarrow$ 'infectieux'/'miasmatique' in French): neither 'infectieux' nor 'miasmatique' is contained $\\rightarrow$ both assigned with a valence score of -2.0 since the primary word of 'infectieux' is 'infection' and 'infectieux' is a close synonym of 'miasmatique' (added cases: 'infectieux', 'miasmatique', 'miasmatique', 'miasmatique')\n",
    "- 'pandemic' ($\\rightarrow$ 'pandémie' in French): not contained $\\rightarrow$ assigned with a valence score of -2.7 since this score is assigned to the German equivalent in the German Vader sentiment lexicon (added cases: 'pandémie')\n",
    "- 'epidemic' ($\\rightarrow$ 'épidémie' in French): not contained $\\rightarrow$ assigned with a valence score of -2.7 since this score is assigned to the German equivalent in the German Vader sentiment lexicon (added cases: 'épidémie')\n",
    "- 'lockdown' ($\\rightarrow$ 'lockdown'/'confinement' in French): 'lockdown' not contained $\\rightarrow$ assigned with a valence score of -4 (added cases: 'lockdown', 'lockdowns') / 'confinement' not contained $\\rightarrow$ assigned with a valence score of -4 (added cases: 'confinement', 'confinements')\n",
    "- 'crisis' ($\\rightarrow$ 'crise' in French): already contained with a valence score of -3.1 $\\rightarrow$ left unchanged\n",
    "- 'quarantine' ($\\rightarrow$ 'quarantaine' in French): not contained $\\rightarrow$ assigned with a valence score of -4 (added cases: 'quarantaine', 'quarantaines')\n",
    "- 'hospitalisation' ($\\rightarrow$ 'hospitalisation' in French): not contained $\\rightarrow$ assigned with a valence score of -4 (added cases: 'hospitalisation', 'hospitalisation')\n",
    "- 'disease' ($\\rightarrow$ 'maladie' in French): already contained with a valence score of -1.7 $\\rightarrow$ left unchanged\n",
    "\n",
    "After adjusting the sentiment lexicon as desired we use it to rerun the sentiment analysis. Thus, we have to apply the following steps:\n",
    "\n",
    "1. Navigate to the folder \"vaderSentiment_fr\" within the folder \"vader_FR-master\" (located at Path\\to\\vader_FR-master\\vaderSentiment_fr as described in the previous section) in which the previously created adjusted French Vader module is located. For me this means to navigate to C:\\Users\\Hallk\\Documents\\Programming\\Additional_stuff\\vader_FR-master\\vaderSentiment_fr.\n",
    "\n",
    "2. Replace the original lexicon file \"fr_lexicon.txt\" in your \"vaderSentiment_fr\" folder with the extended \"fr_lexicon.txt\" file located in the subfolder \"sentiment_lexicon\\extended\" within the \"vaderSentiment_fr\" folder provided by this thesis.\n",
    "\n",
    "3. Open the commad window (i.e. cmd if you are using Windows as an operating system), activate your current working environment if desired (not necessary), and uninstall the current version of the French Vader sentiment package by entering the following command: pip uninstall vaderSentiment-fr\n",
    "\n",
    "4. Keep the command window opened and install the locally stored, slightly adjusted version of the French Vader sentiment package by entering the following command: pip install -e Path\\to\\vader_FR-master. For me the command is: pip install -e C:\\Users\\Hallk\\Documents\\Programming\\Additional_stuff\\vader_FR-master\n",
    "\n",
    "5. Restart Python and rerun the sentiment analysis. To do so, start by re-executing the first four cells of this Jupyter Notebook and then turn to the code provided below, which can be executed thereafter."
   ],
   "cell_type": "markdown",
   "metadata": {}
  },
  {
   "cell_type": "code",
   "execution_count": 5,
   "metadata": {},
   "outputs": [],
   "source": [
    "# Define a function that evaluates the polarity of the articles and stores the result to a correctly indexed csv file\n",
    "def eval_vader_polarity(tx, idx, name_output_file = 'fr_vader_polarity', batchsize = 100000, fuzzywuzzy = False):\n",
    "    # Notes: \n",
    "    ## tx has to be a list containing the (precleaned) fulltext articles\n",
    "    ## idx has to be a list containing the correctly ordered index\n",
    "    ## fuzzywuzzy indicates whether the sentiment analysis algorithm should also look for similar words whenever a word is not detected properly to overcome issues with typos (computationally more expensive!) \n",
    "\n",
    "    # Initialize a Vader class, which uses the language specific SentimentIntensityAnalyzer we imported above to assess text polarity (sentiment from -1 to 1) and subjectivity\n",
    "    sia = SentimentIntensityAnalyzer()\n",
    "\n",
    "    # Set up a loop to go through all articles and evaluate their polarity with Vader\n",
    "    i = 0\n",
    "    i_last_batch = 0\n",
    "    n_articles = len(tx)\n",
    "    pol = []\n",
    "    t = time.time()\n",
    "    for article in tx:\n",
    "        i = i + 1\n",
    "        if fuzzywuzzy:\n",
    "            pol.append(sia.polarity_scores_max(article)['compound'])\n",
    "        else:\n",
    "            pol.append(sia.polarity_scores(article)['compound'])\n",
    "        if i % batchsize == 0:\n",
    "            print(\"Processing time to evaluate polarity scores of the articles at positions\", i_last_batch, \"to\", i-1, \":\", str(round((time.time() - t)/60,2)), \"minutes\")\n",
    "            i_last_batch = i\n",
    "            t = time.time()\n",
    "        if i == n_articles:\n",
    "            print(\"Processing time to evaluate polarity scores of the articles at positions\", i_last_batch, \"to\", i-1, \":\", str(round((time.time() - t)/60,2)), \"minutes\")\n",
    "            print(\"DONE! ;)\")\n",
    "\n",
    "    # Create a correctly indexed dataframe\n",
    "    Vader_tx_polarity = pd.DataFrame(pol, index = idx, columns = ['Vader_polarity'])\n",
    "    # Save the results to a csv file\n",
    "    Vader_tx_polarity.to_csv(\"Sentiment/Vader/VADER-fr/\"+name_output_file+\".csv\", index = True)\n",
    "    # Return the results\n",
    "    return Vader_tx_polarity"
   ]
  },
  {
   "cell_type": "code",
   "execution_count": 6,
   "metadata": {},
   "outputs": [
    {
     "output_type": "stream",
     "name": "stdout",
     "text": [
      "Processing time to evaluate polarity scores of the articles at positions 0 to 99999 : 34.7 minutes\n",
      "Processing time to evaluate polarity scores of the articles at positions 100000 to 199999 : 33.95 minutes\n",
      "Processing time to evaluate polarity scores of the articles at positions 200000 to 299999 : 30.74 minutes\n",
      "Processing time to evaluate polarity scores of the articles at positions 300000 to 399999 : 44.44 minutes\n",
      "Processing time to evaluate polarity scores of the articles at positions 400000 to 481161 : 28.64 minutes\n",
      "DONE! ;)\n"
     ]
    }
   ],
   "source": [
    "# Apply the previously defined function\n",
    "Vader_tx_polarity = eval_vader_polarity(fr_tx, fr_idx.fr_idx.values.tolist(), 'fr_vader_polarity_adjusted_2', 100000, False)"
   ]
  },
  {
   "cell_type": "code",
   "execution_count": 7,
   "metadata": {},
   "outputs": [
    {
     "output_type": "execute_result",
     "data": {
      "text/plain": [
       "         Vader_polarity\n",
       "0                0.1582\n",
       "1               -0.1996\n",
       "2               -0.0218\n",
       "3                0.0780\n",
       "4               -0.1215\n",
       "...                 ...\n",
       "2436478          0.0900\n",
       "2436479         -0.2108\n",
       "2436480         -0.2173\n",
       "2436481          0.0740\n",
       "2436482         -0.0411\n",
       "\n",
       "[481162 rows x 1 columns]"
      ],
      "text/html": "<div>\n<style scoped>\n    .dataframe tbody tr th:only-of-type {\n        vertical-align: middle;\n    }\n\n    .dataframe tbody tr th {\n        vertical-align: top;\n    }\n\n    .dataframe thead th {\n        text-align: right;\n    }\n</style>\n<table border=\"1\" class=\"dataframe\">\n  <thead>\n    <tr style=\"text-align: right;\">\n      <th></th>\n      <th>Vader_polarity</th>\n    </tr>\n  </thead>\n  <tbody>\n    <tr>\n      <th>0</th>\n      <td>0.1582</td>\n    </tr>\n    <tr>\n      <th>1</th>\n      <td>-0.1996</td>\n    </tr>\n    <tr>\n      <th>2</th>\n      <td>-0.0218</td>\n    </tr>\n    <tr>\n      <th>3</th>\n      <td>0.0780</td>\n    </tr>\n    <tr>\n      <th>4</th>\n      <td>-0.1215</td>\n    </tr>\n    <tr>\n      <th>...</th>\n      <td>...</td>\n    </tr>\n    <tr>\n      <th>2436478</th>\n      <td>0.0900</td>\n    </tr>\n    <tr>\n      <th>2436479</th>\n      <td>-0.2108</td>\n    </tr>\n    <tr>\n      <th>2436480</th>\n      <td>-0.2173</td>\n    </tr>\n    <tr>\n      <th>2436481</th>\n      <td>0.0740</td>\n    </tr>\n    <tr>\n      <th>2436482</th>\n      <td>-0.0411</td>\n    </tr>\n  </tbody>\n</table>\n<p>481162 rows × 1 columns</p>\n</div>"
     },
     "metadata": {},
     "execution_count": 7
    }
   ],
   "source": [
    "# Take a look at the results\n",
    "Vader_tx_polarity"
   ]
  },
  {
   "cell_type": "code",
   "execution_count": 8,
   "metadata": {},
   "outputs": [
    {
     "output_type": "execute_result",
     "data": {
      "text/plain": [
       "         Vader_polarity\n",
       "0                0.1582\n",
       "1               -0.1996\n",
       "2               -0.0218\n",
       "3                0.0780\n",
       "4               -0.1215\n",
       "...                 ...\n",
       "2436478          0.0900\n",
       "2436479         -0.2108\n",
       "2436480         -0.2173\n",
       "2436481          0.0740\n",
       "2436482         -0.0411\n",
       "\n",
       "[481162 rows x 1 columns]"
      ],
      "text/html": "<div>\n<style scoped>\n    .dataframe tbody tr th:only-of-type {\n        vertical-align: middle;\n    }\n\n    .dataframe tbody tr th {\n        vertical-align: top;\n    }\n\n    .dataframe thead th {\n        text-align: right;\n    }\n</style>\n<table border=\"1\" class=\"dataframe\">\n  <thead>\n    <tr style=\"text-align: right;\">\n      <th></th>\n      <th>Vader_polarity</th>\n    </tr>\n  </thead>\n  <tbody>\n    <tr>\n      <th>0</th>\n      <td>0.1582</td>\n    </tr>\n    <tr>\n      <th>1</th>\n      <td>-0.1996</td>\n    </tr>\n    <tr>\n      <th>2</th>\n      <td>-0.0218</td>\n    </tr>\n    <tr>\n      <th>3</th>\n      <td>0.0780</td>\n    </tr>\n    <tr>\n      <th>4</th>\n      <td>-0.1215</td>\n    </tr>\n    <tr>\n      <th>...</th>\n      <td>...</td>\n    </tr>\n    <tr>\n      <th>2436478</th>\n      <td>0.0900</td>\n    </tr>\n    <tr>\n      <th>2436479</th>\n      <td>-0.2108</td>\n    </tr>\n    <tr>\n      <th>2436480</th>\n      <td>-0.2173</td>\n    </tr>\n    <tr>\n      <th>2436481</th>\n      <td>0.0740</td>\n    </tr>\n    <tr>\n      <th>2436482</th>\n      <td>-0.0411</td>\n    </tr>\n  </tbody>\n</table>\n<p>481162 rows × 1 columns</p>\n</div>"
     },
     "metadata": {},
     "execution_count": 8
    }
   ],
   "source": [
    "# Read the results back in\n",
    "Vader_tx_polarity = pd.read_csv(\"Sentiment/Vader/VADER-fr/fr_vader_polarity_adjusted_2.csv\", index_col = 0, dtype = {'Vader_polarity': float})\n",
    "# Take a look at the read in results\n",
    "Vader_tx_polarity"
   ]
  },
  {
   "cell_type": "code",
   "execution_count": 9,
   "metadata": {},
   "outputs": [
    {
     "output_type": "stream",
     "name": "stdout",
     "text": [
      "The share of articles with a positive sentiment is 60.0 %\nThe share of articles with a negative sentiment is 40.0 %\n"
     ]
    },
    {
     "output_type": "execute_result",
     "data": {
      "text/plain": [
       "       Vader_polarity\n",
       "count      481162.000\n",
       "mean            0.032\n",
       "std             0.183\n",
       "min            -1.000\n",
       "25%            -0.083\n",
       "50%             0.052\n",
       "75%             0.145\n",
       "max             1.000"
      ],
      "text/html": "<div>\n<style scoped>\n    .dataframe tbody tr th:only-of-type {\n        vertical-align: middle;\n    }\n\n    .dataframe tbody tr th {\n        vertical-align: top;\n    }\n\n    .dataframe thead th {\n        text-align: right;\n    }\n</style>\n<table border=\"1\" class=\"dataframe\">\n  <thead>\n    <tr style=\"text-align: right;\">\n      <th></th>\n      <th>Vader_polarity</th>\n    </tr>\n  </thead>\n  <tbody>\n    <tr>\n      <th>count</th>\n      <td>481162.000</td>\n    </tr>\n    <tr>\n      <th>mean</th>\n      <td>0.032</td>\n    </tr>\n    <tr>\n      <th>std</th>\n      <td>0.183</td>\n    </tr>\n    <tr>\n      <th>min</th>\n      <td>-1.000</td>\n    </tr>\n    <tr>\n      <th>25%</th>\n      <td>-0.083</td>\n    </tr>\n    <tr>\n      <th>50%</th>\n      <td>0.052</td>\n    </tr>\n    <tr>\n      <th>75%</th>\n      <td>0.145</td>\n    </tr>\n    <tr>\n      <th>max</th>\n      <td>1.000</td>\n    </tr>\n  </tbody>\n</table>\n</div>"
     },
     "metadata": {},
     "execution_count": 9
    }
   ],
   "source": [
    "# Take a look at some summary statistics\n",
    "share_pos = np.round(np.sum(Vader_tx_polarity['Vader_polarity'] > 0) / len(Vader_tx_polarity),2)\n",
    "share_neg = np.round(np.sum(Vader_tx_polarity['Vader_polarity'] < 0) / len(Vader_tx_polarity),2)\n",
    "print('The share of articles with a positive sentiment is', 100*share_pos,'%')\n",
    "print('The share of articles with a negative sentiment is', 100*share_neg,'%')\n",
    "np.round(Vader_tx_polarity.describe(), 3)"
   ]
  },
  {
   "source": [
    "<div class=\"alert alert-info\" style=\"background-color:#5d3a8e; color:white; padding:0px 10px; border-radius:5px;\"><h2 style='margin:10px 5px'> \n",
    "5. Merge the original and adjusted Vader polarity scores\n",
    "</h2>\n",
    "</div>"
   ],
   "cell_type": "markdown",
   "metadata": {}
  },
  {
   "cell_type": "code",
   "execution_count": 10,
   "metadata": {},
   "outputs": [
    {
     "output_type": "execute_result",
     "data": {
      "text/plain": [
       "         Vader_polarity  Vader_polarity_adj  Vader_polarity_adj_2\n",
       "0                0.9785              0.1582                0.1582\n",
       "1               -0.7772             -0.1196               -0.1996\n",
       "2                0.7561              0.0414               -0.0218\n",
       "3                0.8078              0.0780                0.0780\n",
       "4               -0.8205             -0.0869               -0.1215\n",
       "...                 ...                 ...                   ...\n",
       "2436478          0.4871              0.0900                0.0900\n",
       "2436479          0.9305              0.1367               -0.2108\n",
       "2436480         -0.8833             -0.1520               -0.2173\n",
       "2436481          0.6072              0.0740                0.0740\n",
       "2436482         -0.6984             -0.0411               -0.0411\n",
       "\n",
       "[481162 rows x 3 columns]"
      ],
      "text/html": "<div>\n<style scoped>\n    .dataframe tbody tr th:only-of-type {\n        vertical-align: middle;\n    }\n\n    .dataframe tbody tr th {\n        vertical-align: top;\n    }\n\n    .dataframe thead th {\n        text-align: right;\n    }\n</style>\n<table border=\"1\" class=\"dataframe\">\n  <thead>\n    <tr style=\"text-align: right;\">\n      <th></th>\n      <th>Vader_polarity</th>\n      <th>Vader_polarity_adj</th>\n      <th>Vader_polarity_adj_2</th>\n    </tr>\n  </thead>\n  <tbody>\n    <tr>\n      <th>0</th>\n      <td>0.9785</td>\n      <td>0.1582</td>\n      <td>0.1582</td>\n    </tr>\n    <tr>\n      <th>1</th>\n      <td>-0.7772</td>\n      <td>-0.1196</td>\n      <td>-0.1996</td>\n    </tr>\n    <tr>\n      <th>2</th>\n      <td>0.7561</td>\n      <td>0.0414</td>\n      <td>-0.0218</td>\n    </tr>\n    <tr>\n      <th>3</th>\n      <td>0.8078</td>\n      <td>0.0780</td>\n      <td>0.0780</td>\n    </tr>\n    <tr>\n      <th>4</th>\n      <td>-0.8205</td>\n      <td>-0.0869</td>\n      <td>-0.1215</td>\n    </tr>\n    <tr>\n      <th>...</th>\n      <td>...</td>\n      <td>...</td>\n      <td>...</td>\n    </tr>\n    <tr>\n      <th>2436478</th>\n      <td>0.4871</td>\n      <td>0.0900</td>\n      <td>0.0900</td>\n    </tr>\n    <tr>\n      <th>2436479</th>\n      <td>0.9305</td>\n      <td>0.1367</td>\n      <td>-0.2108</td>\n    </tr>\n    <tr>\n      <th>2436480</th>\n      <td>-0.8833</td>\n      <td>-0.1520</td>\n      <td>-0.2173</td>\n    </tr>\n    <tr>\n      <th>2436481</th>\n      <td>0.6072</td>\n      <td>0.0740</td>\n      <td>0.0740</td>\n    </tr>\n    <tr>\n      <th>2436482</th>\n      <td>-0.6984</td>\n      <td>-0.0411</td>\n      <td>-0.0411</td>\n    </tr>\n  </tbody>\n</table>\n<p>481162 rows × 3 columns</p>\n</div>"
     },
     "metadata": {},
     "execution_count": 10
    }
   ],
   "source": [
    "# Read in the Dataframe containing the original polarity scores\n",
    "Vader_tx_polarity = pd.read_csv(\"Sentiment/Vader/VADER-fr/fr_vader_polarity_original.csv\", index_col = 0, dtype = {'Vader_polarity': float})\n",
    "# Read in the Dataframe containing the adjusted polarity scores\n",
    "Vader_tx_polarity_adj = pd.read_csv(\"Sentiment/Vader/VADER-fr/fr_vader_polarity_adjusted.csv\", index_col = 0, dtype = {'Vader_polarity': float})\n",
    "# Read in the Dataframe containing the adjusted polarity scores that rely on the extended sentiment lexicon\n",
    "Vader_tx_polarity_adj_2 = pd.read_csv(\"Sentiment/Vader/VADER-fr/fr_vader_polarity_adjusted_2.csv\", index_col = 0, dtype = {'Vader_polarity': float})\n",
    "# Add a column containing the adjusted polarity scores to the dataframe containing the original polarity scores\n",
    "Vader_tx_polarity['Vader_polarity_adj'] = Vader_tx_polarity_adj['Vader_polarity']\n",
    "# Add a column containing the adjusted polarity scores that rely on the extended sentiment lexicon to the dataframe containing the original polarity scores\n",
    "Vader_tx_polarity['Vader_polarity_adj_2'] = Vader_tx_polarity_adj_2['Vader_polarity']\n",
    "# Take a look at the resulting Dataframe\n",
    "Vader_tx_polarity"
   ]
  },
  {
   "cell_type": "code",
   "execution_count": 11,
   "metadata": {},
   "outputs": [
    {
     "output_type": "execute_result",
     "data": {
      "text/plain": [
       "       Vader_polarity  Vader_polarity_adj  Vader_polarity_adj_2\n",
       "count      481162.000          481162.000            481162.000\n",
       "mean            0.284               0.052                 0.032\n",
       "std             0.808               0.172                 0.183\n",
       "min            -1.000              -1.000                -1.000\n",
       "25%            -0.700              -0.055                -0.083\n",
       "50%             0.782               0.068                 0.052\n",
       "75%             0.966               0.155                 0.145\n",
       "max             1.000               1.000                 1.000"
      ],
      "text/html": "<div>\n<style scoped>\n    .dataframe tbody tr th:only-of-type {\n        vertical-align: middle;\n    }\n\n    .dataframe tbody tr th {\n        vertical-align: top;\n    }\n\n    .dataframe thead th {\n        text-align: right;\n    }\n</style>\n<table border=\"1\" class=\"dataframe\">\n  <thead>\n    <tr style=\"text-align: right;\">\n      <th></th>\n      <th>Vader_polarity</th>\n      <th>Vader_polarity_adj</th>\n      <th>Vader_polarity_adj_2</th>\n    </tr>\n  </thead>\n  <tbody>\n    <tr>\n      <th>count</th>\n      <td>481162.000</td>\n      <td>481162.000</td>\n      <td>481162.000</td>\n    </tr>\n    <tr>\n      <th>mean</th>\n      <td>0.284</td>\n      <td>0.052</td>\n      <td>0.032</td>\n    </tr>\n    <tr>\n      <th>std</th>\n      <td>0.808</td>\n      <td>0.172</td>\n      <td>0.183</td>\n    </tr>\n    <tr>\n      <th>min</th>\n      <td>-1.000</td>\n      <td>-1.000</td>\n      <td>-1.000</td>\n    </tr>\n    <tr>\n      <th>25%</th>\n      <td>-0.700</td>\n      <td>-0.055</td>\n      <td>-0.083</td>\n    </tr>\n    <tr>\n      <th>50%</th>\n      <td>0.782</td>\n      <td>0.068</td>\n      <td>0.052</td>\n    </tr>\n    <tr>\n      <th>75%</th>\n      <td>0.966</td>\n      <td>0.155</td>\n      <td>0.145</td>\n    </tr>\n    <tr>\n      <th>max</th>\n      <td>1.000</td>\n      <td>1.000</td>\n      <td>1.000</td>\n    </tr>\n  </tbody>\n</table>\n</div>"
     },
     "metadata": {},
     "execution_count": 11
    }
   ],
   "source": [
    "# Take a look at some summary statistics\n",
    "np.round(Vader_tx_polarity.describe(), 3)"
   ]
  },
  {
   "cell_type": "code",
   "execution_count": 12,
   "metadata": {},
   "outputs": [
    {
     "output_type": "display_data",
     "data": {
      "text/plain": "<Figure size 720x576 with 1 Axes>",
      "image/svg+xml": "<?xml version=\"1.0\" encoding=\"utf-8\" standalone=\"no\"?>\r\n<!DOCTYPE svg PUBLIC \"-//W3C//DTD SVG 1.1//EN\"\r\n  \"http://www.w3.org/Graphics/SVG/1.1/DTD/svg11.dtd\">\r\n<!-- Created with matplotlib (https://matplotlib.org/) -->\r\n<svg height=\"501.665pt\" version=\"1.1\" viewBox=\"0 0 620.99625 501.665\" width=\"620.99625pt\" xmlns=\"http://www.w3.org/2000/svg\" xmlns:xlink=\"http://www.w3.org/1999/xlink\">\r\n <metadata>\r\n  <rdf:RDF xmlns:cc=\"http://creativecommons.org/ns#\" xmlns:dc=\"http://purl.org/dc/elements/1.1/\" xmlns:rdf=\"http://www.w3.org/1999/02/22-rdf-syntax-ns#\">\r\n   <cc:Work>\r\n    <dc:type rdf:resource=\"http://purl.org/dc/dcmitype/StillImage\"/>\r\n    <dc:date>2021-06-10T22:19:01.415487</dc:date>\r\n    <dc:format>image/svg+xml</dc:format>\r\n    <dc:creator>\r\n     <cc:Agent>\r\n      <dc:title>Matplotlib v3.3.4, https://matplotlib.org/</dc:title>\r\n     </cc:Agent>\r\n    </dc:creator>\r\n   </cc:Work>\r\n  </rdf:RDF>\r\n </metadata>\r\n <defs>\r\n  <style type=\"text/css\">*{stroke-linecap:butt;stroke-linejoin:round;}</style>\r\n </defs>\r\n <g id=\"figure_1\">\r\n  <g id=\"patch_1\">\r\n   <path d=\"M 0 501.665 \r\nL 620.99625 501.665 \r\nL 620.99625 0 \r\nL 0 0 \r\nz\r\n\" style=\"fill:none;\"/>\r\n  </g>\r\n  <g id=\"axes_1\">\r\n   <g id=\"patch_2\">\r\n    <path d=\"M 47.6525 460.2375 \r\nL 605.6525 460.2375 \r\nL 605.6525 25.3575 \r\nL 47.6525 25.3575 \r\nz\r\n\" style=\"fill:#ffffff;\"/>\r\n   </g>\r\n   <g id=\"PolyCollection_1\">\r\n    <defs>\r\n     <path d=\"M 73.016136 -41.919926 \r\nL 73.016136 -41.4275 \r\nL 75.565246 -41.4275 \r\nL 78.114355 -41.4275 \r\nL 80.663464 -41.4275 \r\nL 83.212573 -41.4275 \r\nL 85.761682 -41.4275 \r\nL 88.310791 -41.4275 \r\nL 90.859901 -41.4275 \r\nL 93.40901 -41.4275 \r\nL 95.958119 -41.4275 \r\nL 98.507228 -41.4275 \r\nL 101.056337 -41.4275 \r\nL 103.605447 -41.4275 \r\nL 106.154556 -41.4275 \r\nL 108.703665 -41.4275 \r\nL 111.252774 -41.4275 \r\nL 113.801883 -41.4275 \r\nL 116.350992 -41.4275 \r\nL 118.900102 -41.4275 \r\nL 121.449211 -41.4275 \r\nL 123.99832 -41.4275 \r\nL 126.547429 -41.4275 \r\nL 129.096538 -41.4275 \r\nL 131.645648 -41.4275 \r\nL 134.194757 -41.4275 \r\nL 136.743866 -41.4275 \r\nL 139.292975 -41.4275 \r\nL 141.842084 -41.4275 \r\nL 144.391193 -41.4275 \r\nL 146.940303 -41.4275 \r\nL 149.489412 -41.4275 \r\nL 152.038521 -41.4275 \r\nL 154.58763 -41.4275 \r\nL 157.136739 -41.4275 \r\nL 159.685849 -41.4275 \r\nL 162.234958 -41.4275 \r\nL 164.784067 -41.4275 \r\nL 167.333176 -41.4275 \r\nL 169.882285 -41.4275 \r\nL 172.431394 -41.4275 \r\nL 174.980504 -41.4275 \r\nL 177.529613 -41.4275 \r\nL 180.078722 -41.4275 \r\nL 182.627831 -41.4275 \r\nL 185.17694 -41.4275 \r\nL 187.72605 -41.4275 \r\nL 190.275159 -41.4275 \r\nL 192.824268 -41.4275 \r\nL 195.373377 -41.4275 \r\nL 197.922486 -41.4275 \r\nL 200.471595 -41.4275 \r\nL 203.020705 -41.4275 \r\nL 205.569814 -41.4275 \r\nL 208.118923 -41.4275 \r\nL 210.668032 -41.4275 \r\nL 213.217141 -41.4275 \r\nL 215.766251 -41.4275 \r\nL 218.31536 -41.4275 \r\nL 220.864469 -41.4275 \r\nL 223.413578 -41.4275 \r\nL 225.962687 -41.4275 \r\nL 228.511796 -41.4275 \r\nL 231.060906 -41.4275 \r\nL 233.610015 -41.4275 \r\nL 236.159124 -41.4275 \r\nL 238.708233 -41.4275 \r\nL 241.257342 -41.4275 \r\nL 243.806452 -41.4275 \r\nL 246.355561 -41.4275 \r\nL 248.90467 -41.4275 \r\nL 251.453779 -41.4275 \r\nL 254.002888 -41.4275 \r\nL 256.551997 -41.4275 \r\nL 259.101107 -41.4275 \r\nL 261.650216 -41.4275 \r\nL 264.199325 -41.4275 \r\nL 266.748434 -41.4275 \r\nL 269.297543 -41.4275 \r\nL 271.846653 -41.4275 \r\nL 274.395762 -41.4275 \r\nL 276.944871 -41.4275 \r\nL 279.49398 -41.4275 \r\nL 282.043089 -41.4275 \r\nL 284.592198 -41.4275 \r\nL 287.141308 -41.4275 \r\nL 289.690417 -41.4275 \r\nL 292.239526 -41.4275 \r\nL 294.788635 -41.4275 \r\nL 297.337744 -41.4275 \r\nL 299.886854 -41.4275 \r\nL 302.435963 -41.4275 \r\nL 304.985072 -41.4275 \r\nL 307.534181 -41.4275 \r\nL 310.08329 -41.4275 \r\nL 312.632399 -41.4275 \r\nL 315.181509 -41.4275 \r\nL 317.730618 -41.4275 \r\nL 320.279727 -41.4275 \r\nL 322.828836 -41.4275 \r\nL 325.377945 -41.4275 \r\nL 327.927055 -41.4275 \r\nL 330.476164 -41.4275 \r\nL 333.025273 -41.4275 \r\nL 335.574382 -41.4275 \r\nL 338.123491 -41.4275 \r\nL 340.672601 -41.4275 \r\nL 343.22171 -41.4275 \r\nL 345.770819 -41.4275 \r\nL 348.319928 -41.4275 \r\nL 350.869037 -41.4275 \r\nL 353.418146 -41.4275 \r\nL 355.967256 -41.4275 \r\nL 358.516365 -41.4275 \r\nL 361.065474 -41.4275 \r\nL 363.614583 -41.4275 \r\nL 366.163692 -41.4275 \r\nL 368.712802 -41.4275 \r\nL 371.261911 -41.4275 \r\nL 373.81102 -41.4275 \r\nL 376.360129 -41.4275 \r\nL 378.909238 -41.4275 \r\nL 381.458347 -41.4275 \r\nL 384.007457 -41.4275 \r\nL 386.556566 -41.4275 \r\nL 389.105675 -41.4275 \r\nL 391.654784 -41.4275 \r\nL 394.203893 -41.4275 \r\nL 396.753003 -41.4275 \r\nL 399.302112 -41.4275 \r\nL 401.851221 -41.4275 \r\nL 404.40033 -41.4275 \r\nL 406.949439 -41.4275 \r\nL 409.498548 -41.4275 \r\nL 412.047658 -41.4275 \r\nL 414.596767 -41.4275 \r\nL 417.145876 -41.4275 \r\nL 419.694985 -41.4275 \r\nL 422.244094 -41.4275 \r\nL 424.793204 -41.4275 \r\nL 427.342313 -41.4275 \r\nL 429.891422 -41.4275 \r\nL 432.440531 -41.4275 \r\nL 434.98964 -41.4275 \r\nL 437.538749 -41.4275 \r\nL 440.087859 -41.4275 \r\nL 442.636968 -41.4275 \r\nL 445.186077 -41.4275 \r\nL 447.735186 -41.4275 \r\nL 450.284295 -41.4275 \r\nL 452.833405 -41.4275 \r\nL 455.382514 -41.4275 \r\nL 457.931623 -41.4275 \r\nL 460.480732 -41.4275 \r\nL 463.029841 -41.4275 \r\nL 465.57895 -41.4275 \r\nL 468.12806 -41.4275 \r\nL 470.677169 -41.4275 \r\nL 473.226278 -41.4275 \r\nL 475.775387 -41.4275 \r\nL 478.324496 -41.4275 \r\nL 480.873606 -41.4275 \r\nL 483.422715 -41.4275 \r\nL 485.971824 -41.4275 \r\nL 488.520933 -41.4275 \r\nL 491.070042 -41.4275 \r\nL 493.619151 -41.4275 \r\nL 496.168261 -41.4275 \r\nL 498.71737 -41.4275 \r\nL 501.266479 -41.4275 \r\nL 503.815588 -41.4275 \r\nL 506.364697 -41.4275 \r\nL 508.913807 -41.4275 \r\nL 511.462916 -41.4275 \r\nL 514.012025 -41.4275 \r\nL 516.561134 -41.4275 \r\nL 519.110243 -41.4275 \r\nL 521.659352 -41.4275 \r\nL 524.208462 -41.4275 \r\nL 526.757571 -41.4275 \r\nL 529.30668 -41.4275 \r\nL 531.855789 -41.4275 \r\nL 534.404898 -41.4275 \r\nL 536.954008 -41.4275 \r\nL 539.503117 -41.4275 \r\nL 542.052226 -41.4275 \r\nL 544.601335 -41.4275 \r\nL 547.150444 -41.4275 \r\nL 549.699553 -41.4275 \r\nL 552.248663 -41.4275 \r\nL 554.797772 -41.4275 \r\nL 557.346881 -41.4275 \r\nL 559.89599 -41.4275 \r\nL 562.445099 -41.4275 \r\nL 564.994209 -41.4275 \r\nL 567.543318 -41.4275 \r\nL 570.092427 -41.4275 \r\nL 572.641536 -41.4275 \r\nL 575.190645 -41.4275 \r\nL 577.739754 -41.4275 \r\nL 580.288864 -41.4275 \r\nL 580.288864 -42.841811 \r\nL 580.288864 -42.841811 \r\nL 577.739754 -44.065946 \r\nL 575.190645 -46.162966 \r\nL 572.641536 -49.605492 \r\nL 570.092427 -55.01897 \r\nL 567.543318 -63.169407 \r\nL 564.994209 -74.910733 \r\nL 562.445099 -91.081716 \r\nL 559.89599 -112.352692 \r\nL 557.346881 -139.038027 \r\nL 554.797772 -170.907968 \r\nL 552.248663 -207.047119 \r\nL 549.699553 -245.809575 \r\nL 547.150444 -284.907902 \r\nL 544.601335 -321.644861 \r\nL 542.052226 -353.259499 \r\nL 539.503117 -377.324201 \r\nL 536.954008 -392.109004 \r\nL 534.404898 -396.832284 \r\nL 531.855789 -391.743389 \r\nL 529.30668 -378.024936 \r\nL 526.757571 -357.546676 \r\nL 524.208462 -332.535325 \r\nL 521.659352 -305.236499 \r\nL 519.110243 -277.635147 \r\nL 516.561134 -251.275529 \r\nL 514.012025 -227.19131 \r\nL 511.462916 -205.930128 \r\nL 508.913807 -187.641434 \r\nL 506.364697 -172.192648 \r\nL 503.815588 -159.284243 \r\nL 501.266479 -148.544799 \r\nL 498.71737 -139.597981 \r\nL 496.168261 -132.101966 \r\nL 493.619151 -125.766823 \r\nL 491.070042 -120.357104 \r\nL 488.520933 -115.686344 \r\nL 485.971824 -111.608455 \r\nL 483.422715 -108.009105 \r\nL 480.873606 -104.798516 \r\nL 478.324496 -101.906051 \r\nL 475.775387 -99.276318 \r\nL 473.226278 -96.86635 \r\nL 470.677169 -94.643391 \r\nL 468.12806 -92.582965 \r\nL 465.57895 -90.667048 \r\nL 463.029841 -88.882304 \r\nL 460.480732 -87.218416 \r\nL 457.931623 -85.666608 \r\nL 455.382514 -84.218452 \r\nL 452.833405 -82.865033 \r\nL 450.284295 -81.596503 \r\nL 447.735186 -80.401997 \r\nL 445.186077 -79.269844 \r\nL 442.636968 -78.187952 \r\nL 440.087859 -77.144217 \r\nL 437.538749 -76.126831 \r\nL 434.98964 -75.124379 \r\nL 432.440531 -74.125708 \r\nL 429.891422 -73.119679 \r\nL 427.342313 -72.094947 \r\nL 424.793204 -71.040031 \r\nL 422.244094 -69.943859 \r\nL 419.694985 -68.796879 \r\nL 417.145876 -67.592621 \r\nL 414.596767 -66.329433 \r\nL 412.047658 -65.011932 \r\nL 409.498548 -63.651712 \r\nL 406.949439 -62.266981 \r\nL 404.40033 -60.881002 \r\nL 401.851221 -59.519563 \r\nL 399.302112 -58.207916 \r\nL 396.753003 -56.967802 \r\nL 394.203893 -55.815112 \r\nL 391.654784 -54.758604 \r\nL 389.105675 -53.799805 \r\nL 386.556566 -52.933951 \r\nL 384.007457 -52.151645 \r\nL 381.458347 -51.440809 \r\nL 378.909238 -50.788568 \r\nL 376.360129 -50.18283 \r\nL 373.81102 -49.613487 \r\nL 371.261911 -49.073292 \r\nL 368.712802 -48.558567 \r\nL 366.163692 -48.069843 \r\nL 363.614583 -47.612498 \r\nL 361.065474 -47.197295 \r\nL 358.516365 -46.840576 \r\nL 355.967256 -46.563731 \r\nL 353.418146 -46.391526 \r\nL 350.869037 -46.348956 \r\nL 348.319928 -46.456583 \r\nL 345.770819 -46.7248 \r\nL 343.22171 -47.148066 \r\nL 340.672601 -47.700597 \r\nL 338.123491 -48.335185 \r\nL 335.574382 -48.986378 \r\nL 333.025273 -49.578337 \r\nL 330.476164 -50.036336 \r\nL 327.927055 -50.299624 \r\nL 325.377945 -50.33265 \r\nL 322.828836 -50.131814 \r\nL 320.279727 -49.725955 \r\nL 317.730618 -49.170487 \r\nL 315.181509 -48.536762 \r\nL 312.632399 -47.899403 \r\nL 310.08329 -47.324635 \r\nL 307.534181 -46.861973 \r\nL 304.985072 -46.540444 \r\nL 302.435963 -46.369175 \r\nL 299.886854 -46.341192 \r\nL 297.337744 -46.438822 \r\nL 294.788635 -46.639198 \r\nL 292.239526 -46.918837 \r\nL 289.690417 -47.256839 \r\nL 287.141308 -47.636714 \r\nL 284.592198 -48.04715 \r\nL 282.043089 -48.482098 \r\nL 279.49398 -48.940475 \r\nL 276.944871 -49.42568 \r\nL 274.395762 -49.944986 \r\nL 271.846653 -50.508749 \r\nL 269.297543 -51.129374 \r\nL 266.748434 -51.819926 \r\nL 264.199325 -52.592411 \r\nL 261.650216 -53.455782 \r\nL 259.101107 -54.413949 \r\nL 256.551997 -55.464105 \r\nL 254.002888 -56.595785 \r\nL 251.453779 -57.790988 \r\nL 248.90467 -59.025497 \r\nL 246.355561 -60.271309 \r\nL 243.806452 -61.499789 \r\nL 241.257342 -62.684975 \r\nL 238.708233 -63.806438 \r\nL 236.159124 -64.85116 \r\nL 233.610015 -65.81418 \r\nL 231.060906 -66.698008 \r\nL 228.511796 -67.511076 \r\nL 225.962687 -68.265654 \r\nL 223.413578 -68.975691 \r\nL 220.864469 -69.654962 \r\nL 218.31536 -70.315758 \r\nL 215.766251 -70.968214 \r\nL 213.217141 -71.620203 \r\nL 210.668032 -72.277685 \r\nL 208.118923 -72.945319 \r\nL 205.569814 -73.627187 \r\nL 203.020705 -74.32746 \r\nL 200.471595 -75.050912 \r\nL 197.922486 -75.80319 \r\nL 195.373377 -76.590823 \r\nL 192.824268 -77.421007 \r\nL 190.275159 -78.301286 \r\nL 187.72605 -79.23929 \r\nL 185.17694 -80.242719 \r\nL 182.627831 -81.319701 \r\nL 180.078722 -82.479575 \r\nL 177.529613 -83.733987 \r\nL 174.980504 -85.098136 \r\nL 172.431394 -86.591919 \r\nL 169.882285 -88.240806 \r\nL 167.333176 -90.076396 \r\nL 164.784067 -92.136758 \r\nL 162.234958 -94.466809 \r\nL 159.685849 -97.11898 \r\nL 157.136739 -100.154267 \r\nL 154.58763 -103.643374 \r\nL 152.038521 -107.667045 \r\nL 149.489412 -112.313988 \r\nL 146.940303 -117.67417 \r\nL 144.391193 -123.825112 \r\nL 141.842084 -130.809502 \r\nL 139.292975 -138.604302 \r\nL 136.743866 -147.084537 \r\nL 134.194757 -155.988705 \r\nL 131.645648 -164.895987 \r\nL 129.096538 -173.226876 \r\nL 126.547429 -180.276747 \r\nL 123.99832 -185.285955 \r\nL 121.449211 -187.540671 \r\nL 118.900102 -186.488488 \r\nL 116.350992 -181.845088 \r\nL 113.801883 -173.666309 \r\nL 111.252774 -162.365485 \r\nL 108.703665 -148.668159 \r\nL 106.154556 -133.511666 \r\nL 103.605447 -117.910927 \r\nL 101.056337 -102.819514 \r\nL 98.507228 -89.014438 \r\nL 95.958119 -77.024784 \r\nL 93.40901 -67.111609 \r\nL 90.859901 -59.293682 \r\nL 88.310791 -53.404534 \r\nL 85.761682 -49.162709 \r\nL 83.212573 -46.238945 \r\nL 80.663464 -44.309221 \r\nL 78.114355 -43.089028 \r\nL 75.565246 -42.349565 \r\nL 73.016136 -41.919926 \r\nz\r\n\" id=\"meeab8fb98e\" style=\"stroke:#ff0000;\"/>\r\n    </defs>\r\n    <g clip-path=\"url(#p965c899fb6)\">\r\n     <use style=\"fill:#ff0000;fill-opacity:0.25;stroke:#ff0000;\" x=\"0\" xlink:href=\"#meeab8fb98e\" y=\"501.665\"/>\r\n    </g>\r\n   </g>\r\n   <g id=\"PolyCollection_2\">\r\n    <defs>\r\n     <path d=\"M 103.040214 -41.432565 \r\nL 103.040214 -41.4275 \r\nL 105.287465 -41.4275 \r\nL 107.534716 -41.4275 \r\nL 109.781968 -41.4275 \r\nL 112.029219 -41.4275 \r\nL 114.276471 -41.4275 \r\nL 116.523722 -41.4275 \r\nL 118.770973 -41.4275 \r\nL 121.018225 -41.4275 \r\nL 123.265476 -41.4275 \r\nL 125.512727 -41.4275 \r\nL 127.759979 -41.4275 \r\nL 130.00723 -41.4275 \r\nL 132.254482 -41.4275 \r\nL 134.501733 -41.4275 \r\nL 136.748984 -41.4275 \r\nL 138.996236 -41.4275 \r\nL 141.243487 -41.4275 \r\nL 143.490738 -41.4275 \r\nL 145.73799 -41.4275 \r\nL 147.985241 -41.4275 \r\nL 150.232493 -41.4275 \r\nL 152.479744 -41.4275 \r\nL 154.726995 -41.4275 \r\nL 156.974247 -41.4275 \r\nL 159.221498 -41.4275 \r\nL 161.468749 -41.4275 \r\nL 163.716001 -41.4275 \r\nL 165.963252 -41.4275 \r\nL 168.210504 -41.4275 \r\nL 170.457755 -41.4275 \r\nL 172.705006 -41.4275 \r\nL 174.952258 -41.4275 \r\nL 177.199509 -41.4275 \r\nL 179.44676 -41.4275 \r\nL 181.694012 -41.4275 \r\nL 183.941263 -41.4275 \r\nL 186.188515 -41.4275 \r\nL 188.435766 -41.4275 \r\nL 190.683017 -41.4275 \r\nL 192.930269 -41.4275 \r\nL 195.17752 -41.4275 \r\nL 197.424771 -41.4275 \r\nL 199.672023 -41.4275 \r\nL 201.919274 -41.4275 \r\nL 204.166526 -41.4275 \r\nL 206.413777 -41.4275 \r\nL 208.661028 -41.4275 \r\nL 210.90828 -41.4275 \r\nL 213.155531 -41.4275 \r\nL 215.402782 -41.4275 \r\nL 217.650034 -41.4275 \r\nL 219.897285 -41.4275 \r\nL 222.144537 -41.4275 \r\nL 224.391788 -41.4275 \r\nL 226.639039 -41.4275 \r\nL 228.886291 -41.4275 \r\nL 231.133542 -41.4275 \r\nL 233.380793 -41.4275 \r\nL 235.628045 -41.4275 \r\nL 237.875296 -41.4275 \r\nL 240.122547 -41.4275 \r\nL 242.369799 -41.4275 \r\nL 244.61705 -41.4275 \r\nL 246.864302 -41.4275 \r\nL 249.111553 -41.4275 \r\nL 251.358804 -41.4275 \r\nL 253.606056 -41.4275 \r\nL 255.853307 -41.4275 \r\nL 258.100558 -41.4275 \r\nL 260.34781 -41.4275 \r\nL 262.595061 -41.4275 \r\nL 264.842313 -41.4275 \r\nL 267.089564 -41.4275 \r\nL 269.336815 -41.4275 \r\nL 271.584067 -41.4275 \r\nL 273.831318 -41.4275 \r\nL 276.078569 -41.4275 \r\nL 278.325821 -41.4275 \r\nL 280.573072 -41.4275 \r\nL 282.820324 -41.4275 \r\nL 285.067575 -41.4275 \r\nL 287.314826 -41.4275 \r\nL 289.562078 -41.4275 \r\nL 291.809329 -41.4275 \r\nL 294.05658 -41.4275 \r\nL 296.303832 -41.4275 \r\nL 298.551083 -41.4275 \r\nL 300.798335 -41.4275 \r\nL 303.045586 -41.4275 \r\nL 305.292837 -41.4275 \r\nL 307.540089 -41.4275 \r\nL 309.78734 -41.4275 \r\nL 312.034591 -41.4275 \r\nL 314.281843 -41.4275 \r\nL 316.529094 -41.4275 \r\nL 318.776346 -41.4275 \r\nL 321.023597 -41.4275 \r\nL 323.270848 -41.4275 \r\nL 325.5181 -41.4275 \r\nL 327.765351 -41.4275 \r\nL 330.012602 -41.4275 \r\nL 332.259854 -41.4275 \r\nL 334.507105 -41.4275 \r\nL 336.754357 -41.4275 \r\nL 339.001608 -41.4275 \r\nL 341.248859 -41.4275 \r\nL 343.496111 -41.4275 \r\nL 345.743362 -41.4275 \r\nL 347.990613 -41.4275 \r\nL 350.237865 -41.4275 \r\nL 352.485116 -41.4275 \r\nL 354.732368 -41.4275 \r\nL 356.979619 -41.4275 \r\nL 359.22687 -41.4275 \r\nL 361.474122 -41.4275 \r\nL 363.721373 -41.4275 \r\nL 365.968624 -41.4275 \r\nL 368.215876 -41.4275 \r\nL 370.463127 -41.4275 \r\nL 372.710379 -41.4275 \r\nL 374.95763 -41.4275 \r\nL 377.204881 -41.4275 \r\nL 379.452133 -41.4275 \r\nL 381.699384 -41.4275 \r\nL 383.946635 -41.4275 \r\nL 386.193887 -41.4275 \r\nL 388.441138 -41.4275 \r\nL 390.68839 -41.4275 \r\nL 392.935641 -41.4275 \r\nL 395.182892 -41.4275 \r\nL 397.430144 -41.4275 \r\nL 399.677395 -41.4275 \r\nL 401.924646 -41.4275 \r\nL 404.171898 -41.4275 \r\nL 406.419149 -41.4275 \r\nL 408.666401 -41.4275 \r\nL 410.913652 -41.4275 \r\nL 413.160903 -41.4275 \r\nL 415.408155 -41.4275 \r\nL 417.655406 -41.4275 \r\nL 419.902657 -41.4275 \r\nL 422.149909 -41.4275 \r\nL 424.39716 -41.4275 \r\nL 426.644411 -41.4275 \r\nL 428.891663 -41.4275 \r\nL 431.138914 -41.4275 \r\nL 433.386166 -41.4275 \r\nL 435.633417 -41.4275 \r\nL 437.880668 -41.4275 \r\nL 440.12792 -41.4275 \r\nL 442.375171 -41.4275 \r\nL 444.622422 -41.4275 \r\nL 446.869674 -41.4275 \r\nL 449.116925 -41.4275 \r\nL 451.364177 -41.4275 \r\nL 453.611428 -41.4275 \r\nL 455.858679 -41.4275 \r\nL 458.105931 -41.4275 \r\nL 460.353182 -41.4275 \r\nL 462.600433 -41.4275 \r\nL 464.847685 -41.4275 \r\nL 467.094936 -41.4275 \r\nL 469.342188 -41.4275 \r\nL 471.589439 -41.4275 \r\nL 473.83669 -41.4275 \r\nL 476.083942 -41.4275 \r\nL 478.331193 -41.4275 \r\nL 480.578444 -41.4275 \r\nL 482.825696 -41.4275 \r\nL 485.072947 -41.4275 \r\nL 487.320199 -41.4275 \r\nL 489.56745 -41.4275 \r\nL 491.814701 -41.4275 \r\nL 494.061953 -41.4275 \r\nL 496.309204 -41.4275 \r\nL 498.556455 -41.4275 \r\nL 500.803707 -41.4275 \r\nL 503.050958 -41.4275 \r\nL 505.29821 -41.4275 \r\nL 507.545461 -41.4275 \r\nL 509.792712 -41.4275 \r\nL 512.039964 -41.4275 \r\nL 514.287215 -41.4275 \r\nL 516.534466 -41.4275 \r\nL 518.781718 -41.4275 \r\nL 521.028969 -41.4275 \r\nL 523.276221 -41.4275 \r\nL 525.523472 -41.4275 \r\nL 527.770723 -41.4275 \r\nL 530.017975 -41.4275 \r\nL 532.265226 -41.4275 \r\nL 534.512477 -41.4275 \r\nL 536.759729 -41.4275 \r\nL 539.00698 -41.4275 \r\nL 541.254232 -41.4275 \r\nL 543.501483 -41.4275 \r\nL 545.748734 -41.4275 \r\nL 547.995986 -41.4275 \r\nL 550.243237 -41.4275 \r\nL 550.243237 -41.432192 \r\nL 550.243237 -41.432192 \r\nL 547.995986 -41.468822 \r\nL 545.748734 -41.612876 \r\nL 543.501483 -41.85683 \r\nL 541.254232 -41.957662 \r\nL 539.00698 -41.823222 \r\nL 536.759729 -41.708993 \r\nL 534.512477 -41.735287 \r\nL 532.265226 -41.86978 \r\nL 530.017975 -42.026715 \r\nL 527.770723 -42.012333 \r\nL 525.523472 -41.897894 \r\nL 523.276221 -41.817496 \r\nL 521.028969 -41.750164 \r\nL 518.781718 -41.733155 \r\nL 516.534466 -41.813689 \r\nL 514.287215 -41.937208 \r\nL 512.039964 -41.971049 \r\nL 509.792712 -42.007539 \r\nL 507.545461 -42.131199 \r\nL 505.29821 -42.278415 \r\nL 503.050958 -42.409457 \r\nL 500.803707 -42.444637 \r\nL 498.556455 -42.480162 \r\nL 496.309204 -42.554762 \r\nL 494.061953 -42.671089 \r\nL 491.814701 -42.791842 \r\nL 489.56745 -42.827824 \r\nL 487.320199 -42.885808 \r\nL 485.072947 -43.004831 \r\nL 482.825696 -43.245814 \r\nL 480.578444 -43.454549 \r\nL 478.331193 -43.517198 \r\nL 476.083942 -43.570493 \r\nL 473.83669 -43.650719 \r\nL 471.589439 -43.865871 \r\nL 469.342188 -44.132464 \r\nL 467.094936 -44.360311 \r\nL 464.847685 -44.529395 \r\nL 462.600433 -44.676369 \r\nL 460.353182 -44.915698 \r\nL 458.105931 -45.272697 \r\nL 455.858679 -45.779326 \r\nL 453.611428 -46.197412 \r\nL 451.364177 -46.599591 \r\nL 449.116925 -47.005636 \r\nL 446.869674 -47.247244 \r\nL 444.622422 -47.594962 \r\nL 442.375171 -48.119315 \r\nL 440.12792 -48.785556 \r\nL 437.880668 -49.554572 \r\nL 435.633417 -50.406564 \r\nL 433.386166 -51.295141 \r\nL 431.138914 -52.36693 \r\nL 428.891663 -54.083864 \r\nL 426.644411 -55.799958 \r\nL 424.39716 -56.722667 \r\nL 422.149909 -57.46752 \r\nL 419.902657 -58.960325 \r\nL 417.655406 -61.406841 \r\nL 415.408155 -64.357187 \r\nL 413.160903 -67.583521 \r\nL 410.913652 -70.679099 \r\nL 408.666401 -73.344325 \r\nL 406.419149 -76.123454 \r\nL 404.171898 -79.739376 \r\nL 401.924646 -84.555812 \r\nL 399.677395 -90.3402 \r\nL 397.430144 -96.802504 \r\nL 395.182892 -103.691008 \r\nL 392.935641 -110.969074 \r\nL 390.68839 -119.240756 \r\nL 388.441138 -129.275357 \r\nL 386.193887 -141.332201 \r\nL 383.946635 -154.981358 \r\nL 381.699384 -170.174487 \r\nL 379.452133 -186.351318 \r\nL 377.204881 -202.795605 \r\nL 374.95763 -220.814637 \r\nL 372.710379 -241.440273 \r\nL 370.463127 -264.088591 \r\nL 368.215876 -288.209426 \r\nL 365.968624 -312.74177 \r\nL 363.721373 -335.730406 \r\nL 361.474122 -356.867616 \r\nL 359.22687 -378.003256 \r\nL 356.979619 -399.130104 \r\nL 354.732368 -417.60424 \r\nL 352.485116 -431.278783 \r\nL 350.237865 -441.571685 \r\nL 347.990613 -450.415196 \r\nL 345.743362 -455.598929 \r\nL 343.496111 -455.495162 \r\nL 341.248859 -450.489923 \r\nL 339.001608 -440.13046 \r\nL 336.754357 -421.848596 \r\nL 334.507105 -389.717328 \r\nL 332.259854 -337.359394 \r\nL 330.012602 -269.138703 \r\nL 327.765351 -214.843311 \r\nL 325.5181 -209.268442 \r\nL 323.270848 -248.841912 \r\nL 321.023597 -294.148848 \r\nL 318.776346 -316.457895 \r\nL 316.529094 -316.672137 \r\nL 314.281843 -305.566394 \r\nL 312.034591 -292.067682 \r\nL 309.78734 -279.651548 \r\nL 307.540089 -266.43754 \r\nL 305.292837 -251.583005 \r\nL 303.045586 -236.523083 \r\nL 300.798335 -222.225877 \r\nL 298.551083 -208.588578 \r\nL 296.303832 -195.527573 \r\nL 294.05658 -182.904419 \r\nL 291.809329 -170.320441 \r\nL 289.562078 -158.170954 \r\nL 287.314826 -147.450328 \r\nL 285.067575 -138.517722 \r\nL 282.820324 -129.98116 \r\nL 280.573072 -121.290782 \r\nL 278.325821 -113.345989 \r\nL 276.078569 -105.739172 \r\nL 273.831318 -98.144827 \r\nL 271.584067 -91.392441 \r\nL 269.336815 -86.123103 \r\nL 267.089564 -81.894228 \r\nL 264.842313 -78.075244 \r\nL 262.595061 -74.580786 \r\nL 260.34781 -71.54306 \r\nL 258.100558 -69.055622 \r\nL 255.853307 -66.650309 \r\nL 253.606056 -63.953149 \r\nL 251.358804 -61.27358 \r\nL 249.111553 -58.967879 \r\nL 246.864302 -57.205694 \r\nL 244.61705 -55.849778 \r\nL 242.369799 -54.586535 \r\nL 240.122547 -53.357267 \r\nL 237.875296 -52.400346 \r\nL 235.628045 -51.46808 \r\nL 233.380793 -50.442038 \r\nL 231.133542 -49.672556 \r\nL 228.886291 -48.924789 \r\nL 226.639039 -48.123418 \r\nL 224.391788 -47.490605 \r\nL 222.144537 -47.053472 \r\nL 219.897285 -46.625325 \r\nL 217.650034 -46.06843 \r\nL 215.402782 -45.651331 \r\nL 213.155531 -45.342944 \r\nL 210.90828 -45.075006 \r\nL 208.661028 -44.794617 \r\nL 206.413777 -44.402723 \r\nL 204.166526 -44.067196 \r\nL 201.919274 -43.868416 \r\nL 199.672023 -43.791626 \r\nL 197.424771 -43.668656 \r\nL 195.17752 -43.474211 \r\nL 192.930269 -43.256167 \r\nL 190.683017 -43.024123 \r\nL 188.435766 -42.896307 \r\nL 186.188515 -42.83957 \r\nL 183.941263 -42.827226 \r\nL 181.694012 -42.78212 \r\nL 179.44676 -42.696261 \r\nL 177.199509 -42.634697 \r\nL 174.952258 -42.535353 \r\nL 172.705006 -42.440793 \r\nL 170.457755 -42.349821 \r\nL 168.210504 -42.252753 \r\nL 165.963252 -42.15491 \r\nL 163.716001 -42.040807 \r\nL 161.468749 -41.95683 \r\nL 159.221498 -41.907044 \r\nL 156.974247 -41.892825 \r\nL 154.726995 -41.8811 \r\nL 152.479744 -41.870148 \r\nL 150.232493 -41.860989 \r\nL 147.985241 -41.820531 \r\nL 145.73799 -41.779999 \r\nL 143.490738 -41.742655 \r\nL 141.243487 -41.719143 \r\nL 138.996236 -41.72045 \r\nL 136.748984 -41.707791 \r\nL 134.501733 -41.672318 \r\nL 132.254482 -41.647249 \r\nL 130.00723 -41.671171 \r\nL 127.759979 -41.692591 \r\nL 125.512727 -41.686911 \r\nL 123.265476 -41.69562 \r\nL 121.018225 -41.670814 \r\nL 118.770973 -41.616929 \r\nL 116.523722 -41.641672 \r\nL 114.276471 -41.823365 \r\nL 112.029219 -42.003562 \r\nL 109.781968 -41.900379 \r\nL 107.534716 -41.631051 \r\nL 105.287465 -41.47251 \r\nL 103.040214 -41.432565 \r\nz\r\n\" id=\"m6338115938\" style=\"stroke:#0000ff;\"/>\r\n    </defs>\r\n    <g clip-path=\"url(#p965c899fb6)\">\r\n     <use style=\"fill:#0000ff;fill-opacity:0.25;stroke:#0000ff;\" x=\"0\" xlink:href=\"#m6338115938\" y=\"501.665\"/>\r\n    </g>\r\n   </g>\r\n   <g id=\"PolyCollection_3\">\r\n    <defs>\r\n     <path d=\"M 102.490649 -41.443536 \r\nL 102.490649 -41.4275 \r\nL 104.743423 -41.4275 \r\nL 106.996198 -41.4275 \r\nL 109.248972 -41.4275 \r\nL 111.501747 -41.4275 \r\nL 113.754522 -41.4275 \r\nL 116.007296 -41.4275 \r\nL 118.260071 -41.4275 \r\nL 120.512846 -41.4275 \r\nL 122.76562 -41.4275 \r\nL 125.018395 -41.4275 \r\nL 127.27117 -41.4275 \r\nL 129.523944 -41.4275 \r\nL 131.776719 -41.4275 \r\nL 134.029494 -41.4275 \r\nL 136.282268 -41.4275 \r\nL 138.535043 -41.4275 \r\nL 140.787817 -41.4275 \r\nL 143.040592 -41.4275 \r\nL 145.293367 -41.4275 \r\nL 147.546141 -41.4275 \r\nL 149.798916 -41.4275 \r\nL 152.051691 -41.4275 \r\nL 154.304465 -41.4275 \r\nL 156.55724 -41.4275 \r\nL 158.810015 -41.4275 \r\nL 161.062789 -41.4275 \r\nL 163.315564 -41.4275 \r\nL 165.568338 -41.4275 \r\nL 167.821113 -41.4275 \r\nL 170.073888 -41.4275 \r\nL 172.326662 -41.4275 \r\nL 174.579437 -41.4275 \r\nL 176.832212 -41.4275 \r\nL 179.084986 -41.4275 \r\nL 181.337761 -41.4275 \r\nL 183.590536 -41.4275 \r\nL 185.84331 -41.4275 \r\nL 188.096085 -41.4275 \r\nL 190.34886 -41.4275 \r\nL 192.601634 -41.4275 \r\nL 194.854409 -41.4275 \r\nL 197.107183 -41.4275 \r\nL 199.359958 -41.4275 \r\nL 201.612733 -41.4275 \r\nL 203.865507 -41.4275 \r\nL 206.118282 -41.4275 \r\nL 208.371057 -41.4275 \r\nL 210.623831 -41.4275 \r\nL 212.876606 -41.4275 \r\nL 215.129381 -41.4275 \r\nL 217.382155 -41.4275 \r\nL 219.63493 -41.4275 \r\nL 221.887705 -41.4275 \r\nL 224.140479 -41.4275 \r\nL 226.393254 -41.4275 \r\nL 228.646028 -41.4275 \r\nL 230.898803 -41.4275 \r\nL 233.151578 -41.4275 \r\nL 235.404352 -41.4275 \r\nL 237.657127 -41.4275 \r\nL 239.909902 -41.4275 \r\nL 242.162676 -41.4275 \r\nL 244.415451 -41.4275 \r\nL 246.668226 -41.4275 \r\nL 248.921 -41.4275 \r\nL 251.173775 -41.4275 \r\nL 253.42655 -41.4275 \r\nL 255.679324 -41.4275 \r\nL 257.932099 -41.4275 \r\nL 260.184873 -41.4275 \r\nL 262.437648 -41.4275 \r\nL 264.690423 -41.4275 \r\nL 266.943197 -41.4275 \r\nL 269.195972 -41.4275 \r\nL 271.448747 -41.4275 \r\nL 273.701521 -41.4275 \r\nL 275.954296 -41.4275 \r\nL 278.207071 -41.4275 \r\nL 280.459845 -41.4275 \r\nL 282.71262 -41.4275 \r\nL 284.965395 -41.4275 \r\nL 287.218169 -41.4275 \r\nL 289.470944 -41.4275 \r\nL 291.723718 -41.4275 \r\nL 293.976493 -41.4275 \r\nL 296.229268 -41.4275 \r\nL 298.482042 -41.4275 \r\nL 300.734817 -41.4275 \r\nL 302.987592 -41.4275 \r\nL 305.240366 -41.4275 \r\nL 307.493141 -41.4275 \r\nL 309.745916 -41.4275 \r\nL 311.99869 -41.4275 \r\nL 314.251465 -41.4275 \r\nL 316.504239 -41.4275 \r\nL 318.757014 -41.4275 \r\nL 321.009789 -41.4275 \r\nL 323.262563 -41.4275 \r\nL 325.515338 -41.4275 \r\nL 327.768113 -41.4275 \r\nL 330.020887 -41.4275 \r\nL 332.273662 -41.4275 \r\nL 334.526437 -41.4275 \r\nL 336.779211 -41.4275 \r\nL 339.031986 -41.4275 \r\nL 341.284761 -41.4275 \r\nL 343.537535 -41.4275 \r\nL 345.79031 -41.4275 \r\nL 348.043084 -41.4275 \r\nL 350.295859 -41.4275 \r\nL 352.548634 -41.4275 \r\nL 354.801408 -41.4275 \r\nL 357.054183 -41.4275 \r\nL 359.306958 -41.4275 \r\nL 361.559732 -41.4275 \r\nL 363.812507 -41.4275 \r\nL 366.065282 -41.4275 \r\nL 368.318056 -41.4275 \r\nL 370.570831 -41.4275 \r\nL 372.823606 -41.4275 \r\nL 375.07638 -41.4275 \r\nL 377.329155 -41.4275 \r\nL 379.581929 -41.4275 \r\nL 381.834704 -41.4275 \r\nL 384.087479 -41.4275 \r\nL 386.340253 -41.4275 \r\nL 388.593028 -41.4275 \r\nL 390.845803 -41.4275 \r\nL 393.098577 -41.4275 \r\nL 395.351352 -41.4275 \r\nL 397.604127 -41.4275 \r\nL 399.856901 -41.4275 \r\nL 402.109676 -41.4275 \r\nL 404.362451 -41.4275 \r\nL 406.615225 -41.4275 \r\nL 408.868 -41.4275 \r\nL 411.120774 -41.4275 \r\nL 413.373549 -41.4275 \r\nL 415.626324 -41.4275 \r\nL 417.879098 -41.4275 \r\nL 420.131873 -41.4275 \r\nL 422.384648 -41.4275 \r\nL 424.637422 -41.4275 \r\nL 426.890197 -41.4275 \r\nL 429.142972 -41.4275 \r\nL 431.395746 -41.4275 \r\nL 433.648521 -41.4275 \r\nL 435.901295 -41.4275 \r\nL 438.15407 -41.4275 \r\nL 440.406845 -41.4275 \r\nL 442.659619 -41.4275 \r\nL 444.912394 -41.4275 \r\nL 447.165169 -41.4275 \r\nL 449.417943 -41.4275 \r\nL 451.670718 -41.4275 \r\nL 453.923493 -41.4275 \r\nL 456.176267 -41.4275 \r\nL 458.429042 -41.4275 \r\nL 460.681817 -41.4275 \r\nL 462.934591 -41.4275 \r\nL 465.187366 -41.4275 \r\nL 467.44014 -41.4275 \r\nL 469.692915 -41.4275 \r\nL 471.94569 -41.4275 \r\nL 474.198464 -41.4275 \r\nL 476.451239 -41.4275 \r\nL 478.704014 -41.4275 \r\nL 480.956788 -41.4275 \r\nL 483.209563 -41.4275 \r\nL 485.462338 -41.4275 \r\nL 487.715112 -41.4275 \r\nL 489.967887 -41.4275 \r\nL 492.220662 -41.4275 \r\nL 494.473436 -41.4275 \r\nL 496.726211 -41.4275 \r\nL 498.978985 -41.4275 \r\nL 501.23176 -41.4275 \r\nL 503.484535 -41.4275 \r\nL 505.737309 -41.4275 \r\nL 507.990084 -41.4275 \r\nL 510.242859 -41.4275 \r\nL 512.495633 -41.4275 \r\nL 514.748408 -41.4275 \r\nL 517.001183 -41.4275 \r\nL 519.253957 -41.4275 \r\nL 521.506732 -41.4275 \r\nL 523.759507 -41.4275 \r\nL 526.012281 -41.4275 \r\nL 528.265056 -41.4275 \r\nL 530.51783 -41.4275 \r\nL 532.770605 -41.4275 \r\nL 535.02338 -41.4275 \r\nL 537.276154 -41.4275 \r\nL 539.528929 -41.4275 \r\nL 541.781704 -41.4275 \r\nL 544.034478 -41.4275 \r\nL 546.287253 -41.4275 \r\nL 548.540028 -41.4275 \r\nL 550.792802 -41.4275 \r\nL 550.792802 -41.431639 \r\nL 550.792802 -41.431639 \r\nL 548.540028 -41.460138 \r\nL 546.287253 -41.569553 \r\nL 544.034478 -41.77233 \r\nL 541.781704 -41.905433 \r\nL 539.528929 -41.837129 \r\nL 537.276154 -41.717843 \r\nL 535.02338 -41.708863 \r\nL 532.770605 -41.815466 \r\nL 530.51783 -41.964589 \r\nL 528.265056 -41.998653 \r\nL 526.012281 -41.910424 \r\nL 523.759507 -41.822773 \r\nL 521.506732 -41.755568 \r\nL 519.253957 -41.726259 \r\nL 517.001183 -41.775018 \r\nL 514.748408 -41.874245 \r\nL 512.495633 -41.928938 \r\nL 510.242859 -41.969858 \r\nL 507.990084 -42.069527 \r\nL 505.737309 -42.193364 \r\nL 503.484535 -42.318118 \r\nL 501.23176 -42.394304 \r\nL 498.978985 -42.444813 \r\nL 496.726211 -42.51767 \r\nL 494.473436 -42.623016 \r\nL 492.220662 -42.737811 \r\nL 489.967887 -42.784106 \r\nL 487.715112 -42.816504 \r\nL 485.462338 -42.906496 \r\nL 483.209563 -43.101142 \r\nL 480.956788 -43.303346 \r\nL 478.704014 -43.373769 \r\nL 476.451239 -43.393616 \r\nL 474.198464 -43.471425 \r\nL 471.94569 -43.681938 \r\nL 469.692915 -43.943436 \r\nL 467.44014 -44.154542 \r\nL 465.187366 -44.32198 \r\nL 462.934591 -44.4919 \r\nL 460.681817 -44.740788 \r\nL 458.429042 -45.078645 \r\nL 456.176267 -45.517808 \r\nL 453.923493 -45.916403 \r\nL 451.670718 -46.257382 \r\nL 449.417943 -46.590545 \r\nL 447.165169 -46.847773 \r\nL 444.912394 -47.186286 \r\nL 442.659619 -47.681658 \r\nL 440.406845 -48.303438 \r\nL 438.15407 -49.034918 \r\nL 435.901295 -49.829932 \r\nL 433.648521 -50.649084 \r\nL 431.395746 -51.638515 \r\nL 429.142972 -53.143155 \r\nL 426.890197 -54.745143 \r\nL 424.637422 -55.727869 \r\nL 422.384648 -56.445889 \r\nL 420.131873 -57.752603 \r\nL 417.879098 -59.929107 \r\nL 415.626324 -62.643152 \r\nL 413.373549 -65.60888 \r\nL 411.120774 -68.479383 \r\nL 408.868 -70.980299 \r\nL 406.615225 -73.506169 \r\nL 404.362451 -76.725565 \r\nL 402.109676 -81.035469 \r\nL 399.856901 -86.307587 \r\nL 397.604127 -92.178456 \r\nL 395.351352 -98.414741 \r\nL 393.098577 -105.17473 \r\nL 390.845803 -112.939305 \r\nL 388.593028 -122.051731 \r\nL 386.340253 -132.681733 \r\nL 384.087479 -144.875875 \r\nL 381.834704 -158.617242 \r\nL 379.581929 -173.263279 \r\nL 377.329155 -188.232218 \r\nL 375.07638 -204.487601 \r\nL 372.823606 -223.026941 \r\nL 370.570831 -243.534611 \r\nL 368.318056 -265.295327 \r\nL 366.065282 -287.16804 \r\nL 363.812507 -307.722352 \r\nL 361.559732 -326.940923 \r\nL 359.306958 -346.222375 \r\nL 357.054183 -365.643308 \r\nL 354.801408 -383.334835 \r\nL 352.548634 -397.215768 \r\nL 350.295859 -407.300048 \r\nL 348.043084 -415.102838 \r\nL 345.79031 -420.318914 \r\nL 343.537535 -421.759881 \r\nL 341.284761 -418.612458 \r\nL 339.031986 -410.034852 \r\nL 336.779211 -393.93327 \r\nL 334.526437 -365.183382 \r\nL 332.273662 -318.1518 \r\nL 330.020887 -257.757688 \r\nL 327.768113 -210.619874 \r\nL 325.515338 -206.566577 \r\nL 323.262563 -243.129027 \r\nL 321.009789 -287.34588 \r\nL 318.757014 -313.316154 \r\nL 316.504239 -319.545353 \r\nL 314.251465 -314.582915 \r\nL 311.99869 -305.5673 \r\nL 309.745916 -295.812912 \r\nL 307.493141 -284.846258 \r\nL 305.240366 -272.031802 \r\nL 302.987592 -258.77924 \r\nL 300.734817 -246.376068 \r\nL 298.482042 -234.593647 \r\nL 296.229268 -223.157788 \r\nL 293.976493 -211.852382 \r\nL 291.723718 -200.009366 \r\nL 289.470944 -187.711394 \r\nL 287.218169 -176.342258 \r\nL 284.965395 -166.674102 \r\nL 282.71262 -157.41396 \r\nL 280.459845 -147.672791 \r\nL 278.207071 -138.014585 \r\nL 275.954296 -128.806761 \r\nL 273.701521 -120.25083 \r\nL 271.448747 -112.475175 \r\nL 269.195972 -105.59067 \r\nL 266.943197 -99.495465 \r\nL 264.690423 -93.815196 \r\nL 262.437648 -88.575285 \r\nL 260.184873 -84.123331 \r\nL 257.932099 -80.390103 \r\nL 255.679324 -76.851935 \r\nL 253.42655 -73.191637 \r\nL 251.173775 -69.654008 \r\nL 248.921 -66.757924 \r\nL 246.668226 -64.655243 \r\nL 244.415451 -62.875394 \r\nL 242.162676 -60.940726 \r\nL 239.909902 -58.960201 \r\nL 237.657127 -57.323068 \r\nL 235.404352 -55.939484 \r\nL 233.151578 -54.720764 \r\nL 230.898803 -53.788656 \r\nL 228.646028 -52.930876 \r\nL 226.393254 -52.032019 \r\nL 224.140479 -51.173527 \r\nL 221.887705 -50.399819 \r\nL 219.63493 -49.63393 \r\nL 217.382155 -48.799953 \r\nL 215.129381 -48.034346 \r\nL 212.876606 -47.423253 \r\nL 210.623831 -46.968507 \r\nL 208.371057 -46.526312 \r\nL 206.118282 -46.00821 \r\nL 203.865507 -45.539329 \r\nL 201.612733 -45.218469 \r\nL 199.359958 -45.069812 \r\nL 197.107183 -44.909982 \r\nL 194.854409 -44.61671 \r\nL 192.601634 -44.245137 \r\nL 190.34886 -43.881799 \r\nL 188.096085 -43.638832 \r\nL 185.84331 -43.53762 \r\nL 183.590536 -43.513905 \r\nL 181.337761 -43.456985 \r\nL 179.084986 -43.357184 \r\nL 176.832212 -43.247716 \r\nL 174.579437 -43.10242 \r\nL 172.326662 -42.929516 \r\nL 170.073888 -42.753712 \r\nL 167.821113 -42.611853 \r\nL 165.568338 -42.495996 \r\nL 163.315564 -42.402122 \r\nL 161.062789 -42.356806 \r\nL 158.810015 -42.341818 \r\nL 156.55724 -42.334358 \r\nL 154.304465 -42.311673 \r\nL 152.051691 -42.269368 \r\nL 149.798916 -42.185904 \r\nL 147.546141 -42.052698 \r\nL 145.293367 -41.9284 \r\nL 143.040592 -41.852631 \r\nL 140.787817 -41.816615 \r\nL 138.535043 -41.78965 \r\nL 136.282268 -41.761736 \r\nL 134.029494 -41.744979 \r\nL 131.776719 -41.745902 \r\nL 129.523944 -41.762087 \r\nL 127.27117 -41.768599 \r\nL 125.018395 -41.781948 \r\nL 122.76562 -41.798394 \r\nL 120.512846 -41.762105 \r\nL 118.260071 -41.753488 \r\nL 116.007296 -42.001074 \r\nL 113.754522 -42.590761 \r\nL 111.501747 -43.001072 \r\nL 109.248972 -42.649585 \r\nL 106.996198 -41.953681 \r\nL 104.743423 -41.551778 \r\nL 102.490649 -41.443536 \r\nz\r\n\" id=\"m46e03b7842\" style=\"stroke:#008000;\"/>\r\n    </defs>\r\n    <g clip-path=\"url(#p965c899fb6)\">\r\n     <use style=\"fill:#008000;fill-opacity:0.25;stroke:#008000;\" x=\"0\" xlink:href=\"#m46e03b7842\" y=\"501.665\"/>\r\n    </g>\r\n   </g>\r\n   <g id=\"matplotlib.axis_1\">\r\n    <g id=\"xtick_1\">\r\n     <g id=\"line2d_1\">\r\n      <defs>\r\n       <path d=\"M 0 0 \r\nL 0 3.5 \r\n\" id=\"m950ecb4459\" style=\"stroke:#000000;stroke-width:0.8;\"/>\r\n      </defs>\r\n      <g>\r\n       <use style=\"stroke:#000000;stroke-width:0.8;\" x=\"111.149197\" xlink:href=\"#m950ecb4459\" y=\"460.2375\"/>\r\n      </g>\r\n     </g>\r\n     <g id=\"text_1\">\r\n      <!-- −1.0 -->\r\n      <g transform=\"translate(99.00779 474.835937)scale(0.1 -0.1)\">\r\n       <defs>\r\n        <path d=\"M 10.59375 35.5 \r\nL 73.1875 35.5 \r\nL 73.1875 27.203125 \r\nL 10.59375 27.203125 \r\nz\r\n\" id=\"DejaVuSans-8722\"/>\r\n        <path d=\"M 12.40625 8.296875 \r\nL 28.515625 8.296875 \r\nL 28.515625 63.921875 \r\nL 10.984375 60.40625 \r\nL 10.984375 69.390625 \r\nL 28.421875 72.90625 \r\nL 38.28125 72.90625 \r\nL 38.28125 8.296875 \r\nL 54.390625 8.296875 \r\nL 54.390625 0 \r\nL 12.40625 0 \r\nz\r\n\" id=\"DejaVuSans-49\"/>\r\n        <path d=\"M 10.6875 12.40625 \r\nL 21 12.40625 \r\nL 21 0 \r\nL 10.6875 0 \r\nz\r\n\" id=\"DejaVuSans-46\"/>\r\n        <path d=\"M 31.78125 66.40625 \r\nQ 24.171875 66.40625 20.328125 58.90625 \r\nQ 16.5 51.421875 16.5 36.375 \r\nQ 16.5 21.390625 20.328125 13.890625 \r\nQ 24.171875 6.390625 31.78125 6.390625 \r\nQ 39.453125 6.390625 43.28125 13.890625 \r\nQ 47.125 21.390625 47.125 36.375 \r\nQ 47.125 51.421875 43.28125 58.90625 \r\nQ 39.453125 66.40625 31.78125 66.40625 \r\nz\r\nM 31.78125 74.21875 \r\nQ 44.046875 74.21875 50.515625 64.515625 \r\nQ 56.984375 54.828125 56.984375 36.375 \r\nQ 56.984375 17.96875 50.515625 8.265625 \r\nQ 44.046875 -1.421875 31.78125 -1.421875 \r\nQ 19.53125 -1.421875 13.0625 8.265625 \r\nQ 6.59375 17.96875 6.59375 36.375 \r\nQ 6.59375 54.828125 13.0625 64.515625 \r\nQ 19.53125 74.21875 31.78125 74.21875 \r\nz\r\n\" id=\"DejaVuSans-48\"/>\r\n       </defs>\r\n       <use xlink:href=\"#DejaVuSans-8722\"/>\r\n       <use x=\"83.789062\" xlink:href=\"#DejaVuSans-49\"/>\r\n       <use x=\"147.412109\" xlink:href=\"#DejaVuSans-46\"/>\r\n       <use x=\"179.199219\" xlink:href=\"#DejaVuSans-48\"/>\r\n      </g>\r\n     </g>\r\n    </g>\r\n    <g id=\"xtick_2\">\r\n     <g id=\"line2d_2\">\r\n      <g>\r\n       <use style=\"stroke:#000000;stroke-width:0.8;\" x=\"218.895461\" xlink:href=\"#m950ecb4459\" y=\"460.2375\"/>\r\n      </g>\r\n     </g>\r\n     <g id=\"text_2\">\r\n      <!-- −0.5 -->\r\n      <g transform=\"translate(206.754055 474.835937)scale(0.1 -0.1)\">\r\n       <defs>\r\n        <path d=\"M 10.796875 72.90625 \r\nL 49.515625 72.90625 \r\nL 49.515625 64.59375 \r\nL 19.828125 64.59375 \r\nL 19.828125 46.734375 \r\nQ 21.96875 47.46875 24.109375 47.828125 \r\nQ 26.265625 48.1875 28.421875 48.1875 \r\nQ 40.625 48.1875 47.75 41.5 \r\nQ 54.890625 34.8125 54.890625 23.390625 \r\nQ 54.890625 11.625 47.5625 5.09375 \r\nQ 40.234375 -1.421875 26.90625 -1.421875 \r\nQ 22.3125 -1.421875 17.546875 -0.640625 \r\nQ 12.796875 0.140625 7.71875 1.703125 \r\nL 7.71875 11.625 \r\nQ 12.109375 9.234375 16.796875 8.0625 \r\nQ 21.484375 6.890625 26.703125 6.890625 \r\nQ 35.15625 6.890625 40.078125 11.328125 \r\nQ 45.015625 15.765625 45.015625 23.390625 \r\nQ 45.015625 31 40.078125 35.4375 \r\nQ 35.15625 39.890625 26.703125 39.890625 \r\nQ 22.75 39.890625 18.8125 39.015625 \r\nQ 14.890625 38.140625 10.796875 36.28125 \r\nz\r\n\" id=\"DejaVuSans-53\"/>\r\n       </defs>\r\n       <use xlink:href=\"#DejaVuSans-8722\"/>\r\n       <use x=\"83.789062\" xlink:href=\"#DejaVuSans-48\"/>\r\n       <use x=\"147.412109\" xlink:href=\"#DejaVuSans-46\"/>\r\n       <use x=\"179.199219\" xlink:href=\"#DejaVuSans-53\"/>\r\n      </g>\r\n     </g>\r\n    </g>\r\n    <g id=\"xtick_3\">\r\n     <g id=\"line2d_3\">\r\n      <g>\r\n       <use style=\"stroke:#000000;stroke-width:0.8;\" x=\"326.641725\" xlink:href=\"#m950ecb4459\" y=\"460.2375\"/>\r\n      </g>\r\n     </g>\r\n     <g id=\"text_3\">\r\n      <!-- 0.0 -->\r\n      <g transform=\"translate(318.690163 474.835937)scale(0.1 -0.1)\">\r\n       <use xlink:href=\"#DejaVuSans-48\"/>\r\n       <use x=\"63.623047\" xlink:href=\"#DejaVuSans-46\"/>\r\n       <use x=\"95.410156\" xlink:href=\"#DejaVuSans-48\"/>\r\n      </g>\r\n     </g>\r\n    </g>\r\n    <g id=\"xtick_4\">\r\n     <g id=\"line2d_4\">\r\n      <g>\r\n       <use style=\"stroke:#000000;stroke-width:0.8;\" x=\"434.38799\" xlink:href=\"#m950ecb4459\" y=\"460.2375\"/>\r\n      </g>\r\n     </g>\r\n     <g id=\"text_4\">\r\n      <!-- 0.5 -->\r\n      <g transform=\"translate(426.436427 474.835937)scale(0.1 -0.1)\">\r\n       <use xlink:href=\"#DejaVuSans-48\"/>\r\n       <use x=\"63.623047\" xlink:href=\"#DejaVuSans-46\"/>\r\n       <use x=\"95.410156\" xlink:href=\"#DejaVuSans-53\"/>\r\n      </g>\r\n     </g>\r\n    </g>\r\n    <g id=\"xtick_5\">\r\n     <g id=\"line2d_5\">\r\n      <g>\r\n       <use style=\"stroke:#000000;stroke-width:0.8;\" x=\"542.134254\" xlink:href=\"#m950ecb4459\" y=\"460.2375\"/>\r\n      </g>\r\n     </g>\r\n     <g id=\"text_5\">\r\n      <!-- 1.0 -->\r\n      <g transform=\"translate(534.182692 474.835937)scale(0.1 -0.1)\">\r\n       <use xlink:href=\"#DejaVuSans-49\"/>\r\n       <use x=\"63.623047\" xlink:href=\"#DejaVuSans-46\"/>\r\n       <use x=\"95.410156\" xlink:href=\"#DejaVuSans-48\"/>\r\n      </g>\r\n     </g>\r\n    </g>\r\n    <g id=\"text_6\">\r\n     <!-- Polarity Score -->\r\n     <g transform=\"translate(278.630313 491.553437)scale(0.14 -0.14)\">\r\n      <defs>\r\n       <path d=\"M 19.671875 64.796875 \r\nL 19.671875 37.40625 \r\nL 32.078125 37.40625 \r\nQ 38.96875 37.40625 42.71875 40.96875 \r\nQ 46.484375 44.53125 46.484375 51.125 \r\nQ 46.484375 57.671875 42.71875 61.234375 \r\nQ 38.96875 64.796875 32.078125 64.796875 \r\nz\r\nM 9.8125 72.90625 \r\nL 32.078125 72.90625 \r\nQ 44.34375 72.90625 50.609375 67.359375 \r\nQ 56.890625 61.8125 56.890625 51.125 \r\nQ 56.890625 40.328125 50.609375 34.8125 \r\nQ 44.34375 29.296875 32.078125 29.296875 \r\nL 19.671875 29.296875 \r\nL 19.671875 0 \r\nL 9.8125 0 \r\nz\r\n\" id=\"DejaVuSans-80\"/>\r\n       <path d=\"M 30.609375 48.390625 \r\nQ 23.390625 48.390625 19.1875 42.75 \r\nQ 14.984375 37.109375 14.984375 27.296875 \r\nQ 14.984375 17.484375 19.15625 11.84375 \r\nQ 23.34375 6.203125 30.609375 6.203125 \r\nQ 37.796875 6.203125 41.984375 11.859375 \r\nQ 46.1875 17.53125 46.1875 27.296875 \r\nQ 46.1875 37.015625 41.984375 42.703125 \r\nQ 37.796875 48.390625 30.609375 48.390625 \r\nz\r\nM 30.609375 56 \r\nQ 42.328125 56 49.015625 48.375 \r\nQ 55.71875 40.765625 55.71875 27.296875 \r\nQ 55.71875 13.875 49.015625 6.21875 \r\nQ 42.328125 -1.421875 30.609375 -1.421875 \r\nQ 18.84375 -1.421875 12.171875 6.21875 \r\nQ 5.515625 13.875 5.515625 27.296875 \r\nQ 5.515625 40.765625 12.171875 48.375 \r\nQ 18.84375 56 30.609375 56 \r\nz\r\n\" id=\"DejaVuSans-111\"/>\r\n       <path d=\"M 9.421875 75.984375 \r\nL 18.40625 75.984375 \r\nL 18.40625 0 \r\nL 9.421875 0 \r\nz\r\n\" id=\"DejaVuSans-108\"/>\r\n       <path d=\"M 34.28125 27.484375 \r\nQ 23.390625 27.484375 19.1875 25 \r\nQ 14.984375 22.515625 14.984375 16.5 \r\nQ 14.984375 11.71875 18.140625 8.90625 \r\nQ 21.296875 6.109375 26.703125 6.109375 \r\nQ 34.1875 6.109375 38.703125 11.40625 \r\nQ 43.21875 16.703125 43.21875 25.484375 \r\nL 43.21875 27.484375 \r\nz\r\nM 52.203125 31.203125 \r\nL 52.203125 0 \r\nL 43.21875 0 \r\nL 43.21875 8.296875 \r\nQ 40.140625 3.328125 35.546875 0.953125 \r\nQ 30.953125 -1.421875 24.3125 -1.421875 \r\nQ 15.921875 -1.421875 10.953125 3.296875 \r\nQ 6 8.015625 6 15.921875 \r\nQ 6 25.140625 12.171875 29.828125 \r\nQ 18.359375 34.515625 30.609375 34.515625 \r\nL 43.21875 34.515625 \r\nL 43.21875 35.40625 \r\nQ 43.21875 41.609375 39.140625 45 \r\nQ 35.0625 48.390625 27.6875 48.390625 \r\nQ 23 48.390625 18.546875 47.265625 \r\nQ 14.109375 46.140625 10.015625 43.890625 \r\nL 10.015625 52.203125 \r\nQ 14.9375 54.109375 19.578125 55.046875 \r\nQ 24.21875 56 28.609375 56 \r\nQ 40.484375 56 46.34375 49.84375 \r\nQ 52.203125 43.703125 52.203125 31.203125 \r\nz\r\n\" id=\"DejaVuSans-97\"/>\r\n       <path d=\"M 41.109375 46.296875 \r\nQ 39.59375 47.171875 37.8125 47.578125 \r\nQ 36.03125 48 33.890625 48 \r\nQ 26.265625 48 22.1875 43.046875 \r\nQ 18.109375 38.09375 18.109375 28.8125 \r\nL 18.109375 0 \r\nL 9.078125 0 \r\nL 9.078125 54.6875 \r\nL 18.109375 54.6875 \r\nL 18.109375 46.1875 \r\nQ 20.953125 51.171875 25.484375 53.578125 \r\nQ 30.03125 56 36.53125 56 \r\nQ 37.453125 56 38.578125 55.875 \r\nQ 39.703125 55.765625 41.0625 55.515625 \r\nz\r\n\" id=\"DejaVuSans-114\"/>\r\n       <path d=\"M 9.421875 54.6875 \r\nL 18.40625 54.6875 \r\nL 18.40625 0 \r\nL 9.421875 0 \r\nz\r\nM 9.421875 75.984375 \r\nL 18.40625 75.984375 \r\nL 18.40625 64.59375 \r\nL 9.421875 64.59375 \r\nz\r\n\" id=\"DejaVuSans-105\"/>\r\n       <path d=\"M 18.3125 70.21875 \r\nL 18.3125 54.6875 \r\nL 36.8125 54.6875 \r\nL 36.8125 47.703125 \r\nL 18.3125 47.703125 \r\nL 18.3125 18.015625 \r\nQ 18.3125 11.328125 20.140625 9.421875 \r\nQ 21.96875 7.515625 27.59375 7.515625 \r\nL 36.8125 7.515625 \r\nL 36.8125 0 \r\nL 27.59375 0 \r\nQ 17.1875 0 13.234375 3.875 \r\nQ 9.28125 7.765625 9.28125 18.015625 \r\nL 9.28125 47.703125 \r\nL 2.6875 47.703125 \r\nL 2.6875 54.6875 \r\nL 9.28125 54.6875 \r\nL 9.28125 70.21875 \r\nz\r\n\" id=\"DejaVuSans-116\"/>\r\n       <path d=\"M 32.171875 -5.078125 \r\nQ 28.375 -14.84375 24.75 -17.8125 \r\nQ 21.140625 -20.796875 15.09375 -20.796875 \r\nL 7.90625 -20.796875 \r\nL 7.90625 -13.28125 \r\nL 13.1875 -13.28125 \r\nQ 16.890625 -13.28125 18.9375 -11.515625 \r\nQ 21 -9.765625 23.484375 -3.21875 \r\nL 25.09375 0.875 \r\nL 2.984375 54.6875 \r\nL 12.5 54.6875 \r\nL 29.59375 11.921875 \r\nL 46.6875 54.6875 \r\nL 56.203125 54.6875 \r\nz\r\n\" id=\"DejaVuSans-121\"/>\r\n       <path id=\"DejaVuSans-32\"/>\r\n       <path d=\"M 53.515625 70.515625 \r\nL 53.515625 60.890625 \r\nQ 47.90625 63.578125 42.921875 64.890625 \r\nQ 37.9375 66.21875 33.296875 66.21875 \r\nQ 25.25 66.21875 20.875 63.09375 \r\nQ 16.5 59.96875 16.5 54.203125 \r\nQ 16.5 49.359375 19.40625 46.890625 \r\nQ 22.3125 44.4375 30.421875 42.921875 \r\nL 36.375 41.703125 \r\nQ 47.40625 39.59375 52.65625 34.296875 \r\nQ 57.90625 29 57.90625 20.125 \r\nQ 57.90625 9.515625 50.796875 4.046875 \r\nQ 43.703125 -1.421875 29.984375 -1.421875 \r\nQ 24.8125 -1.421875 18.96875 -0.25 \r\nQ 13.140625 0.921875 6.890625 3.21875 \r\nL 6.890625 13.375 \r\nQ 12.890625 10.015625 18.65625 8.296875 \r\nQ 24.421875 6.59375 29.984375 6.59375 \r\nQ 38.421875 6.59375 43.015625 9.90625 \r\nQ 47.609375 13.234375 47.609375 19.390625 \r\nQ 47.609375 24.75 44.3125 27.78125 \r\nQ 41.015625 30.8125 33.5 32.328125 \r\nL 27.484375 33.5 \r\nQ 16.453125 35.6875 11.515625 40.375 \r\nQ 6.59375 45.0625 6.59375 53.421875 \r\nQ 6.59375 63.09375 13.40625 68.65625 \r\nQ 20.21875 74.21875 32.171875 74.21875 \r\nQ 37.3125 74.21875 42.625 73.28125 \r\nQ 47.953125 72.359375 53.515625 70.515625 \r\nz\r\n\" id=\"DejaVuSans-83\"/>\r\n       <path d=\"M 48.78125 52.59375 \r\nL 48.78125 44.1875 \r\nQ 44.96875 46.296875 41.140625 47.34375 \r\nQ 37.3125 48.390625 33.40625 48.390625 \r\nQ 24.65625 48.390625 19.8125 42.84375 \r\nQ 14.984375 37.3125 14.984375 27.296875 \r\nQ 14.984375 17.28125 19.8125 11.734375 \r\nQ 24.65625 6.203125 33.40625 6.203125 \r\nQ 37.3125 6.203125 41.140625 7.25 \r\nQ 44.96875 8.296875 48.78125 10.40625 \r\nL 48.78125 2.09375 \r\nQ 45.015625 0.34375 40.984375 -0.53125 \r\nQ 36.96875 -1.421875 32.421875 -1.421875 \r\nQ 20.0625 -1.421875 12.78125 6.34375 \r\nQ 5.515625 14.109375 5.515625 27.296875 \r\nQ 5.515625 40.671875 12.859375 48.328125 \r\nQ 20.21875 56 33.015625 56 \r\nQ 37.15625 56 41.109375 55.140625 \r\nQ 45.0625 54.296875 48.78125 52.59375 \r\nz\r\n\" id=\"DejaVuSans-99\"/>\r\n       <path d=\"M 56.203125 29.59375 \r\nL 56.203125 25.203125 \r\nL 14.890625 25.203125 \r\nQ 15.484375 15.921875 20.484375 11.0625 \r\nQ 25.484375 6.203125 34.421875 6.203125 \r\nQ 39.59375 6.203125 44.453125 7.46875 \r\nQ 49.3125 8.734375 54.109375 11.28125 \r\nL 54.109375 2.78125 \r\nQ 49.265625 0.734375 44.1875 -0.34375 \r\nQ 39.109375 -1.421875 33.890625 -1.421875 \r\nQ 20.796875 -1.421875 13.15625 6.1875 \r\nQ 5.515625 13.8125 5.515625 26.8125 \r\nQ 5.515625 40.234375 12.765625 48.109375 \r\nQ 20.015625 56 32.328125 56 \r\nQ 43.359375 56 49.78125 48.890625 \r\nQ 56.203125 41.796875 56.203125 29.59375 \r\nz\r\nM 47.21875 32.234375 \r\nQ 47.125 39.59375 43.09375 43.984375 \r\nQ 39.0625 48.390625 32.421875 48.390625 \r\nQ 24.90625 48.390625 20.390625 44.140625 \r\nQ 15.875 39.890625 15.1875 32.171875 \r\nz\r\n\" id=\"DejaVuSans-101\"/>\r\n      </defs>\r\n      <use xlink:href=\"#DejaVuSans-80\"/>\r\n      <use x=\"56.677734\" xlink:href=\"#DejaVuSans-111\"/>\r\n      <use x=\"117.859375\" xlink:href=\"#DejaVuSans-108\"/>\r\n      <use x=\"145.642578\" xlink:href=\"#DejaVuSans-97\"/>\r\n      <use x=\"206.921875\" xlink:href=\"#DejaVuSans-114\"/>\r\n      <use x=\"248.035156\" xlink:href=\"#DejaVuSans-105\"/>\r\n      <use x=\"275.818359\" xlink:href=\"#DejaVuSans-116\"/>\r\n      <use x=\"315.027344\" xlink:href=\"#DejaVuSans-121\"/>\r\n      <use x=\"374.207031\" xlink:href=\"#DejaVuSans-32\"/>\r\n      <use x=\"405.994141\" xlink:href=\"#DejaVuSans-83\"/>\r\n      <use x=\"469.470703\" xlink:href=\"#DejaVuSans-99\"/>\r\n      <use x=\"524.451172\" xlink:href=\"#DejaVuSans-111\"/>\r\n      <use x=\"585.632812\" xlink:href=\"#DejaVuSans-114\"/>\r\n      <use x=\"624.496094\" xlink:href=\"#DejaVuSans-101\"/>\r\n     </g>\r\n    </g>\r\n   </g>\r\n   <g id=\"matplotlib.axis_2\">\r\n    <g id=\"ytick_1\">\r\n     <g id=\"line2d_6\">\r\n      <defs>\r\n       <path d=\"M 0 0 \r\nL -3.5 0 \r\n\" id=\"m19fa7c98b1\" style=\"stroke:#000000;stroke-width:0.8;\"/>\r\n      </defs>\r\n      <g>\r\n       <use style=\"stroke:#000000;stroke-width:0.8;\" x=\"47.6525\" xlink:href=\"#m19fa7c98b1\" y=\"460.2375\"/>\r\n      </g>\r\n     </g>\r\n     <g id=\"text_7\">\r\n      <!-- 0.0 -->\r\n      <g transform=\"translate(24.749375 464.036719)scale(0.1 -0.1)\">\r\n       <use xlink:href=\"#DejaVuSans-48\"/>\r\n       <use x=\"63.623047\" xlink:href=\"#DejaVuSans-46\"/>\r\n       <use x=\"95.410156\" xlink:href=\"#DejaVuSans-48\"/>\r\n      </g>\r\n     </g>\r\n    </g>\r\n    <g id=\"ytick_2\">\r\n     <g id=\"line2d_7\">\r\n      <g>\r\n       <use style=\"stroke:#000000;stroke-width:0.8;\" x=\"47.6525\" xlink:href=\"#m19fa7c98b1\" y=\"391.842339\"/>\r\n      </g>\r\n     </g>\r\n     <g id=\"text_8\">\r\n      <!-- 0.5 -->\r\n      <g transform=\"translate(24.749375 395.641557)scale(0.1 -0.1)\">\r\n       <use xlink:href=\"#DejaVuSans-48\"/>\r\n       <use x=\"63.623047\" xlink:href=\"#DejaVuSans-46\"/>\r\n       <use x=\"95.410156\" xlink:href=\"#DejaVuSans-53\"/>\r\n      </g>\r\n     </g>\r\n    </g>\r\n    <g id=\"ytick_3\">\r\n     <g id=\"line2d_8\">\r\n      <g>\r\n       <use style=\"stroke:#000000;stroke-width:0.8;\" x=\"47.6525\" xlink:href=\"#m19fa7c98b1\" y=\"323.447177\"/>\r\n      </g>\r\n     </g>\r\n     <g id=\"text_9\">\r\n      <!-- 1.0 -->\r\n      <g transform=\"translate(24.749375 327.246396)scale(0.1 -0.1)\">\r\n       <use xlink:href=\"#DejaVuSans-49\"/>\r\n       <use x=\"63.623047\" xlink:href=\"#DejaVuSans-46\"/>\r\n       <use x=\"95.410156\" xlink:href=\"#DejaVuSans-48\"/>\r\n      </g>\r\n     </g>\r\n    </g>\r\n    <g id=\"ytick_4\">\r\n     <g id=\"line2d_9\">\r\n      <g>\r\n       <use style=\"stroke:#000000;stroke-width:0.8;\" x=\"47.6525\" xlink:href=\"#m19fa7c98b1\" y=\"255.052016\"/>\r\n      </g>\r\n     </g>\r\n     <g id=\"text_10\">\r\n      <!-- 1.5 -->\r\n      <g transform=\"translate(24.749375 258.851235)scale(0.1 -0.1)\">\r\n       <use xlink:href=\"#DejaVuSans-49\"/>\r\n       <use x=\"63.623047\" xlink:href=\"#DejaVuSans-46\"/>\r\n       <use x=\"95.410156\" xlink:href=\"#DejaVuSans-53\"/>\r\n      </g>\r\n     </g>\r\n    </g>\r\n    <g id=\"ytick_5\">\r\n     <g id=\"line2d_10\">\r\n      <g>\r\n       <use style=\"stroke:#000000;stroke-width:0.8;\" x=\"47.6525\" xlink:href=\"#m19fa7c98b1\" y=\"186.656855\"/>\r\n      </g>\r\n     </g>\r\n     <g id=\"text_11\">\r\n      <!-- 2.0 -->\r\n      <g transform=\"translate(24.749375 190.456073)scale(0.1 -0.1)\">\r\n       <defs>\r\n        <path d=\"M 19.1875 8.296875 \r\nL 53.609375 8.296875 \r\nL 53.609375 0 \r\nL 7.328125 0 \r\nL 7.328125 8.296875 \r\nQ 12.9375 14.109375 22.625 23.890625 \r\nQ 32.328125 33.6875 34.8125 36.53125 \r\nQ 39.546875 41.84375 41.421875 45.53125 \r\nQ 43.3125 49.21875 43.3125 52.78125 \r\nQ 43.3125 58.59375 39.234375 62.25 \r\nQ 35.15625 65.921875 28.609375 65.921875 \r\nQ 23.96875 65.921875 18.8125 64.3125 \r\nQ 13.671875 62.703125 7.8125 59.421875 \r\nL 7.8125 69.390625 \r\nQ 13.765625 71.78125 18.9375 73 \r\nQ 24.125 74.21875 28.421875 74.21875 \r\nQ 39.75 74.21875 46.484375 68.546875 \r\nQ 53.21875 62.890625 53.21875 53.421875 \r\nQ 53.21875 48.921875 51.53125 44.890625 \r\nQ 49.859375 40.875 45.40625 35.40625 \r\nQ 44.1875 33.984375 37.640625 27.21875 \r\nQ 31.109375 20.453125 19.1875 8.296875 \r\nz\r\n\" id=\"DejaVuSans-50\"/>\r\n       </defs>\r\n       <use xlink:href=\"#DejaVuSans-50\"/>\r\n       <use x=\"63.623047\" xlink:href=\"#DejaVuSans-46\"/>\r\n       <use x=\"95.410156\" xlink:href=\"#DejaVuSans-48\"/>\r\n      </g>\r\n     </g>\r\n    </g>\r\n    <g id=\"ytick_6\">\r\n     <g id=\"line2d_11\">\r\n      <g>\r\n       <use style=\"stroke:#000000;stroke-width:0.8;\" x=\"47.6525\" xlink:href=\"#m19fa7c98b1\" y=\"118.261693\"/>\r\n      </g>\r\n     </g>\r\n     <g id=\"text_12\">\r\n      <!-- 2.5 -->\r\n      <g transform=\"translate(24.749375 122.060912)scale(0.1 -0.1)\">\r\n       <use xlink:href=\"#DejaVuSans-50\"/>\r\n       <use x=\"63.623047\" xlink:href=\"#DejaVuSans-46\"/>\r\n       <use x=\"95.410156\" xlink:href=\"#DejaVuSans-53\"/>\r\n      </g>\r\n     </g>\r\n    </g>\r\n    <g id=\"ytick_7\">\r\n     <g id=\"line2d_12\">\r\n      <g>\r\n       <use style=\"stroke:#000000;stroke-width:0.8;\" x=\"47.6525\" xlink:href=\"#m19fa7c98b1\" y=\"49.866532\"/>\r\n      </g>\r\n     </g>\r\n     <g id=\"text_13\">\r\n      <!-- 3.0 -->\r\n      <g transform=\"translate(24.749375 53.665751)scale(0.1 -0.1)\">\r\n       <defs>\r\n        <path d=\"M 40.578125 39.3125 \r\nQ 47.65625 37.796875 51.625 33 \r\nQ 55.609375 28.21875 55.609375 21.1875 \r\nQ 55.609375 10.40625 48.1875 4.484375 \r\nQ 40.765625 -1.421875 27.09375 -1.421875 \r\nQ 22.515625 -1.421875 17.65625 -0.515625 \r\nQ 12.796875 0.390625 7.625 2.203125 \r\nL 7.625 11.71875 \r\nQ 11.71875 9.328125 16.59375 8.109375 \r\nQ 21.484375 6.890625 26.8125 6.890625 \r\nQ 36.078125 6.890625 40.9375 10.546875 \r\nQ 45.796875 14.203125 45.796875 21.1875 \r\nQ 45.796875 27.640625 41.28125 31.265625 \r\nQ 36.765625 34.90625 28.71875 34.90625 \r\nL 20.21875 34.90625 \r\nL 20.21875 43.015625 \r\nL 29.109375 43.015625 \r\nQ 36.375 43.015625 40.234375 45.921875 \r\nQ 44.09375 48.828125 44.09375 54.296875 \r\nQ 44.09375 59.90625 40.109375 62.90625 \r\nQ 36.140625 65.921875 28.71875 65.921875 \r\nQ 24.65625 65.921875 20.015625 65.03125 \r\nQ 15.375 64.15625 9.8125 62.3125 \r\nL 9.8125 71.09375 \r\nQ 15.4375 72.65625 20.34375 73.4375 \r\nQ 25.25 74.21875 29.59375 74.21875 \r\nQ 40.828125 74.21875 47.359375 69.109375 \r\nQ 53.90625 64.015625 53.90625 55.328125 \r\nQ 53.90625 49.265625 50.4375 45.09375 \r\nQ 46.96875 40.921875 40.578125 39.3125 \r\nz\r\n\" id=\"DejaVuSans-51\"/>\r\n       </defs>\r\n       <use xlink:href=\"#DejaVuSans-51\"/>\r\n       <use x=\"63.623047\" xlink:href=\"#DejaVuSans-46\"/>\r\n       <use x=\"95.410156\" xlink:href=\"#DejaVuSans-48\"/>\r\n      </g>\r\n     </g>\r\n    </g>\r\n    <g id=\"text_14\">\r\n     <!-- Density -->\r\n     <g transform=\"translate(17.837812 269.409531)rotate(-90)scale(0.14 -0.14)\">\r\n      <defs>\r\n       <path d=\"M 19.671875 64.796875 \r\nL 19.671875 8.109375 \r\nL 31.59375 8.109375 \r\nQ 46.6875 8.109375 53.6875 14.9375 \r\nQ 60.6875 21.78125 60.6875 36.53125 \r\nQ 60.6875 51.171875 53.6875 57.984375 \r\nQ 46.6875 64.796875 31.59375 64.796875 \r\nz\r\nM 9.8125 72.90625 \r\nL 30.078125 72.90625 \r\nQ 51.265625 72.90625 61.171875 64.09375 \r\nQ 71.09375 55.28125 71.09375 36.53125 \r\nQ 71.09375 17.671875 61.125 8.828125 \r\nQ 51.171875 0 30.078125 0 \r\nL 9.8125 0 \r\nz\r\n\" id=\"DejaVuSans-68\"/>\r\n       <path d=\"M 54.890625 33.015625 \r\nL 54.890625 0 \r\nL 45.90625 0 \r\nL 45.90625 32.71875 \r\nQ 45.90625 40.484375 42.875 44.328125 \r\nQ 39.84375 48.1875 33.796875 48.1875 \r\nQ 26.515625 48.1875 22.3125 43.546875 \r\nQ 18.109375 38.921875 18.109375 30.90625 \r\nL 18.109375 0 \r\nL 9.078125 0 \r\nL 9.078125 54.6875 \r\nL 18.109375 54.6875 \r\nL 18.109375 46.1875 \r\nQ 21.34375 51.125 25.703125 53.5625 \r\nQ 30.078125 56 35.796875 56 \r\nQ 45.21875 56 50.046875 50.171875 \r\nQ 54.890625 44.34375 54.890625 33.015625 \r\nz\r\n\" id=\"DejaVuSans-110\"/>\r\n       <path d=\"M 44.28125 53.078125 \r\nL 44.28125 44.578125 \r\nQ 40.484375 46.53125 36.375 47.5 \r\nQ 32.28125 48.484375 27.875 48.484375 \r\nQ 21.1875 48.484375 17.84375 46.4375 \r\nQ 14.5 44.390625 14.5 40.28125 \r\nQ 14.5 37.15625 16.890625 35.375 \r\nQ 19.28125 33.59375 26.515625 31.984375 \r\nL 29.59375 31.296875 \r\nQ 39.15625 29.25 43.1875 25.515625 \r\nQ 47.21875 21.78125 47.21875 15.09375 \r\nQ 47.21875 7.46875 41.1875 3.015625 \r\nQ 35.15625 -1.421875 24.609375 -1.421875 \r\nQ 20.21875 -1.421875 15.453125 -0.5625 \r\nQ 10.6875 0.296875 5.421875 2 \r\nL 5.421875 11.28125 \r\nQ 10.40625 8.6875 15.234375 7.390625 \r\nQ 20.0625 6.109375 24.8125 6.109375 \r\nQ 31.15625 6.109375 34.5625 8.28125 \r\nQ 37.984375 10.453125 37.984375 14.40625 \r\nQ 37.984375 18.0625 35.515625 20.015625 \r\nQ 33.0625 21.96875 24.703125 23.78125 \r\nL 21.578125 24.515625 \r\nQ 13.234375 26.265625 9.515625 29.90625 \r\nQ 5.8125 33.546875 5.8125 39.890625 \r\nQ 5.8125 47.609375 11.28125 51.796875 \r\nQ 16.75 56 26.8125 56 \r\nQ 31.78125 56 36.171875 55.265625 \r\nQ 40.578125 54.546875 44.28125 53.078125 \r\nz\r\n\" id=\"DejaVuSans-115\"/>\r\n      </defs>\r\n      <use xlink:href=\"#DejaVuSans-68\"/>\r\n      <use x=\"77.001953\" xlink:href=\"#DejaVuSans-101\"/>\r\n      <use x=\"138.525391\" xlink:href=\"#DejaVuSans-110\"/>\r\n      <use x=\"201.904297\" xlink:href=\"#DejaVuSans-115\"/>\r\n      <use x=\"254.003906\" xlink:href=\"#DejaVuSans-105\"/>\r\n      <use x=\"281.787109\" xlink:href=\"#DejaVuSans-116\"/>\r\n      <use x=\"320.996094\" xlink:href=\"#DejaVuSans-121\"/>\r\n     </g>\r\n    </g>\r\n   </g>\r\n   <g id=\"patch_3\">\r\n    <path d=\"M 47.6525 460.2375 \r\nL 47.6525 25.3575 \r\n\" style=\"fill:none;stroke:#000000;stroke-linecap:square;stroke-linejoin:miter;stroke-width:0.8;\"/>\r\n   </g>\r\n   <g id=\"patch_4\">\r\n    <path d=\"M 47.6525 460.2375 \r\nL 605.6525 460.2375 \r\n\" style=\"fill:none;stroke:#000000;stroke-linecap:square;stroke-linejoin:miter;stroke-width:0.8;\"/>\r\n   </g>\r\n   <g id=\"text_15\">\r\n    <!-- French: Density of the Original Vader Polarity vs Adjusted Vader Polarity -->\r\n    <g transform=\"translate(39.50875 19.3575)scale(0.16 -0.16)\">\r\n     <defs>\r\n      <path d=\"M 9.8125 72.90625 \r\nL 51.703125 72.90625 \r\nL 51.703125 64.59375 \r\nL 19.671875 64.59375 \r\nL 19.671875 43.109375 \r\nL 48.578125 43.109375 \r\nL 48.578125 34.8125 \r\nL 19.671875 34.8125 \r\nL 19.671875 0 \r\nL 9.8125 0 \r\nz\r\n\" id=\"DejaVuSans-70\"/>\r\n      <path d=\"M 54.890625 33.015625 \r\nL 54.890625 0 \r\nL 45.90625 0 \r\nL 45.90625 32.71875 \r\nQ 45.90625 40.484375 42.875 44.328125 \r\nQ 39.84375 48.1875 33.796875 48.1875 \r\nQ 26.515625 48.1875 22.3125 43.546875 \r\nQ 18.109375 38.921875 18.109375 30.90625 \r\nL 18.109375 0 \r\nL 9.078125 0 \r\nL 9.078125 75.984375 \r\nL 18.109375 75.984375 \r\nL 18.109375 46.1875 \r\nQ 21.34375 51.125 25.703125 53.5625 \r\nQ 30.078125 56 35.796875 56 \r\nQ 45.21875 56 50.046875 50.171875 \r\nQ 54.890625 44.34375 54.890625 33.015625 \r\nz\r\n\" id=\"DejaVuSans-104\"/>\r\n      <path d=\"M 11.71875 12.40625 \r\nL 22.015625 12.40625 \r\nL 22.015625 0 \r\nL 11.71875 0 \r\nz\r\nM 11.71875 51.703125 \r\nL 22.015625 51.703125 \r\nL 22.015625 39.3125 \r\nL 11.71875 39.3125 \r\nz\r\n\" id=\"DejaVuSans-58\"/>\r\n      <path d=\"M 37.109375 75.984375 \r\nL 37.109375 68.5 \r\nL 28.515625 68.5 \r\nQ 23.6875 68.5 21.796875 66.546875 \r\nQ 19.921875 64.59375 19.921875 59.515625 \r\nL 19.921875 54.6875 \r\nL 34.71875 54.6875 \r\nL 34.71875 47.703125 \r\nL 19.921875 47.703125 \r\nL 19.921875 0 \r\nL 10.890625 0 \r\nL 10.890625 47.703125 \r\nL 2.296875 47.703125 \r\nL 2.296875 54.6875 \r\nL 10.890625 54.6875 \r\nL 10.890625 58.5 \r\nQ 10.890625 67.625 15.140625 71.796875 \r\nQ 19.390625 75.984375 28.609375 75.984375 \r\nz\r\n\" id=\"DejaVuSans-102\"/>\r\n      <path d=\"M 39.40625 66.21875 \r\nQ 28.65625 66.21875 22.328125 58.203125 \r\nQ 16.015625 50.203125 16.015625 36.375 \r\nQ 16.015625 22.609375 22.328125 14.59375 \r\nQ 28.65625 6.59375 39.40625 6.59375 \r\nQ 50.140625 6.59375 56.421875 14.59375 \r\nQ 62.703125 22.609375 62.703125 36.375 \r\nQ 62.703125 50.203125 56.421875 58.203125 \r\nQ 50.140625 66.21875 39.40625 66.21875 \r\nz\r\nM 39.40625 74.21875 \r\nQ 54.734375 74.21875 63.90625 63.9375 \r\nQ 73.09375 53.65625 73.09375 36.375 \r\nQ 73.09375 19.140625 63.90625 8.859375 \r\nQ 54.734375 -1.421875 39.40625 -1.421875 \r\nQ 24.03125 -1.421875 14.8125 8.828125 \r\nQ 5.609375 19.09375 5.609375 36.375 \r\nQ 5.609375 53.65625 14.8125 63.9375 \r\nQ 24.03125 74.21875 39.40625 74.21875 \r\nz\r\n\" id=\"DejaVuSans-79\"/>\r\n      <path d=\"M 45.40625 27.984375 \r\nQ 45.40625 37.75 41.375 43.109375 \r\nQ 37.359375 48.484375 30.078125 48.484375 \r\nQ 22.859375 48.484375 18.828125 43.109375 \r\nQ 14.796875 37.75 14.796875 27.984375 \r\nQ 14.796875 18.265625 18.828125 12.890625 \r\nQ 22.859375 7.515625 30.078125 7.515625 \r\nQ 37.359375 7.515625 41.375 12.890625 \r\nQ 45.40625 18.265625 45.40625 27.984375 \r\nz\r\nM 54.390625 6.78125 \r\nQ 54.390625 -7.171875 48.1875 -13.984375 \r\nQ 42 -20.796875 29.203125 -20.796875 \r\nQ 24.46875 -20.796875 20.265625 -20.09375 \r\nQ 16.0625 -19.390625 12.109375 -17.921875 \r\nL 12.109375 -9.1875 \r\nQ 16.0625 -11.328125 19.921875 -12.34375 \r\nQ 23.78125 -13.375 27.78125 -13.375 \r\nQ 36.625 -13.375 41.015625 -8.765625 \r\nQ 45.40625 -4.15625 45.40625 5.171875 \r\nL 45.40625 9.625 \r\nQ 42.625 4.78125 38.28125 2.390625 \r\nQ 33.9375 0 27.875 0 \r\nQ 17.828125 0 11.671875 7.65625 \r\nQ 5.515625 15.328125 5.515625 27.984375 \r\nQ 5.515625 40.671875 11.671875 48.328125 \r\nQ 17.828125 56 27.875 56 \r\nQ 33.9375 56 38.28125 53.609375 \r\nQ 42.625 51.21875 45.40625 46.390625 \r\nL 45.40625 54.6875 \r\nL 54.390625 54.6875 \r\nz\r\n\" id=\"DejaVuSans-103\"/>\r\n      <path d=\"M 28.609375 0 \r\nL 0.78125 72.90625 \r\nL 11.078125 72.90625 \r\nL 34.1875 11.53125 \r\nL 57.328125 72.90625 \r\nL 67.578125 72.90625 \r\nL 39.796875 0 \r\nz\r\n\" id=\"DejaVuSans-86\"/>\r\n      <path d=\"M 45.40625 46.390625 \r\nL 45.40625 75.984375 \r\nL 54.390625 75.984375 \r\nL 54.390625 0 \r\nL 45.40625 0 \r\nL 45.40625 8.203125 \r\nQ 42.578125 3.328125 38.25 0.953125 \r\nQ 33.9375 -1.421875 27.875 -1.421875 \r\nQ 17.96875 -1.421875 11.734375 6.484375 \r\nQ 5.515625 14.40625 5.515625 27.296875 \r\nQ 5.515625 40.1875 11.734375 48.09375 \r\nQ 17.96875 56 27.875 56 \r\nQ 33.9375 56 38.25 53.625 \r\nQ 42.578125 51.265625 45.40625 46.390625 \r\nz\r\nM 14.796875 27.296875 \r\nQ 14.796875 17.390625 18.875 11.75 \r\nQ 22.953125 6.109375 30.078125 6.109375 \r\nQ 37.203125 6.109375 41.296875 11.75 \r\nQ 45.40625 17.390625 45.40625 27.296875 \r\nQ 45.40625 37.203125 41.296875 42.84375 \r\nQ 37.203125 48.484375 30.078125 48.484375 \r\nQ 22.953125 48.484375 18.875 42.84375 \r\nQ 14.796875 37.203125 14.796875 27.296875 \r\nz\r\n\" id=\"DejaVuSans-100\"/>\r\n      <path d=\"M 2.984375 54.6875 \r\nL 12.5 54.6875 \r\nL 29.59375 8.796875 \r\nL 46.6875 54.6875 \r\nL 56.203125 54.6875 \r\nL 35.6875 0 \r\nL 23.484375 0 \r\nz\r\n\" id=\"DejaVuSans-118\"/>\r\n      <path d=\"M 34.1875 63.1875 \r\nL 20.796875 26.90625 \r\nL 47.609375 26.90625 \r\nz\r\nM 28.609375 72.90625 \r\nL 39.796875 72.90625 \r\nL 67.578125 0 \r\nL 57.328125 0 \r\nL 50.6875 18.703125 \r\nL 17.828125 18.703125 \r\nL 11.1875 0 \r\nL 0.78125 0 \r\nz\r\n\" id=\"DejaVuSans-65\"/>\r\n      <path d=\"M 9.421875 54.6875 \r\nL 18.40625 54.6875 \r\nL 18.40625 -0.984375 \r\nQ 18.40625 -11.421875 14.421875 -16.109375 \r\nQ 10.453125 -20.796875 1.609375 -20.796875 \r\nL -1.8125 -20.796875 \r\nL -1.8125 -13.1875 \r\nL 0.59375 -13.1875 \r\nQ 5.71875 -13.1875 7.5625 -10.8125 \r\nQ 9.421875 -8.453125 9.421875 -0.984375 \r\nz\r\nM 9.421875 75.984375 \r\nL 18.40625 75.984375 \r\nL 18.40625 64.59375 \r\nL 9.421875 64.59375 \r\nz\r\n\" id=\"DejaVuSans-106\"/>\r\n      <path d=\"M 8.5 21.578125 \r\nL 8.5 54.6875 \r\nL 17.484375 54.6875 \r\nL 17.484375 21.921875 \r\nQ 17.484375 14.15625 20.5 10.265625 \r\nQ 23.53125 6.390625 29.59375 6.390625 \r\nQ 36.859375 6.390625 41.078125 11.03125 \r\nQ 45.3125 15.671875 45.3125 23.6875 \r\nL 45.3125 54.6875 \r\nL 54.296875 54.6875 \r\nL 54.296875 0 \r\nL 45.3125 0 \r\nL 45.3125 8.40625 \r\nQ 42.046875 3.421875 37.71875 1 \r\nQ 33.40625 -1.421875 27.6875 -1.421875 \r\nQ 18.265625 -1.421875 13.375 4.4375 \r\nQ 8.5 10.296875 8.5 21.578125 \r\nz\r\nM 31.109375 56 \r\nz\r\n\" id=\"DejaVuSans-117\"/>\r\n     </defs>\r\n     <use xlink:href=\"#DejaVuSans-70\"/>\r\n     <use x=\"50.269531\" xlink:href=\"#DejaVuSans-114\"/>\r\n     <use x=\"89.132812\" xlink:href=\"#DejaVuSans-101\"/>\r\n     <use x=\"150.65625\" xlink:href=\"#DejaVuSans-110\"/>\r\n     <use x=\"214.035156\" xlink:href=\"#DejaVuSans-99\"/>\r\n     <use x=\"269.015625\" xlink:href=\"#DejaVuSans-104\"/>\r\n     <use x=\"332.394531\" xlink:href=\"#DejaVuSans-58\"/>\r\n     <use x=\"366.085938\" xlink:href=\"#DejaVuSans-32\"/>\r\n     <use x=\"397.873047\" xlink:href=\"#DejaVuSans-68\"/>\r\n     <use x=\"474.875\" xlink:href=\"#DejaVuSans-101\"/>\r\n     <use x=\"536.398438\" xlink:href=\"#DejaVuSans-110\"/>\r\n     <use x=\"599.777344\" xlink:href=\"#DejaVuSans-115\"/>\r\n     <use x=\"651.876953\" xlink:href=\"#DejaVuSans-105\"/>\r\n     <use x=\"679.660156\" xlink:href=\"#DejaVuSans-116\"/>\r\n     <use x=\"718.869141\" xlink:href=\"#DejaVuSans-121\"/>\r\n     <use x=\"778.048828\" xlink:href=\"#DejaVuSans-32\"/>\r\n     <use x=\"809.835938\" xlink:href=\"#DejaVuSans-111\"/>\r\n     <use x=\"871.017578\" xlink:href=\"#DejaVuSans-102\"/>\r\n     <use x=\"906.222656\" xlink:href=\"#DejaVuSans-32\"/>\r\n     <use x=\"938.009766\" xlink:href=\"#DejaVuSans-116\"/>\r\n     <use x=\"977.21875\" xlink:href=\"#DejaVuSans-104\"/>\r\n     <use x=\"1040.597656\" xlink:href=\"#DejaVuSans-101\"/>\r\n     <use x=\"1102.121094\" xlink:href=\"#DejaVuSans-32\"/>\r\n     <use x=\"1133.908203\" xlink:href=\"#DejaVuSans-79\"/>\r\n     <use x=\"1212.619141\" xlink:href=\"#DejaVuSans-114\"/>\r\n     <use x=\"1253.732422\" xlink:href=\"#DejaVuSans-105\"/>\r\n     <use x=\"1281.515625\" xlink:href=\"#DejaVuSans-103\"/>\r\n     <use x=\"1344.992188\" xlink:href=\"#DejaVuSans-105\"/>\r\n     <use x=\"1372.775391\" xlink:href=\"#DejaVuSans-110\"/>\r\n     <use x=\"1436.154297\" xlink:href=\"#DejaVuSans-97\"/>\r\n     <use x=\"1497.433594\" xlink:href=\"#DejaVuSans-108\"/>\r\n     <use x=\"1525.216797\" xlink:href=\"#DejaVuSans-32\"/>\r\n     <use x=\"1557.003906\" xlink:href=\"#DejaVuSans-86\"/>\r\n     <use x=\"1617.662109\" xlink:href=\"#DejaVuSans-97\"/>\r\n     <use x=\"1678.941406\" xlink:href=\"#DejaVuSans-100\"/>\r\n     <use x=\"1742.417969\" xlink:href=\"#DejaVuSans-101\"/>\r\n     <use x=\"1803.941406\" xlink:href=\"#DejaVuSans-114\"/>\r\n     <use x=\"1845.054688\" xlink:href=\"#DejaVuSans-32\"/>\r\n     <use x=\"1876.841797\" xlink:href=\"#DejaVuSans-80\"/>\r\n     <use x=\"1933.519531\" xlink:href=\"#DejaVuSans-111\"/>\r\n     <use x=\"1994.701172\" xlink:href=\"#DejaVuSans-108\"/>\r\n     <use x=\"2022.484375\" xlink:href=\"#DejaVuSans-97\"/>\r\n     <use x=\"2083.763672\" xlink:href=\"#DejaVuSans-114\"/>\r\n     <use x=\"2124.876953\" xlink:href=\"#DejaVuSans-105\"/>\r\n     <use x=\"2152.660156\" xlink:href=\"#DejaVuSans-116\"/>\r\n     <use x=\"2191.869141\" xlink:href=\"#DejaVuSans-121\"/>\r\n     <use x=\"2251.048828\" xlink:href=\"#DejaVuSans-32\"/>\r\n     <use x=\"2282.835938\" xlink:href=\"#DejaVuSans-118\"/>\r\n     <use x=\"2342.015625\" xlink:href=\"#DejaVuSans-115\"/>\r\n     <use x=\"2394.115234\" xlink:href=\"#DejaVuSans-32\"/>\r\n     <use x=\"2425.902344\" xlink:href=\"#DejaVuSans-65\"/>\r\n     <use x=\"2492.560547\" xlink:href=\"#DejaVuSans-100\"/>\r\n     <use x=\"2556.037109\" xlink:href=\"#DejaVuSans-106\"/>\r\n     <use x=\"2583.820312\" xlink:href=\"#DejaVuSans-117\"/>\r\n     <use x=\"2647.199219\" xlink:href=\"#DejaVuSans-115\"/>\r\n     <use x=\"2699.298828\" xlink:href=\"#DejaVuSans-116\"/>\r\n     <use x=\"2738.507812\" xlink:href=\"#DejaVuSans-101\"/>\r\n     <use x=\"2800.03125\" xlink:href=\"#DejaVuSans-100\"/>\r\n     <use x=\"2863.507812\" xlink:href=\"#DejaVuSans-32\"/>\r\n     <use x=\"2895.294922\" xlink:href=\"#DejaVuSans-86\"/>\r\n     <use x=\"2955.953125\" xlink:href=\"#DejaVuSans-97\"/>\r\n     <use x=\"3017.232422\" xlink:href=\"#DejaVuSans-100\"/>\r\n     <use x=\"3080.708984\" xlink:href=\"#DejaVuSans-101\"/>\r\n     <use x=\"3142.232422\" xlink:href=\"#DejaVuSans-114\"/>\r\n     <use x=\"3183.345703\" xlink:href=\"#DejaVuSans-32\"/>\r\n     <use x=\"3215.132812\" xlink:href=\"#DejaVuSans-80\"/>\r\n     <use x=\"3271.810547\" xlink:href=\"#DejaVuSans-111\"/>\r\n     <use x=\"3332.992188\" xlink:href=\"#DejaVuSans-108\"/>\r\n     <use x=\"3360.775391\" xlink:href=\"#DejaVuSans-97\"/>\r\n     <use x=\"3422.054688\" xlink:href=\"#DejaVuSans-114\"/>\r\n     <use x=\"3463.167969\" xlink:href=\"#DejaVuSans-105\"/>\r\n     <use x=\"3490.951172\" xlink:href=\"#DejaVuSans-116\"/>\r\n     <use x=\"3530.160156\" xlink:href=\"#DejaVuSans-121\"/>\r\n    </g>\r\n   </g>\r\n   <g id=\"legend_1\">\r\n    <g id=\"patch_5\">\r\n     <path d=\"M 54.6525 77.391875 \r\nL 212.536875 77.391875 \r\nQ 214.536875 77.391875 214.536875 75.391875 \r\nL 214.536875 32.3575 \r\nQ 214.536875 30.3575 212.536875 30.3575 \r\nL 54.6525 30.3575 \r\nQ 52.6525 30.3575 52.6525 32.3575 \r\nL 52.6525 75.391875 \r\nQ 52.6525 77.391875 54.6525 77.391875 \r\nz\r\n\" style=\"fill:#ffffff;opacity:0.8;stroke:#cccccc;stroke-linejoin:miter;\"/>\r\n    </g>\r\n    <g id=\"patch_6\">\r\n     <path d=\"M 56.6525 41.955937 \r\nL 76.6525 41.955937 \r\nL 76.6525 34.955937 \r\nL 56.6525 34.955937 \r\nz\r\n\" style=\"fill:#ff0000;fill-opacity:0.25;stroke:#ff0000;stroke-linejoin:miter;\"/>\r\n    </g>\r\n    <g id=\"text_16\">\r\n     <!-- Original Vader Polarity -->\r\n     <g transform=\"translate(84.6525 41.955937)scale(0.1 -0.1)\">\r\n      <use xlink:href=\"#DejaVuSans-79\"/>\r\n      <use x=\"78.710938\" xlink:href=\"#DejaVuSans-114\"/>\r\n      <use x=\"119.824219\" xlink:href=\"#DejaVuSans-105\"/>\r\n      <use x=\"147.607422\" xlink:href=\"#DejaVuSans-103\"/>\r\n      <use x=\"211.083984\" xlink:href=\"#DejaVuSans-105\"/>\r\n      <use x=\"238.867188\" xlink:href=\"#DejaVuSans-110\"/>\r\n      <use x=\"302.246094\" xlink:href=\"#DejaVuSans-97\"/>\r\n      <use x=\"363.525391\" xlink:href=\"#DejaVuSans-108\"/>\r\n      <use x=\"391.308594\" xlink:href=\"#DejaVuSans-32\"/>\r\n      <use x=\"423.095703\" xlink:href=\"#DejaVuSans-86\"/>\r\n      <use x=\"483.753906\" xlink:href=\"#DejaVuSans-97\"/>\r\n      <use x=\"545.033203\" xlink:href=\"#DejaVuSans-100\"/>\r\n      <use x=\"608.509766\" xlink:href=\"#DejaVuSans-101\"/>\r\n      <use x=\"670.033203\" xlink:href=\"#DejaVuSans-114\"/>\r\n      <use x=\"711.146484\" xlink:href=\"#DejaVuSans-32\"/>\r\n      <use x=\"742.933594\" xlink:href=\"#DejaVuSans-80\"/>\r\n      <use x=\"799.611328\" xlink:href=\"#DejaVuSans-111\"/>\r\n      <use x=\"860.792969\" xlink:href=\"#DejaVuSans-108\"/>\r\n      <use x=\"888.576172\" xlink:href=\"#DejaVuSans-97\"/>\r\n      <use x=\"949.855469\" xlink:href=\"#DejaVuSans-114\"/>\r\n      <use x=\"990.96875\" xlink:href=\"#DejaVuSans-105\"/>\r\n      <use x=\"1018.751953\" xlink:href=\"#DejaVuSans-116\"/>\r\n      <use x=\"1057.960938\" xlink:href=\"#DejaVuSans-121\"/>\r\n     </g>\r\n    </g>\r\n    <g id=\"patch_7\">\r\n     <path d=\"M 56.6525 56.634062 \r\nL 76.6525 56.634062 \r\nL 76.6525 49.634062 \r\nL 56.6525 49.634062 \r\nz\r\n\" style=\"fill:#0000ff;fill-opacity:0.25;stroke:#0000ff;stroke-linejoin:miter;\"/>\r\n    </g>\r\n    <g id=\"text_17\">\r\n     <!-- Adjusted Vader Polarity -->\r\n     <g transform=\"translate(84.6525 56.634062)scale(0.1 -0.1)\">\r\n      <use xlink:href=\"#DejaVuSans-65\"/>\r\n      <use x=\"66.658203\" xlink:href=\"#DejaVuSans-100\"/>\r\n      <use x=\"130.134766\" xlink:href=\"#DejaVuSans-106\"/>\r\n      <use x=\"157.917969\" xlink:href=\"#DejaVuSans-117\"/>\r\n      <use x=\"221.296875\" xlink:href=\"#DejaVuSans-115\"/>\r\n      <use x=\"273.396484\" xlink:href=\"#DejaVuSans-116\"/>\r\n      <use x=\"312.605469\" xlink:href=\"#DejaVuSans-101\"/>\r\n      <use x=\"374.128906\" xlink:href=\"#DejaVuSans-100\"/>\r\n      <use x=\"437.605469\" xlink:href=\"#DejaVuSans-32\"/>\r\n      <use x=\"469.392578\" xlink:href=\"#DejaVuSans-86\"/>\r\n      <use x=\"530.050781\" xlink:href=\"#DejaVuSans-97\"/>\r\n      <use x=\"591.330078\" xlink:href=\"#DejaVuSans-100\"/>\r\n      <use x=\"654.806641\" xlink:href=\"#DejaVuSans-101\"/>\r\n      <use x=\"716.330078\" xlink:href=\"#DejaVuSans-114\"/>\r\n      <use x=\"757.443359\" xlink:href=\"#DejaVuSans-32\"/>\r\n      <use x=\"789.230469\" xlink:href=\"#DejaVuSans-80\"/>\r\n      <use x=\"845.908203\" xlink:href=\"#DejaVuSans-111\"/>\r\n      <use x=\"907.089844\" xlink:href=\"#DejaVuSans-108\"/>\r\n      <use x=\"934.873047\" xlink:href=\"#DejaVuSans-97\"/>\r\n      <use x=\"996.152344\" xlink:href=\"#DejaVuSans-114\"/>\r\n      <use x=\"1037.265625\" xlink:href=\"#DejaVuSans-105\"/>\r\n      <use x=\"1065.048828\" xlink:href=\"#DejaVuSans-116\"/>\r\n      <use x=\"1104.257812\" xlink:href=\"#DejaVuSans-121\"/>\r\n     </g>\r\n    </g>\r\n    <g id=\"patch_8\">\r\n     <path d=\"M 56.6525 71.312187 \r\nL 76.6525 71.312187 \r\nL 76.6525 64.312187 \r\nL 56.6525 64.312187 \r\nz\r\n\" style=\"fill:#008000;fill-opacity:0.25;stroke:#008000;stroke-linejoin:miter;\"/>\r\n    </g>\r\n    <g id=\"text_18\">\r\n     <!-- Adjusted Vader Polarity 2 -->\r\n     <g transform=\"translate(84.6525 71.312187)scale(0.1 -0.1)\">\r\n      <use xlink:href=\"#DejaVuSans-65\"/>\r\n      <use x=\"66.658203\" xlink:href=\"#DejaVuSans-100\"/>\r\n      <use x=\"130.134766\" xlink:href=\"#DejaVuSans-106\"/>\r\n      <use x=\"157.917969\" xlink:href=\"#DejaVuSans-117\"/>\r\n      <use x=\"221.296875\" xlink:href=\"#DejaVuSans-115\"/>\r\n      <use x=\"273.396484\" xlink:href=\"#DejaVuSans-116\"/>\r\n      <use x=\"312.605469\" xlink:href=\"#DejaVuSans-101\"/>\r\n      <use x=\"374.128906\" xlink:href=\"#DejaVuSans-100\"/>\r\n      <use x=\"437.605469\" xlink:href=\"#DejaVuSans-32\"/>\r\n      <use x=\"469.392578\" xlink:href=\"#DejaVuSans-86\"/>\r\n      <use x=\"530.050781\" xlink:href=\"#DejaVuSans-97\"/>\r\n      <use x=\"591.330078\" xlink:href=\"#DejaVuSans-100\"/>\r\n      <use x=\"654.806641\" xlink:href=\"#DejaVuSans-101\"/>\r\n      <use x=\"716.330078\" xlink:href=\"#DejaVuSans-114\"/>\r\n      <use x=\"757.443359\" xlink:href=\"#DejaVuSans-32\"/>\r\n      <use x=\"789.230469\" xlink:href=\"#DejaVuSans-80\"/>\r\n      <use x=\"845.908203\" xlink:href=\"#DejaVuSans-111\"/>\r\n      <use x=\"907.089844\" xlink:href=\"#DejaVuSans-108\"/>\r\n      <use x=\"934.873047\" xlink:href=\"#DejaVuSans-97\"/>\r\n      <use x=\"996.152344\" xlink:href=\"#DejaVuSans-114\"/>\r\n      <use x=\"1037.265625\" xlink:href=\"#DejaVuSans-105\"/>\r\n      <use x=\"1065.048828\" xlink:href=\"#DejaVuSans-116\"/>\r\n      <use x=\"1104.257812\" xlink:href=\"#DejaVuSans-121\"/>\r\n      <use x=\"1163.4375\" xlink:href=\"#DejaVuSans-32\"/>\r\n      <use x=\"1195.224609\" xlink:href=\"#DejaVuSans-50\"/>\r\n     </g>\r\n    </g>\r\n   </g>\r\n  </g>\r\n </g>\r\n <defs>\r\n  <clipPath id=\"p965c899fb6\">\r\n   <rect height=\"434.88\" width=\"558\" x=\"47.6525\" y=\"25.3575\"/>\r\n  </clipPath>\r\n </defs>\r\n</svg>\r\n",
      "image/png": "[encoded data removed]"
     },
     "metadata": {
      "needs_background": "light"
     }
    }
   ],
   "source": [
    "# Compare the density plots of the original and adjusted Vader polarity scores\n",
    "fig = plt.figure(figsize = (10,8))\n",
    "ax = sns.kdeplot(Vader_tx_polarity.Vader_polarity.values, shade = True, color = 'red', label = \"Original Vader Polarity\")\n",
    "ax = sns.kdeplot(Vader_tx_polarity.Vader_polarity_adj.values, shade = True, color = 'blue', label = \"Adjusted Vader Polarity\")\n",
    "ax = sns.kdeplot(Vader_tx_polarity.Vader_polarity_adj_2.values, shade = True, color = 'green', label = \"Adjusted Vader Polarity 2\")\n",
    "ax.set_title(\"French: Density of the Original Vader Polarity vs Adjusted Vader Polarity\")\n",
    "ax.set_xlabel(\"Polarity Score\")\n",
    "ax.spines['top'].set_visible(False)\n",
    "ax.spines['right'].set_visible(False)\n",
    "ax.legend(loc = 'upper left')\n",
    "plt.show()"
   ]
  },
  {
   "cell_type": "code",
   "execution_count": 13,
   "metadata": {},
   "outputs": [],
   "source": [
    "# Save the results to a csv file\n",
    "Vader_tx_polarity.to_csv(\"Sentiment/Vader/VADER-fr/fr_vader_polarity_combined.csv\", index = True)"
   ]
  },
  {
   "source": [
    "<div class=\"alert alert-info\" style=\"background-color:#5d3a8e; color:white; padding:0px 10px; border-radius:5px;\"><h2 style='margin:10px 5px'> \n",
    "X. Inspection of two articles with similar original vader polarity but different length\n",
    "</h2>\n",
    "</div>"
   ],
   "cell_type": "markdown",
   "metadata": {}
  },
  {
   "cell_type": "code",
   "execution_count": 14,
   "metadata": {},
   "outputs": [
    {
     "output_type": "execute_result",
     "data": {
      "text/plain": [
       "\" Le fabricant de spécialités chimiques Sika s'attend à une embellie au deuxième semestre malgré la crise pandémique qui continue de créer l'incertitude sur les marchés. Paul Schuler, directeur général du groupe, a confirmé la feuille de route du groupe à l'horizon 2023. Sika n'a pas été déstabilisé par la crise du Covid 19. Le patron de ce groupe zougois actif dans la construction et l'industrie a confirmé la progression du groupe en pleine crise pandémique lors de la Journée des Investisseurs à Zurich. (awp)\""
      ]
     },
     "metadata": {},
     "execution_count": 14
    }
   ],
   "source": [
    "# Short with -0.7772 to -0.1196\n",
    "fr_tx[1]"
   ]
  },
  {
   "cell_type": "code",
   "execution_count": 15,
   "metadata": {},
   "outputs": [
    {
     "output_type": "execute_result",
     "data": {
      "text/plain": [
       "\" Le SMI a perdu 0,41 à 10. 187,090 points, plus bas à 10. 169,78 et plus haut à 10. 266,97. Le SLI a cédé 0,08 à 1553,69 points et le SPI 0,27 à 12. 724,65 points. Après avoir fait une pointe durant la première heure de transactions, le SMI est reparti dans le rouge où il a évolué en dents de scie autour de la barre des 10. 200 points jusqu'en début d'après midi. Sur les 30 valeurs vedettes, 16 ont reculé et 14 avancé. Le podium du jour se compose de la volatile AMS (+3,1 ), Straumann (+2,7 ) et Julius Bär (+2,5 ). Les deux autres bancaires Credit Suisse (+1,9 ) et UBS (+1,7 ) suivent leur petite soeur de près. Sika (+0,9 ) s'attend à une embellie au deuxième semestre malgré la crise sanitaire qui continue de créer l'incertitude sur les marchés. Paul Schuler, CEO du groupe, a confirmé la feuille de route du groupe à l'horizon 2023. Givaudan (+0,2 ) a profité d'un relèvement de recommandation à buy de hold par Berenberg (lire ci dessous). Dans le camp des perdants, Roche ( 1,6 ) a fini lanterne rouge derrière Temenos et le bon Schindler (chacun 1,3 ) et Kühne+Nagel ( 1,1 ). Novartis ( 0,7 ) et Nestlé ( 0,3 ) ont aussi freiné l'indice. Partenaire de Roche, Regeneron assure avoir observé une amélioration de l'état de santé de patients non hospitalisés souffrant de la Covid 19, auxquels a été administré son cocktail d'anticorps Regn Cov2 (lire page 5). Richemont ( 0,3 ) a souffert après que Credit Suisse a relevé son objectif de cours, mais confirmé sa recommandation underperform (lire ci dessous). Lonza ( 0,3 ) aurait entamé le processus de vente de ses affaires dans les composants chimiques spéciaux, Lonza Specialty Ingredients selon Reuters (lire page 5). Sur le marché élargi, MCH (+3,7 ) a bouclé les six premiers mois de 2020 sur une importante perte nette (lire page 6). EFG International (+1,2 ) va confier à Bancastato (la Banque cantonale du Tessin) ses activités de détail tessinoises. Après avoir étoffé sa participation dans la société DNE Laser à 70, Conzzeta (+1,4 ) porte cette dernière à 100. L'opération, réalisée par Bystronic, filiale du groupe zurichois, doit permettre de réduire la complexité des activités au vu des besoins croissants des clients dans l'Empire du Milieu. (awp)\""
      ]
     },
     "metadata": {},
     "execution_count": 15
    }
   ],
   "source": [
    "# Long with 0.7561 to 0.0414\n",
    "fr_tx[2]"
   ]
  }
 ]
}