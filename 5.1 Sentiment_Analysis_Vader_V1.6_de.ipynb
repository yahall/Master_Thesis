{
 "metadata": {
  "language_info": {
   "codemirror_mode": {
    "name": "ipython",
    "version": 3
   },
   "file_extension": ".py",
   "mimetype": "text/x-python",
   "name": "python",
   "nbconvert_exporter": "python",
   "pygments_lexer": "ipython3",
   "version": "3.7.9"
  },
  "orig_nbformat": 2,
  "kernelspec": {
   "name": "python3",
   "display_name": "Python 3.7.9 64-bit ('Master_Thesis_env': conda)"
  },
  "interpreter": {
   "hash": "89a54e7346d33656f2940aba0e47a561becf96fe36c69c035d9bc66d085d8900"
  }
 },
 "nbformat": 4,
 "nbformat_minor": 2,
 "cells": [
  {
   "source": [
    "<div class=\"alert alert-info\" style=\"background-color:#5d3a8e; color:white; padding:0px 10px; border-radius:5px;\"><h1 style='margin:10px 5px'> \n",
    "Master Thesis Yannik Haller - Sentiment Analysis VADER\n",
    "</h1>\n",
    "</div>"
   ],
   "cell_type": "markdown",
   "metadata": {}
  },
  {
   "source": [
    "<div class=\"alert alert-info\" style=\"background-color:#5d3a8e; color:white; padding:0px 10px; border-radius:5px;\"><h2 style='margin:10px 5px'> \n",
    "1. Load required packages\n",
    "</h2>\n",
    "</div>"
   ],
   "cell_type": "markdown",
   "metadata": {}
  },
  {
   "cell_type": "code",
   "execution_count": 1,
   "metadata": {},
   "outputs": [],
   "source": [
    "# Import required baseline packages\n",
    "import re\n",
    "import os\n",
    "import glob\n",
    "import time\n",
    "import sys\n",
    "import pandas as pd\n",
    "import numpy as np\n",
    "from pprint import pprint\n",
    "\n",
    "# Change pandas' setting to print out long strings\n",
    "pd.options.display.max_colwidth = 200\n",
    "\n",
    "import seaborn as sns\n",
    "import matplotlib.pyplot as plt\n",
    "%matplotlib inline\n",
    "# Set global parameters for plotting\n",
    "import matplotlib.pylab as pylab\n",
    "params = {'legend.fontsize': 10,\n",
    "          'figure.figsize': (8, 6),\n",
    "          'axes.labelsize': 14,\n",
    "          'axes.titlesize': 16,\n",
    "          'xtick.labelsize': 10,\n",
    "          'ytick.labelsize': 10}\n",
    "pylab.rcParams.update(params)\n",
    "\n",
    "# Gensim\n",
    "import gensim\n",
    "import gensim.corpora as corpora\n",
    "from gensim.utils import simple_preprocess\n",
    "from gensim.models import CoherenceModel\n",
    "\n",
    "# Spacy (for lemmatization)\n",
    "import spacy\n",
    "\n",
    "# Plotting tools\n",
    "import pyLDAvis\n",
    "import pyLDAvis.gensim\n",
    "import matplotlib.pyplot as plt\n",
    "%matplotlib inline\n",
    "\n",
    "# TextBlob (for Sentiment Analysis)\n",
    "from textblob import Blobber\n",
    "from textblob_de import PatternTagger, PatternAnalyzer\n",
    "\n",
    "# Enable logging for gensim (optional)\n",
    "import logging\n",
    "logging.basicConfig(format = '%(asctime)s : %(levelname)s : %(message)s', level = logging.ERROR)\n",
    "\n",
    "import warnings\n",
    "warnings.filterwarnings(\"ignore\", category = DeprecationWarning)\n",
    "warnings.filterwarnings(\"ignore\", category = FutureWarning)"
   ]
  },
  {
   "cell_type": "code",
   "execution_count": 2,
   "metadata": {},
   "outputs": [],
   "source": [
    "# Set the appropriate working directory\n",
    "os.chdir('D:\\\\Dropbox\\\\MA_data')"
   ]
  },
  {
   "cell_type": "code",
   "execution_count": 3,
   "metadata": {},
   "outputs": [],
   "source": [
    "# Define a function to read in the preprocessed fulltext data\n",
    "def read_preprocessed_fulltext(language):\n",
    "    # Raise an error if an inadmissible language is chosen\n",
    "    allowed_languages = ['de', 'en', 'fr', 'it']\n",
    "    if language not in allowed_languages:\n",
    "        raise ValueError(\"Invalid language. Expected one of: %s\" % allowed_languages)\n",
    "    \n",
    "    # Set the appropriate working directory\n",
    "    os.chdir('D:\\\\Dropbox\\\\MA_data')\n",
    "\n",
    "    # Define the name of the file to load\n",
    "    filename = \"Preprocessed/Sentiment_Analysis/Fulltext/\"+language+\"_fulltext_senti.csv\"\n",
    "\n",
    "    # Read in the data\n",
    "    tx_ft = pd.read_csv(filename, index_col = 0, dtype = {'tx': object})\n",
    "\n",
    "    # Get the articles' index together with an enumeration to identify their position in the list of precleaned articles\n",
    "    idx = tx_ft.index\n",
    "    idx = pd.DataFrame(idx, columns = [language+'_idx'])\n",
    "\n",
    "    # Extract the text data as a list of articles\n",
    "    tx_ft = tx_ft.tx.to_list()\n",
    "\n",
    "    # Return the preprocessed data\n",
    "    return tx_ft, idx"
   ]
  },
  {
   "source": [
    "<div class=\"alert alert-info\" style=\"background-color:#5d3a8e; color:white; padding:0px 10px; border-radius:5px;\"><h2 style='margin:10px 5px'> \n",
    "2.1 Sentiment Assessment of the Articles\n",
    "</h2>\n",
    "</div>\n",
    "\n",
    "Since the most convenient way to access GerVADER is from the computer's command line (i.e. cmd if you are using Windows as an operating system), we do so in the following by applying the following steps sequentially:\n",
    "\n",
    "1. Download the German Vader sentiment module from the according Github repository (link: https://github.com/KarstenAMF/GerVADER). \n",
    "\n",
    "2. Unzip the file, rename the retrieved folder from \"GerVADER\" to \"GerVADER_original\" and save it to some path (referred to as Path\\to\\GerVADER_original in the following). For me this path is C:\\Users\\Hallk\\Documents\\Programming\\Additional_stuff\\GerVADER_original.\n",
    "\n",
    "3. Replace the original \"vaderSentimentGER.py\" file in the downloaded folder with the adjusted \"vaderSentimentGER.py\" file in the \"GerVADER_original\" folder provided by this thesis (minor adjustments have been applied to the code). (Note: Alternatively to applying steps 1-3 one could also just copy the entire \"GerVADER_original\" folder provided by this thesis to Path\\to\\GerVADER_original and continue with step 4)\n",
    "\n",
    "4. Copy the tsv file created in the Jupyter notebook \"2.1 Data_pp_Sentiment_Vader_V1.1_de\" (called \"de_fulltext_senti.tsv\") into the aforementioned \"GerVADER_original\" folder on your machine.\n",
    "\n",
    "5. Open your machine's command window and navigate to the \"GerVADER_original\" folder by entering the following to the command: cd Path\\to\\GerVADER_original\n",
    "\n",
    "6. Next, enter the command: python GERvaderModule.py\n",
    "\n",
    "7. Choose: 2\n",
    "\n",
    "8. Enter the name of the tsv file mentioned above\n",
    "\n",
    "9. Choose N or insert the name you want to give to the output folder\n",
    "\n",
    "If all these steps are executed the articles' sentiments will be evaluated by the algorithm and 4 distinct output tables in tsv format will be generated. One output file contains the text and sentiment assessment for the entirety of articles, while the remaining three solely contain articles classified as negative, neutral or positive, respectively. All resulting output files are then stored within the folder 'results' located within the \"GerVADER_original\" folder."
   ],
   "cell_type": "markdown",
   "metadata": {}
  },
  {
   "source": [
    "<div class=\"alert alert-info\" style=\"background-color:#5d3a8e; color:white; padding:0px 10px; border-radius:5px;\"><h2 style='margin:10px 5px'> \n",
    "2.2 Extract the resulting polarity scores\n",
    "</h2>\n",
    "</div>\n",
    "\n",
    "Before we start, we have to copy the resulting tsv file named \"GERVADER\\_\\_all_docs.tsv\" to an easily accessible spot on our machine, such that we can read it in conveniently (for me it is the folder c:\\\\Users\\\\Hallk\\\\Dropbox\\\\MA_data\\\\Sentiment\\\\Vader\\\\GerVADER). Furthermore, we should rename it to \"GERVADER\\_\\_all_docs_original.tsv\" to prevent issues that otherwise would occur later on.\n",
    "\n"
   ],
   "cell_type": "markdown",
   "metadata": {}
  },
  {
   "cell_type": "code",
   "execution_count": 4,
   "metadata": {},
   "outputs": [],
   "source": [
    "# Read in the resulting tsv file\n",
    "Vader_tx_pol = pd.read_csv(\"Sentiment/Vader/GerVADER/GERVADER__all_docs_original.tsv\", sep = '\\t', header = None, usecols = [0,2], names = ['tx','Vader_polarity'])"
   ]
  },
  {
   "cell_type": "code",
   "execution_count": 5,
   "metadata": {},
   "outputs": [],
   "source": [
    "## Assign the correct article indexes to the dataframe\n",
    "# Get the indexes\n",
    "de_idx = read_preprocessed_fulltext('de')[1]\n",
    "# Assign the indexes accordingly\n",
    "Vader_tx_pol.index = de_idx.de_idx.values.tolist()"
   ]
  },
  {
   "cell_type": "code",
   "execution_count": 6,
   "metadata": {},
   "outputs": [
    {
     "output_type": "execute_result",
     "data": {
      "text/plain": [
       "                                                                                                                                                                                                              tx  \\\n",
       "16553     Rückkehrer Stefan Meier überragt beim 7:6 gegen die Flames. Herisau bangt allerdings am Schluss. Lukas PfiffnerIn der vergangenen Saison tat sich der UHC Herisau darin hervor, immer wieder einen ...   \n",
       "16554     Fussball Auch im neunten Promotion League Spiel hintereinander blieben die Brühler unbesiegt. Sie trotzten dem unangefochtenen Ligakrösus Yverdon ein Unentschieden ab. Nicolas Eberle brachte die ...   \n",
       "16555     Fussball Das 1. Liga Team des FC St. Gallen spielte zu Hause gegen Paradiso 0:0. Über 90 Minuten gab es keine einzige klare Torchance. Zwar kamen beide Mannschaften dank einigen schönen Spielzüge...   \n",
       "16556     Liebe Klimajugendliche, Ausgabe vom 28. SeptemberMit dieser Montagskolumne der Autorin und Kabarettistin, studierten Erziehungswissenschaftlerin und Preisträgerin des Salzburger Stiers 2019, Patt...   \n",
       "16557     Die Regierung will den Ostschweizer Innovationspark mit zehn Millionen Franken unterstützen à fonds perdu. Regula WeikDiesmal soll es klappen. Die Zusage des Bundesrats steht zwar noch aus. Doch ...   \n",
       "...                                                                                                                                                                                                          ...   \n",
       "2441178   Bist du beim Abfalltrennen auch überfordert? Wir kennen die häufigsten Fehler und ihre Lösung. TEXTCLAUDIA HOTTIGER35668 tPET wurden 2019 schweizweit recyceltRichtig RecycelnWenn es ums Abfalltre...   \n",
       "2441179   ZÜRICH. Seit fast vier Jahren gilt Daniel als vermisst. Seine Schwester kämpft bis heute mit seinem Verschwinden. Eines Montagmorgens im Mai 2017 verliess Daniel (42) sein Büro und wurde seither ...   \n",
       "2441180   TOKIO. Trotz des Corona Notstands in Japan und der Umfragemehrheiten gegen Olympia im Sommer sieht IOC Chef Thomas Bach keinen Anlass für eine Absage der Spiele. Wir haben zurzeit überhaupt keine...   \n",
       "2441181   GUNTEN. Im Zusammenhang mit der toten tätowierten Frau im Thunersee sind bei der Berner Kapo auf die Zeugenaufrufe hin zahlreiche Hinweise aus der Bevölkerung eingegangen. Daraus haben sich Anhal...   \n",
       "2441182   Vor dem Duschen checkst du immer zuerst vorsichtig die Wassertemperatur? Vielleicht entgeht dir da was. Denn richtig eingesetzt können solche Kältereize richtig gesund sein. TEXTLARS REBERFOTO GE...   \n",
       "\n",
       "         Vader_polarity  \n",
       "16553            0.9691  \n",
       "16554            0.9501  \n",
       "16555            0.6287  \n",
       "16556            0.5972  \n",
       "16557            0.9982  \n",
       "...                 ...  \n",
       "2441178          0.9693  \n",
       "2441179         -0.7441  \n",
       "2441180          0.8391  \n",
       "2441181         -0.8689  \n",
       "2441182          0.9928  \n",
       "\n",
       "[1934313 rows x 2 columns]"
      ],
      "text/html": "<div>\n<style scoped>\n    .dataframe tbody tr th:only-of-type {\n        vertical-align: middle;\n    }\n\n    .dataframe tbody tr th {\n        vertical-align: top;\n    }\n\n    .dataframe thead th {\n        text-align: right;\n    }\n</style>\n<table border=\"1\" class=\"dataframe\">\n  <thead>\n    <tr style=\"text-align: right;\">\n      <th></th>\n      <th>tx</th>\n      <th>Vader_polarity</th>\n    </tr>\n  </thead>\n  <tbody>\n    <tr>\n      <th>16553</th>\n      <td>Rückkehrer Stefan Meier überragt beim 7:6 gegen die Flames. Herisau bangt allerdings am Schluss. Lukas PfiffnerIn der vergangenen Saison tat sich der UHC Herisau darin hervor, immer wieder einen ...</td>\n      <td>0.9691</td>\n    </tr>\n    <tr>\n      <th>16554</th>\n      <td>Fussball Auch im neunten Promotion League Spiel hintereinander blieben die Brühler unbesiegt. Sie trotzten dem unangefochtenen Ligakrösus Yverdon ein Unentschieden ab. Nicolas Eberle brachte die ...</td>\n      <td>0.9501</td>\n    </tr>\n    <tr>\n      <th>16555</th>\n      <td>Fussball Das 1. Liga Team des FC St. Gallen spielte zu Hause gegen Paradiso 0:0. Über 90 Minuten gab es keine einzige klare Torchance. Zwar kamen beide Mannschaften dank einigen schönen Spielzüge...</td>\n      <td>0.6287</td>\n    </tr>\n    <tr>\n      <th>16556</th>\n      <td>Liebe Klimajugendliche, Ausgabe vom 28. SeptemberMit dieser Montagskolumne der Autorin und Kabarettistin, studierten Erziehungswissenschaftlerin und Preisträgerin des Salzburger Stiers 2019, Patt...</td>\n      <td>0.5972</td>\n    </tr>\n    <tr>\n      <th>16557</th>\n      <td>Die Regierung will den Ostschweizer Innovationspark mit zehn Millionen Franken unterstützen à fonds perdu. Regula WeikDiesmal soll es klappen. Die Zusage des Bundesrats steht zwar noch aus. Doch ...</td>\n      <td>0.9982</td>\n    </tr>\n    <tr>\n      <th>...</th>\n      <td>...</td>\n      <td>...</td>\n    </tr>\n    <tr>\n      <th>2441178</th>\n      <td>Bist du beim Abfalltrennen auch überfordert? Wir kennen die häufigsten Fehler und ihre Lösung. TEXTCLAUDIA HOTTIGER35668 tPET wurden 2019 schweizweit recyceltRichtig RecycelnWenn es ums Abfalltre...</td>\n      <td>0.9693</td>\n    </tr>\n    <tr>\n      <th>2441179</th>\n      <td>ZÜRICH. Seit fast vier Jahren gilt Daniel als vermisst. Seine Schwester kämpft bis heute mit seinem Verschwinden. Eines Montagmorgens im Mai 2017 verliess Daniel (42) sein Büro und wurde seither ...</td>\n      <td>-0.7441</td>\n    </tr>\n    <tr>\n      <th>2441180</th>\n      <td>TOKIO. Trotz des Corona Notstands in Japan und der Umfragemehrheiten gegen Olympia im Sommer sieht IOC Chef Thomas Bach keinen Anlass für eine Absage der Spiele. Wir haben zurzeit überhaupt keine...</td>\n      <td>0.8391</td>\n    </tr>\n    <tr>\n      <th>2441181</th>\n      <td>GUNTEN. Im Zusammenhang mit der toten tätowierten Frau im Thunersee sind bei der Berner Kapo auf die Zeugenaufrufe hin zahlreiche Hinweise aus der Bevölkerung eingegangen. Daraus haben sich Anhal...</td>\n      <td>-0.8689</td>\n    </tr>\n    <tr>\n      <th>2441182</th>\n      <td>Vor dem Duschen checkst du immer zuerst vorsichtig die Wassertemperatur? Vielleicht entgeht dir da was. Denn richtig eingesetzt können solche Kältereize richtig gesund sein. TEXTLARS REBERFOTO GE...</td>\n      <td>0.9928</td>\n    </tr>\n  </tbody>\n</table>\n<p>1934313 rows × 2 columns</p>\n</div>"
     },
     "metadata": {},
     "execution_count": 6
    }
   ],
   "source": [
    "# Take a look at the created dataframe\n",
    "Vader_tx_pol"
   ]
  },
  {
   "cell_type": "code",
   "execution_count": 17,
   "metadata": {},
   "outputs": [
    {
     "output_type": "execute_result",
     "data": {
      "text/plain": [
       "                                                                                                                                                                                                              tx\n",
       "16553     Rückkehrer Stefan Meier überragt beim 7:6 gegen die Flames. Herisau bangt allerdings am Schluss. Lukas PfiffnerIn der vergangenen Saison tat sich der UHC Herisau darin hervor, immer wieder einen ...\n",
       "16554     Fussball Auch im neunten Promotion League Spiel hintereinander blieben die Brühler unbesiegt. Sie trotzten dem unangefochtenen Ligakrösus Yverdon ein Unentschieden ab. Nicolas Eberle brachte die ...\n",
       "16555     Fussball Das 1. Liga Team des FC St. Gallen spielte zu Hause gegen Paradiso 0:0. Über 90 Minuten gab es keine einzige klare Torchance. Zwar kamen beide Mannschaften dank einigen schönen Spielzüge...\n",
       "16556     Liebe Klimajugendliche, Ausgabe vom 28. SeptemberMit dieser Montagskolumne der Autorin und Kabarettistin, studierten Erziehungswissenschaftlerin und Preisträgerin des Salzburger Stiers 2019, Patt...\n",
       "16557     Die Regierung will den Ostschweizer Innovationspark mit zehn Millionen Franken unterstützen à fonds perdu. Regula WeikDiesmal soll es klappen. Die Zusage des Bundesrats steht zwar noch aus. Doch ...\n",
       "...                                                                                                                                                                                                          ...\n",
       "2441178   Bist du beim Abfalltrennen auch überfordert? Wir kennen die häufigsten Fehler und ihre Lösung. TEXTCLAUDIA HOTTIGER35668 tPET wurden 2019 schweizweit recyceltRichtig RecycelnWenn es ums Abfalltre...\n",
       "2441179   ZÜRICH. Seit fast vier Jahren gilt Daniel als vermisst. Seine Schwester kämpft bis heute mit seinem Verschwinden. Eines Montagmorgens im Mai 2017 verliess Daniel (42) sein Büro und wurde seither ...\n",
       "2441180   TOKIO. Trotz des Corona Notstands in Japan und der Umfragemehrheiten gegen Olympia im Sommer sieht IOC Chef Thomas Bach keinen Anlass für eine Absage der Spiele. Wir haben zurzeit überhaupt keine...\n",
       "2441181   GUNTEN. Im Zusammenhang mit der toten tätowierten Frau im Thunersee sind bei der Berner Kapo auf die Zeugenaufrufe hin zahlreiche Hinweise aus der Bevölkerung eingegangen. Daraus haben sich Anhal...\n",
       "2441182   Vor dem Duschen checkst du immer zuerst vorsichtig die Wassertemperatur? Vielleicht entgeht dir da was. Denn richtig eingesetzt können solche Kältereize richtig gesund sein. TEXTLARS REBERFOTO GE...\n",
       "\n",
       "[1915480 rows x 1 columns]"
      ],
      "text/html": "<div>\n<style scoped>\n    .dataframe tbody tr th:only-of-type {\n        vertical-align: middle;\n    }\n\n    .dataframe tbody tr th {\n        vertical-align: top;\n    }\n\n    .dataframe thead th {\n        text-align: right;\n    }\n</style>\n<table border=\"1\" class=\"dataframe\">\n  <thead>\n    <tr style=\"text-align: right;\">\n      <th></th>\n      <th>tx</th>\n    </tr>\n  </thead>\n  <tbody>\n    <tr>\n      <th>16553</th>\n      <td>Rückkehrer Stefan Meier überragt beim 7:6 gegen die Flames. Herisau bangt allerdings am Schluss. Lukas PfiffnerIn der vergangenen Saison tat sich der UHC Herisau darin hervor, immer wieder einen ...</td>\n    </tr>\n    <tr>\n      <th>16554</th>\n      <td>Fussball Auch im neunten Promotion League Spiel hintereinander blieben die Brühler unbesiegt. Sie trotzten dem unangefochtenen Ligakrösus Yverdon ein Unentschieden ab. Nicolas Eberle brachte die ...</td>\n    </tr>\n    <tr>\n      <th>16555</th>\n      <td>Fussball Das 1. Liga Team des FC St. Gallen spielte zu Hause gegen Paradiso 0:0. Über 90 Minuten gab es keine einzige klare Torchance. Zwar kamen beide Mannschaften dank einigen schönen Spielzüge...</td>\n    </tr>\n    <tr>\n      <th>16556</th>\n      <td>Liebe Klimajugendliche, Ausgabe vom 28. SeptemberMit dieser Montagskolumne der Autorin und Kabarettistin, studierten Erziehungswissenschaftlerin und Preisträgerin des Salzburger Stiers 2019, Patt...</td>\n    </tr>\n    <tr>\n      <th>16557</th>\n      <td>Die Regierung will den Ostschweizer Innovationspark mit zehn Millionen Franken unterstützen à fonds perdu. Regula WeikDiesmal soll es klappen. Die Zusage des Bundesrats steht zwar noch aus. Doch ...</td>\n    </tr>\n    <tr>\n      <th>...</th>\n      <td>...</td>\n    </tr>\n    <tr>\n      <th>2441178</th>\n      <td>Bist du beim Abfalltrennen auch überfordert? Wir kennen die häufigsten Fehler und ihre Lösung. TEXTCLAUDIA HOTTIGER35668 tPET wurden 2019 schweizweit recyceltRichtig RecycelnWenn es ums Abfalltre...</td>\n    </tr>\n    <tr>\n      <th>2441179</th>\n      <td>ZÜRICH. Seit fast vier Jahren gilt Daniel als vermisst. Seine Schwester kämpft bis heute mit seinem Verschwinden. Eines Montagmorgens im Mai 2017 verliess Daniel (42) sein Büro und wurde seither ...</td>\n    </tr>\n    <tr>\n      <th>2441180</th>\n      <td>TOKIO. Trotz des Corona Notstands in Japan und der Umfragemehrheiten gegen Olympia im Sommer sieht IOC Chef Thomas Bach keinen Anlass für eine Absage der Spiele. Wir haben zurzeit überhaupt keine...</td>\n    </tr>\n    <tr>\n      <th>2441181</th>\n      <td>GUNTEN. Im Zusammenhang mit der toten tätowierten Frau im Thunersee sind bei der Berner Kapo auf die Zeugenaufrufe hin zahlreiche Hinweise aus der Bevölkerung eingegangen. Daraus haben sich Anhal...</td>\n    </tr>\n    <tr>\n      <th>2441182</th>\n      <td>Vor dem Duschen checkst du immer zuerst vorsichtig die Wassertemperatur? Vielleicht entgeht dir da was. Denn richtig eingesetzt können solche Kältereize richtig gesund sein. TEXTLARS REBERFOTO GE...</td>\n    </tr>\n  </tbody>\n</table>\n<p>1915480 rows × 1 columns</p>\n</div>"
     },
     "metadata": {},
     "execution_count": 17
    }
   ],
   "source": [
    "# Compare it to the original data (DO NOT RERUN THIS!!!)\n",
    "de_tx"
   ]
  },
  {
   "cell_type": "code",
   "execution_count": 7,
   "metadata": {},
   "outputs": [
    {
     "output_type": "execute_result",
     "data": {
      "text/plain": [
       "tx                0\n",
       "Vader_polarity    0\n",
       "dtype: int64"
      ]
     },
     "metadata": {},
     "execution_count": 7
    }
   ],
   "source": [
    "# Check for missing values\n",
    "Vader_tx_pol.isna().sum()"
   ]
  },
  {
   "cell_type": "code",
   "execution_count": 8,
   "metadata": {},
   "outputs": [],
   "source": [
    "# Extract the article indices together with the corresponding Vader-polarity scores as a csv file\n",
    "Vader_tx_pol = Vader_tx_pol[['Vader_polarity']]\n",
    "# Write the Dataframe to a csv file\n",
    "Vader_tx_pol.to_csv(\"Sentiment/Vader/GerVADER/de_vader_polarity_original.csv\", index = True, encoding = 'utf-8-sig')"
   ]
  },
  {
   "cell_type": "code",
   "execution_count": 9,
   "metadata": {},
   "outputs": [
    {
     "output_type": "execute_result",
     "data": {
      "text/plain": [
       "         Vader_polarity\n",
       "16553            0.9691\n",
       "16554            0.9501\n",
       "16555            0.6287\n",
       "16556            0.5972\n",
       "16557            0.9982\n",
       "...                 ...\n",
       "2441178          0.9693\n",
       "2441179         -0.7441\n",
       "2441180          0.8391\n",
       "2441181         -0.8689\n",
       "2441182          0.9928\n",
       "\n",
       "[1934313 rows x 1 columns]"
      ],
      "text/html": "<div>\n<style scoped>\n    .dataframe tbody tr th:only-of-type {\n        vertical-align: middle;\n    }\n\n    .dataframe tbody tr th {\n        vertical-align: top;\n    }\n\n    .dataframe thead th {\n        text-align: right;\n    }\n</style>\n<table border=\"1\" class=\"dataframe\">\n  <thead>\n    <tr style=\"text-align: right;\">\n      <th></th>\n      <th>Vader_polarity</th>\n    </tr>\n  </thead>\n  <tbody>\n    <tr>\n      <th>16553</th>\n      <td>0.9691</td>\n    </tr>\n    <tr>\n      <th>16554</th>\n      <td>0.9501</td>\n    </tr>\n    <tr>\n      <th>16555</th>\n      <td>0.6287</td>\n    </tr>\n    <tr>\n      <th>16556</th>\n      <td>0.5972</td>\n    </tr>\n    <tr>\n      <th>16557</th>\n      <td>0.9982</td>\n    </tr>\n    <tr>\n      <th>...</th>\n      <td>...</td>\n    </tr>\n    <tr>\n      <th>2441178</th>\n      <td>0.9693</td>\n    </tr>\n    <tr>\n      <th>2441179</th>\n      <td>-0.7441</td>\n    </tr>\n    <tr>\n      <th>2441180</th>\n      <td>0.8391</td>\n    </tr>\n    <tr>\n      <th>2441181</th>\n      <td>-0.8689</td>\n    </tr>\n    <tr>\n      <th>2441182</th>\n      <td>0.9928</td>\n    </tr>\n  </tbody>\n</table>\n<p>1934313 rows × 1 columns</p>\n</div>"
     },
     "metadata": {},
     "execution_count": 9
    }
   ],
   "source": [
    "# Read in the data as follows\n",
    "Vader_tx_pol = pd.read_csv(\"Sentiment/Vader/GerVADER/de_vader_polarity_original.csv\", index_col = 0, dtype = {'Vader_polarity': float})\n",
    "Vader_tx_pol"
   ]
  },
  {
   "cell_type": "code",
   "execution_count": 10,
   "metadata": {},
   "outputs": [
    {
     "output_type": "stream",
     "name": "stdout",
     "text": [
      "The share of articles with a positive sentiment is 79.0 %\nThe share of articles with a negative sentiment is 20.0 %\n"
     ]
    },
    {
     "output_type": "execute_result",
     "data": {
      "text/plain": [
       "       Vader_polarity\n",
       "count     1934313.000\n",
       "mean            0.551\n",
       "std             0.670\n",
       "min            -1.000\n",
       "25%             0.361\n",
       "50%             0.936\n",
       "75%             0.989\n",
       "max             1.000"
      ],
      "text/html": "<div>\n<style scoped>\n    .dataframe tbody tr th:only-of-type {\n        vertical-align: middle;\n    }\n\n    .dataframe tbody tr th {\n        vertical-align: top;\n    }\n\n    .dataframe thead th {\n        text-align: right;\n    }\n</style>\n<table border=\"1\" class=\"dataframe\">\n  <thead>\n    <tr style=\"text-align: right;\">\n      <th></th>\n      <th>Vader_polarity</th>\n    </tr>\n  </thead>\n  <tbody>\n    <tr>\n      <th>count</th>\n      <td>1934313.000</td>\n    </tr>\n    <tr>\n      <th>mean</th>\n      <td>0.551</td>\n    </tr>\n    <tr>\n      <th>std</th>\n      <td>0.670</td>\n    </tr>\n    <tr>\n      <th>min</th>\n      <td>-1.000</td>\n    </tr>\n    <tr>\n      <th>25%</th>\n      <td>0.361</td>\n    </tr>\n    <tr>\n      <th>50%</th>\n      <td>0.936</td>\n    </tr>\n    <tr>\n      <th>75%</th>\n      <td>0.989</td>\n    </tr>\n    <tr>\n      <th>max</th>\n      <td>1.000</td>\n    </tr>\n  </tbody>\n</table>\n</div>"
     },
     "metadata": {},
     "execution_count": 10
    }
   ],
   "source": [
    "# Take a look at some summary statistics\n",
    "share_pos = np.round(np.sum(Vader_tx_pol['Vader_polarity'] > 0) / len(Vader_tx_pol),2)\n",
    "share_neg = np.round(np.sum(Vader_tx_pol['Vader_polarity'] < 0) / len(Vader_tx_pol),2)\n",
    "print('The share of articles with a positive sentiment is', 100*share_pos,'%')\n",
    "print('The share of articles with a negative sentiment is', 100*share_neg,'%')\n",
    "np.round(Vader_tx_pol.describe(), 3)"
   ]
  },
  {
   "source": [
    "<div class=\"alert alert-info\" style=\"background-color:#5d3a8e; color:white; padding:0px 10px; border-radius:5px;\"><h2 style='margin:10px 5px'> \n",
    "3. Adjust the undesirable scoring function of the Vader sentiment package\n",
    "</h2>\n",
    "</div>\n",
    "\n",
    "Inspecting the source code of the sentiment algorithm used by the Vader implementation reveals that, on a highly abstracted level, the output polarity score for a document is calculated as follows:\n",
    "\n",
    "1. Initially assign a valence score of 0 to each token (Note: the valence score refers to a publicly assessed rating of a word's sentiment, ranging from -4 to 4, where -4 means extremely negative and 4 means extremely positive).\n",
    "\n",
    "2. For each token, check whether it is contained in the underlying sentiment lexicon and, if yes, store the corresponding valence score.\n",
    "\n",
    "3. Check for any intensifying, attenuating or negating words close to the token and, if required, adjust the valence score according to some specified rules.\n",
    "\n",
    "4. Sum up the adjusted valence scores obtained for the tokens in a document. For document $j$ this sum is denoted $s_j$ in the following.\n",
    "\n",
    "5. Obtain a document's polarity score (denoted as $p_j$) on a range from -1 to 1 by normalizing $s_j$ with the following scoring function: $$p_j = \\frac{s_j}{\\sqrt{s_j^2+15}}$$\n",
    "\n",
    "However, since (especially for documents with a very clear sentiment) the absolute value of $s_j$ is inherently larger for longer documents, this algorithm delivers more extreme outcomes (in the sense of polarity scores close to -1 or 1) for longer articles. Furthermore, this approach delivers a clearly non-Gaussian distributed polarity score, which is an undesirable property when using it as the dependent variable in a subsequent regression analysis. We claim that this issue can be resolved by taking the average adjusted valence score of all tokens that exhibit a non-zero entry instead, and devide this value by 4 to transform the valence score (ranging from -4 to 4) into a polarity score, ranging from -1 to 1. Formally, this implies the usage of the alternative scoring function\n",
    "$$p_j =  \\frac{1}{4}*\\frac{s_j}{l_j},$$\n",
    "where $l_j$ refers to the number of tokens in document $j$ exhibiting a non-zero valence score. Thus, in order to obtain polarity scores that are calculated by this alternative approach, we propose the follwoing procedure:\n",
    "\n",
    "1. Copy the the folder \"GerVADER_adjusted\" provided by this thesis, which contains the adjusted German Vader sentiment module as explained above (scoring function has been adjusted as described above and the same minor adjustments as in the original GerVADER module from the previous section have been applied to the code), and save it to some path (referred to as Path\\to\\GerVADER_adjusted in the following). For me this path is C:\\Users\\Hallk\\Documents\\Programming\\Additional_stuff\\GerVADER_adjusted.\n",
    "\n",
    "2. Copy the tsv file created in the Jupyter notebook \"2.1 Data_pp_Sentiment_Vader_V1.1_de\" (called \"de_fulltext_senti.tsv\") into the aforementioned \"GerVADER_adjusted\" folder on your machine.\n",
    "\n",
    "3. Open your machine's command window and navigate to the \"GerVADER_adjusted\" folder by entering the following to the command: cd Path\\to\\GerVADER_adjusted\n",
    "\n",
    "4. Next, enter the command: python GERvaderModule.py\n",
    "\n",
    "5. Choose: 2\n",
    "\n",
    "6. Enter the name of the tsv file mentioned above\n",
    "\n",
    "7. Choose N or insert the name you want to give to the output folder\n",
    "\n",
    "If all these steps are executed the articles' sentiments will be evaluated by the adjusted algorithm and the same 4 output tables (in tsv format) as described above will be generated. All resulting output files are then stored within the folder 'results' located within the \"GerVADER_adjusted\" folder. \n",
    "\n",
    "To extract the resulting polarity scores, we now have to copy the resulting tsv file named \"GERVADER\\_\\_all_docs.tsv\" to an easily accessible spot on our machine, such that we can read it in conveniently (for me it is the folder c:\\\\Users\\\\Hallk\\\\Dropbox\\\\MA_data\\\\Sentiment\\\\Vader\\\\GerVADER). Furthermore, we should rename it to \"GERVADER\\_\\_all_docs_adjusted.tsv\" to prevent any confusion."
   ],
   "cell_type": "markdown",
   "metadata": {}
  },
  {
   "cell_type": "code",
   "execution_count": 4,
   "metadata": {},
   "outputs": [],
   "source": [
    "# Read in the resulting tsv file\n",
    "Vader_tx_pol = pd.read_csv(\"Sentiment/Vader/GerVADER/GERVADER__all_docs_adjusted.tsv\", sep = '\\t', header = None, usecols = [0,2], names = ['tx','Vader_polarity'])"
   ]
  },
  {
   "cell_type": "code",
   "execution_count": 5,
   "metadata": {},
   "outputs": [],
   "source": [
    "## Assign the correct article indexes to the dataframe\n",
    "# Get the indexes\n",
    "de_idx = read_preprocessed_fulltext('de')[1]\n",
    "# Assign the indexes accordingly\n",
    "Vader_tx_pol.index = de_idx.de_idx.values.tolist()"
   ]
  },
  {
   "cell_type": "code",
   "execution_count": 6,
   "metadata": {},
   "outputs": [
    {
     "output_type": "execute_result",
     "data": {
      "text/plain": [
       "                                                                                                                                                                                                              tx  \\\n",
       "16553     Rückkehrer Stefan Meier überragt beim 7:6 gegen die Flames. Herisau bangt allerdings am Schluss. Lukas PfiffnerIn der vergangenen Saison tat sich der UHC Herisau darin hervor, immer wieder einen ...   \n",
       "16554     Fussball Auch im neunten Promotion League Spiel hintereinander blieben die Brühler unbesiegt. Sie trotzten dem unangefochtenen Ligakrösus Yverdon ein Unentschieden ab. Nicolas Eberle brachte die ...   \n",
       "16555     Fussball Das 1. Liga Team des FC St. Gallen spielte zu Hause gegen Paradiso 0:0. Über 90 Minuten gab es keine einzige klare Torchance. Zwar kamen beide Mannschaften dank einigen schönen Spielzüge...   \n",
       "16556     Liebe Klimajugendliche, Ausgabe vom 28. SeptemberMit dieser Montagskolumne der Autorin und Kabarettistin, studierten Erziehungswissenschaftlerin und Preisträgerin des Salzburger Stiers 2019, Patt...   \n",
       "16557     Die Regierung will den Ostschweizer Innovationspark mit zehn Millionen Franken unterstützen à fonds perdu. Regula WeikDiesmal soll es klappen. Die Zusage des Bundesrats steht zwar noch aus. Doch ...   \n",
       "...                                                                                                                                                                                                          ...   \n",
       "2441178   Bist du beim Abfalltrennen auch überfordert? Wir kennen die häufigsten Fehler und ihre Lösung. TEXTCLAUDIA HOTTIGER35668 tPET wurden 2019 schweizweit recyceltRichtig RecycelnWenn es ums Abfalltre...   \n",
       "2441179   ZÜRICH. Seit fast vier Jahren gilt Daniel als vermisst. Seine Schwester kämpft bis heute mit seinem Verschwinden. Eines Montagmorgens im Mai 2017 verliess Daniel (42) sein Büro und wurde seither ...   \n",
       "2441180   TOKIO. Trotz des Corona Notstands in Japan und der Umfragemehrheiten gegen Olympia im Sommer sieht IOC Chef Thomas Bach keinen Anlass für eine Absage der Spiele. Wir haben zurzeit überhaupt keine...   \n",
       "2441181   GUNTEN. Im Zusammenhang mit der toten tätowierten Frau im Thunersee sind bei der Berner Kapo auf die Zeugenaufrufe hin zahlreiche Hinweise aus der Bevölkerung eingegangen. Daraus haben sich Anhal...   \n",
       "2441182   Vor dem Duschen checkst du immer zuerst vorsichtig die Wassertemperatur? Vielleicht entgeht dir da was. Denn richtig eingesetzt können solche Kältereize richtig gesund sein. TEXTLARS REBERFOTO GE...   \n",
       "\n",
       "         Vader_polarity  \n",
       "16553            0.1086  \n",
       "16554            0.1405  \n",
       "16555            0.2609  \n",
       "16556            0.3605  \n",
       "16557            0.3197  \n",
       "...                 ...  \n",
       "2441178          0.1817  \n",
       "2441179         -0.0514  \n",
       "2441180          0.2133  \n",
       "2441181         -0.5667  \n",
       "2441182          0.2226  \n",
       "\n",
       "[1934313 rows x 2 columns]"
      ],
      "text/html": "<div>\n<style scoped>\n    .dataframe tbody tr th:only-of-type {\n        vertical-align: middle;\n    }\n\n    .dataframe tbody tr th {\n        vertical-align: top;\n    }\n\n    .dataframe thead th {\n        text-align: right;\n    }\n</style>\n<table border=\"1\" class=\"dataframe\">\n  <thead>\n    <tr style=\"text-align: right;\">\n      <th></th>\n      <th>tx</th>\n      <th>Vader_polarity</th>\n    </tr>\n  </thead>\n  <tbody>\n    <tr>\n      <th>16553</th>\n      <td>Rückkehrer Stefan Meier überragt beim 7:6 gegen die Flames. Herisau bangt allerdings am Schluss. Lukas PfiffnerIn der vergangenen Saison tat sich der UHC Herisau darin hervor, immer wieder einen ...</td>\n      <td>0.1086</td>\n    </tr>\n    <tr>\n      <th>16554</th>\n      <td>Fussball Auch im neunten Promotion League Spiel hintereinander blieben die Brühler unbesiegt. Sie trotzten dem unangefochtenen Ligakrösus Yverdon ein Unentschieden ab. Nicolas Eberle brachte die ...</td>\n      <td>0.1405</td>\n    </tr>\n    <tr>\n      <th>16555</th>\n      <td>Fussball Das 1. Liga Team des FC St. Gallen spielte zu Hause gegen Paradiso 0:0. Über 90 Minuten gab es keine einzige klare Torchance. Zwar kamen beide Mannschaften dank einigen schönen Spielzüge...</td>\n      <td>0.2609</td>\n    </tr>\n    <tr>\n      <th>16556</th>\n      <td>Liebe Klimajugendliche, Ausgabe vom 28. SeptemberMit dieser Montagskolumne der Autorin und Kabarettistin, studierten Erziehungswissenschaftlerin und Preisträgerin des Salzburger Stiers 2019, Patt...</td>\n      <td>0.3605</td>\n    </tr>\n    <tr>\n      <th>16557</th>\n      <td>Die Regierung will den Ostschweizer Innovationspark mit zehn Millionen Franken unterstützen à fonds perdu. Regula WeikDiesmal soll es klappen. Die Zusage des Bundesrats steht zwar noch aus. Doch ...</td>\n      <td>0.3197</td>\n    </tr>\n    <tr>\n      <th>...</th>\n      <td>...</td>\n      <td>...</td>\n    </tr>\n    <tr>\n      <th>2441178</th>\n      <td>Bist du beim Abfalltrennen auch überfordert? Wir kennen die häufigsten Fehler und ihre Lösung. TEXTCLAUDIA HOTTIGER35668 tPET wurden 2019 schweizweit recyceltRichtig RecycelnWenn es ums Abfalltre...</td>\n      <td>0.1817</td>\n    </tr>\n    <tr>\n      <th>2441179</th>\n      <td>ZÜRICH. Seit fast vier Jahren gilt Daniel als vermisst. Seine Schwester kämpft bis heute mit seinem Verschwinden. Eines Montagmorgens im Mai 2017 verliess Daniel (42) sein Büro und wurde seither ...</td>\n      <td>-0.0514</td>\n    </tr>\n    <tr>\n      <th>2441180</th>\n      <td>TOKIO. Trotz des Corona Notstands in Japan und der Umfragemehrheiten gegen Olympia im Sommer sieht IOC Chef Thomas Bach keinen Anlass für eine Absage der Spiele. Wir haben zurzeit überhaupt keine...</td>\n      <td>0.2133</td>\n    </tr>\n    <tr>\n      <th>2441181</th>\n      <td>GUNTEN. Im Zusammenhang mit der toten tätowierten Frau im Thunersee sind bei der Berner Kapo auf die Zeugenaufrufe hin zahlreiche Hinweise aus der Bevölkerung eingegangen. Daraus haben sich Anhal...</td>\n      <td>-0.5667</td>\n    </tr>\n    <tr>\n      <th>2441182</th>\n      <td>Vor dem Duschen checkst du immer zuerst vorsichtig die Wassertemperatur? Vielleicht entgeht dir da was. Denn richtig eingesetzt können solche Kältereize richtig gesund sein. TEXTLARS REBERFOTO GE...</td>\n      <td>0.2226</td>\n    </tr>\n  </tbody>\n</table>\n<p>1934313 rows × 2 columns</p>\n</div>"
     },
     "metadata": {},
     "execution_count": 6
    }
   ],
   "source": [
    "# Take a look at the created dataframe\n",
    "Vader_tx_pol"
   ]
  },
  {
   "cell_type": "code",
   "execution_count": 7,
   "metadata": {},
   "outputs": [
    {
     "output_type": "execute_result",
     "data": {
      "text/plain": [
       "tx                0\n",
       "Vader_polarity    0\n",
       "dtype: int64"
      ]
     },
     "metadata": {},
     "execution_count": 7
    }
   ],
   "source": [
    "# Check for missing values\n",
    "Vader_tx_pol.isna().sum()"
   ]
  },
  {
   "cell_type": "code",
   "execution_count": 8,
   "metadata": {},
   "outputs": [],
   "source": [
    "# Extract the article indices together with the corresponding adjusted Vader-polarity scores as a csv file\n",
    "Vader_tx_pol = Vader_tx_pol[['Vader_polarity']]\n",
    "# Write the Dataframe to a csv file\n",
    "Vader_tx_pol.to_csv(\"Sentiment/Vader/GerVADER/de_vader_polarity_adjusted.csv\", index = True, encoding = 'utf-8-sig')"
   ]
  },
  {
   "cell_type": "code",
   "execution_count": 9,
   "metadata": {},
   "outputs": [
    {
     "output_type": "execute_result",
     "data": {
      "text/plain": [
       "         Vader_polarity\n",
       "16553            0.1086\n",
       "16554            0.1405\n",
       "16555            0.2609\n",
       "16556            0.3605\n",
       "16557            0.3197\n",
       "...                 ...\n",
       "2441178          0.1817\n",
       "2441179         -0.0514\n",
       "2441180          0.2133\n",
       "2441181         -0.5667\n",
       "2441182          0.2226\n",
       "\n",
       "[1934313 rows x 1 columns]"
      ],
      "text/html": "<div>\n<style scoped>\n    .dataframe tbody tr th:only-of-type {\n        vertical-align: middle;\n    }\n\n    .dataframe tbody tr th {\n        vertical-align: top;\n    }\n\n    .dataframe thead th {\n        text-align: right;\n    }\n</style>\n<table border=\"1\" class=\"dataframe\">\n  <thead>\n    <tr style=\"text-align: right;\">\n      <th></th>\n      <th>Vader_polarity</th>\n    </tr>\n  </thead>\n  <tbody>\n    <tr>\n      <th>16553</th>\n      <td>0.1086</td>\n    </tr>\n    <tr>\n      <th>16554</th>\n      <td>0.1405</td>\n    </tr>\n    <tr>\n      <th>16555</th>\n      <td>0.2609</td>\n    </tr>\n    <tr>\n      <th>16556</th>\n      <td>0.3605</td>\n    </tr>\n    <tr>\n      <th>16557</th>\n      <td>0.3197</td>\n    </tr>\n    <tr>\n      <th>...</th>\n      <td>...</td>\n    </tr>\n    <tr>\n      <th>2441178</th>\n      <td>0.1817</td>\n    </tr>\n    <tr>\n      <th>2441179</th>\n      <td>-0.0514</td>\n    </tr>\n    <tr>\n      <th>2441180</th>\n      <td>0.2133</td>\n    </tr>\n    <tr>\n      <th>2441181</th>\n      <td>-0.5667</td>\n    </tr>\n    <tr>\n      <th>2441182</th>\n      <td>0.2226</td>\n    </tr>\n  </tbody>\n</table>\n<p>1934313 rows × 1 columns</p>\n</div>"
     },
     "metadata": {},
     "execution_count": 9
    }
   ],
   "source": [
    "# Read in the data as follows\n",
    "Vader_tx_pol = pd.read_csv(\"Sentiment/Vader/GerVADER/de_vader_polarity_adjusted.csv\", index_col = 0, dtype = {'Vader_polarity': float})\n",
    "Vader_tx_pol"
   ]
  },
  {
   "cell_type": "code",
   "execution_count": 10,
   "metadata": {},
   "outputs": [
    {
     "output_type": "stream",
     "name": "stdout",
     "text": [
      "The share of articles with a positive sentiment is 79.0 %\nThe share of articles with a negative sentiment is 20.0 %\n"
     ]
    },
    {
     "output_type": "execute_result",
     "data": {
      "text/plain": [
       "       Vader_polarity\n",
       "count     1934313.000\n",
       "mean            0.127\n",
       "std             0.179\n",
       "min            -1.000\n",
       "25%             0.029\n",
       "50%             0.142\n",
       "75%             0.244\n",
       "max             1.000"
      ],
      "text/html": "<div>\n<style scoped>\n    .dataframe tbody tr th:only-of-type {\n        vertical-align: middle;\n    }\n\n    .dataframe tbody tr th {\n        vertical-align: top;\n    }\n\n    .dataframe thead th {\n        text-align: right;\n    }\n</style>\n<table border=\"1\" class=\"dataframe\">\n  <thead>\n    <tr style=\"text-align: right;\">\n      <th></th>\n      <th>Vader_polarity</th>\n    </tr>\n  </thead>\n  <tbody>\n    <tr>\n      <th>count</th>\n      <td>1934313.000</td>\n    </tr>\n    <tr>\n      <th>mean</th>\n      <td>0.127</td>\n    </tr>\n    <tr>\n      <th>std</th>\n      <td>0.179</td>\n    </tr>\n    <tr>\n      <th>min</th>\n      <td>-1.000</td>\n    </tr>\n    <tr>\n      <th>25%</th>\n      <td>0.029</td>\n    </tr>\n    <tr>\n      <th>50%</th>\n      <td>0.142</td>\n    </tr>\n    <tr>\n      <th>75%</th>\n      <td>0.244</td>\n    </tr>\n    <tr>\n      <th>max</th>\n      <td>1.000</td>\n    </tr>\n  </tbody>\n</table>\n</div>"
     },
     "metadata": {},
     "execution_count": 10
    }
   ],
   "source": [
    "# Take a look at some summary statistics\n",
    "share_pos = np.round(np.sum(Vader_tx_pol['Vader_polarity'] > 0) / len(Vader_tx_pol),2)\n",
    "share_neg = np.round(np.sum(Vader_tx_pol['Vader_polarity'] < 0) / len(Vader_tx_pol),2)\n",
    "print('The share of articles with a positive sentiment is', 100*share_pos,'%')\n",
    "print('The share of articles with a negative sentiment is', 100*share_neg,'%')\n",
    "np.round(Vader_tx_pol.describe(), 3)"
   ]
  },
  {
   "source": [
    "<div class=\"alert alert-info\" style=\"background-color:#5d3a8e; color:white; padding:0px 10px; border-radius:5px;\"><h2 style='margin:10px 5px'> \n",
    "4. Extend the underlying sentiment lexicon with common covid-related words\n",
    "</h2>\n",
    "</div>\n",
    "\n",
    "According to the adjusted Vader polarity scores estimated in the previous section most covid related newspaper articles appear to convey a slightly positive sentiment. However, this observation is against our expectations and we therefore try to figure out what might be driving these sentiment classification outcomes to be predominantly positive in the following. Since the Vader sentiment classification package relies on a lexicon based algorithm, inspecting the underlying sentiment lexicon seems a good starting point thereunto. As such, we check whether the following phrases, which - partly intuitively and partly according to the main LDA topic models - are highly indicative for an article to be covid-related, are captured by the used sentiment lexicon:\n",
    "\n",
    "- 'covid' ($\\rightarrow$ 'Covid' in German)\n",
    "- 'corona' ($\\rightarrow$ 'Corona' in German)\n",
    "- 'coronavirus' ($\\rightarrow$ 'Coronavirus' in German)\n",
    "- 'virus' ($\\rightarrow$ 'Virus' in German)\n",
    "- 'infection' ($\\rightarrow$ 'Infektion'/'Ansteckung' in German)\n",
    "- 'infect' ($\\rightarrow$ 'infizieren'/'anstecken' in German)\n",
    "- 'infected ($\\rightarrow$ 'infiziert'/'angesteckt' in German)\n",
    "- 'infectious' ($\\rightarrow$ 'ansteckend' in German)\n",
    "- 'pandemic' ($\\rightarrow$ 'Pandemie' in German)\n",
    "- 'epidemic' ($\\rightarrow$ 'Epidemie' in German)\n",
    "- 'lockdown' ($\\rightarrow$ 'Lockdown' in German)\n",
    "- 'crisis' ($\\rightarrow$ 'Krise' in German)\n",
    "- 'quarantine' ($\\rightarrow$ 'Quarantäne' in German)\n",
    "- 'hospitalisation' ($\\rightarrow$ 'Hospitalisierung' in German)\n",
    "- 'disease' ($\\rightarrow$ 'Krankheit' in German)\n",
    "\n",
    "Searching these words in the original German Vader lexicon reveals that most of them are not contained, meaning that most words in this list are not assigned an appropriate polarity score and therefore do not influence the overall polarity of the articles in which they appear. Since for all words in the above list it can reasonably be argued that they rather should convey a negative feeling, omitting them results in positively biased polarity scores for articles that contain them. Thus, we chase the following strategy to account for this issue: for each word listed above, we check whether the German equivalent or close synonyms of it are contained in the original German Vader lexicon in a first step. Thus, the following cases may occur:\n",
    "\n",
    " - Case 1 - The word itself as well as close synonyms of it are contained: in this case we check whether the valence score assigned to the focal word is negative and, if yes, leave the entry unchanged. Otherwise, we proceed as described in case 3.\n",
    "\n",
    " - Case 2 - The word itself is contained, but no close synonyms of it: in this case we check whether the valence score assigned to the focal word is negative and, if yes, leave the entry unchanged. Otherwise, we proceed as described in case 4.\n",
    "\n",
    " - Case 3 - A close synonym of the word is contained, but the word itself is not: in this case we check whether the valence score assigned to the synonym is negative and, if yes, assign the same valence score to the focal word. Otherwise, if the synonym's valence score is positive, we proceed as described in case 4.\n",
    "\n",
    " - Case 4 - Neither the word itself nor close synonyms of it are contained: in this case we start by checking whether the word's primary word (or a synonym's primary word) is contained in the lexicon and, if yes, assign the same valence score to the focal word. Otherwise, if the primary word is not contained, we continue by checking whether the French (or Italian) equivalent of the word is contained in the French Vader (or Italian sentix) sentiment lexicon. If yes, we assign the focal German word with the same valence score as observed in the French Vader lexicon (or with the valence score that corresponds to the polarity score observed in the Italian sentix lexicon (note: valence score = polarity score * 4)). If this approach also fails, we add the word and its synonyms with all grammatical cases or conjugations to the lexicon and assign a valence score of -4.\n",
    "\n",
    "According to this strategy, we apply the following editings to the German Vader lexicon:\n",
    "\n",
    "- 'covid' ($\\rightarrow$ 'Covid' in German): not contained $\\rightarrow$ assigned with a valence score of -4 (added cases: 'Covid', 'covid')\n",
    "- 'corona' ($\\rightarrow$ 'Corona' in German): not contained $\\rightarrow$ assigned with a valence score of -4 (added cases: 'Corona', 'corona')\n",
    "- 'coronavirus' ($\\rightarrow$ 'Coronavirus' in German): not contained $\\rightarrow$ assigned with a valence score of -4 (added cases: 'Coronavirus')\n",
    "- 'virus' ($\\rightarrow$ 'Virus' in German): not contained $\\rightarrow$ assigned with a valence score of -4 (added cases: 'Virus', 'Viren')\n",
    "- 'infection' ($\\rightarrow$ 'Infektion'/'Ansteckung' in German): 'Infektion' already contained with a valence score of -2.5 $\\rightarrow$ left unchanged / 'Ansteckung' not contained $\\rightarrow$ assigned with a valence score of -2.5 since it is a close synonym of 'Infektion' (added cases: 'Ansteckung', 'Ansteckungen')\n",
    "- 'infect' ($\\rightarrow$ 'infizieren'/'anstecken' in German): neither 'infizieren' nor 'anstecken' is contained $\\rightarrow$ both assigned with a valence score of -2.5 since their primary words are 'Infektion' and 'Ansteckung' (added cases: 'infizieren', 'infiziere', 'infizierst', 'infiziert', 'infizierte', 'infiziertest', 'infizierten', 'infiziertet', 'anstecken', 'stecke', 'steckst', 'steckt', 'stecken', 'steckte', 'stecktest', 'steckte', 'steckten', 'stecktet', 'angesteckt')\n",
    "- 'infected ($\\rightarrow$ 'infiziert'/'angesteckt' in German): neither 'infiziert' nor 'angesteckt' is contained $\\rightarrow$ both assigned with a valence score of -2.5 since their primary words are 'Infektion' and 'Ansteckung' (added cases: 'infiziert', 'infizierter', 'infizierte', 'infiziertes', 'infizierten', 'angesteckt', 'angesteckter', 'angesteckte', 'angestecktes', 'angesteckten')\n",
    "- 'infectious' ($\\rightarrow$ 'infektiös'/'ansteckend' in German): neither 'infektiös' nor 'ansteckend' is contained $\\rightarrow$ both assigned with a valence score of -2.5 since their primary words are 'Infektion' and 'Ansteckung' (added cases: 'infektiös', 'infektiöser', 'infektiöse', 'infektiöses', 'infektiösen', 'ansteckend', 'ansteckender', 'ansteckende', 'ansteckendes', 'ansteckenden')\n",
    "- 'pandemic' ($\\rightarrow$ 'Pandemie' in German): not contained $\\rightarrow$ assigned with a valence score of -2.7 since it is a close synonym of 'Epidemie' (added cases: 'Pandemie', 'Pandemien')\n",
    "- 'epidemic' ($\\rightarrow$ 'Epidemie' in German): already contained with a valence score of -2.7 $\\rightarrow$ left unchanged\n",
    "- 'lockdown' ($\\rightarrow$ 'Lockdown'/'Ausgangssperre' in German): 'Lockdown' not contained $\\rightarrow$ assigned with a valence score of -4 (added cases: 'Lockdown', 'Lockdowns') / 'Ausgangssperre' not contained $\\rightarrow$ assigned with a valence score of -4 (added cases: 'Ausgangssperre', 'Ausgangssperren')\n",
    "- 'crisis' ($\\rightarrow$ 'Krise' in German): already contained with a valence score of -2.4 $\\rightarrow$ left unchanged\n",
    "- 'quarantine' ($\\rightarrow$ 'Quarantäne' in German): not contained $\\rightarrow$ assigned with a valence score of -4 (added cases: 'Quarantäne', 'Quarantänen')\n",
    "- 'hospitalisation' ($\\rightarrow$ 'Hospitalisierung' in German): not contained $\\rightarrow$ assigned with a valence score of -4 (added cases: 'Hospitalisierung', 'Hospitalisierungen')\n",
    "- 'disease' ($\\rightarrow$ 'Krankheit' in German): already contained with a valence score of -2.4 $\\rightarrow$ left unchanged\n",
    "\n",
    "After adjusting the sentiment lexicon as desired we use it to rerun the sentiment analysis. Thus, we have to apply the following steps:\n",
    "\n",
    "1. Navigate to the folder \"GerVADER_adjusted\" (located at Path\\to\\GerVADER_adjusted as described in the previous section) in which the previously created adjusted GerVADER module is located. For me this means to navigate to C:\\Users\\Hallk\\Documents\\Programming\\Additional_stuff\\GerVADER_adjusted.\n",
    "\n",
    "2. Replace the original lexicon file \"GERVaderLexicon.txt\" in your \"GerVADER_adjusted\" folder with the extended \"GERVaderLexicon.txt\" file located in the subfolder \"sentiment_lexicon\\extended\" within the \"GerVADER_adjusted\" folder provided by this thesis.\n",
    "\n",
    "3. Open your machine's command window and navigate to the \"GerVADER_adjusted\" folder by entering the following to the command: cd Path\\to\\GerVADER_adjusted\n",
    "\n",
    "4. Next, enter the command: python GERvaderModule.py\n",
    "\n",
    "5. Choose: 2\n",
    "\n",
    "6. Enter the name of the tsv file \"de_fulltext_senti.tsv\"\n",
    "\n",
    "7. Choose N or insert the name you want to give to the output folder\n",
    "\n",
    "If all these steps are executed the articles' sentiments will be evaluated by the adjusted algorithm using the extended sentiment lexicon and the same 4 output tables (in tsv format) as described above will be generated. All resulting output files are then stored within the folder 'results' located within the \"GerVADER_adjusted\" folder. \n",
    "\n",
    "To extract the resulting polarity scores, we now have to copy the resulting tsv file named \"GERVADER\\_\\_all_docs.tsv\" to an easily accessible spot on our machine, such that we can read it in conveniently (for me it is the folder D:\\\\Dropbox\\\\MA_data\\\\Sentiment\\\\Vader\\\\GerVADER). Furthermore, we should rename it to \"GERVADER\\_\\_all_docs_adjusted_2.tsv\" to prevent any confusion."
   ],
   "cell_type": "markdown",
   "metadata": {}
  },
  {
   "cell_type": "code",
   "execution_count": 4,
   "metadata": {},
   "outputs": [],
   "source": [
    "# Read in the resulting tsv file \n",
    "Vader_tx_pol = pd.read_csv(\"Sentiment/Vader/GerVADER/GERVADER__all_docs_adjusted_2.tsv\", sep = '\\t', header = None, usecols = [0,2], names = ['tx','Vader_polarity'])"
   ]
  },
  {
   "cell_type": "code",
   "execution_count": 5,
   "metadata": {},
   "outputs": [],
   "source": [
    "## Assign the correct article indexes to the dataframe\n",
    "# Get the indexes\n",
    "de_idx = read_preprocessed_fulltext('de')[1]\n",
    "# Assign the indexes accordingly\n",
    "Vader_tx_pol.index = de_idx.de_idx.values.tolist()"
   ]
  },
  {
   "cell_type": "code",
   "execution_count": 6,
   "metadata": {},
   "outputs": [
    {
     "output_type": "execute_result",
     "data": {
      "text/plain": [
       "                                                                                                                                                                                                              tx  \\\n",
       "16553     Rückkehrer Stefan Meier überragt beim 7:6 gegen die Flames. Herisau bangt allerdings am Schluss. Lukas PfiffnerIn der vergangenen Saison tat sich der UHC Herisau darin hervor, immer wieder einen ...   \n",
       "16554     Fussball Auch im neunten Promotion League Spiel hintereinander blieben die Brühler unbesiegt. Sie trotzten dem unangefochtenen Ligakrösus Yverdon ein Unentschieden ab. Nicolas Eberle brachte die ...   \n",
       "16555     Fussball Das 1. Liga Team des FC St. Gallen spielte zu Hause gegen Paradiso 0:0. Über 90 Minuten gab es keine einzige klare Torchance. Zwar kamen beide Mannschaften dank einigen schönen Spielzüge...   \n",
       "16556     Liebe Klimajugendliche, Ausgabe vom 28. SeptemberMit dieser Montagskolumne der Autorin und Kabarettistin, studierten Erziehungswissenschaftlerin und Preisträgerin des Salzburger Stiers 2019, Patt...   \n",
       "16557     Die Regierung will den Ostschweizer Innovationspark mit zehn Millionen Franken unterstützen à fonds perdu. Regula WeikDiesmal soll es klappen. Die Zusage des Bundesrats steht zwar noch aus. Doch ...   \n",
       "...                                                                                                                                                                                                          ...   \n",
       "2441178   Bist du beim Abfalltrennen auch überfordert? Wir kennen die häufigsten Fehler und ihre Lösung. TEXTCLAUDIA HOTTIGER35668 tPET wurden 2019 schweizweit recyceltRichtig RecycelnWenn es ums Abfalltre...   \n",
       "2441179   ZÜRICH. Seit fast vier Jahren gilt Daniel als vermisst. Seine Schwester kämpft bis heute mit seinem Verschwinden. Eines Montagmorgens im Mai 2017 verliess Daniel (42) sein Büro und wurde seither ...   \n",
       "2441180   TOKIO. Trotz des Corona Notstands in Japan und der Umfragemehrheiten gegen Olympia im Sommer sieht IOC Chef Thomas Bach keinen Anlass für eine Absage der Spiele. Wir haben zurzeit überhaupt keine...   \n",
       "2441181   GUNTEN. Im Zusammenhang mit der toten tätowierten Frau im Thunersee sind bei der Berner Kapo auf die Zeugenaufrufe hin zahlreiche Hinweise aus der Bevölkerung eingegangen. Daraus haben sich Anhal...   \n",
       "2441182   Vor dem Duschen checkst du immer zuerst vorsichtig die Wassertemperatur? Vielleicht entgeht dir da was. Denn richtig eingesetzt können solche Kältereize richtig gesund sein. TEXTLARS REBERFOTO GE...   \n",
       "\n",
       "         Vader_polarity  \n",
       "16553            0.1262  \n",
       "16554            0.1405  \n",
       "16555            0.2609  \n",
       "16556            0.3605  \n",
       "16557            0.3197  \n",
       "...                 ...  \n",
       "2441178          0.1817  \n",
       "2441179         -0.0514  \n",
       "2441180          0.1293  \n",
       "2441181         -0.5667  \n",
       "2441182          0.2226  \n",
       "\n",
       "[1934313 rows x 2 columns]"
      ],
      "text/html": "<div>\n<style scoped>\n    .dataframe tbody tr th:only-of-type {\n        vertical-align: middle;\n    }\n\n    .dataframe tbody tr th {\n        vertical-align: top;\n    }\n\n    .dataframe thead th {\n        text-align: right;\n    }\n</style>\n<table border=\"1\" class=\"dataframe\">\n  <thead>\n    <tr style=\"text-align: right;\">\n      <th></th>\n      <th>tx</th>\n      <th>Vader_polarity</th>\n    </tr>\n  </thead>\n  <tbody>\n    <tr>\n      <th>16553</th>\n      <td>Rückkehrer Stefan Meier überragt beim 7:6 gegen die Flames. Herisau bangt allerdings am Schluss. Lukas PfiffnerIn der vergangenen Saison tat sich der UHC Herisau darin hervor, immer wieder einen ...</td>\n      <td>0.1262</td>\n    </tr>\n    <tr>\n      <th>16554</th>\n      <td>Fussball Auch im neunten Promotion League Spiel hintereinander blieben die Brühler unbesiegt. Sie trotzten dem unangefochtenen Ligakrösus Yverdon ein Unentschieden ab. Nicolas Eberle brachte die ...</td>\n      <td>0.1405</td>\n    </tr>\n    <tr>\n      <th>16555</th>\n      <td>Fussball Das 1. Liga Team des FC St. Gallen spielte zu Hause gegen Paradiso 0:0. Über 90 Minuten gab es keine einzige klare Torchance. Zwar kamen beide Mannschaften dank einigen schönen Spielzüge...</td>\n      <td>0.2609</td>\n    </tr>\n    <tr>\n      <th>16556</th>\n      <td>Liebe Klimajugendliche, Ausgabe vom 28. SeptemberMit dieser Montagskolumne der Autorin und Kabarettistin, studierten Erziehungswissenschaftlerin und Preisträgerin des Salzburger Stiers 2019, Patt...</td>\n      <td>0.3605</td>\n    </tr>\n    <tr>\n      <th>16557</th>\n      <td>Die Regierung will den Ostschweizer Innovationspark mit zehn Millionen Franken unterstützen à fonds perdu. Regula WeikDiesmal soll es klappen. Die Zusage des Bundesrats steht zwar noch aus. Doch ...</td>\n      <td>0.3197</td>\n    </tr>\n    <tr>\n      <th>...</th>\n      <td>...</td>\n      <td>...</td>\n    </tr>\n    <tr>\n      <th>2441178</th>\n      <td>Bist du beim Abfalltrennen auch überfordert? Wir kennen die häufigsten Fehler und ihre Lösung. TEXTCLAUDIA HOTTIGER35668 tPET wurden 2019 schweizweit recyceltRichtig RecycelnWenn es ums Abfalltre...</td>\n      <td>0.1817</td>\n    </tr>\n    <tr>\n      <th>2441179</th>\n      <td>ZÜRICH. Seit fast vier Jahren gilt Daniel als vermisst. Seine Schwester kämpft bis heute mit seinem Verschwinden. Eines Montagmorgens im Mai 2017 verliess Daniel (42) sein Büro und wurde seither ...</td>\n      <td>-0.0514</td>\n    </tr>\n    <tr>\n      <th>2441180</th>\n      <td>TOKIO. Trotz des Corona Notstands in Japan und der Umfragemehrheiten gegen Olympia im Sommer sieht IOC Chef Thomas Bach keinen Anlass für eine Absage der Spiele. Wir haben zurzeit überhaupt keine...</td>\n      <td>0.1293</td>\n    </tr>\n    <tr>\n      <th>2441181</th>\n      <td>GUNTEN. Im Zusammenhang mit der toten tätowierten Frau im Thunersee sind bei der Berner Kapo auf die Zeugenaufrufe hin zahlreiche Hinweise aus der Bevölkerung eingegangen. Daraus haben sich Anhal...</td>\n      <td>-0.5667</td>\n    </tr>\n    <tr>\n      <th>2441182</th>\n      <td>Vor dem Duschen checkst du immer zuerst vorsichtig die Wassertemperatur? Vielleicht entgeht dir da was. Denn richtig eingesetzt können solche Kältereize richtig gesund sein. TEXTLARS REBERFOTO GE...</td>\n      <td>0.2226</td>\n    </tr>\n  </tbody>\n</table>\n<p>1934313 rows × 2 columns</p>\n</div>"
     },
     "metadata": {},
     "execution_count": 6
    }
   ],
   "source": [
    "# Take a look at the created dataframe\n",
    "Vader_tx_pol"
   ]
  },
  {
   "cell_type": "code",
   "execution_count": 7,
   "metadata": {},
   "outputs": [
    {
     "output_type": "execute_result",
     "data": {
      "text/plain": [
       "tx                0\n",
       "Vader_polarity    0\n",
       "dtype: int64"
      ]
     },
     "metadata": {},
     "execution_count": 7
    }
   ],
   "source": [
    "# Check for missing values\n",
    "Vader_tx_pol.isna().sum()"
   ]
  },
  {
   "cell_type": "code",
   "execution_count": 8,
   "metadata": {},
   "outputs": [],
   "source": [
    "# Extract the article indices together with the corresponding adjusted Vader-polarity scores as a csv file\n",
    "Vader_tx_pol = Vader_tx_pol[['Vader_polarity']]\n",
    "# Write the Dataframe to a csv file\n",
    "Vader_tx_pol.to_csv(\"Sentiment/Vader/GerVADER/de_vader_polarity_adjusted_2.csv\", index = True, encoding = 'utf-8-sig')"
   ]
  },
  {
   "cell_type": "code",
   "execution_count": 9,
   "metadata": {},
   "outputs": [
    {
     "output_type": "execute_result",
     "data": {
      "text/plain": [
       "         Vader_polarity\n",
       "16553            0.1262\n",
       "16554            0.1405\n",
       "16555            0.2609\n",
       "16556            0.3605\n",
       "16557            0.3197\n",
       "...                 ...\n",
       "2441178          0.1817\n",
       "2441179         -0.0514\n",
       "2441180          0.1293\n",
       "2441181         -0.5667\n",
       "2441182          0.2226\n",
       "\n",
       "[1934313 rows x 1 columns]"
      ],
      "text/html": "<div>\n<style scoped>\n    .dataframe tbody tr th:only-of-type {\n        vertical-align: middle;\n    }\n\n    .dataframe tbody tr th {\n        vertical-align: top;\n    }\n\n    .dataframe thead th {\n        text-align: right;\n    }\n</style>\n<table border=\"1\" class=\"dataframe\">\n  <thead>\n    <tr style=\"text-align: right;\">\n      <th></th>\n      <th>Vader_polarity</th>\n    </tr>\n  </thead>\n  <tbody>\n    <tr>\n      <th>16553</th>\n      <td>0.1262</td>\n    </tr>\n    <tr>\n      <th>16554</th>\n      <td>0.1405</td>\n    </tr>\n    <tr>\n      <th>16555</th>\n      <td>0.2609</td>\n    </tr>\n    <tr>\n      <th>16556</th>\n      <td>0.3605</td>\n    </tr>\n    <tr>\n      <th>16557</th>\n      <td>0.3197</td>\n    </tr>\n    <tr>\n      <th>...</th>\n      <td>...</td>\n    </tr>\n    <tr>\n      <th>2441178</th>\n      <td>0.1817</td>\n    </tr>\n    <tr>\n      <th>2441179</th>\n      <td>-0.0514</td>\n    </tr>\n    <tr>\n      <th>2441180</th>\n      <td>0.1293</td>\n    </tr>\n    <tr>\n      <th>2441181</th>\n      <td>-0.5667</td>\n    </tr>\n    <tr>\n      <th>2441182</th>\n      <td>0.2226</td>\n    </tr>\n  </tbody>\n</table>\n<p>1934313 rows × 1 columns</p>\n</div>"
     },
     "metadata": {},
     "execution_count": 9
    }
   ],
   "source": [
    "# Read in the data as follows\n",
    "Vader_tx_pol = pd.read_csv(\"Sentiment/Vader/GerVADER/de_vader_polarity_adjusted_2.csv\", index_col = 0, dtype = {'Vader_polarity': float})\n",
    "Vader_tx_pol"
   ]
  },
  {
   "cell_type": "code",
   "execution_count": 10,
   "metadata": {},
   "outputs": [
    {
     "output_type": "stream",
     "name": "stdout",
     "text": [
      "The share of articles with a positive sentiment is 74.0 %\nThe share of articles with a negative sentiment is 26.0 %\n"
     ]
    },
    {
     "output_type": "execute_result",
     "data": {
      "text/plain": [
       "       Vader_polarity\n",
       "count     1934313.000\n",
       "mean            0.104\n",
       "std             0.194\n",
       "min            -1.000\n",
       "25%            -0.005\n",
       "50%             0.123\n",
       "75%             0.233\n",
       "max             1.000"
      ],
      "text/html": "<div>\n<style scoped>\n    .dataframe tbody tr th:only-of-type {\n        vertical-align: middle;\n    }\n\n    .dataframe tbody tr th {\n        vertical-align: top;\n    }\n\n    .dataframe thead th {\n        text-align: right;\n    }\n</style>\n<table border=\"1\" class=\"dataframe\">\n  <thead>\n    <tr style=\"text-align: right;\">\n      <th></th>\n      <th>Vader_polarity</th>\n    </tr>\n  </thead>\n  <tbody>\n    <tr>\n      <th>count</th>\n      <td>1934313.000</td>\n    </tr>\n    <tr>\n      <th>mean</th>\n      <td>0.104</td>\n    </tr>\n    <tr>\n      <th>std</th>\n      <td>0.194</td>\n    </tr>\n    <tr>\n      <th>min</th>\n      <td>-1.000</td>\n    </tr>\n    <tr>\n      <th>25%</th>\n      <td>-0.005</td>\n    </tr>\n    <tr>\n      <th>50%</th>\n      <td>0.123</td>\n    </tr>\n    <tr>\n      <th>75%</th>\n      <td>0.233</td>\n    </tr>\n    <tr>\n      <th>max</th>\n      <td>1.000</td>\n    </tr>\n  </tbody>\n</table>\n</div>"
     },
     "metadata": {},
     "execution_count": 10
    }
   ],
   "source": [
    "# Take a look at some summary statistics\n",
    "share_pos = np.round(np.sum(Vader_tx_pol['Vader_polarity'] > 0) / len(Vader_tx_pol),2)\n",
    "share_neg = np.round(np.sum(Vader_tx_pol['Vader_polarity'] < 0) / len(Vader_tx_pol),2)\n",
    "print('The share of articles with a positive sentiment is', 100*share_pos,'%')\n",
    "print('The share of articles with a negative sentiment is', 100*share_neg,'%')\n",
    "np.round(Vader_tx_pol.describe(), 3)"
   ]
  },
  {
   "source": [
    "<div class=\"alert alert-info\" style=\"background-color:#5d3a8e; color:white; padding:0px 10px; border-radius:5px;\"><h2 style='margin:10px 5px'> \n",
    "5. Merge the original and adjusted Vader polarity scores\n",
    "</h2>\n",
    "</div>"
   ],
   "cell_type": "markdown",
   "metadata": {}
  },
  {
   "cell_type": "code",
   "execution_count": 11,
   "metadata": {},
   "outputs": [
    {
     "output_type": "execute_result",
     "data": {
      "text/plain": [
       "         Vader_polarity  Vader_polarity_adj  Vader_polarity_adj_2\n",
       "16553            0.9691              0.1086                0.1262\n",
       "16554            0.9501              0.1405                0.1405\n",
       "16555            0.6287              0.2609                0.2609\n",
       "16556            0.5972              0.3605                0.3605\n",
       "16557            0.9982              0.3197                0.3197\n",
       "...                 ...                 ...                   ...\n",
       "2441178          0.9693              0.1817                0.1817\n",
       "2441179         -0.7441             -0.0514               -0.0514\n",
       "2441180          0.8391              0.2133                0.1293\n",
       "2441181         -0.8689             -0.5667               -0.5667\n",
       "2441182          0.9928              0.2226                0.2226\n",
       "\n",
       "[1934313 rows x 3 columns]"
      ],
      "text/html": "<div>\n<style scoped>\n    .dataframe tbody tr th:only-of-type {\n        vertical-align: middle;\n    }\n\n    .dataframe tbody tr th {\n        vertical-align: top;\n    }\n\n    .dataframe thead th {\n        text-align: right;\n    }\n</style>\n<table border=\"1\" class=\"dataframe\">\n  <thead>\n    <tr style=\"text-align: right;\">\n      <th></th>\n      <th>Vader_polarity</th>\n      <th>Vader_polarity_adj</th>\n      <th>Vader_polarity_adj_2</th>\n    </tr>\n  </thead>\n  <tbody>\n    <tr>\n      <th>16553</th>\n      <td>0.9691</td>\n      <td>0.1086</td>\n      <td>0.1262</td>\n    </tr>\n    <tr>\n      <th>16554</th>\n      <td>0.9501</td>\n      <td>0.1405</td>\n      <td>0.1405</td>\n    </tr>\n    <tr>\n      <th>16555</th>\n      <td>0.6287</td>\n      <td>0.2609</td>\n      <td>0.2609</td>\n    </tr>\n    <tr>\n      <th>16556</th>\n      <td>0.5972</td>\n      <td>0.3605</td>\n      <td>0.3605</td>\n    </tr>\n    <tr>\n      <th>16557</th>\n      <td>0.9982</td>\n      <td>0.3197</td>\n      <td>0.3197</td>\n    </tr>\n    <tr>\n      <th>...</th>\n      <td>...</td>\n      <td>...</td>\n      <td>...</td>\n    </tr>\n    <tr>\n      <th>2441178</th>\n      <td>0.9693</td>\n      <td>0.1817</td>\n      <td>0.1817</td>\n    </tr>\n    <tr>\n      <th>2441179</th>\n      <td>-0.7441</td>\n      <td>-0.0514</td>\n      <td>-0.0514</td>\n    </tr>\n    <tr>\n      <th>2441180</th>\n      <td>0.8391</td>\n      <td>0.2133</td>\n      <td>0.1293</td>\n    </tr>\n    <tr>\n      <th>2441181</th>\n      <td>-0.8689</td>\n      <td>-0.5667</td>\n      <td>-0.5667</td>\n    </tr>\n    <tr>\n      <th>2441182</th>\n      <td>0.9928</td>\n      <td>0.2226</td>\n      <td>0.2226</td>\n    </tr>\n  </tbody>\n</table>\n<p>1934313 rows × 3 columns</p>\n</div>"
     },
     "metadata": {},
     "execution_count": 11
    }
   ],
   "source": [
    "# Read in the Dataframe containing the original polarity scores\n",
    "Vader_tx_pol = pd.read_csv(\"Sentiment/Vader/GerVADER/de_vader_polarity_original.csv\", index_col = 0, dtype = {'Vader_polarity': float})\n",
    "# Read in the Dataframe containing the adjusted polarity scores\n",
    "Vader_tx_pol_adj = pd.read_csv(\"Sentiment/Vader/GerVADER/de_vader_polarity_adjusted.csv\", index_col = 0, dtype = {'Vader_polarity': float})\n",
    "# Read in the Dataframe containing the adjusted polarity scores that rely on the extended sentiment lexicon\n",
    "Vader_tx_pol_adj_2 = pd.read_csv(\"Sentiment/Vader/GerVADER/de_vader_polarity_adjusted_2.csv\", index_col = 0, dtype = {'Vader_polarity': float})\n",
    "# Add a column containing the adjusted polarity scores to the dataframe containing the original polarity scores\n",
    "Vader_tx_pol['Vader_polarity_adj'] = Vader_tx_pol_adj['Vader_polarity']\n",
    "# Add a column containing the adjusted polarity scores that rely on the extended sentiment lexicon to the dataframe containing the original polarity scores\n",
    "Vader_tx_pol['Vader_polarity_adj_2'] = Vader_tx_pol_adj_2['Vader_polarity']\n",
    "# Take a look at the resulting Dataframe\n",
    "Vader_tx_pol"
   ]
  },
  {
   "cell_type": "code",
   "execution_count": 12,
   "metadata": {},
   "outputs": [
    {
     "output_type": "execute_result",
     "data": {
      "text/plain": [
       "       Vader_polarity  Vader_polarity_adj  Vader_polarity_adj_2\n",
       "count     1934313.000         1934313.000           1934313.000\n",
       "mean            0.551               0.127                 0.104\n",
       "std             0.670               0.179                 0.194\n",
       "min            -1.000              -1.000                -1.000\n",
       "25%             0.361               0.029                -0.005\n",
       "50%             0.936               0.142                 0.123\n",
       "75%             0.989               0.244                 0.233\n",
       "max             1.000               1.000                 1.000"
      ],
      "text/html": "<div>\n<style scoped>\n    .dataframe tbody tr th:only-of-type {\n        vertical-align: middle;\n    }\n\n    .dataframe tbody tr th {\n        vertical-align: top;\n    }\n\n    .dataframe thead th {\n        text-align: right;\n    }\n</style>\n<table border=\"1\" class=\"dataframe\">\n  <thead>\n    <tr style=\"text-align: right;\">\n      <th></th>\n      <th>Vader_polarity</th>\n      <th>Vader_polarity_adj</th>\n      <th>Vader_polarity_adj_2</th>\n    </tr>\n  </thead>\n  <tbody>\n    <tr>\n      <th>count</th>\n      <td>1934313.000</td>\n      <td>1934313.000</td>\n      <td>1934313.000</td>\n    </tr>\n    <tr>\n      <th>mean</th>\n      <td>0.551</td>\n      <td>0.127</td>\n      <td>0.104</td>\n    </tr>\n    <tr>\n      <th>std</th>\n      <td>0.670</td>\n      <td>0.179</td>\n      <td>0.194</td>\n    </tr>\n    <tr>\n      <th>min</th>\n      <td>-1.000</td>\n      <td>-1.000</td>\n      <td>-1.000</td>\n    </tr>\n    <tr>\n      <th>25%</th>\n      <td>0.361</td>\n      <td>0.029</td>\n      <td>-0.005</td>\n    </tr>\n    <tr>\n      <th>50%</th>\n      <td>0.936</td>\n      <td>0.142</td>\n      <td>0.123</td>\n    </tr>\n    <tr>\n      <th>75%</th>\n      <td>0.989</td>\n      <td>0.244</td>\n      <td>0.233</td>\n    </tr>\n    <tr>\n      <th>max</th>\n      <td>1.000</td>\n      <td>1.000</td>\n      <td>1.000</td>\n    </tr>\n  </tbody>\n</table>\n</div>"
     },
     "metadata": {},
     "execution_count": 12
    }
   ],
   "source": [
    "# Take a look at some summary statistics\n",
    "np.round(Vader_tx_pol.describe(), 3)"
   ]
  },
  {
   "cell_type": "code",
   "execution_count": 13,
   "metadata": {},
   "outputs": [
    {
     "output_type": "display_data",
     "data": {
      "text/plain": "<Figure size 720x576 with 1 Axes>",
      "image/svg+xml": "<?xml version=\"1.0\" encoding=\"utf-8\" standalone=\"no\"?>\r\n<!DOCTYPE svg PUBLIC \"-//W3C//DTD SVG 1.1//EN\"\r\n  \"http://www.w3.org/Graphics/SVG/1.1/DTD/svg11.dtd\">\r\n<!-- Created with matplotlib (https://matplotlib.org/) -->\r\n<svg height=\"501.665pt\" version=\"1.1\" viewBox=\"0 0 616.899375 501.665\" width=\"616.899375pt\" xmlns=\"http://www.w3.org/2000/svg\" xmlns:xlink=\"http://www.w3.org/1999/xlink\">\r\n <metadata>\r\n  <rdf:RDF xmlns:cc=\"http://creativecommons.org/ns#\" xmlns:dc=\"http://purl.org/dc/elements/1.1/\" xmlns:rdf=\"http://www.w3.org/1999/02/22-rdf-syntax-ns#\">\r\n   <cc:Work>\r\n    <dc:type rdf:resource=\"http://purl.org/dc/dcmitype/StillImage\"/>\r\n    <dc:date>2021-06-11T12:12:09.275781</dc:date>\r\n    <dc:format>image/svg+xml</dc:format>\r\n    <dc:creator>\r\n     <cc:Agent>\r\n      <dc:title>Matplotlib v3.3.4, https://matplotlib.org/</dc:title>\r\n     </cc:Agent>\r\n    </dc:creator>\r\n   </cc:Work>\r\n  </rdf:RDF>\r\n </metadata>\r\n <defs>\r\n  <style type=\"text/css\">*{stroke-linecap:butt;stroke-linejoin:round;}</style>\r\n </defs>\r\n <g id=\"figure_1\">\r\n  <g id=\"patch_1\">\r\n   <path d=\"M 0 501.665 \r\nL 616.899375 501.665 \r\nL 616.899375 0 \r\nL 0 0 \r\nz\r\n\" style=\"fill:none;\"/>\r\n  </g>\r\n  <g id=\"axes_1\">\r\n   <g id=\"patch_2\">\r\n    <path d=\"M 38.111875 460.2375 \r\nL 596.111875 460.2375 \r\nL 596.111875 25.3575 \r\nL 38.111875 25.3575 \r\nz\r\n\" style=\"fill:#ffffff;\"/>\r\n   </g>\r\n   <g id=\"PolyCollection_1\">\r\n    <defs>\r\n     <path d=\"M 63.475511 -41.54306 \r\nL 63.475511 -41.4275 \r\nL 66.024621 -41.4275 \r\nL 68.57373 -41.4275 \r\nL 71.122839 -41.4275 \r\nL 73.671948 -41.4275 \r\nL 76.221057 -41.4275 \r\nL 78.770166 -41.4275 \r\nL 81.319276 -41.4275 \r\nL 83.868385 -41.4275 \r\nL 86.417494 -41.4275 \r\nL 88.966603 -41.4275 \r\nL 91.515712 -41.4275 \r\nL 94.064822 -41.4275 \r\nL 96.613931 -41.4275 \r\nL 99.16304 -41.4275 \r\nL 101.712149 -41.4275 \r\nL 104.261258 -41.4275 \r\nL 106.810367 -41.4275 \r\nL 109.359477 -41.4275 \r\nL 111.908586 -41.4275 \r\nL 114.457695 -41.4275 \r\nL 117.006804 -41.4275 \r\nL 119.555913 -41.4275 \r\nL 122.105023 -41.4275 \r\nL 124.654132 -41.4275 \r\nL 127.203241 -41.4275 \r\nL 129.75235 -41.4275 \r\nL 132.301459 -41.4275 \r\nL 134.850568 -41.4275 \r\nL 137.399678 -41.4275 \r\nL 139.948787 -41.4275 \r\nL 142.497896 -41.4275 \r\nL 145.047005 -41.4275 \r\nL 147.596114 -41.4275 \r\nL 150.145224 -41.4275 \r\nL 152.694333 -41.4275 \r\nL 155.243442 -41.4275 \r\nL 157.792551 -41.4275 \r\nL 160.34166 -41.4275 \r\nL 162.890769 -41.4275 \r\nL 165.439879 -41.4275 \r\nL 167.988988 -41.4275 \r\nL 170.538097 -41.4275 \r\nL 173.087206 -41.4275 \r\nL 175.636315 -41.4275 \r\nL 178.185425 -41.4275 \r\nL 180.734534 -41.4275 \r\nL 183.283643 -41.4275 \r\nL 185.832752 -41.4275 \r\nL 188.381861 -41.4275 \r\nL 190.93097 -41.4275 \r\nL 193.48008 -41.4275 \r\nL 196.029189 -41.4275 \r\nL 198.578298 -41.4275 \r\nL 201.127407 -41.4275 \r\nL 203.676516 -41.4275 \r\nL 206.225626 -41.4275 \r\nL 208.774735 -41.4275 \r\nL 211.323844 -41.4275 \r\nL 213.872953 -41.4275 \r\nL 216.422062 -41.4275 \r\nL 218.971171 -41.4275 \r\nL 221.520281 -41.4275 \r\nL 224.06939 -41.4275 \r\nL 226.618499 -41.4275 \r\nL 229.167608 -41.4275 \r\nL 231.716717 -41.4275 \r\nL 234.265827 -41.4275 \r\nL 236.814936 -41.4275 \r\nL 239.364045 -41.4275 \r\nL 241.913154 -41.4275 \r\nL 244.462263 -41.4275 \r\nL 247.011372 -41.4275 \r\nL 249.560482 -41.4275 \r\nL 252.109591 -41.4275 \r\nL 254.6587 -41.4275 \r\nL 257.207809 -41.4275 \r\nL 259.756918 -41.4275 \r\nL 262.306028 -41.4275 \r\nL 264.855137 -41.4275 \r\nL 267.404246 -41.4275 \r\nL 269.953355 -41.4275 \r\nL 272.502464 -41.4275 \r\nL 275.051573 -41.4275 \r\nL 277.600683 -41.4275 \r\nL 280.149792 -41.4275 \r\nL 282.698901 -41.4275 \r\nL 285.24801 -41.4275 \r\nL 287.797119 -41.4275 \r\nL 290.346229 -41.4275 \r\nL 292.895338 -41.4275 \r\nL 295.444447 -41.4275 \r\nL 297.993556 -41.4275 \r\nL 300.542665 -41.4275 \r\nL 303.091774 -41.4275 \r\nL 305.640884 -41.4275 \r\nL 308.189993 -41.4275 \r\nL 310.739102 -41.4275 \r\nL 313.288211 -41.4275 \r\nL 315.83732 -41.4275 \r\nL 318.38643 -41.4275 \r\nL 320.935539 -41.4275 \r\nL 323.484648 -41.4275 \r\nL 326.033757 -41.4275 \r\nL 328.582866 -41.4275 \r\nL 331.131976 -41.4275 \r\nL 333.681085 -41.4275 \r\nL 336.230194 -41.4275 \r\nL 338.779303 -41.4275 \r\nL 341.328412 -41.4275 \r\nL 343.877521 -41.4275 \r\nL 346.426631 -41.4275 \r\nL 348.97574 -41.4275 \r\nL 351.524849 -41.4275 \r\nL 354.073958 -41.4275 \r\nL 356.623067 -41.4275 \r\nL 359.172177 -41.4275 \r\nL 361.721286 -41.4275 \r\nL 364.270395 -41.4275 \r\nL 366.819504 -41.4275 \r\nL 369.368613 -41.4275 \r\nL 371.917722 -41.4275 \r\nL 374.466832 -41.4275 \r\nL 377.015941 -41.4275 \r\nL 379.56505 -41.4275 \r\nL 382.114159 -41.4275 \r\nL 384.663268 -41.4275 \r\nL 387.212378 -41.4275 \r\nL 389.761487 -41.4275 \r\nL 392.310596 -41.4275 \r\nL 394.859705 -41.4275 \r\nL 397.408814 -41.4275 \r\nL 399.957923 -41.4275 \r\nL 402.507033 -41.4275 \r\nL 405.056142 -41.4275 \r\nL 407.605251 -41.4275 \r\nL 410.15436 -41.4275 \r\nL 412.703469 -41.4275 \r\nL 415.252579 -41.4275 \r\nL 417.801688 -41.4275 \r\nL 420.350797 -41.4275 \r\nL 422.899906 -41.4275 \r\nL 425.449015 -41.4275 \r\nL 427.998124 -41.4275 \r\nL 430.547234 -41.4275 \r\nL 433.096343 -41.4275 \r\nL 435.645452 -41.4275 \r\nL 438.194561 -41.4275 \r\nL 440.74367 -41.4275 \r\nL 443.29278 -41.4275 \r\nL 445.841889 -41.4275 \r\nL 448.390998 -41.4275 \r\nL 450.940107 -41.4275 \r\nL 453.489216 -41.4275 \r\nL 456.038325 -41.4275 \r\nL 458.587435 -41.4275 \r\nL 461.136544 -41.4275 \r\nL 463.685653 -41.4275 \r\nL 466.234762 -41.4275 \r\nL 468.783871 -41.4275 \r\nL 471.332981 -41.4275 \r\nL 473.88209 -41.4275 \r\nL 476.431199 -41.4275 \r\nL 478.980308 -41.4275 \r\nL 481.529417 -41.4275 \r\nL 484.078526 -41.4275 \r\nL 486.627636 -41.4275 \r\nL 489.176745 -41.4275 \r\nL 491.725854 -41.4275 \r\nL 494.274963 -41.4275 \r\nL 496.824072 -41.4275 \r\nL 499.373182 -41.4275 \r\nL 501.922291 -41.4275 \r\nL 504.4714 -41.4275 \r\nL 507.020509 -41.4275 \r\nL 509.569618 -41.4275 \r\nL 512.118727 -41.4275 \r\nL 514.667837 -41.4275 \r\nL 517.216946 -41.4275 \r\nL 519.766055 -41.4275 \r\nL 522.315164 -41.4275 \r\nL 524.864273 -41.4275 \r\nL 527.413383 -41.4275 \r\nL 529.962492 -41.4275 \r\nL 532.511601 -41.4275 \r\nL 535.06071 -41.4275 \r\nL 537.609819 -41.4275 \r\nL 540.158928 -41.4275 \r\nL 542.708038 -41.4275 \r\nL 545.257147 -41.4275 \r\nL 547.806256 -41.4275 \r\nL 550.355365 -41.4275 \r\nL 552.904474 -41.4275 \r\nL 555.453584 -41.4275 \r\nL 558.002693 -41.4275 \r\nL 560.551802 -41.4275 \r\nL 563.100911 -41.4275 \r\nL 565.65002 -41.4275 \r\nL 568.199129 -41.4275 \r\nL 570.748239 -41.4275 \r\nL 570.748239 -43.474038 \r\nL 570.748239 -43.474038 \r\nL 568.199129 -46.519947 \r\nL 565.65002 -53.031306 \r\nL 563.100911 -65.650268 \r\nL 560.551802 -87.774413 \r\nL 558.002693 -122.761386 \r\nL 555.453584 -172.445102 \r\nL 552.904474 -235.359128 \r\nL 550.355365 -305.557774 \r\nL 547.806256 -373.028865 \r\nL 545.257147 -426.093608 \r\nL 542.708038 -455.075005 \r\nL 540.158928 -455.598929 \r\nL 537.609819 -429.905038 \r\nL 535.06071 -385.586937 \r\nL 532.511601 -332.559614 \r\nL 529.962492 -279.835851 \r\nL 527.413383 -233.46365 \r\nL 524.864273 -196.078936 \r\nL 522.315164 -167.664926 \r\nL 519.766055 -146.754511 \r\nL 517.216946 -131.462901 \r\nL 514.667837 -120.098173 \r\nL 512.118727 -111.386988 \r\nL 509.569618 -104.469303 \r\nL 507.020509 -98.802507 \r\nL 504.4714 -94.056216 \r\nL 501.922291 -90.028695 \r\nL 499.373182 -86.589395 \r\nL 496.824072 -83.643161 \r\nL 494.274963 -81.110351 \r\nL 491.725854 -78.917884 \r\nL 489.176745 -76.997169 \r\nL 486.627636 -75.285827 \r\nL 484.078526 -73.730933 \r\nL 481.529417 -72.29203 \r\nL 478.980308 -70.942464 \r\nL 476.431199 -69.668206 \r\nL 473.88209 -68.464468 \r\nL 471.332981 -67.331593 \r\nL 468.783871 -66.271935 \r\nL 466.234762 -65.28849 \r\nL 463.685653 -64.384505 \r\nL 461.136544 -63.562666 \r\nL 458.587435 -62.823108 \r\nL 456.038325 -62.16096 \r\nL 453.489216 -61.565164 \r\nL 450.940107 -61.019968 \r\nL 448.390998 -60.509042 \r\nL 445.841889 -60.020432 \r\nL 443.29278 -59.549876 \r\nL 440.74367 -59.10074 \r\nL 438.194561 -58.680711 \r\nL 435.645452 -58.297058 \r\nL 433.096343 -57.952601 \r\nL 430.547234 -57.643648 \r\nL 427.998124 -57.359938 \r\nL 425.449015 -57.086212 \r\nL 422.899906 -56.805329 \r\nL 420.350797 -56.502876 \r\nL 417.801688 -56.172257 \r\nL 415.252579 -55.818105 \r\nL 412.703469 -55.455729 \r\nL 410.15436 -55.106091 \r\nL 407.605251 -54.788241 \r\nL 405.056142 -54.512598 \r\nL 402.507033 -54.277808 \r\nL 399.957923 -54.071957 \r\nL 397.408814 -53.877103 \r\nL 394.859705 -53.67528 \r\nL 392.310596 -53.454227 \r\nL 389.761487 -53.211362 \r\nL 387.212378 -52.954794 \r\nL 384.663268 -52.700815 \r\nL 382.114159 -52.468416 \r\nL 379.56505 -52.272757 \r\nL 377.015941 -52.120064 \r\nL 374.466832 -52.005867 \r\nL 371.917722 -51.916804 \r\nL 369.368613 -51.834685 \r\nL 366.819504 -51.74082 \r\nL 364.270395 -51.619378 \r\nL 361.721286 -51.459715 \r\nL 359.172177 -51.258314 \r\nL 356.623067 -51.020329 \r\nL 354.073958 -50.759666 \r\nL 351.524849 -50.496411 \r\nL 348.97574 -50.251879 \r\nL 346.426631 -50.043723 \r\nL 343.877521 -49.8845 \r\nL 341.328412 -49.785755 \r\nL 338.779303 -49.766354 \r\nL 336.230194 -49.859931 \r\nL 333.681085 -50.113989 \r\nL 331.131976 -50.574479 \r\nL 328.582866 -51.256322 \r\nL 326.033757 -52.11091 \r\nL 323.484648 -53.010451 \r\nL 320.935539 -53.76735 \r\nL 318.38643 -54.190607 \r\nL 315.83732 -54.157534 \r\nL 313.288211 -53.664654 \r\nL 310.739102 -52.829585 \r\nL 308.189993 -51.842991 \r\nL 305.640884 -50.897406 \r\nL 303.091774 -50.128756 \r\nL 300.542665 -49.593111 \r\nL 297.993556 -49.278186 \r\nL 295.444447 -49.133042 \r\nL 292.895338 -49.097434 \r\nL 290.346229 -49.120324 \r\nL 287.797119 -49.16662 \r\nL 285.24801 -49.216453 \r\nL 282.698901 -49.261651 \r\nL 280.149792 -49.302012 \r\nL 277.600683 -49.342023 \r\nL 275.051573 -49.387896 \r\nL 272.502464 -49.444969 \r\nL 269.953355 -49.515804 \r\nL 267.404246 -49.599355 \r\nL 264.855137 -49.691303 \r\nL 262.306028 -49.785404 \r\nL 259.756918 -49.875461 \r\nL 257.207809 -49.957319 \r\nL 254.6587 -50.030113 \r\nL 252.109591 -50.096079 \r\nL 249.560482 -50.158815 \r\nL 247.011372 -50.220728 \r\nL 244.462263 -50.281057 \r\nL 241.913154 -50.335754 \r\nL 239.364045 -50.379488 \r\nL 236.814936 -50.408728 \r\nL 234.265827 -50.424197 \r\nL 231.716717 -50.431418 \r\nL 229.167608 -50.439268 \r\nL 226.618499 -50.457406 \r\nL 224.06939 -50.493718 \r\nL 221.520281 -50.55246 \r\nL 218.971171 -50.633435 \r\nL 216.422062 -50.732344 \r\nL 213.872953 -50.842315 \r\nL 211.323844 -50.956225 \r\nL 208.774735 -51.068962 \r\nL 206.225626 -51.178701 \r\nL 203.676516 -51.286771 \r\nL 201.127407 -51.396418 \r\nL 198.578298 -51.511211 \r\nL 196.029189 -51.633748 \r\nL 193.48008 -51.765013 \r\nL 190.93097 -51.904473 \r\nL 188.381861 -52.050918 \r\nL 185.832752 -52.203897 \r\nL 183.283643 -52.365241 \r\nL 180.734534 -52.539854 \r\nL 178.185425 -52.735026 \r\nL 175.636315 -52.958188 \r\nL 173.087206 -53.21403 \r\nL 170.538097 -53.502489 \r\nL 167.988988 -53.818888 \r\nL 165.439879 -54.156374 \r\nL 162.890769 -54.509512 \r\nL 160.34166 -54.877207 \r\nL 157.792551 -55.263552 \r\nL 155.243442 -55.676355 \r\nL 152.694333 -56.124346 \r\nL 150.145224 -56.61461 \r\nL 147.596114 -57.15152 \r\nL 145.047005 -57.737581 \r\nL 142.497896 -58.375721 \r\nL 139.948787 -59.07199 \r\nL 137.399678 -59.837566 \r\nL 134.850568 -60.68939 \r\nL 132.301459 -61.649507 \r\nL 129.75235 -62.74392 \r\nL 127.203241 -64.001978 \r\nL 124.654132 -65.456866 \r\nL 122.105023 -67.14701 \r\nL 119.555913 -69.117303 \r\nL 117.006804 -71.417892 \r\nL 114.457695 -74.096485 \r\nL 111.908586 -77.17837 \r\nL 109.359477 -80.629101 \r\nL 106.810367 -84.301415 \r\nL 104.261258 -87.882004 \r\nL 101.712149 -90.870289 \r\nL 99.16304 -92.627768 \r\nL 96.613931 -92.517999 \r\nL 94.064822 -90.111448 \r\nL 91.515712 -85.377391 \r\nL 88.966603 -78.765003 \r\nL 86.417494 -71.114232 \r\nL 83.868385 -63.420658 \r\nL 81.319276 -56.555702 \r\nL 78.770166 -51.062266 \r\nL 76.221057 -47.096114 \r\nL 73.671948 -44.503004 \r\nL 71.122839 -42.964001 \r\nL 68.57373 -42.133522 \r\nL 66.024621 -41.725597 \r\nL 63.475511 -41.54306 \r\nz\r\n\" id=\"m8759dbdf64\" style=\"stroke:#ff0000;\"/>\r\n    </defs>\r\n    <g clip-path=\"url(#p115efd5abe)\">\r\n     <use style=\"fill:#ff0000;fill-opacity:0.25;stroke:#ff0000;\" x=\"0\" xlink:href=\"#m8759dbdf64\" y=\"501.665\"/>\r\n    </g>\r\n   </g>\r\n   <g id=\"PolyCollection_2\">\r\n    <defs>\r\n     <path d=\"M 82.03011 -41.427696 \r\nL 82.03011 -41.4275 \r\nL 84.392626 -41.4275 \r\nL 86.755142 -41.4275 \r\nL 89.117659 -41.4275 \r\nL 91.480175 -41.4275 \r\nL 93.842691 -41.4275 \r\nL 96.205207 -41.4275 \r\nL 98.567723 -41.4275 \r\nL 100.930239 -41.4275 \r\nL 103.292755 -41.4275 \r\nL 105.655271 -41.4275 \r\nL 108.017787 -41.4275 \r\nL 110.380303 -41.4275 \r\nL 112.742819 -41.4275 \r\nL 115.105335 -41.4275 \r\nL 117.467852 -41.4275 \r\nL 119.830368 -41.4275 \r\nL 122.192884 -41.4275 \r\nL 124.5554 -41.4275 \r\nL 126.917916 -41.4275 \r\nL 129.280432 -41.4275 \r\nL 131.642948 -41.4275 \r\nL 134.005464 -41.4275 \r\nL 136.36798 -41.4275 \r\nL 138.730496 -41.4275 \r\nL 141.093012 -41.4275 \r\nL 143.455528 -41.4275 \r\nL 145.818045 -41.4275 \r\nL 148.180561 -41.4275 \r\nL 150.543077 -41.4275 \r\nL 152.905593 -41.4275 \r\nL 155.268109 -41.4275 \r\nL 157.630625 -41.4275 \r\nL 159.993141 -41.4275 \r\nL 162.355657 -41.4275 \r\nL 164.718173 -41.4275 \r\nL 167.080689 -41.4275 \r\nL 169.443205 -41.4275 \r\nL 171.805721 -41.4275 \r\nL 174.168238 -41.4275 \r\nL 176.530754 -41.4275 \r\nL 178.89327 -41.4275 \r\nL 181.255786 -41.4275 \r\nL 183.618302 -41.4275 \r\nL 185.980818 -41.4275 \r\nL 188.343334 -41.4275 \r\nL 190.70585 -41.4275 \r\nL 193.068366 -41.4275 \r\nL 195.430882 -41.4275 \r\nL 197.793398 -41.4275 \r\nL 200.155914 -41.4275 \r\nL 202.518431 -41.4275 \r\nL 204.880947 -41.4275 \r\nL 207.243463 -41.4275 \r\nL 209.605979 -41.4275 \r\nL 211.968495 -41.4275 \r\nL 214.331011 -41.4275 \r\nL 216.693527 -41.4275 \r\nL 219.056043 -41.4275 \r\nL 221.418559 -41.4275 \r\nL 223.781075 -41.4275 \r\nL 226.143591 -41.4275 \r\nL 228.506107 -41.4275 \r\nL 230.868624 -41.4275 \r\nL 233.23114 -41.4275 \r\nL 235.593656 -41.4275 \r\nL 237.956172 -41.4275 \r\nL 240.318688 -41.4275 \r\nL 242.681204 -41.4275 \r\nL 245.04372 -41.4275 \r\nL 247.406236 -41.4275 \r\nL 249.768752 -41.4275 \r\nL 252.131268 -41.4275 \r\nL 254.493784 -41.4275 \r\nL 256.8563 -41.4275 \r\nL 259.218817 -41.4275 \r\nL 261.581333 -41.4275 \r\nL 263.943849 -41.4275 \r\nL 266.306365 -41.4275 \r\nL 268.668881 -41.4275 \r\nL 271.031397 -41.4275 \r\nL 273.393913 -41.4275 \r\nL 275.756429 -41.4275 \r\nL 278.118945 -41.4275 \r\nL 280.481461 -41.4275 \r\nL 282.843977 -41.4275 \r\nL 285.206493 -41.4275 \r\nL 287.56901 -41.4275 \r\nL 289.931526 -41.4275 \r\nL 292.294042 -41.4275 \r\nL 294.656558 -41.4275 \r\nL 297.019074 -41.4275 \r\nL 299.38159 -41.4275 \r\nL 301.744106 -41.4275 \r\nL 304.106622 -41.4275 \r\nL 306.469138 -41.4275 \r\nL 308.831654 -41.4275 \r\nL 311.19417 -41.4275 \r\nL 313.556686 -41.4275 \r\nL 315.919203 -41.4275 \r\nL 318.281719 -41.4275 \r\nL 320.644235 -41.4275 \r\nL 323.006751 -41.4275 \r\nL 325.369267 -41.4275 \r\nL 327.731783 -41.4275 \r\nL 330.094299 -41.4275 \r\nL 332.456815 -41.4275 \r\nL 334.819331 -41.4275 \r\nL 337.181847 -41.4275 \r\nL 339.544363 -41.4275 \r\nL 341.906879 -41.4275 \r\nL 344.269396 -41.4275 \r\nL 346.631912 -41.4275 \r\nL 348.994428 -41.4275 \r\nL 351.356944 -41.4275 \r\nL 353.71946 -41.4275 \r\nL 356.081976 -41.4275 \r\nL 358.444492 -41.4275 \r\nL 360.807008 -41.4275 \r\nL 363.169524 -41.4275 \r\nL 365.53204 -41.4275 \r\nL 367.894556 -41.4275 \r\nL 370.257072 -41.4275 \r\nL 372.619589 -41.4275 \r\nL 374.982105 -41.4275 \r\nL 377.344621 -41.4275 \r\nL 379.707137 -41.4275 \r\nL 382.069653 -41.4275 \r\nL 384.432169 -41.4275 \r\nL 386.794685 -41.4275 \r\nL 389.157201 -41.4275 \r\nL 391.519717 -41.4275 \r\nL 393.882233 -41.4275 \r\nL 396.244749 -41.4275 \r\nL 398.607265 -41.4275 \r\nL 400.969782 -41.4275 \r\nL 403.332298 -41.4275 \r\nL 405.694814 -41.4275 \r\nL 408.05733 -41.4275 \r\nL 410.419846 -41.4275 \r\nL 412.782362 -41.4275 \r\nL 415.144878 -41.4275 \r\nL 417.507394 -41.4275 \r\nL 419.86991 -41.4275 \r\nL 422.232426 -41.4275 \r\nL 424.594942 -41.4275 \r\nL 426.957458 -41.4275 \r\nL 429.319975 -41.4275 \r\nL 431.682491 -41.4275 \r\nL 434.045007 -41.4275 \r\nL 436.407523 -41.4275 \r\nL 438.770039 -41.4275 \r\nL 441.132555 -41.4275 \r\nL 443.495071 -41.4275 \r\nL 445.857587 -41.4275 \r\nL 448.220103 -41.4275 \r\nL 450.582619 -41.4275 \r\nL 452.945135 -41.4275 \r\nL 455.307651 -41.4275 \r\nL 457.670168 -41.4275 \r\nL 460.032684 -41.4275 \r\nL 462.3952 -41.4275 \r\nL 464.757716 -41.4275 \r\nL 467.120232 -41.4275 \r\nL 469.482748 -41.4275 \r\nL 471.845264 -41.4275 \r\nL 474.20778 -41.4275 \r\nL 476.570296 -41.4275 \r\nL 478.932812 -41.4275 \r\nL 481.295328 -41.4275 \r\nL 483.657844 -41.4275 \r\nL 486.020361 -41.4275 \r\nL 488.382877 -41.4275 \r\nL 490.745393 -41.4275 \r\nL 493.107909 -41.4275 \r\nL 495.470425 -41.4275 \r\nL 497.832941 -41.4275 \r\nL 500.195457 -41.4275 \r\nL 502.557973 -41.4275 \r\nL 504.920489 -41.4275 \r\nL 507.283005 -41.4275 \r\nL 509.645521 -41.4275 \r\nL 512.008037 -41.4275 \r\nL 514.370553 -41.4275 \r\nL 516.73307 -41.4275 \r\nL 519.095586 -41.4275 \r\nL 521.458102 -41.4275 \r\nL 523.820618 -41.4275 \r\nL 526.183134 -41.4275 \r\nL 528.54565 -41.4275 \r\nL 530.908166 -41.4275 \r\nL 533.270682 -41.4275 \r\nL 535.633198 -41.4275 \r\nL 537.995714 -41.4275 \r\nL 540.35823 -41.4275 \r\nL 542.720746 -41.4275 \r\nL 545.083263 -41.4275 \r\nL 547.445779 -41.4275 \r\nL 549.808295 -41.4275 \r\nL 552.170811 -41.4275 \r\nL 552.170811 -41.427567 \r\nL 552.170811 -41.427567 \r\nL 549.808295 -41.428444 \r\nL 547.445779 -41.432071 \r\nL 545.083263 -41.435527 \r\nL 542.720746 -41.433747 \r\nL 540.35823 -41.432956 \r\nL 537.995714 -41.436619 \r\nL 535.633198 -41.439084 \r\nL 533.270682 -41.4398 \r\nL 530.908166 -41.451288 \r\nL 528.54565 -41.464038 \r\nL 526.183134 -41.453219 \r\nL 523.820618 -41.441578 \r\nL 521.458102 -41.445291 \r\nL 519.095586 -41.460375 \r\nL 516.73307 -41.478422 \r\nL 514.370553 -41.497829 \r\nL 512.008037 -41.541118 \r\nL 509.645521 -41.529624 \r\nL 507.283005 -41.486022 \r\nL 504.920489 -41.486557 \r\nL 502.557973 -41.530343 \r\nL 500.195457 -41.596108 \r\nL 497.832941 -41.580972 \r\nL 495.470425 -41.565345 \r\nL 493.107909 -41.585679 \r\nL 490.745393 -41.659388 \r\nL 488.382877 -41.768284 \r\nL 486.020361 -41.738353 \r\nL 483.657844 -41.725872 \r\nL 481.295328 -41.741348 \r\nL 478.932812 -41.803685 \r\nL 476.570296 -41.956428 \r\nL 474.20778 -42.284682 \r\nL 471.845264 -42.853469 \r\nL 469.482748 -42.881701 \r\nL 467.120232 -42.883386 \r\nL 464.757716 -43.033313 \r\nL 462.3952 -42.934431 \r\nL 460.032684 -43.112514 \r\nL 457.670168 -43.521151 \r\nL 455.307651 -44.231977 \r\nL 452.945135 -44.713236 \r\nL 450.582619 -45.279254 \r\nL 448.220103 -46.234276 \r\nL 445.857587 -46.686 \r\nL 443.495071 -47.393262 \r\nL 441.132555 -48.355058 \r\nL 438.770039 -49.947661 \r\nL 436.407523 -51.639927 \r\nL 434.045007 -52.739291 \r\nL 431.682491 -54.729223 \r\nL 429.319975 -56.834315 \r\nL 426.957458 -60.279426 \r\nL 424.594942 -62.912081 \r\nL 422.232426 -63.672215 \r\nL 419.86991 -66.156959 \r\nL 417.507394 -70.176227 \r\nL 415.144878 -75.453248 \r\nL 412.782362 -80.084936 \r\nL 410.419846 -84.675253 \r\nL 408.05733 -90.530669 \r\nL 405.694814 -96.521782 \r\nL 403.332298 -103.40514 \r\nL 400.969782 -110.041771 \r\nL 398.607265 -117.535829 \r\nL 396.244749 -126.105558 \r\nL 393.882233 -135.094952 \r\nL 391.519717 -145.036806 \r\nL 389.157201 -153.105271 \r\nL 386.794685 -161.076636 \r\nL 384.432169 -170.062556 \r\nL 382.069653 -179.928044 \r\nL 379.707137 -190.49314 \r\nL 377.344621 -199.782844 \r\nL 374.982105 -207.606189 \r\nL 372.619589 -214.950008 \r\nL 370.257072 -223.561556 \r\nL 367.894556 -231.728918 \r\nL 365.53204 -237.574157 \r\nL 363.169524 -243.135818 \r\nL 360.807008 -246.930797 \r\nL 358.444492 -250.115021 \r\nL 356.081976 -253.091499 \r\nL 353.71946 -253.552495 \r\nL 351.356944 -252.242345 \r\nL 348.994428 -249.669017 \r\nL 346.631912 -247.123679 \r\nL 344.269396 -243.201301 \r\nL 341.906879 -238.051536 \r\nL 339.544363 -232.945419 \r\nL 337.181847 -227.020201 \r\nL 334.819331 -219.776677 \r\nL 332.456815 -211.112107 \r\nL 330.094299 -202.315547 \r\nL 327.731783 -193.63342 \r\nL 325.369267 -185.102699 \r\nL 323.006751 -177.184192 \r\nL 320.644235 -172.159484 \r\nL 318.281719 -171.867138 \r\nL 315.919203 -164.025564 \r\nL 313.556686 -149.219392 \r\nL 311.19417 -140.251068 \r\nL 308.831654 -134.02655 \r\nL 306.469138 -127.606964 \r\nL 304.106622 -121.269432 \r\nL 301.744106 -115.335679 \r\nL 299.38159 -110.122472 \r\nL 297.019074 -105.669762 \r\nL 294.656558 -101.023514 \r\nL 292.294042 -96.215522 \r\nL 289.931526 -92.370172 \r\nL 287.56901 -88.898993 \r\nL 285.206493 -85.091282 \r\nL 282.843977 -81.783222 \r\nL 280.481461 -78.652289 \r\nL 278.118945 -75.575497 \r\nL 275.756429 -72.812163 \r\nL 273.393913 -70.871425 \r\nL 271.031397 -69.479967 \r\nL 268.668881 -67.696135 \r\nL 266.306365 -65.900565 \r\nL 263.943849 -64.145516 \r\nL 261.581333 -62.54598 \r\nL 259.218817 -61.174171 \r\nL 256.8563 -60.000221 \r\nL 254.493784 -59.111999 \r\nL 252.131268 -57.732802 \r\nL 249.768752 -56.662434 \r\nL 247.406236 -55.73111 \r\nL 245.04372 -54.65588 \r\nL 242.681204 -53.807177 \r\nL 240.318688 -53.094038 \r\nL 237.956172 -52.858631 \r\nL 235.593656 -52.227452 \r\nL 233.23114 -51.38464 \r\nL 230.868624 -50.425079 \r\nL 228.506107 -49.348553 \r\nL 226.143591 -48.757599 \r\nL 223.781075 -48.134082 \r\nL 221.418559 -47.698527 \r\nL 219.056043 -47.344154 \r\nL 216.693527 -46.667635 \r\nL 214.331011 -46.039886 \r\nL 211.968495 -45.681439 \r\nL 209.605979 -45.562672 \r\nL 207.243463 -45.133888 \r\nL 204.880947 -44.817926 \r\nL 202.518431 -44.642177 \r\nL 200.155914 -44.051951 \r\nL 197.793398 -43.708306 \r\nL 195.430882 -43.412551 \r\nL 193.068366 -43.116819 \r\nL 190.70585 -42.964031 \r\nL 188.343334 -42.890883 \r\nL 185.980818 -42.832706 \r\nL 183.618302 -42.641819 \r\nL 181.255786 -42.573525 \r\nL 178.89327 -42.493208 \r\nL 176.530754 -42.287039 \r\nL 174.168238 -42.164224 \r\nL 171.805721 -42.067647 \r\nL 169.443205 -41.983457 \r\nL 167.080689 -41.926095 \r\nL 164.718173 -41.901717 \r\nL 162.355657 -41.866484 \r\nL 159.993141 -41.807417 \r\nL 157.630625 -41.733747 \r\nL 155.268109 -41.694271 \r\nL 152.905593 -41.683997 \r\nL 150.543077 -41.632566 \r\nL 148.180561 -41.554164 \r\nL 145.818045 -41.526586 \r\nL 143.455528 -41.547085 \r\nL 141.093012 -41.580808 \r\nL 138.730496 -41.566832 \r\nL 136.36798 -41.515602 \r\nL 134.005464 -41.480895 \r\nL 131.642948 -41.466962 \r\nL 129.280432 -41.474643 \r\nL 126.917916 -41.500039 \r\nL 124.5554 -41.584459 \r\nL 122.192884 -41.654406 \r\nL 119.830368 -41.696016 \r\nL 117.467852 -41.741425 \r\nL 115.105335 -41.618674 \r\nL 112.742819 -41.493225 \r\nL 110.380303 -41.478372 \r\nL 108.017787 -41.518847 \r\nL 105.655271 -41.548622 \r\nL 103.292755 -41.516962 \r\nL 100.930239 -41.490243 \r\nL 98.567723 -41.463246 \r\nL 96.205207 -41.438681 \r\nL 93.842691 -41.431703 \r\nL 91.480175 -41.438794 \r\nL 89.117659 -41.447695 \r\nL 86.755142 -41.440139 \r\nL 84.392626 -41.430199 \r\nL 82.03011 -41.427696 \r\nz\r\n\" id=\"m355f0d2f89\" style=\"stroke:#0000ff;\"/>\r\n    </defs>\r\n    <g clip-path=\"url(#p115efd5abe)\">\r\n     <use style=\"fill:#0000ff;fill-opacity:0.25;stroke:#0000ff;\" x=\"0\" xlink:href=\"#m355f0d2f89\" y=\"501.665\"/>\r\n    </g>\r\n   </g>\r\n   <g id=\"PolyCollection_3\">\r\n    <defs>\r\n     <path d=\"M 81.473652 -41.438122 \r\nL 81.473652 -41.4275 \r\nL 83.84176 -41.4275 \r\nL 86.209869 -41.4275 \r\nL 88.577978 -41.4275 \r\nL 90.946086 -41.4275 \r\nL 93.314195 -41.4275 \r\nL 95.682303 -41.4275 \r\nL 98.050412 -41.4275 \r\nL 100.418521 -41.4275 \r\nL 102.786629 -41.4275 \r\nL 105.154738 -41.4275 \r\nL 107.522847 -41.4275 \r\nL 109.890955 -41.4275 \r\nL 112.259064 -41.4275 \r\nL 114.627173 -41.4275 \r\nL 116.995281 -41.4275 \r\nL 119.36339 -41.4275 \r\nL 121.731498 -41.4275 \r\nL 124.099607 -41.4275 \r\nL 126.467716 -41.4275 \r\nL 128.835824 -41.4275 \r\nL 131.203933 -41.4275 \r\nL 133.572042 -41.4275 \r\nL 135.94015 -41.4275 \r\nL 138.308259 -41.4275 \r\nL 140.676367 -41.4275 \r\nL 143.044476 -41.4275 \r\nL 145.412585 -41.4275 \r\nL 147.780693 -41.4275 \r\nL 150.148802 -41.4275 \r\nL 152.516911 -41.4275 \r\nL 154.885019 -41.4275 \r\nL 157.253128 -41.4275 \r\nL 159.621237 -41.4275 \r\nL 161.989345 -41.4275 \r\nL 164.357454 -41.4275 \r\nL 166.725562 -41.4275 \r\nL 169.093671 -41.4275 \r\nL 171.46178 -41.4275 \r\nL 173.829888 -41.4275 \r\nL 176.197997 -41.4275 \r\nL 178.566106 -41.4275 \r\nL 180.934214 -41.4275 \r\nL 183.302323 -41.4275 \r\nL 185.670431 -41.4275 \r\nL 188.03854 -41.4275 \r\nL 190.406649 -41.4275 \r\nL 192.774757 -41.4275 \r\nL 195.142866 -41.4275 \r\nL 197.510975 -41.4275 \r\nL 199.879083 -41.4275 \r\nL 202.247192 -41.4275 \r\nL 204.615301 -41.4275 \r\nL 206.983409 -41.4275 \r\nL 209.351518 -41.4275 \r\nL 211.719626 -41.4275 \r\nL 214.087735 -41.4275 \r\nL 216.455844 -41.4275 \r\nL 218.823952 -41.4275 \r\nL 221.192061 -41.4275 \r\nL 223.56017 -41.4275 \r\nL 225.928278 -41.4275 \r\nL 228.296387 -41.4275 \r\nL 230.664495 -41.4275 \r\nL 233.032604 -41.4275 \r\nL 235.400713 -41.4275 \r\nL 237.768821 -41.4275 \r\nL 240.13693 -41.4275 \r\nL 242.505039 -41.4275 \r\nL 244.873147 -41.4275 \r\nL 247.241256 -41.4275 \r\nL 249.609365 -41.4275 \r\nL 251.977473 -41.4275 \r\nL 254.345582 -41.4275 \r\nL 256.71369 -41.4275 \r\nL 259.081799 -41.4275 \r\nL 261.449908 -41.4275 \r\nL 263.818016 -41.4275 \r\nL 266.186125 -41.4275 \r\nL 268.554234 -41.4275 \r\nL 270.922342 -41.4275 \r\nL 273.290451 -41.4275 \r\nL 275.658559 -41.4275 \r\nL 278.026668 -41.4275 \r\nL 280.394777 -41.4275 \r\nL 282.762885 -41.4275 \r\nL 285.130994 -41.4275 \r\nL 287.499103 -41.4275 \r\nL 289.867211 -41.4275 \r\nL 292.23532 -41.4275 \r\nL 294.603429 -41.4275 \r\nL 296.971537 -41.4275 \r\nL 299.339646 -41.4275 \r\nL 301.707754 -41.4275 \r\nL 304.075863 -41.4275 \r\nL 306.443972 -41.4275 \r\nL 308.81208 -41.4275 \r\nL 311.180189 -41.4275 \r\nL 313.548298 -41.4275 \r\nL 315.916406 -41.4275 \r\nL 318.284515 -41.4275 \r\nL 320.652624 -41.4275 \r\nL 323.020732 -41.4275 \r\nL 325.388841 -41.4275 \r\nL 327.756949 -41.4275 \r\nL 330.125058 -41.4275 \r\nL 332.493167 -41.4275 \r\nL 334.861275 -41.4275 \r\nL 337.229384 -41.4275 \r\nL 339.597493 -41.4275 \r\nL 341.965601 -41.4275 \r\nL 344.33371 -41.4275 \r\nL 346.701818 -41.4275 \r\nL 349.069927 -41.4275 \r\nL 351.438036 -41.4275 \r\nL 353.806144 -41.4275 \r\nL 356.174253 -41.4275 \r\nL 358.542362 -41.4275 \r\nL 360.91047 -41.4275 \r\nL 363.278579 -41.4275 \r\nL 365.646688 -41.4275 \r\nL 368.014796 -41.4275 \r\nL 370.382905 -41.4275 \r\nL 372.751013 -41.4275 \r\nL 375.119122 -41.4275 \r\nL 377.487231 -41.4275 \r\nL 379.855339 -41.4275 \r\nL 382.223448 -41.4275 \r\nL 384.591557 -41.4275 \r\nL 386.959665 -41.4275 \r\nL 389.327774 -41.4275 \r\nL 391.695882 -41.4275 \r\nL 394.063991 -41.4275 \r\nL 396.4321 -41.4275 \r\nL 398.800208 -41.4275 \r\nL 401.168317 -41.4275 \r\nL 403.536426 -41.4275 \r\nL 405.904534 -41.4275 \r\nL 408.272643 -41.4275 \r\nL 410.640752 -41.4275 \r\nL 413.00886 -41.4275 \r\nL 415.376969 -41.4275 \r\nL 417.745077 -41.4275 \r\nL 420.113186 -41.4275 \r\nL 422.481295 -41.4275 \r\nL 424.849403 -41.4275 \r\nL 427.217512 -41.4275 \r\nL 429.585621 -41.4275 \r\nL 431.953729 -41.4275 \r\nL 434.321838 -41.4275 \r\nL 436.689946 -41.4275 \r\nL 439.058055 -41.4275 \r\nL 441.426164 -41.4275 \r\nL 443.794272 -41.4275 \r\nL 446.162381 -41.4275 \r\nL 448.53049 -41.4275 \r\nL 450.898598 -41.4275 \r\nL 453.266707 -41.4275 \r\nL 455.634816 -41.4275 \r\nL 458.002924 -41.4275 \r\nL 460.371033 -41.4275 \r\nL 462.739141 -41.4275 \r\nL 465.10725 -41.4275 \r\nL 467.475359 -41.4275 \r\nL 469.843467 -41.4275 \r\nL 472.211576 -41.4275 \r\nL 474.579685 -41.4275 \r\nL 476.947793 -41.4275 \r\nL 479.315902 -41.4275 \r\nL 481.68401 -41.4275 \r\nL 484.052119 -41.4275 \r\nL 486.420228 -41.4275 \r\nL 488.788336 -41.4275 \r\nL 491.156445 -41.4275 \r\nL 493.524554 -41.4275 \r\nL 495.892662 -41.4275 \r\nL 498.260771 -41.4275 \r\nL 500.62888 -41.4275 \r\nL 502.996988 -41.4275 \r\nL 505.365097 -41.4275 \r\nL 507.733205 -41.4275 \r\nL 510.101314 -41.4275 \r\nL 512.469423 -41.4275 \r\nL 514.837531 -41.4275 \r\nL 517.20564 -41.4275 \r\nL 519.573749 -41.4275 \r\nL 521.941857 -41.4275 \r\nL 524.309966 -41.4275 \r\nL 526.678074 -41.4275 \r\nL 529.046183 -41.4275 \r\nL 531.414292 -41.4275 \r\nL 533.7824 -41.4275 \r\nL 536.150509 -41.4275 \r\nL 538.518618 -41.4275 \r\nL 540.886726 -41.4275 \r\nL 543.254835 -41.4275 \r\nL 545.622944 -41.4275 \r\nL 547.991052 -41.4275 \r\nL 550.359161 -41.4275 \r\nL 552.727269 -41.4275 \r\nL 552.727269 -41.427563 \r\nL 552.727269 -41.427563 \r\nL 550.359161 -41.428253 \r\nL 547.991052 -41.431121 \r\nL 545.622944 -41.434731 \r\nL 543.254835 -41.434322 \r\nL 540.886726 -41.433091 \r\nL 538.518618 -41.435654 \r\nL 536.150509 -41.438322 \r\nL 533.7824 -41.437967 \r\nL 531.414292 -41.442715 \r\nL 529.046183 -41.451702 \r\nL 526.678074 -41.448334 \r\nL 524.309966 -41.440603 \r\nL 521.941857 -41.442331 \r\nL 519.573749 -41.454038 \r\nL 517.20564 -41.472458 \r\nL 514.837531 -41.491626 \r\nL 512.469423 -41.525067 \r\nL 510.101314 -41.527474 \r\nL 507.733205 -41.491917 \r\nL 505.365097 -41.487076 \r\nL 502.996988 -41.525555 \r\nL 500.62888 -41.581519 \r\nL 498.260771 -41.575875 \r\nL 495.892662 -41.542456 \r\nL 493.524554 -41.554199 \r\nL 491.156445 -41.628929 \r\nL 488.788336 -41.743149 \r\nL 486.420228 -41.755248 \r\nL 484.052119 -41.729968 \r\nL 481.68401 -41.729325 \r\nL 479.315902 -41.75749 \r\nL 476.947793 -41.879522 \r\nL 474.579685 -42.172656 \r\nL 472.211576 -42.659419 \r\nL 469.843467 -42.8124 \r\nL 467.475359 -42.827741 \r\nL 465.10725 -42.964108 \r\nL 462.739141 -42.909983 \r\nL 460.371033 -43.015744 \r\nL 458.002924 -43.361435 \r\nL 455.634816 -43.948782 \r\nL 453.266707 -44.450656 \r\nL 450.898598 -44.974363 \r\nL 448.53049 -45.83091 \r\nL 446.162381 -46.374935 \r\nL 443.794272 -46.984488 \r\nL 441.426164 -47.871461 \r\nL 439.058055 -49.166118 \r\nL 436.689946 -50.663851 \r\nL 434.321838 -51.867213 \r\nL 431.953729 -53.639028 \r\nL 429.585621 -55.736217 \r\nL 427.217512 -58.719153 \r\nL 424.849403 -61.304331 \r\nL 422.481295 -62.37517 \r\nL 420.113186 -64.482697 \r\nL 417.745077 -68.05105 \r\nL 415.376969 -72.673046 \r\nL 413.00886 -77.027609 \r\nL 410.640752 -81.228585 \r\nL 408.272643 -86.394847 \r\nL 405.904534 -91.853473 \r\nL 403.536426 -97.945091 \r\nL 401.168317 -104.141961 \r\nL 398.800208 -110.883377 \r\nL 396.4321 -118.563803 \r\nL 394.063991 -126.830739 \r\nL 391.695882 -135.676175 \r\nL 389.327774 -143.090435 \r\nL 386.959665 -150.068187 \r\nL 384.591557 -157.831331 \r\nL 382.223448 -166.374362 \r\nL 379.855339 -175.471824 \r\nL 377.487231 -183.810682 \r\nL 375.119122 -191.252253 \r\nL 372.751013 -198.359765 \r\nL 370.382905 -206.055941 \r\nL 368.014796 -213.226345 \r\nL 365.646688 -218.477425 \r\nL 363.278579 -223.035246 \r\nL 360.91047 -226.534671 \r\nL 358.542362 -229.664839 \r\nL 356.174253 -232.22164 \r\nL 353.806144 -232.648619 \r\nL 351.438036 -231.749727 \r\nL 349.069927 -230.512077 \r\nL 346.701818 -229.864063 \r\nL 344.33371 -228.400383 \r\nL 341.965601 -225.116117 \r\nL 339.597493 -221.134042 \r\nL 337.229384 -216.830744 \r\nL 334.861275 -211.661682 \r\nL 332.493167 -205.395375 \r\nL 330.125058 -199.150149 \r\nL 327.756949 -193.187389 \r\nL 325.388841 -186.894412 \r\nL 323.020732 -180.852315 \r\nL 320.652624 -177.19036 \r\nL 318.284515 -176.925591 \r\nL 315.916406 -171.720612 \r\nL 313.548298 -160.828092 \r\nL 311.180189 -152.667797 \r\nL 308.81208 -146.526996 \r\nL 306.443972 -140.53034 \r\nL 304.075863 -135.134807 \r\nL 301.707754 -130.327504 \r\nL 299.339646 -125.812458 \r\nL 296.971537 -121.638893 \r\nL 294.603429 -117.281798 \r\nL 292.23532 -112.547732 \r\nL 289.867211 -108.382938 \r\nL 287.499103 -104.653126 \r\nL 285.130994 -100.51027 \r\nL 282.762885 -96.3016 \r\nL 280.394777 -92.442831 \r\nL 278.026668 -89.044122 \r\nL 275.658559 -85.909578 \r\nL 273.290451 -83.331935 \r\nL 270.922342 -81.257098 \r\nL 268.554234 -79.094495 \r\nL 266.186125 -76.907454 \r\nL 263.818016 -74.635865 \r\nL 261.449908 -72.288626 \r\nL 259.081799 -70.043933 \r\nL 256.71369 -68.125645 \r\nL 254.345582 -66.557299 \r\nL 251.977473 -64.694498 \r\nL 249.609365 -62.956247 \r\nL 247.241256 -61.48632 \r\nL 244.873147 -60.197414 \r\nL 242.505039 -59.070193 \r\nL 240.13693 -58.003054 \r\nL 237.768821 -57.174134 \r\nL 235.400713 -56.201353 \r\nL 233.032604 -55.201664 \r\nL 230.664495 -54.023402 \r\nL 228.296387 -52.718168 \r\nL 225.928278 -51.804046 \r\nL 223.56017 -50.925114 \r\nL 221.192061 -50.171789 \r\nL 218.823952 -49.501467 \r\nL 216.455844 -48.655559 \r\nL 214.087735 -47.902722 \r\nL 211.719626 -47.443 \r\nL 209.351518 -47.151829 \r\nL 206.983409 -46.639412 \r\nL 204.615301 -46.181021 \r\nL 202.247192 -45.738798 \r\nL 199.879083 -45.152101 \r\nL 197.510975 -44.744045 \r\nL 195.142866 -44.295727 \r\nL 192.774757 -43.921491 \r\nL 190.406649 -43.739609 \r\nL 188.03854 -43.632731 \r\nL 185.670431 -43.494781 \r\nL 183.302323 -43.246083 \r\nL 180.934214 -43.116948 \r\nL 178.566106 -43.06344 \r\nL 176.197997 -42.942605 \r\nL 173.829888 -42.786572 \r\nL 171.46178 -42.609936 \r\nL 169.093671 -42.446928 \r\nL 166.725562 -42.329342 \r\nL 164.357454 -42.256505 \r\nL 161.989345 -42.17428 \r\nL 159.621237 -42.078247 \r\nL 157.253128 -42.016755 \r\nL 154.885019 -41.980544 \r\nL 152.516911 -41.924237 \r\nL 150.148802 -41.839167 \r\nL 147.780693 -41.763985 \r\nL 145.412585 -41.741875 \r\nL 143.044476 -41.747571 \r\nL 140.676367 -41.746787 \r\nL 138.308259 -41.718669 \r\nL 135.94015 -41.685435 \r\nL 133.572042 -41.674041 \r\nL 131.203933 -41.660403 \r\nL 128.835824 -41.666221 \r\nL 126.467716 -41.7175 \r\nL 124.099607 -41.749746 \r\nL 121.731498 -41.743731 \r\nL 119.36339 -41.783383 \r\nL 116.995281 -41.78754 \r\nL 114.627173 -41.638897 \r\nL 112.259064 -41.520452 \r\nL 109.890955 -41.511874 \r\nL 107.522847 -41.559021 \r\nL 105.154738 -41.573806 \r\nL 102.786629 -41.535498 \r\nL 100.418521 -41.503955 \r\nL 98.050412 -41.474933 \r\nL 95.682303 -41.465479 \r\nL 93.314195 -41.609654 \r\nL 90.946086 -42.084312 \r\nL 88.577978 -42.381613 \r\nL 86.209869 -41.971284 \r\nL 83.84176 -41.548929 \r\nL 81.473652 -41.438122 \r\nz\r\n\" id=\"m47a9de9d90\" style=\"stroke:#008000;\"/>\r\n    </defs>\r\n    <g clip-path=\"url(#p115efd5abe)\">\r\n     <use style=\"fill:#008000;fill-opacity:0.25;stroke:#008000;\" x=\"0\" xlink:href=\"#m47a9de9d90\" y=\"501.665\"/>\r\n    </g>\r\n   </g>\r\n   <g id=\"matplotlib.axis_1\">\r\n    <g id=\"xtick_1\">\r\n     <g id=\"line2d_1\">\r\n      <defs>\r\n       <path d=\"M 0 0 \r\nL 0 3.5 \r\n\" id=\"m43b9db70b1\" style=\"stroke:#000000;stroke-width:0.8;\"/>\r\n      </defs>\r\n      <g>\r\n       <use style=\"stroke:#000000;stroke-width:0.8;\" x=\"88.811575\" xlink:href=\"#m43b9db70b1\" y=\"460.2375\"/>\r\n      </g>\r\n     </g>\r\n     <g id=\"text_1\">\r\n      <!-- −1.0 -->\r\n      <g transform=\"translate(76.670169 474.835937)scale(0.1 -0.1)\">\r\n       <defs>\r\n        <path d=\"M 10.59375 35.5 \r\nL 73.1875 35.5 \r\nL 73.1875 27.203125 \r\nL 10.59375 27.203125 \r\nz\r\n\" id=\"DejaVuSans-8722\"/>\r\n        <path d=\"M 12.40625 8.296875 \r\nL 28.515625 8.296875 \r\nL 28.515625 63.921875 \r\nL 10.984375 60.40625 \r\nL 10.984375 69.390625 \r\nL 28.421875 72.90625 \r\nL 38.28125 72.90625 \r\nL 38.28125 8.296875 \r\nL 54.390625 8.296875 \r\nL 54.390625 0 \r\nL 12.40625 0 \r\nz\r\n\" id=\"DejaVuSans-49\"/>\r\n        <path d=\"M 10.6875 12.40625 \r\nL 21 12.40625 \r\nL 21 0 \r\nL 10.6875 0 \r\nz\r\n\" id=\"DejaVuSans-46\"/>\r\n        <path d=\"M 31.78125 66.40625 \r\nQ 24.171875 66.40625 20.328125 58.90625 \r\nQ 16.5 51.421875 16.5 36.375 \r\nQ 16.5 21.390625 20.328125 13.890625 \r\nQ 24.171875 6.390625 31.78125 6.390625 \r\nQ 39.453125 6.390625 43.28125 13.890625 \r\nQ 47.125 21.390625 47.125 36.375 \r\nQ 47.125 51.421875 43.28125 58.90625 \r\nQ 39.453125 66.40625 31.78125 66.40625 \r\nz\r\nM 31.78125 74.21875 \r\nQ 44.046875 74.21875 50.515625 64.515625 \r\nQ 56.984375 54.828125 56.984375 36.375 \r\nQ 56.984375 17.96875 50.515625 8.265625 \r\nQ 44.046875 -1.421875 31.78125 -1.421875 \r\nQ 19.53125 -1.421875 13.0625 8.265625 \r\nQ 6.59375 17.96875 6.59375 36.375 \r\nQ 6.59375 54.828125 13.0625 64.515625 \r\nQ 19.53125 74.21875 31.78125 74.21875 \r\nz\r\n\" id=\"DejaVuSans-48\"/>\r\n       </defs>\r\n       <use xlink:href=\"#DejaVuSans-8722\"/>\r\n       <use x=\"83.789062\" xlink:href=\"#DejaVuSans-49\"/>\r\n       <use x=\"147.412109\" xlink:href=\"#DejaVuSans-46\"/>\r\n       <use x=\"179.199219\" xlink:href=\"#DejaVuSans-48\"/>\r\n      </g>\r\n     </g>\r\n    </g>\r\n    <g id=\"xtick_2\">\r\n     <g id=\"line2d_2\">\r\n      <g>\r\n       <use style=\"stroke:#000000;stroke-width:0.8;\" x=\"202.956018\" xlink:href=\"#m43b9db70b1\" y=\"460.2375\"/>\r\n      </g>\r\n     </g>\r\n     <g id=\"text_2\">\r\n      <!-- −0.5 -->\r\n      <g transform=\"translate(190.814612 474.835937)scale(0.1 -0.1)\">\r\n       <defs>\r\n        <path d=\"M 10.796875 72.90625 \r\nL 49.515625 72.90625 \r\nL 49.515625 64.59375 \r\nL 19.828125 64.59375 \r\nL 19.828125 46.734375 \r\nQ 21.96875 47.46875 24.109375 47.828125 \r\nQ 26.265625 48.1875 28.421875 48.1875 \r\nQ 40.625 48.1875 47.75 41.5 \r\nQ 54.890625 34.8125 54.890625 23.390625 \r\nQ 54.890625 11.625 47.5625 5.09375 \r\nQ 40.234375 -1.421875 26.90625 -1.421875 \r\nQ 22.3125 -1.421875 17.546875 -0.640625 \r\nQ 12.796875 0.140625 7.71875 1.703125 \r\nL 7.71875 11.625 \r\nQ 12.109375 9.234375 16.796875 8.0625 \r\nQ 21.484375 6.890625 26.703125 6.890625 \r\nQ 35.15625 6.890625 40.078125 11.328125 \r\nQ 45.015625 15.765625 45.015625 23.390625 \r\nQ 45.015625 31 40.078125 35.4375 \r\nQ 35.15625 39.890625 26.703125 39.890625 \r\nQ 22.75 39.890625 18.8125 39.015625 \r\nQ 14.890625 38.140625 10.796875 36.28125 \r\nz\r\n\" id=\"DejaVuSans-53\"/>\r\n       </defs>\r\n       <use xlink:href=\"#DejaVuSans-8722\"/>\r\n       <use x=\"83.789062\" xlink:href=\"#DejaVuSans-48\"/>\r\n       <use x=\"147.412109\" xlink:href=\"#DejaVuSans-46\"/>\r\n       <use x=\"179.199219\" xlink:href=\"#DejaVuSans-53\"/>\r\n      </g>\r\n     </g>\r\n    </g>\r\n    <g id=\"xtick_3\">\r\n     <g id=\"line2d_3\">\r\n      <g>\r\n       <use style=\"stroke:#000000;stroke-width:0.8;\" x=\"317.100461\" xlink:href=\"#m43b9db70b1\" y=\"460.2375\"/>\r\n      </g>\r\n     </g>\r\n     <g id=\"text_3\">\r\n      <!-- 0.0 -->\r\n      <g transform=\"translate(309.148898 474.835937)scale(0.1 -0.1)\">\r\n       <use xlink:href=\"#DejaVuSans-48\"/>\r\n       <use x=\"63.623047\" xlink:href=\"#DejaVuSans-46\"/>\r\n       <use x=\"95.410156\" xlink:href=\"#DejaVuSans-48\"/>\r\n      </g>\r\n     </g>\r\n    </g>\r\n    <g id=\"xtick_4\">\r\n     <g id=\"line2d_4\">\r\n      <g>\r\n       <use style=\"stroke:#000000;stroke-width:0.8;\" x=\"431.244903\" xlink:href=\"#m43b9db70b1\" y=\"460.2375\"/>\r\n      </g>\r\n     </g>\r\n     <g id=\"text_4\">\r\n      <!-- 0.5 -->\r\n      <g transform=\"translate(423.293341 474.835937)scale(0.1 -0.1)\">\r\n       <use xlink:href=\"#DejaVuSans-48\"/>\r\n       <use x=\"63.623047\" xlink:href=\"#DejaVuSans-46\"/>\r\n       <use x=\"95.410156\" xlink:href=\"#DejaVuSans-53\"/>\r\n      </g>\r\n     </g>\r\n    </g>\r\n    <g id=\"xtick_5\">\r\n     <g id=\"line2d_5\">\r\n      <g>\r\n       <use style=\"stroke:#000000;stroke-width:0.8;\" x=\"545.389346\" xlink:href=\"#m43b9db70b1\" y=\"460.2375\"/>\r\n      </g>\r\n     </g>\r\n     <g id=\"text_5\">\r\n      <!-- 1.0 -->\r\n      <g transform=\"translate(537.437784 474.835937)scale(0.1 -0.1)\">\r\n       <use xlink:href=\"#DejaVuSans-49\"/>\r\n       <use x=\"63.623047\" xlink:href=\"#DejaVuSans-46\"/>\r\n       <use x=\"95.410156\" xlink:href=\"#DejaVuSans-48\"/>\r\n      </g>\r\n     </g>\r\n    </g>\r\n    <g id=\"text_6\">\r\n     <!-- Polarity Score -->\r\n     <g transform=\"translate(269.089687 491.553437)scale(0.14 -0.14)\">\r\n      <defs>\r\n       <path d=\"M 19.671875 64.796875 \r\nL 19.671875 37.40625 \r\nL 32.078125 37.40625 \r\nQ 38.96875 37.40625 42.71875 40.96875 \r\nQ 46.484375 44.53125 46.484375 51.125 \r\nQ 46.484375 57.671875 42.71875 61.234375 \r\nQ 38.96875 64.796875 32.078125 64.796875 \r\nz\r\nM 9.8125 72.90625 \r\nL 32.078125 72.90625 \r\nQ 44.34375 72.90625 50.609375 67.359375 \r\nQ 56.890625 61.8125 56.890625 51.125 \r\nQ 56.890625 40.328125 50.609375 34.8125 \r\nQ 44.34375 29.296875 32.078125 29.296875 \r\nL 19.671875 29.296875 \r\nL 19.671875 0 \r\nL 9.8125 0 \r\nz\r\n\" id=\"DejaVuSans-80\"/>\r\n       <path d=\"M 30.609375 48.390625 \r\nQ 23.390625 48.390625 19.1875 42.75 \r\nQ 14.984375 37.109375 14.984375 27.296875 \r\nQ 14.984375 17.484375 19.15625 11.84375 \r\nQ 23.34375 6.203125 30.609375 6.203125 \r\nQ 37.796875 6.203125 41.984375 11.859375 \r\nQ 46.1875 17.53125 46.1875 27.296875 \r\nQ 46.1875 37.015625 41.984375 42.703125 \r\nQ 37.796875 48.390625 30.609375 48.390625 \r\nz\r\nM 30.609375 56 \r\nQ 42.328125 56 49.015625 48.375 \r\nQ 55.71875 40.765625 55.71875 27.296875 \r\nQ 55.71875 13.875 49.015625 6.21875 \r\nQ 42.328125 -1.421875 30.609375 -1.421875 \r\nQ 18.84375 -1.421875 12.171875 6.21875 \r\nQ 5.515625 13.875 5.515625 27.296875 \r\nQ 5.515625 40.765625 12.171875 48.375 \r\nQ 18.84375 56 30.609375 56 \r\nz\r\n\" id=\"DejaVuSans-111\"/>\r\n       <path d=\"M 9.421875 75.984375 \r\nL 18.40625 75.984375 \r\nL 18.40625 0 \r\nL 9.421875 0 \r\nz\r\n\" id=\"DejaVuSans-108\"/>\r\n       <path d=\"M 34.28125 27.484375 \r\nQ 23.390625 27.484375 19.1875 25 \r\nQ 14.984375 22.515625 14.984375 16.5 \r\nQ 14.984375 11.71875 18.140625 8.90625 \r\nQ 21.296875 6.109375 26.703125 6.109375 \r\nQ 34.1875 6.109375 38.703125 11.40625 \r\nQ 43.21875 16.703125 43.21875 25.484375 \r\nL 43.21875 27.484375 \r\nz\r\nM 52.203125 31.203125 \r\nL 52.203125 0 \r\nL 43.21875 0 \r\nL 43.21875 8.296875 \r\nQ 40.140625 3.328125 35.546875 0.953125 \r\nQ 30.953125 -1.421875 24.3125 -1.421875 \r\nQ 15.921875 -1.421875 10.953125 3.296875 \r\nQ 6 8.015625 6 15.921875 \r\nQ 6 25.140625 12.171875 29.828125 \r\nQ 18.359375 34.515625 30.609375 34.515625 \r\nL 43.21875 34.515625 \r\nL 43.21875 35.40625 \r\nQ 43.21875 41.609375 39.140625 45 \r\nQ 35.0625 48.390625 27.6875 48.390625 \r\nQ 23 48.390625 18.546875 47.265625 \r\nQ 14.109375 46.140625 10.015625 43.890625 \r\nL 10.015625 52.203125 \r\nQ 14.9375 54.109375 19.578125 55.046875 \r\nQ 24.21875 56 28.609375 56 \r\nQ 40.484375 56 46.34375 49.84375 \r\nQ 52.203125 43.703125 52.203125 31.203125 \r\nz\r\n\" id=\"DejaVuSans-97\"/>\r\n       <path d=\"M 41.109375 46.296875 \r\nQ 39.59375 47.171875 37.8125 47.578125 \r\nQ 36.03125 48 33.890625 48 \r\nQ 26.265625 48 22.1875 43.046875 \r\nQ 18.109375 38.09375 18.109375 28.8125 \r\nL 18.109375 0 \r\nL 9.078125 0 \r\nL 9.078125 54.6875 \r\nL 18.109375 54.6875 \r\nL 18.109375 46.1875 \r\nQ 20.953125 51.171875 25.484375 53.578125 \r\nQ 30.03125 56 36.53125 56 \r\nQ 37.453125 56 38.578125 55.875 \r\nQ 39.703125 55.765625 41.0625 55.515625 \r\nz\r\n\" id=\"DejaVuSans-114\"/>\r\n       <path d=\"M 9.421875 54.6875 \r\nL 18.40625 54.6875 \r\nL 18.40625 0 \r\nL 9.421875 0 \r\nz\r\nM 9.421875 75.984375 \r\nL 18.40625 75.984375 \r\nL 18.40625 64.59375 \r\nL 9.421875 64.59375 \r\nz\r\n\" id=\"DejaVuSans-105\"/>\r\n       <path d=\"M 18.3125 70.21875 \r\nL 18.3125 54.6875 \r\nL 36.8125 54.6875 \r\nL 36.8125 47.703125 \r\nL 18.3125 47.703125 \r\nL 18.3125 18.015625 \r\nQ 18.3125 11.328125 20.140625 9.421875 \r\nQ 21.96875 7.515625 27.59375 7.515625 \r\nL 36.8125 7.515625 \r\nL 36.8125 0 \r\nL 27.59375 0 \r\nQ 17.1875 0 13.234375 3.875 \r\nQ 9.28125 7.765625 9.28125 18.015625 \r\nL 9.28125 47.703125 \r\nL 2.6875 47.703125 \r\nL 2.6875 54.6875 \r\nL 9.28125 54.6875 \r\nL 9.28125 70.21875 \r\nz\r\n\" id=\"DejaVuSans-116\"/>\r\n       <path d=\"M 32.171875 -5.078125 \r\nQ 28.375 -14.84375 24.75 -17.8125 \r\nQ 21.140625 -20.796875 15.09375 -20.796875 \r\nL 7.90625 -20.796875 \r\nL 7.90625 -13.28125 \r\nL 13.1875 -13.28125 \r\nQ 16.890625 -13.28125 18.9375 -11.515625 \r\nQ 21 -9.765625 23.484375 -3.21875 \r\nL 25.09375 0.875 \r\nL 2.984375 54.6875 \r\nL 12.5 54.6875 \r\nL 29.59375 11.921875 \r\nL 46.6875 54.6875 \r\nL 56.203125 54.6875 \r\nz\r\n\" id=\"DejaVuSans-121\"/>\r\n       <path id=\"DejaVuSans-32\"/>\r\n       <path d=\"M 53.515625 70.515625 \r\nL 53.515625 60.890625 \r\nQ 47.90625 63.578125 42.921875 64.890625 \r\nQ 37.9375 66.21875 33.296875 66.21875 \r\nQ 25.25 66.21875 20.875 63.09375 \r\nQ 16.5 59.96875 16.5 54.203125 \r\nQ 16.5 49.359375 19.40625 46.890625 \r\nQ 22.3125 44.4375 30.421875 42.921875 \r\nL 36.375 41.703125 \r\nQ 47.40625 39.59375 52.65625 34.296875 \r\nQ 57.90625 29 57.90625 20.125 \r\nQ 57.90625 9.515625 50.796875 4.046875 \r\nQ 43.703125 -1.421875 29.984375 -1.421875 \r\nQ 24.8125 -1.421875 18.96875 -0.25 \r\nQ 13.140625 0.921875 6.890625 3.21875 \r\nL 6.890625 13.375 \r\nQ 12.890625 10.015625 18.65625 8.296875 \r\nQ 24.421875 6.59375 29.984375 6.59375 \r\nQ 38.421875 6.59375 43.015625 9.90625 \r\nQ 47.609375 13.234375 47.609375 19.390625 \r\nQ 47.609375 24.75 44.3125 27.78125 \r\nQ 41.015625 30.8125 33.5 32.328125 \r\nL 27.484375 33.5 \r\nQ 16.453125 35.6875 11.515625 40.375 \r\nQ 6.59375 45.0625 6.59375 53.421875 \r\nQ 6.59375 63.09375 13.40625 68.65625 \r\nQ 20.21875 74.21875 32.171875 74.21875 \r\nQ 37.3125 74.21875 42.625 73.28125 \r\nQ 47.953125 72.359375 53.515625 70.515625 \r\nz\r\n\" id=\"DejaVuSans-83\"/>\r\n       <path d=\"M 48.78125 52.59375 \r\nL 48.78125 44.1875 \r\nQ 44.96875 46.296875 41.140625 47.34375 \r\nQ 37.3125 48.390625 33.40625 48.390625 \r\nQ 24.65625 48.390625 19.8125 42.84375 \r\nQ 14.984375 37.3125 14.984375 27.296875 \r\nQ 14.984375 17.28125 19.8125 11.734375 \r\nQ 24.65625 6.203125 33.40625 6.203125 \r\nQ 37.3125 6.203125 41.140625 7.25 \r\nQ 44.96875 8.296875 48.78125 10.40625 \r\nL 48.78125 2.09375 \r\nQ 45.015625 0.34375 40.984375 -0.53125 \r\nQ 36.96875 -1.421875 32.421875 -1.421875 \r\nQ 20.0625 -1.421875 12.78125 6.34375 \r\nQ 5.515625 14.109375 5.515625 27.296875 \r\nQ 5.515625 40.671875 12.859375 48.328125 \r\nQ 20.21875 56 33.015625 56 \r\nQ 37.15625 56 41.109375 55.140625 \r\nQ 45.0625 54.296875 48.78125 52.59375 \r\nz\r\n\" id=\"DejaVuSans-99\"/>\r\n       <path d=\"M 56.203125 29.59375 \r\nL 56.203125 25.203125 \r\nL 14.890625 25.203125 \r\nQ 15.484375 15.921875 20.484375 11.0625 \r\nQ 25.484375 6.203125 34.421875 6.203125 \r\nQ 39.59375 6.203125 44.453125 7.46875 \r\nQ 49.3125 8.734375 54.109375 11.28125 \r\nL 54.109375 2.78125 \r\nQ 49.265625 0.734375 44.1875 -0.34375 \r\nQ 39.109375 -1.421875 33.890625 -1.421875 \r\nQ 20.796875 -1.421875 13.15625 6.1875 \r\nQ 5.515625 13.8125 5.515625 26.8125 \r\nQ 5.515625 40.234375 12.765625 48.109375 \r\nQ 20.015625 56 32.328125 56 \r\nQ 43.359375 56 49.78125 48.890625 \r\nQ 56.203125 41.796875 56.203125 29.59375 \r\nz\r\nM 47.21875 32.234375 \r\nQ 47.125 39.59375 43.09375 43.984375 \r\nQ 39.0625 48.390625 32.421875 48.390625 \r\nQ 24.90625 48.390625 20.390625 44.140625 \r\nQ 15.875 39.890625 15.1875 32.171875 \r\nz\r\n\" id=\"DejaVuSans-101\"/>\r\n      </defs>\r\n      <use xlink:href=\"#DejaVuSans-80\"/>\r\n      <use x=\"56.677734\" xlink:href=\"#DejaVuSans-111\"/>\r\n      <use x=\"117.859375\" xlink:href=\"#DejaVuSans-108\"/>\r\n      <use x=\"145.642578\" xlink:href=\"#DejaVuSans-97\"/>\r\n      <use x=\"206.921875\" xlink:href=\"#DejaVuSans-114\"/>\r\n      <use x=\"248.035156\" xlink:href=\"#DejaVuSans-105\"/>\r\n      <use x=\"275.818359\" xlink:href=\"#DejaVuSans-116\"/>\r\n      <use x=\"315.027344\" xlink:href=\"#DejaVuSans-121\"/>\r\n      <use x=\"374.207031\" xlink:href=\"#DejaVuSans-32\"/>\r\n      <use x=\"405.994141\" xlink:href=\"#DejaVuSans-83\"/>\r\n      <use x=\"469.470703\" xlink:href=\"#DejaVuSans-99\"/>\r\n      <use x=\"524.451172\" xlink:href=\"#DejaVuSans-111\"/>\r\n      <use x=\"585.632812\" xlink:href=\"#DejaVuSans-114\"/>\r\n      <use x=\"624.496094\" xlink:href=\"#DejaVuSans-101\"/>\r\n     </g>\r\n    </g>\r\n   </g>\r\n   <g id=\"matplotlib.axis_2\">\r\n    <g id=\"ytick_1\">\r\n     <g id=\"line2d_6\">\r\n      <defs>\r\n       <path d=\"M 0 0 \r\nL -3.5 0 \r\n\" id=\"m92638a190a\" style=\"stroke:#000000;stroke-width:0.8;\"/>\r\n      </defs>\r\n      <g>\r\n       <use style=\"stroke:#000000;stroke-width:0.8;\" x=\"38.111875\" xlink:href=\"#m92638a190a\" y=\"460.2375\"/>\r\n      </g>\r\n     </g>\r\n     <g id=\"text_7\">\r\n      <!-- 0 -->\r\n      <g transform=\"translate(24.749375 464.036719)scale(0.1 -0.1)\">\r\n       <use xlink:href=\"#DejaVuSans-48\"/>\r\n      </g>\r\n     </g>\r\n    </g>\r\n    <g id=\"ytick_2\">\r\n     <g id=\"line2d_7\">\r\n      <g>\r\n       <use style=\"stroke:#000000;stroke-width:0.8;\" x=\"38.111875\" xlink:href=\"#m92638a190a\" y=\"378.458647\"/>\r\n      </g>\r\n     </g>\r\n     <g id=\"text_8\">\r\n      <!-- 1 -->\r\n      <g transform=\"translate(24.749375 382.257866)scale(0.1 -0.1)\">\r\n       <use xlink:href=\"#DejaVuSans-49\"/>\r\n      </g>\r\n     </g>\r\n    </g>\r\n    <g id=\"ytick_3\">\r\n     <g id=\"line2d_8\">\r\n      <g>\r\n       <use style=\"stroke:#000000;stroke-width:0.8;\" x=\"38.111875\" xlink:href=\"#m92638a190a\" y=\"296.679794\"/>\r\n      </g>\r\n     </g>\r\n     <g id=\"text_9\">\r\n      <!-- 2 -->\r\n      <g transform=\"translate(24.749375 300.479012)scale(0.1 -0.1)\">\r\n       <defs>\r\n        <path d=\"M 19.1875 8.296875 \r\nL 53.609375 8.296875 \r\nL 53.609375 0 \r\nL 7.328125 0 \r\nL 7.328125 8.296875 \r\nQ 12.9375 14.109375 22.625 23.890625 \r\nQ 32.328125 33.6875 34.8125 36.53125 \r\nQ 39.546875 41.84375 41.421875 45.53125 \r\nQ 43.3125 49.21875 43.3125 52.78125 \r\nQ 43.3125 58.59375 39.234375 62.25 \r\nQ 35.15625 65.921875 28.609375 65.921875 \r\nQ 23.96875 65.921875 18.8125 64.3125 \r\nQ 13.671875 62.703125 7.8125 59.421875 \r\nL 7.8125 69.390625 \r\nQ 13.765625 71.78125 18.9375 73 \r\nQ 24.125 74.21875 28.421875 74.21875 \r\nQ 39.75 74.21875 46.484375 68.546875 \r\nQ 53.21875 62.890625 53.21875 53.421875 \r\nQ 53.21875 48.921875 51.53125 44.890625 \r\nQ 49.859375 40.875 45.40625 35.40625 \r\nQ 44.1875 33.984375 37.640625 27.21875 \r\nQ 31.109375 20.453125 19.1875 8.296875 \r\nz\r\n\" id=\"DejaVuSans-50\"/>\r\n       </defs>\r\n       <use xlink:href=\"#DejaVuSans-50\"/>\r\n      </g>\r\n     </g>\r\n    </g>\r\n    <g id=\"ytick_4\">\r\n     <g id=\"line2d_9\">\r\n      <g>\r\n       <use style=\"stroke:#000000;stroke-width:0.8;\" x=\"38.111875\" xlink:href=\"#m92638a190a\" y=\"214.90094\"/>\r\n      </g>\r\n     </g>\r\n     <g id=\"text_10\">\r\n      <!-- 3 -->\r\n      <g transform=\"translate(24.749375 218.700159)scale(0.1 -0.1)\">\r\n       <defs>\r\n        <path d=\"M 40.578125 39.3125 \r\nQ 47.65625 37.796875 51.625 33 \r\nQ 55.609375 28.21875 55.609375 21.1875 \r\nQ 55.609375 10.40625 48.1875 4.484375 \r\nQ 40.765625 -1.421875 27.09375 -1.421875 \r\nQ 22.515625 -1.421875 17.65625 -0.515625 \r\nQ 12.796875 0.390625 7.625 2.203125 \r\nL 7.625 11.71875 \r\nQ 11.71875 9.328125 16.59375 8.109375 \r\nQ 21.484375 6.890625 26.8125 6.890625 \r\nQ 36.078125 6.890625 40.9375 10.546875 \r\nQ 45.796875 14.203125 45.796875 21.1875 \r\nQ 45.796875 27.640625 41.28125 31.265625 \r\nQ 36.765625 34.90625 28.71875 34.90625 \r\nL 20.21875 34.90625 \r\nL 20.21875 43.015625 \r\nL 29.109375 43.015625 \r\nQ 36.375 43.015625 40.234375 45.921875 \r\nQ 44.09375 48.828125 44.09375 54.296875 \r\nQ 44.09375 59.90625 40.109375 62.90625 \r\nQ 36.140625 65.921875 28.71875 65.921875 \r\nQ 24.65625 65.921875 20.015625 65.03125 \r\nQ 15.375 64.15625 9.8125 62.3125 \r\nL 9.8125 71.09375 \r\nQ 15.4375 72.65625 20.34375 73.4375 \r\nQ 25.25 74.21875 29.59375 74.21875 \r\nQ 40.828125 74.21875 47.359375 69.109375 \r\nQ 53.90625 64.015625 53.90625 55.328125 \r\nQ 53.90625 49.265625 50.4375 45.09375 \r\nQ 46.96875 40.921875 40.578125 39.3125 \r\nz\r\n\" id=\"DejaVuSans-51\"/>\r\n       </defs>\r\n       <use xlink:href=\"#DejaVuSans-51\"/>\r\n      </g>\r\n     </g>\r\n    </g>\r\n    <g id=\"ytick_5\">\r\n     <g id=\"line2d_10\">\r\n      <g>\r\n       <use style=\"stroke:#000000;stroke-width:0.8;\" x=\"38.111875\" xlink:href=\"#m92638a190a\" y=\"133.122087\"/>\r\n      </g>\r\n     </g>\r\n     <g id=\"text_11\">\r\n      <!-- 4 -->\r\n      <g transform=\"translate(24.749375 136.921306)scale(0.1 -0.1)\">\r\n       <defs>\r\n        <path d=\"M 37.796875 64.3125 \r\nL 12.890625 25.390625 \r\nL 37.796875 25.390625 \r\nz\r\nM 35.203125 72.90625 \r\nL 47.609375 72.90625 \r\nL 47.609375 25.390625 \r\nL 58.015625 25.390625 \r\nL 58.015625 17.1875 \r\nL 47.609375 17.1875 \r\nL 47.609375 0 \r\nL 37.796875 0 \r\nL 37.796875 17.1875 \r\nL 4.890625 17.1875 \r\nL 4.890625 26.703125 \r\nz\r\n\" id=\"DejaVuSans-52\"/>\r\n       </defs>\r\n       <use xlink:href=\"#DejaVuSans-52\"/>\r\n      </g>\r\n     </g>\r\n    </g>\r\n    <g id=\"ytick_6\">\r\n     <g id=\"line2d_11\">\r\n      <g>\r\n       <use style=\"stroke:#000000;stroke-width:0.8;\" x=\"38.111875\" xlink:href=\"#m92638a190a\" y=\"51.343234\"/>\r\n      </g>\r\n     </g>\r\n     <g id=\"text_12\">\r\n      <!-- 5 -->\r\n      <g transform=\"translate(24.749375 55.142453)scale(0.1 -0.1)\">\r\n       <use xlink:href=\"#DejaVuSans-53\"/>\r\n      </g>\r\n     </g>\r\n    </g>\r\n    <g id=\"text_13\">\r\n     <!-- Density -->\r\n     <g transform=\"translate(17.837812 269.409531)rotate(-90)scale(0.14 -0.14)\">\r\n      <defs>\r\n       <path d=\"M 19.671875 64.796875 \r\nL 19.671875 8.109375 \r\nL 31.59375 8.109375 \r\nQ 46.6875 8.109375 53.6875 14.9375 \r\nQ 60.6875 21.78125 60.6875 36.53125 \r\nQ 60.6875 51.171875 53.6875 57.984375 \r\nQ 46.6875 64.796875 31.59375 64.796875 \r\nz\r\nM 9.8125 72.90625 \r\nL 30.078125 72.90625 \r\nQ 51.265625 72.90625 61.171875 64.09375 \r\nQ 71.09375 55.28125 71.09375 36.53125 \r\nQ 71.09375 17.671875 61.125 8.828125 \r\nQ 51.171875 0 30.078125 0 \r\nL 9.8125 0 \r\nz\r\n\" id=\"DejaVuSans-68\"/>\r\n       <path d=\"M 54.890625 33.015625 \r\nL 54.890625 0 \r\nL 45.90625 0 \r\nL 45.90625 32.71875 \r\nQ 45.90625 40.484375 42.875 44.328125 \r\nQ 39.84375 48.1875 33.796875 48.1875 \r\nQ 26.515625 48.1875 22.3125 43.546875 \r\nQ 18.109375 38.921875 18.109375 30.90625 \r\nL 18.109375 0 \r\nL 9.078125 0 \r\nL 9.078125 54.6875 \r\nL 18.109375 54.6875 \r\nL 18.109375 46.1875 \r\nQ 21.34375 51.125 25.703125 53.5625 \r\nQ 30.078125 56 35.796875 56 \r\nQ 45.21875 56 50.046875 50.171875 \r\nQ 54.890625 44.34375 54.890625 33.015625 \r\nz\r\n\" id=\"DejaVuSans-110\"/>\r\n       <path d=\"M 44.28125 53.078125 \r\nL 44.28125 44.578125 \r\nQ 40.484375 46.53125 36.375 47.5 \r\nQ 32.28125 48.484375 27.875 48.484375 \r\nQ 21.1875 48.484375 17.84375 46.4375 \r\nQ 14.5 44.390625 14.5 40.28125 \r\nQ 14.5 37.15625 16.890625 35.375 \r\nQ 19.28125 33.59375 26.515625 31.984375 \r\nL 29.59375 31.296875 \r\nQ 39.15625 29.25 43.1875 25.515625 \r\nQ 47.21875 21.78125 47.21875 15.09375 \r\nQ 47.21875 7.46875 41.1875 3.015625 \r\nQ 35.15625 -1.421875 24.609375 -1.421875 \r\nQ 20.21875 -1.421875 15.453125 -0.5625 \r\nQ 10.6875 0.296875 5.421875 2 \r\nL 5.421875 11.28125 \r\nQ 10.40625 8.6875 15.234375 7.390625 \r\nQ 20.0625 6.109375 24.8125 6.109375 \r\nQ 31.15625 6.109375 34.5625 8.28125 \r\nQ 37.984375 10.453125 37.984375 14.40625 \r\nQ 37.984375 18.0625 35.515625 20.015625 \r\nQ 33.0625 21.96875 24.703125 23.78125 \r\nL 21.578125 24.515625 \r\nQ 13.234375 26.265625 9.515625 29.90625 \r\nQ 5.8125 33.546875 5.8125 39.890625 \r\nQ 5.8125 47.609375 11.28125 51.796875 \r\nQ 16.75 56 26.8125 56 \r\nQ 31.78125 56 36.171875 55.265625 \r\nQ 40.578125 54.546875 44.28125 53.078125 \r\nz\r\n\" id=\"DejaVuSans-115\"/>\r\n      </defs>\r\n      <use xlink:href=\"#DejaVuSans-68\"/>\r\n      <use x=\"77.001953\" xlink:href=\"#DejaVuSans-101\"/>\r\n      <use x=\"138.525391\" xlink:href=\"#DejaVuSans-110\"/>\r\n      <use x=\"201.904297\" xlink:href=\"#DejaVuSans-115\"/>\r\n      <use x=\"254.003906\" xlink:href=\"#DejaVuSans-105\"/>\r\n      <use x=\"281.787109\" xlink:href=\"#DejaVuSans-116\"/>\r\n      <use x=\"320.996094\" xlink:href=\"#DejaVuSans-121\"/>\r\n     </g>\r\n    </g>\r\n   </g>\r\n   <g id=\"patch_3\">\r\n    <path d=\"M 38.111875 460.2375 \r\nL 38.111875 25.3575 \r\n\" style=\"fill:none;stroke:#000000;stroke-linecap:square;stroke-linejoin:miter;stroke-width:0.8;\"/>\r\n   </g>\r\n   <g id=\"patch_4\">\r\n    <path d=\"M 38.111875 460.2375 \r\nL 596.111875 460.2375 \r\n\" style=\"fill:none;stroke:#000000;stroke-linecap:square;stroke-linejoin:miter;stroke-width:0.8;\"/>\r\n   </g>\r\n   <g id=\"text_14\">\r\n    <!-- German: Density of the Original Vader Polarity vs Adjusted Vader Polarity -->\r\n    <g transform=\"translate(24.524375 19.3575)scale(0.16 -0.16)\">\r\n     <defs>\r\n      <path d=\"M 59.515625 10.40625 \r\nL 59.515625 29.984375 \r\nL 43.40625 29.984375 \r\nL 43.40625 38.09375 \r\nL 69.28125 38.09375 \r\nL 69.28125 6.78125 \r\nQ 63.578125 2.734375 56.6875 0.65625 \r\nQ 49.8125 -1.421875 42 -1.421875 \r\nQ 24.90625 -1.421875 15.25 8.5625 \r\nQ 5.609375 18.5625 5.609375 36.375 \r\nQ 5.609375 54.25 15.25 64.234375 \r\nQ 24.90625 74.21875 42 74.21875 \r\nQ 49.125 74.21875 55.546875 72.453125 \r\nQ 61.96875 70.703125 67.390625 67.28125 \r\nL 67.390625 56.78125 \r\nQ 61.921875 61.421875 55.765625 63.765625 \r\nQ 49.609375 66.109375 42.828125 66.109375 \r\nQ 29.4375 66.109375 22.71875 58.640625 \r\nQ 16.015625 51.171875 16.015625 36.375 \r\nQ 16.015625 21.625 22.71875 14.15625 \r\nQ 29.4375 6.6875 42.828125 6.6875 \r\nQ 48.046875 6.6875 52.140625 7.59375 \r\nQ 56.25 8.5 59.515625 10.40625 \r\nz\r\n\" id=\"DejaVuSans-71\"/>\r\n      <path d=\"M 52 44.1875 \r\nQ 55.375 50.25 60.0625 53.125 \r\nQ 64.75 56 71.09375 56 \r\nQ 79.640625 56 84.28125 50.015625 \r\nQ 88.921875 44.046875 88.921875 33.015625 \r\nL 88.921875 0 \r\nL 79.890625 0 \r\nL 79.890625 32.71875 \r\nQ 79.890625 40.578125 77.09375 44.375 \r\nQ 74.3125 48.1875 68.609375 48.1875 \r\nQ 61.625 48.1875 57.5625 43.546875 \r\nQ 53.515625 38.921875 53.515625 30.90625 \r\nL 53.515625 0 \r\nL 44.484375 0 \r\nL 44.484375 32.71875 \r\nQ 44.484375 40.625 41.703125 44.40625 \r\nQ 38.921875 48.1875 33.109375 48.1875 \r\nQ 26.21875 48.1875 22.15625 43.53125 \r\nQ 18.109375 38.875 18.109375 30.90625 \r\nL 18.109375 0 \r\nL 9.078125 0 \r\nL 9.078125 54.6875 \r\nL 18.109375 54.6875 \r\nL 18.109375 46.1875 \r\nQ 21.1875 51.21875 25.484375 53.609375 \r\nQ 29.78125 56 35.6875 56 \r\nQ 41.65625 56 45.828125 52.96875 \r\nQ 50 49.953125 52 44.1875 \r\nz\r\n\" id=\"DejaVuSans-109\"/>\r\n      <path d=\"M 11.71875 12.40625 \r\nL 22.015625 12.40625 \r\nL 22.015625 0 \r\nL 11.71875 0 \r\nz\r\nM 11.71875 51.703125 \r\nL 22.015625 51.703125 \r\nL 22.015625 39.3125 \r\nL 11.71875 39.3125 \r\nz\r\n\" id=\"DejaVuSans-58\"/>\r\n      <path d=\"M 37.109375 75.984375 \r\nL 37.109375 68.5 \r\nL 28.515625 68.5 \r\nQ 23.6875 68.5 21.796875 66.546875 \r\nQ 19.921875 64.59375 19.921875 59.515625 \r\nL 19.921875 54.6875 \r\nL 34.71875 54.6875 \r\nL 34.71875 47.703125 \r\nL 19.921875 47.703125 \r\nL 19.921875 0 \r\nL 10.890625 0 \r\nL 10.890625 47.703125 \r\nL 2.296875 47.703125 \r\nL 2.296875 54.6875 \r\nL 10.890625 54.6875 \r\nL 10.890625 58.5 \r\nQ 10.890625 67.625 15.140625 71.796875 \r\nQ 19.390625 75.984375 28.609375 75.984375 \r\nz\r\n\" id=\"DejaVuSans-102\"/>\r\n      <path d=\"M 54.890625 33.015625 \r\nL 54.890625 0 \r\nL 45.90625 0 \r\nL 45.90625 32.71875 \r\nQ 45.90625 40.484375 42.875 44.328125 \r\nQ 39.84375 48.1875 33.796875 48.1875 \r\nQ 26.515625 48.1875 22.3125 43.546875 \r\nQ 18.109375 38.921875 18.109375 30.90625 \r\nL 18.109375 0 \r\nL 9.078125 0 \r\nL 9.078125 75.984375 \r\nL 18.109375 75.984375 \r\nL 18.109375 46.1875 \r\nQ 21.34375 51.125 25.703125 53.5625 \r\nQ 30.078125 56 35.796875 56 \r\nQ 45.21875 56 50.046875 50.171875 \r\nQ 54.890625 44.34375 54.890625 33.015625 \r\nz\r\n\" id=\"DejaVuSans-104\"/>\r\n      <path d=\"M 39.40625 66.21875 \r\nQ 28.65625 66.21875 22.328125 58.203125 \r\nQ 16.015625 50.203125 16.015625 36.375 \r\nQ 16.015625 22.609375 22.328125 14.59375 \r\nQ 28.65625 6.59375 39.40625 6.59375 \r\nQ 50.140625 6.59375 56.421875 14.59375 \r\nQ 62.703125 22.609375 62.703125 36.375 \r\nQ 62.703125 50.203125 56.421875 58.203125 \r\nQ 50.140625 66.21875 39.40625 66.21875 \r\nz\r\nM 39.40625 74.21875 \r\nQ 54.734375 74.21875 63.90625 63.9375 \r\nQ 73.09375 53.65625 73.09375 36.375 \r\nQ 73.09375 19.140625 63.90625 8.859375 \r\nQ 54.734375 -1.421875 39.40625 -1.421875 \r\nQ 24.03125 -1.421875 14.8125 8.828125 \r\nQ 5.609375 19.09375 5.609375 36.375 \r\nQ 5.609375 53.65625 14.8125 63.9375 \r\nQ 24.03125 74.21875 39.40625 74.21875 \r\nz\r\n\" id=\"DejaVuSans-79\"/>\r\n      <path d=\"M 45.40625 27.984375 \r\nQ 45.40625 37.75 41.375 43.109375 \r\nQ 37.359375 48.484375 30.078125 48.484375 \r\nQ 22.859375 48.484375 18.828125 43.109375 \r\nQ 14.796875 37.75 14.796875 27.984375 \r\nQ 14.796875 18.265625 18.828125 12.890625 \r\nQ 22.859375 7.515625 30.078125 7.515625 \r\nQ 37.359375 7.515625 41.375 12.890625 \r\nQ 45.40625 18.265625 45.40625 27.984375 \r\nz\r\nM 54.390625 6.78125 \r\nQ 54.390625 -7.171875 48.1875 -13.984375 \r\nQ 42 -20.796875 29.203125 -20.796875 \r\nQ 24.46875 -20.796875 20.265625 -20.09375 \r\nQ 16.0625 -19.390625 12.109375 -17.921875 \r\nL 12.109375 -9.1875 \r\nQ 16.0625 -11.328125 19.921875 -12.34375 \r\nQ 23.78125 -13.375 27.78125 -13.375 \r\nQ 36.625 -13.375 41.015625 -8.765625 \r\nQ 45.40625 -4.15625 45.40625 5.171875 \r\nL 45.40625 9.625 \r\nQ 42.625 4.78125 38.28125 2.390625 \r\nQ 33.9375 0 27.875 0 \r\nQ 17.828125 0 11.671875 7.65625 \r\nQ 5.515625 15.328125 5.515625 27.984375 \r\nQ 5.515625 40.671875 11.671875 48.328125 \r\nQ 17.828125 56 27.875 56 \r\nQ 33.9375 56 38.28125 53.609375 \r\nQ 42.625 51.21875 45.40625 46.390625 \r\nL 45.40625 54.6875 \r\nL 54.390625 54.6875 \r\nz\r\n\" id=\"DejaVuSans-103\"/>\r\n      <path d=\"M 28.609375 0 \r\nL 0.78125 72.90625 \r\nL 11.078125 72.90625 \r\nL 34.1875 11.53125 \r\nL 57.328125 72.90625 \r\nL 67.578125 72.90625 \r\nL 39.796875 0 \r\nz\r\n\" id=\"DejaVuSans-86\"/>\r\n      <path d=\"M 45.40625 46.390625 \r\nL 45.40625 75.984375 \r\nL 54.390625 75.984375 \r\nL 54.390625 0 \r\nL 45.40625 0 \r\nL 45.40625 8.203125 \r\nQ 42.578125 3.328125 38.25 0.953125 \r\nQ 33.9375 -1.421875 27.875 -1.421875 \r\nQ 17.96875 -1.421875 11.734375 6.484375 \r\nQ 5.515625 14.40625 5.515625 27.296875 \r\nQ 5.515625 40.1875 11.734375 48.09375 \r\nQ 17.96875 56 27.875 56 \r\nQ 33.9375 56 38.25 53.625 \r\nQ 42.578125 51.265625 45.40625 46.390625 \r\nz\r\nM 14.796875 27.296875 \r\nQ 14.796875 17.390625 18.875 11.75 \r\nQ 22.953125 6.109375 30.078125 6.109375 \r\nQ 37.203125 6.109375 41.296875 11.75 \r\nQ 45.40625 17.390625 45.40625 27.296875 \r\nQ 45.40625 37.203125 41.296875 42.84375 \r\nQ 37.203125 48.484375 30.078125 48.484375 \r\nQ 22.953125 48.484375 18.875 42.84375 \r\nQ 14.796875 37.203125 14.796875 27.296875 \r\nz\r\n\" id=\"DejaVuSans-100\"/>\r\n      <path d=\"M 2.984375 54.6875 \r\nL 12.5 54.6875 \r\nL 29.59375 8.796875 \r\nL 46.6875 54.6875 \r\nL 56.203125 54.6875 \r\nL 35.6875 0 \r\nL 23.484375 0 \r\nz\r\n\" id=\"DejaVuSans-118\"/>\r\n      <path d=\"M 34.1875 63.1875 \r\nL 20.796875 26.90625 \r\nL 47.609375 26.90625 \r\nz\r\nM 28.609375 72.90625 \r\nL 39.796875 72.90625 \r\nL 67.578125 0 \r\nL 57.328125 0 \r\nL 50.6875 18.703125 \r\nL 17.828125 18.703125 \r\nL 11.1875 0 \r\nL 0.78125 0 \r\nz\r\n\" id=\"DejaVuSans-65\"/>\r\n      <path d=\"M 9.421875 54.6875 \r\nL 18.40625 54.6875 \r\nL 18.40625 -0.984375 \r\nQ 18.40625 -11.421875 14.421875 -16.109375 \r\nQ 10.453125 -20.796875 1.609375 -20.796875 \r\nL -1.8125 -20.796875 \r\nL -1.8125 -13.1875 \r\nL 0.59375 -13.1875 \r\nQ 5.71875 -13.1875 7.5625 -10.8125 \r\nQ 9.421875 -8.453125 9.421875 -0.984375 \r\nz\r\nM 9.421875 75.984375 \r\nL 18.40625 75.984375 \r\nL 18.40625 64.59375 \r\nL 9.421875 64.59375 \r\nz\r\n\" id=\"DejaVuSans-106\"/>\r\n      <path d=\"M 8.5 21.578125 \r\nL 8.5 54.6875 \r\nL 17.484375 54.6875 \r\nL 17.484375 21.921875 \r\nQ 17.484375 14.15625 20.5 10.265625 \r\nQ 23.53125 6.390625 29.59375 6.390625 \r\nQ 36.859375 6.390625 41.078125 11.03125 \r\nQ 45.3125 15.671875 45.3125 23.6875 \r\nL 45.3125 54.6875 \r\nL 54.296875 54.6875 \r\nL 54.296875 0 \r\nL 45.3125 0 \r\nL 45.3125 8.40625 \r\nQ 42.046875 3.421875 37.71875 1 \r\nQ 33.40625 -1.421875 27.6875 -1.421875 \r\nQ 18.265625 -1.421875 13.375 4.4375 \r\nQ 8.5 10.296875 8.5 21.578125 \r\nz\r\nM 31.109375 56 \r\nz\r\n\" id=\"DejaVuSans-117\"/>\r\n     </defs>\r\n     <use xlink:href=\"#DejaVuSans-71\"/>\r\n     <use x=\"77.490234\" xlink:href=\"#DejaVuSans-101\"/>\r\n     <use x=\"139.013672\" xlink:href=\"#DejaVuSans-114\"/>\r\n     <use x=\"178.376953\" xlink:href=\"#DejaVuSans-109\"/>\r\n     <use x=\"275.789062\" xlink:href=\"#DejaVuSans-97\"/>\r\n     <use x=\"337.068359\" xlink:href=\"#DejaVuSans-110\"/>\r\n     <use x=\"400.447266\" xlink:href=\"#DejaVuSans-58\"/>\r\n     <use x=\"434.138672\" xlink:href=\"#DejaVuSans-32\"/>\r\n     <use x=\"465.925781\" xlink:href=\"#DejaVuSans-68\"/>\r\n     <use x=\"542.927734\" xlink:href=\"#DejaVuSans-101\"/>\r\n     <use x=\"604.451172\" xlink:href=\"#DejaVuSans-110\"/>\r\n     <use x=\"667.830078\" xlink:href=\"#DejaVuSans-115\"/>\r\n     <use x=\"719.929688\" xlink:href=\"#DejaVuSans-105\"/>\r\n     <use x=\"747.712891\" xlink:href=\"#DejaVuSans-116\"/>\r\n     <use x=\"786.921875\" xlink:href=\"#DejaVuSans-121\"/>\r\n     <use x=\"846.101562\" xlink:href=\"#DejaVuSans-32\"/>\r\n     <use x=\"877.888672\" xlink:href=\"#DejaVuSans-111\"/>\r\n     <use x=\"939.070312\" xlink:href=\"#DejaVuSans-102\"/>\r\n     <use x=\"974.275391\" xlink:href=\"#DejaVuSans-32\"/>\r\n     <use x=\"1006.0625\" xlink:href=\"#DejaVuSans-116\"/>\r\n     <use x=\"1045.271484\" xlink:href=\"#DejaVuSans-104\"/>\r\n     <use x=\"1108.650391\" xlink:href=\"#DejaVuSans-101\"/>\r\n     <use x=\"1170.173828\" xlink:href=\"#DejaVuSans-32\"/>\r\n     <use x=\"1201.960938\" xlink:href=\"#DejaVuSans-79\"/>\r\n     <use x=\"1280.671875\" xlink:href=\"#DejaVuSans-114\"/>\r\n     <use x=\"1321.785156\" xlink:href=\"#DejaVuSans-105\"/>\r\n     <use x=\"1349.568359\" xlink:href=\"#DejaVuSans-103\"/>\r\n     <use x=\"1413.044922\" xlink:href=\"#DejaVuSans-105\"/>\r\n     <use x=\"1440.828125\" xlink:href=\"#DejaVuSans-110\"/>\r\n     <use x=\"1504.207031\" xlink:href=\"#DejaVuSans-97\"/>\r\n     <use x=\"1565.486328\" xlink:href=\"#DejaVuSans-108\"/>\r\n     <use x=\"1593.269531\" xlink:href=\"#DejaVuSans-32\"/>\r\n     <use x=\"1625.056641\" xlink:href=\"#DejaVuSans-86\"/>\r\n     <use x=\"1685.714844\" xlink:href=\"#DejaVuSans-97\"/>\r\n     <use x=\"1746.994141\" xlink:href=\"#DejaVuSans-100\"/>\r\n     <use x=\"1810.470703\" xlink:href=\"#DejaVuSans-101\"/>\r\n     <use x=\"1871.994141\" xlink:href=\"#DejaVuSans-114\"/>\r\n     <use x=\"1913.107422\" xlink:href=\"#DejaVuSans-32\"/>\r\n     <use x=\"1944.894531\" xlink:href=\"#DejaVuSans-80\"/>\r\n     <use x=\"2001.572266\" xlink:href=\"#DejaVuSans-111\"/>\r\n     <use x=\"2062.753906\" xlink:href=\"#DejaVuSans-108\"/>\r\n     <use x=\"2090.537109\" xlink:href=\"#DejaVuSans-97\"/>\r\n     <use x=\"2151.816406\" xlink:href=\"#DejaVuSans-114\"/>\r\n     <use x=\"2192.929688\" xlink:href=\"#DejaVuSans-105\"/>\r\n     <use x=\"2220.712891\" xlink:href=\"#DejaVuSans-116\"/>\r\n     <use x=\"2259.921875\" xlink:href=\"#DejaVuSans-121\"/>\r\n     <use x=\"2319.101562\" xlink:href=\"#DejaVuSans-32\"/>\r\n     <use x=\"2350.888672\" xlink:href=\"#DejaVuSans-118\"/>\r\n     <use x=\"2410.068359\" xlink:href=\"#DejaVuSans-115\"/>\r\n     <use x=\"2462.167969\" xlink:href=\"#DejaVuSans-32\"/>\r\n     <use x=\"2493.955078\" xlink:href=\"#DejaVuSans-65\"/>\r\n     <use x=\"2560.613281\" xlink:href=\"#DejaVuSans-100\"/>\r\n     <use x=\"2624.089844\" xlink:href=\"#DejaVuSans-106\"/>\r\n     <use x=\"2651.873047\" xlink:href=\"#DejaVuSans-117\"/>\r\n     <use x=\"2715.251953\" xlink:href=\"#DejaVuSans-115\"/>\r\n     <use x=\"2767.351562\" xlink:href=\"#DejaVuSans-116\"/>\r\n     <use x=\"2806.560547\" xlink:href=\"#DejaVuSans-101\"/>\r\n     <use x=\"2868.083984\" xlink:href=\"#DejaVuSans-100\"/>\r\n     <use x=\"2931.560547\" xlink:href=\"#DejaVuSans-32\"/>\r\n     <use x=\"2963.347656\" xlink:href=\"#DejaVuSans-86\"/>\r\n     <use x=\"3024.005859\" xlink:href=\"#DejaVuSans-97\"/>\r\n     <use x=\"3085.285156\" xlink:href=\"#DejaVuSans-100\"/>\r\n     <use x=\"3148.761719\" xlink:href=\"#DejaVuSans-101\"/>\r\n     <use x=\"3210.285156\" xlink:href=\"#DejaVuSans-114\"/>\r\n     <use x=\"3251.398438\" xlink:href=\"#DejaVuSans-32\"/>\r\n     <use x=\"3283.185547\" xlink:href=\"#DejaVuSans-80\"/>\r\n     <use x=\"3339.863281\" xlink:href=\"#DejaVuSans-111\"/>\r\n     <use x=\"3401.044922\" xlink:href=\"#DejaVuSans-108\"/>\r\n     <use x=\"3428.828125\" xlink:href=\"#DejaVuSans-97\"/>\r\n     <use x=\"3490.107422\" xlink:href=\"#DejaVuSans-114\"/>\r\n     <use x=\"3531.220703\" xlink:href=\"#DejaVuSans-105\"/>\r\n     <use x=\"3559.003906\" xlink:href=\"#DejaVuSans-116\"/>\r\n     <use x=\"3598.212891\" xlink:href=\"#DejaVuSans-121\"/>\r\n    </g>\r\n   </g>\r\n   <g id=\"legend_1\">\r\n    <g id=\"patch_5\">\r\n     <path d=\"M 45.111875 77.391875 \r\nL 202.99625 77.391875 \r\nQ 204.99625 77.391875 204.99625 75.391875 \r\nL 204.99625 32.3575 \r\nQ 204.99625 30.3575 202.99625 30.3575 \r\nL 45.111875 30.3575 \r\nQ 43.111875 30.3575 43.111875 32.3575 \r\nL 43.111875 75.391875 \r\nQ 43.111875 77.391875 45.111875 77.391875 \r\nz\r\n\" style=\"fill:#ffffff;opacity:0.8;stroke:#cccccc;stroke-linejoin:miter;\"/>\r\n    </g>\r\n    <g id=\"patch_6\">\r\n     <path d=\"M 47.111875 41.955937 \r\nL 67.111875 41.955937 \r\nL 67.111875 34.955937 \r\nL 47.111875 34.955937 \r\nz\r\n\" style=\"fill:#ff0000;fill-opacity:0.25;stroke:#ff0000;stroke-linejoin:miter;\"/>\r\n    </g>\r\n    <g id=\"text_15\">\r\n     <!-- Original Vader Polarity -->\r\n     <g transform=\"translate(75.111875 41.955937)scale(0.1 -0.1)\">\r\n      <use xlink:href=\"#DejaVuSans-79\"/>\r\n      <use x=\"78.710938\" xlink:href=\"#DejaVuSans-114\"/>\r\n      <use x=\"119.824219\" xlink:href=\"#DejaVuSans-105\"/>\r\n      <use x=\"147.607422\" xlink:href=\"#DejaVuSans-103\"/>\r\n      <use x=\"211.083984\" xlink:href=\"#DejaVuSans-105\"/>\r\n      <use x=\"238.867188\" xlink:href=\"#DejaVuSans-110\"/>\r\n      <use x=\"302.246094\" xlink:href=\"#DejaVuSans-97\"/>\r\n      <use x=\"363.525391\" xlink:href=\"#DejaVuSans-108\"/>\r\n      <use x=\"391.308594\" xlink:href=\"#DejaVuSans-32\"/>\r\n      <use x=\"423.095703\" xlink:href=\"#DejaVuSans-86\"/>\r\n      <use x=\"483.753906\" xlink:href=\"#DejaVuSans-97\"/>\r\n      <use x=\"545.033203\" xlink:href=\"#DejaVuSans-100\"/>\r\n      <use x=\"608.509766\" xlink:href=\"#DejaVuSans-101\"/>\r\n      <use x=\"670.033203\" xlink:href=\"#DejaVuSans-114\"/>\r\n      <use x=\"711.146484\" xlink:href=\"#DejaVuSans-32\"/>\r\n      <use x=\"742.933594\" xlink:href=\"#DejaVuSans-80\"/>\r\n      <use x=\"799.611328\" xlink:href=\"#DejaVuSans-111\"/>\r\n      <use x=\"860.792969\" xlink:href=\"#DejaVuSans-108\"/>\r\n      <use x=\"888.576172\" xlink:href=\"#DejaVuSans-97\"/>\r\n      <use x=\"949.855469\" xlink:href=\"#DejaVuSans-114\"/>\r\n      <use x=\"990.96875\" xlink:href=\"#DejaVuSans-105\"/>\r\n      <use x=\"1018.751953\" xlink:href=\"#DejaVuSans-116\"/>\r\n      <use x=\"1057.960938\" xlink:href=\"#DejaVuSans-121\"/>\r\n     </g>\r\n    </g>\r\n    <g id=\"patch_7\">\r\n     <path d=\"M 47.111875 56.634062 \r\nL 67.111875 56.634062 \r\nL 67.111875 49.634062 \r\nL 47.111875 49.634062 \r\nz\r\n\" style=\"fill:#0000ff;fill-opacity:0.25;stroke:#0000ff;stroke-linejoin:miter;\"/>\r\n    </g>\r\n    <g id=\"text_16\">\r\n     <!-- Adjusted Vader Polarity -->\r\n     <g transform=\"translate(75.111875 56.634062)scale(0.1 -0.1)\">\r\n      <use xlink:href=\"#DejaVuSans-65\"/>\r\n      <use x=\"66.658203\" xlink:href=\"#DejaVuSans-100\"/>\r\n      <use x=\"130.134766\" xlink:href=\"#DejaVuSans-106\"/>\r\n      <use x=\"157.917969\" xlink:href=\"#DejaVuSans-117\"/>\r\n      <use x=\"221.296875\" xlink:href=\"#DejaVuSans-115\"/>\r\n      <use x=\"273.396484\" xlink:href=\"#DejaVuSans-116\"/>\r\n      <use x=\"312.605469\" xlink:href=\"#DejaVuSans-101\"/>\r\n      <use x=\"374.128906\" xlink:href=\"#DejaVuSans-100\"/>\r\n      <use x=\"437.605469\" xlink:href=\"#DejaVuSans-32\"/>\r\n      <use x=\"469.392578\" xlink:href=\"#DejaVuSans-86\"/>\r\n      <use x=\"530.050781\" xlink:href=\"#DejaVuSans-97\"/>\r\n      <use x=\"591.330078\" xlink:href=\"#DejaVuSans-100\"/>\r\n      <use x=\"654.806641\" xlink:href=\"#DejaVuSans-101\"/>\r\n      <use x=\"716.330078\" xlink:href=\"#DejaVuSans-114\"/>\r\n      <use x=\"757.443359\" xlink:href=\"#DejaVuSans-32\"/>\r\n      <use x=\"789.230469\" xlink:href=\"#DejaVuSans-80\"/>\r\n      <use x=\"845.908203\" xlink:href=\"#DejaVuSans-111\"/>\r\n      <use x=\"907.089844\" xlink:href=\"#DejaVuSans-108\"/>\r\n      <use x=\"934.873047\" xlink:href=\"#DejaVuSans-97\"/>\r\n      <use x=\"996.152344\" xlink:href=\"#DejaVuSans-114\"/>\r\n      <use x=\"1037.265625\" xlink:href=\"#DejaVuSans-105\"/>\r\n      <use x=\"1065.048828\" xlink:href=\"#DejaVuSans-116\"/>\r\n      <use x=\"1104.257812\" xlink:href=\"#DejaVuSans-121\"/>\r\n     </g>\r\n    </g>\r\n    <g id=\"patch_8\">\r\n     <path d=\"M 47.111875 71.312187 \r\nL 67.111875 71.312187 \r\nL 67.111875 64.312187 \r\nL 47.111875 64.312187 \r\nz\r\n\" style=\"fill:#008000;fill-opacity:0.25;stroke:#008000;stroke-linejoin:miter;\"/>\r\n    </g>\r\n    <g id=\"text_17\">\r\n     <!-- Adjusted Vader Polarity 2 -->\r\n     <g transform=\"translate(75.111875 71.312187)scale(0.1 -0.1)\">\r\n      <use xlink:href=\"#DejaVuSans-65\"/>\r\n      <use x=\"66.658203\" xlink:href=\"#DejaVuSans-100\"/>\r\n      <use x=\"130.134766\" xlink:href=\"#DejaVuSans-106\"/>\r\n      <use x=\"157.917969\" xlink:href=\"#DejaVuSans-117\"/>\r\n      <use x=\"221.296875\" xlink:href=\"#DejaVuSans-115\"/>\r\n      <use x=\"273.396484\" xlink:href=\"#DejaVuSans-116\"/>\r\n      <use x=\"312.605469\" xlink:href=\"#DejaVuSans-101\"/>\r\n      <use x=\"374.128906\" xlink:href=\"#DejaVuSans-100\"/>\r\n      <use x=\"437.605469\" xlink:href=\"#DejaVuSans-32\"/>\r\n      <use x=\"469.392578\" xlink:href=\"#DejaVuSans-86\"/>\r\n      <use x=\"530.050781\" xlink:href=\"#DejaVuSans-97\"/>\r\n      <use x=\"591.330078\" xlink:href=\"#DejaVuSans-100\"/>\r\n      <use x=\"654.806641\" xlink:href=\"#DejaVuSans-101\"/>\r\n      <use x=\"716.330078\" xlink:href=\"#DejaVuSans-114\"/>\r\n      <use x=\"757.443359\" xlink:href=\"#DejaVuSans-32\"/>\r\n      <use x=\"789.230469\" xlink:href=\"#DejaVuSans-80\"/>\r\n      <use x=\"845.908203\" xlink:href=\"#DejaVuSans-111\"/>\r\n      <use x=\"907.089844\" xlink:href=\"#DejaVuSans-108\"/>\r\n      <use x=\"934.873047\" xlink:href=\"#DejaVuSans-97\"/>\r\n      <use x=\"996.152344\" xlink:href=\"#DejaVuSans-114\"/>\r\n      <use x=\"1037.265625\" xlink:href=\"#DejaVuSans-105\"/>\r\n      <use x=\"1065.048828\" xlink:href=\"#DejaVuSans-116\"/>\r\n      <use x=\"1104.257812\" xlink:href=\"#DejaVuSans-121\"/>\r\n      <use x=\"1163.4375\" xlink:href=\"#DejaVuSans-32\"/>\r\n      <use x=\"1195.224609\" xlink:href=\"#DejaVuSans-50\"/>\r\n     </g>\r\n    </g>\r\n   </g>\r\n  </g>\r\n </g>\r\n <defs>\r\n  <clipPath id=\"p115efd5abe\">\r\n   <rect height=\"434.88\" width=\"558\" x=\"38.111875\" y=\"25.3575\"/>\r\n  </clipPath>\r\n </defs>\r\n</svg>\r\n",
      "image/png": "[encoded data removed]"
     },
     "metadata": {
      "needs_background": "light"
     }
    }
   ],
   "source": [
    "# Compare the density plots of the original and adjusted Vader polarity scores\n",
    "fig = plt.figure(figsize = (10,8))\n",
    "ax = sns.kdeplot(Vader_tx_pol.Vader_polarity.values, shade = True, color = 'red', label = \"Original Vader Polarity\")\n",
    "ax = sns.kdeplot(Vader_tx_pol.Vader_polarity_adj.values, shade = True, color = 'blue', label = \"Adjusted Vader Polarity\")\n",
    "ax = sns.kdeplot(Vader_tx_pol.Vader_polarity_adj_2.values, shade = True, color = 'green', label = \"Adjusted Vader Polarity 2\")\n",
    "ax.set_title(\"German: Density of the Original Vader Polarity vs Adjusted Vader Polarity\")\n",
    "ax.set_xlabel(\"Polarity Score\")\n",
    "ax.spines['top'].set_visible(False)\n",
    "ax.spines['right'].set_visible(False)\n",
    "ax.legend(loc = 'upper left')\n",
    "plt.show()"
   ]
  },
  {
   "cell_type": "code",
   "execution_count": 14,
   "metadata": {},
   "outputs": [],
   "source": [
    "# Save the results to a csv file\n",
    "Vader_tx_pol.to_csv(\"Sentiment/Vader/GerVADER/de_vader_polarity_combined.csv\", index = True, encoding = 'utf-8-sig')"
   ]
  }
 ]
}